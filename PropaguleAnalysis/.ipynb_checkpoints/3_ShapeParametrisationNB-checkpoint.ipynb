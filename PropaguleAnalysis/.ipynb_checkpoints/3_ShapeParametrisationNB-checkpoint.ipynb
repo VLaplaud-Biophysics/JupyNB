{
 "cells": [
  {
   "cell_type": "markdown",
   "metadata": {},
   "source": [
    "# Parametrisation of gemmae contours\n"
   ]
  },
  {
   "cell_type": "markdown",
   "metadata": {},
   "source": [
    "## Documentation and Imports\n",
    "\n",
    "\n",
    "Created on 27-05-2021\n",
    "\n",
    "Author: Valentin Laplaud\n",
    "\n",
    "This code loads gemmae contours from ShapeComputation.ipynb and express them as a function of a curvilinar abcisse. Adding landmark points (notches and attach points) then allows a deformation of the contour to match the position of landmark points."
   ]
  },
  {
   "cell_type": "code",
   "execution_count": 3,
   "metadata": {
    "code_folding": [],
    "init_cell": true
   },
   "outputs": [],
   "source": [
    "## Clean up before script start \n",
    "\n",
    "for element in dir():\n",
    "\n",
    "    if element[0:1] != \"_\":\n",
    "\n",
    "        del globals()[element]\n",
    "\n",
    "import gc\n",
    "gc.collect()\n",
    "\n",
    "# plotting stuff in jupyter\n",
    "import matplotlib as mpl\n",
    "mpl.use('TkAgg')\n",
    "%matplotlib inline\n",
    "\n",
    "COLOR = 'white'\n",
    "COLOR2 = 'black'\n",
    "\n",
    "mpl.rcParams['text.color'] = COLOR\n",
    "mpl.rcParams['axes.labelcolor'] = COLOR\n",
    "mpl.rcParams['xtick.color'] = COLOR\n",
    "mpl.rcParams['ytick.color'] = COLOR\n",
    "mpl.rcParams['axes.edgecolor'] = COLOR\n",
    "\n",
    "mpl.rcParams[\"figure.facecolor\"] = COLOR2\n",
    "mpl.rcParams[\"axes.facecolor\"] = COLOR2\n",
    "mpl.rcParams[\"savefig.facecolor\"] = COLOR2\n",
    "mpl.rcParams['axes.facecolor'] = COLOR2\n",
    "\n",
    "\n",
    "# to hide known warnings\n",
    "import warnings\n",
    "warnings.filterwarnings(\"ignore\")\n",
    "\n",
    "# my functions\n",
    "import sys\n",
    "sys.path.append(r'd:\\Users\\laplaud\\Desktop\\PostDoc\\Code\\PythonFunctions/')\n",
    "import VallapFunc as vf\n",
    "from Main import ParametriseContour\n"
   ]
  },
  {
   "cell_type": "markdown",
   "metadata": {},
   "source": [
    "##  Enter data and run"
   ]
  },
  {
   "cell_type": "markdown",
   "metadata": {},
   "source": [
    "### Data details"
   ]
  },
  {
   "cell_type": "code",
   "execution_count": 4,
   "metadata": {
    "init_cell": true
   },
   "outputs": [
    {
     "name": "stdout",
     "output_type": "stream",
     "text": [
      "Contour data choice made.\n"
     ]
    }
   ],
   "source": [
    "%run d:\\Users\\laplaud\\Desktop\\PostDoc\\Code\\PythonFunctions\\ExperimentList_Contours.py"
   ]
  },
  {
   "cell_type": "markdown",
   "metadata": {},
   "source": [
    "#### 14-02-2022 : Ctrls"
   ]
  },
  {
   "cell_type": "code",
   "execution_count": 5,
   "metadata": {
    "scrolled": false
   },
   "outputs": [],
   "source": [
    "# ParametriseContour('220214_Ct1',P220214_Ct1,ExcludeList220214_Ct1,'14-02-2022 Ctrl1',Scale220214,'LPR',\n",
    "#                     ldmkplots=True, FirstSlice = False, AutoLdmks = False, Overwrite = False)\n",
    "\n",
    "# ParametriseContour('220214_Ct2',P220214_Ct2,ExcludeList220214_Ct2,'14-02-2022 Ctrl2',Scale220214,'LPR',\n",
    "#                     ldmkplots=True, FirstSlice = False, AutoLdmks = False, Overwrite = False)\n"
   ]
  },
  {
   "cell_type": "markdown",
   "metadata": {},
   "source": [
    "#### 01-03-2022 : 100mM growth + OC"
   ]
  },
  {
   "cell_type": "code",
   "execution_count": 6,
   "metadata": {},
   "outputs": [],
   "source": [
    "# ParametriseContour('220301_Ct',P220301_Ct,ExcludeList220301_Ct,'01-03-2022 Ctrl',Scale220301,'LPR',\n",
    "#                    ldmkplots=True, FirstSlice = False, AutoLdmks = False, Overwrite = False)\n",
    "\n",
    "# ParametriseContour('220301_M100',P220301_M100,ExcludeList220301_M100,'01-03-2022 100mM',Scale220301,'LPR',\n",
    "#                    ldmkplots=True, FirstSlice = False, AutoLdmks = False, Overwrite = False)\n",
    "\n",
    "\n",
    "# ParametriseContour('220301_Ct_Osmo',P220301_Ct_Osmo,ExcludeList220301_Ct_Osmo,'01-03-2022 Ctrl OC',Scale220301_Osmo,'LPR',\n",
    "#                    ldmkplots=True, FirstSlice = False, AutoLdmks = False, Overwrite = False)\n",
    "\n",
    "# ParametriseContour('220301_M100_Osmo',P220301_M100_Osmo,ExcludeList220301_M100_Osmo,'01-03-2022 100mM OC',Scale220301_Osmo,'LPR',\n",
    "#                    ldmkplots=True, FirstSlice = False, AutoLdmks = False, Overwrite = False)\n"
   ]
  },
  {
   "cell_type": "markdown",
   "metadata": {},
   "source": [
    "#### 31-05-2022 : Ctrls + OC "
   ]
  },
  {
   "cell_type": "code",
   "execution_count": 7,
   "metadata": {},
   "outputs": [],
   "source": [
    "\n",
    "# ParametriseContour('220531_Ct1',P220531_Ct1,ExcludeList220531_Ct1,'31-05-2022 Ctrl1',Scale220531,'LPR',\n",
    "#                    ldmkplots=True, FirstSlice = False, AutoLdmks = False, Overwrite = False)\n",
    "\n",
    "# ParametriseContour('220531_Ct2',P220531_Ct2,ExcludeList220531_Ct2,'31-05-2022 Ctrl2',Scale220531,'LPR',\n",
    "#                    ldmkplots=True, FirstSlice = False, AutoLdmks = False, Overwrite = False)\n",
    "\n",
    "\n",
    "# ParametriseContour('220531_Ct1_Osmo',P220531_Ct1_Osmo,ExcludeList220531_Ct1_Osmo,'31-05-2022 Ctrl1 OC',Scale220531_Osmo,'LPR',\n",
    "#                    ldmkplots=True, FirstSlice = False, AutoLdmks = False, Overwrite = False)\n",
    "\n",
    "# ParametriseContour('220531_Ct2_Osmo',P220531_Ct2_Osmo,ExcludeList220531_Ct2_Osmo,'31-05-2022 Ctrl2 OC',Scale220531_Osmo,'LPR',\n",
    "#                    ldmkplots=True, FirstSlice = False, AutoLdmks = False, Overwrite = False)\n",
    "\n"
   ]
  },
  {
   "cell_type": "markdown",
   "metadata": {},
   "source": [
    "#### 27-07-2022 : DV7 Ctrl growth "
   ]
  },
  {
   "cell_type": "code",
   "execution_count": 8,
   "metadata": {
    "scrolled": false
   },
   "outputs": [
    {
     "name": "stdout",
     "output_type": "stream",
     "text": [
      "\u001b[1m\u001b[4m\n",
      "Analyzing 27-07-2022_Hyper:\n",
      "\u001b[0m\n",
      "\n",
      " Loaded AreaFit file.\n",
      "\n",
      "\n",
      "\n",
      "Getting landmarks for : 27-07-2022_Hyper\n",
      "\n",
      "\n",
      "First image landmarks for : PPG7      \n",
      "\n",
      "Processing PPG1 image 61/61        \n",
      "\n",
      "Processing PPG10 image 6/61        \r"
     ]
    },
    {
     "ename": "KeyboardInterrupt",
     "evalue": "",
     "output_type": "error",
     "traceback": [
      "\u001b[1;31m---------------------------------------------------------------------------\u001b[0m",
      "\u001b[1;31mKeyboardInterrupt\u001b[0m                         Traceback (most recent call last)",
      "\u001b[1;32m<ipython-input-8-2fb3f4b6ecde>\u001b[0m in \u001b[0;36m<module>\u001b[1;34m\u001b[0m\n\u001b[1;32m----> 1\u001b[1;33m ParametriseContour('220727_Hyper',P220727_Hyper,ExcludeList220727_Hyper,'27-07-2022_Hyper',Scale220727,'LPR',\n\u001b[0m\u001b[0;32m      2\u001b[0m                    ldmkplots=True, FirstSlice = False, AutoLdmks = False, Overwrite = False)\n\u001b[0;32m      3\u001b[0m \u001b[1;33m\u001b[0m\u001b[0m\n\u001b[0;32m      4\u001b[0m \u001b[1;31m# ParametriseContour('220727_Hypo',P220727_Hypo,ExcludeList220727_Hypo,'27-07-2022_Hypo',Scale220727,'LPR',\u001b[0m\u001b[1;33m\u001b[0m\u001b[1;33m\u001b[0m\u001b[1;33m\u001b[0m\u001b[0m\n\u001b[0;32m      5\u001b[0m \u001b[1;31m#                    ldmkplots=True, FirstSlice = False, AutoLdmks = False, Overwrite = False)\u001b[0m\u001b[1;33m\u001b[0m\u001b[1;33m\u001b[0m\u001b[1;33m\u001b[0m\u001b[0m\n",
      "\u001b[1;32m~\\Desktop\\PostDoc\\Code\\PythonFunctions\\Main.py\u001b[0m in \u001b[0;36mParametriseContour\u001b[1;34m(stringName, Path, ExcludeList, dateCond, Scale, Todo, **kwargs)\u001b[0m\n\u001b[0;32m    970\u001b[0m \u001b[1;33m\u001b[0m\u001b[0m\n\u001b[0;32m    971\u001b[0m         \u001b[0mprint\u001b[0m\u001b[1;33m(\u001b[0m\u001b[1;34m'\\n\\n\\nGetting landmarks for : '\u001b[0m \u001b[1;33m+\u001b[0m \u001b[0mdateCond\u001b[0m \u001b[1;33m+\u001b[0m \u001b[1;34m'\\n\\n'\u001b[0m\u001b[1;33m)\u001b[0m\u001b[1;33m\u001b[0m\u001b[1;33m\u001b[0m\u001b[0m\n\u001b[1;32m--> 972\u001b[1;33m         ContourData_LM, GlobalData_LM = getLandmarks(ContourData,GlobalData,StackList,Scale,Path,stringName, \n\u001b[0m\u001b[0;32m    973\u001b[0m                                                      \u001b[0mdebug\u001b[0m \u001b[1;33m=\u001b[0m \u001b[0mDebugPlots\u001b[0m\u001b[1;33m,\u001b[0m \u001b[0msaveplots\u001b[0m \u001b[1;33m=\u001b[0m \u001b[0mLdmkPlots\u001b[0m\u001b[1;33m,\u001b[0m\u001b[1;33m\u001b[0m\u001b[1;33m\u001b[0m\u001b[0m\n\u001b[0;32m    974\u001b[0m                                                      \u001b[0mDmax\u001b[0m \u001b[1;33m=\u001b[0m \u001b[0mDmax\u001b[0m\u001b[1;33m,\u001b[0m \u001b[0mDmax2\u001b[0m \u001b[1;33m=\u001b[0m \u001b[0mDmax2\u001b[0m\u001b[1;33m,\u001b[0m \u001b[0mAuto\u001b[0m \u001b[1;33m=\u001b[0m \u001b[0mAUTO\u001b[0m\u001b[1;33m,\u001b[0m \u001b[0mOverwrite\u001b[0m \u001b[1;33m=\u001b[0m \u001b[0mOverwriteData\u001b[0m\u001b[1;33m,\u001b[0m\u001b[1;33m\u001b[0m\u001b[1;33m\u001b[0m\u001b[0m\n",
      "\u001b[1;32m~\\Desktop\\PostDoc\\Code\\PythonFunctions\\ContourAnalysis.py\u001b[0m in \u001b[0;36mgetLandmarks\u001b[1;34m(CD, GD, StackList, Scale, P, stringName, **kwargs)\u001b[0m\n\u001b[0;32m    910\u001b[0m                         \u001b[0mminD\u001b[0m \u001b[1;33m=\u001b[0m \u001b[0mnp\u001b[0m\u001b[1;33m.\u001b[0m\u001b[0mempty\u001b[0m\u001b[1;33m(\u001b[0m\u001b[0mNxy\u001b[0m\u001b[1;33m)\u001b[0m\u001b[1;33m\u001b[0m\u001b[1;33m\u001b[0m\u001b[0m\n\u001b[0;32m    911\u001b[0m                         \u001b[1;32mfor\u001b[0m \u001b[1;33m(\u001b[0m\u001b[0mx\u001b[0m\u001b[1;33m,\u001b[0m\u001b[0my\u001b[0m\u001b[1;33m,\u001b[0m\u001b[0mnxy\u001b[0m\u001b[1;33m)\u001b[0m \u001b[1;32min\u001b[0m \u001b[0mzip\u001b[0m\u001b[1;33m(\u001b[0m\u001b[0mXcent\u001b[0m\u001b[1;33m,\u001b[0m\u001b[0mYcent\u001b[0m\u001b[1;33m,\u001b[0m\u001b[0mrange\u001b[0m\u001b[1;33m(\u001b[0m\u001b[0mNxy\u001b[0m\u001b[1;33m)\u001b[0m\u001b[1;33m)\u001b[0m\u001b[1;33m:\u001b[0m\u001b[1;33m\u001b[0m\u001b[1;33m\u001b[0m\u001b[0m\n\u001b[1;32m--> 912\u001b[1;33m                              \u001b[0mminD\u001b[0m\u001b[1;33m[\u001b[0m\u001b[0mnxy\u001b[0m\u001b[1;33m]\u001b[0m \u001b[1;33m=\u001b[0m \u001b[0mnp\u001b[0m\u001b[1;33m.\u001b[0m\u001b[0mmin\u001b[0m\u001b[1;33m(\u001b[0m\u001b[0mvf\u001b[0m\u001b[1;33m.\u001b[0m\u001b[0mdist\u001b[0m\u001b[1;33m(\u001b[0m\u001b[0mx\u001b[0m\u001b[1;33m,\u001b[0m\u001b[0my\u001b[0m\u001b[1;33m,\u001b[0m\u001b[0mXmatrot\u001b[0m\u001b[1;33m[\u001b[0m\u001b[0md\u001b[0m\u001b[1;33m,\u001b[0m\u001b[1;33m:\u001b[0m\u001b[1;33m]\u001b[0m\u001b[1;33m,\u001b[0m\u001b[0mYmatrot\u001b[0m\u001b[1;33m[\u001b[0m\u001b[0md\u001b[0m\u001b[1;33m,\u001b[0m\u001b[1;33m:\u001b[0m\u001b[1;33m]\u001b[0m\u001b[1;33m)\u001b[0m\u001b[1;33m)\u001b[0m\u001b[1;33m\u001b[0m\u001b[1;33m\u001b[0m\u001b[0m\n\u001b[0m\u001b[0;32m    913\u001b[0m                         \u001b[0mDvect\u001b[0m\u001b[1;33m[\u001b[0m\u001b[0md\u001b[0m\u001b[1;33m]\u001b[0m \u001b[1;33m=\u001b[0m \u001b[0msum\u001b[0m\u001b[1;33m(\u001b[0m\u001b[0mnp\u001b[0m\u001b[1;33m.\u001b[0m\u001b[0msquare\u001b[0m\u001b[1;33m(\u001b[0m\u001b[0mminD\u001b[0m\u001b[1;33m)\u001b[0m\u001b[1;33m)\u001b[0m\u001b[1;33m\u001b[0m\u001b[1;33m\u001b[0m\u001b[0m\n\u001b[0;32m    914\u001b[0m \u001b[1;33m\u001b[0m\u001b[0m\n",
      "\u001b[1;32m~\\Desktop\\PostDoc\\Code\\PythonFunctions\\VallapFunc.py\u001b[0m in \u001b[0;36mdist\u001b[1;34m(x1, y1, x2, y2)\u001b[0m\n\u001b[0;32m    158\u001b[0m \u001b[1;32mdef\u001b[0m \u001b[0mdist\u001b[0m\u001b[1;33m(\u001b[0m\u001b[0mx1\u001b[0m\u001b[1;33m,\u001b[0m\u001b[0my1\u001b[0m\u001b[1;33m,\u001b[0m\u001b[0mx2\u001b[0m\u001b[1;33m,\u001b[0m\u001b[0my2\u001b[0m\u001b[1;33m)\u001b[0m\u001b[1;33m:\u001b[0m\u001b[1;33m\u001b[0m\u001b[1;33m\u001b[0m\u001b[0m\n\u001b[0;32m    159\u001b[0m \u001b[1;33m\u001b[0m\u001b[0m\n\u001b[1;32m--> 160\u001b[1;33m     \u001b[0md\u001b[0m \u001b[1;33m=\u001b[0m \u001b[0mnp\u001b[0m\u001b[1;33m.\u001b[0m\u001b[0msqrt\u001b[0m\u001b[1;33m(\u001b[0m\u001b[0mnp\u001b[0m\u001b[1;33m.\u001b[0m\u001b[0msquare\u001b[0m\u001b[1;33m(\u001b[0m\u001b[0mx1\u001b[0m\u001b[1;33m-\u001b[0m\u001b[0mx2\u001b[0m\u001b[1;33m)\u001b[0m\u001b[1;33m+\u001b[0m\u001b[0mnp\u001b[0m\u001b[1;33m.\u001b[0m\u001b[0msquare\u001b[0m\u001b[1;33m(\u001b[0m\u001b[0my1\u001b[0m\u001b[1;33m-\u001b[0m\u001b[0my2\u001b[0m\u001b[1;33m)\u001b[0m\u001b[1;33m)\u001b[0m\u001b[1;33m\u001b[0m\u001b[1;33m\u001b[0m\u001b[0m\n\u001b[0m\u001b[0;32m    161\u001b[0m \u001b[1;33m\u001b[0m\u001b[0m\n\u001b[0;32m    162\u001b[0m     \u001b[1;32mreturn\u001b[0m\u001b[1;33m(\u001b[0m\u001b[0md\u001b[0m\u001b[1;33m)\u001b[0m\u001b[1;33m\u001b[0m\u001b[1;33m\u001b[0m\u001b[0m\n",
      "\u001b[1;31mKeyboardInterrupt\u001b[0m: "
     ]
    }
   ],
   "source": [
    "ParametriseContour('220727_Hyper',P220727_Hyper,ExcludeList220727_Hyper,'27-07-2022_Hyper',Scale220727,'LPR',\n",
    "                   ldmkplots=True, FirstSlice = False, AutoLdmks = False, Overwrite = False)\n",
    "\n",
    "ParametriseContour('220727_Hypo',P220727_Hypo,ExcludeList220727_Hypo,'27-07-2022_Hypo',Scale220727,'LPR',\n",
    "                   ldmkplots=True, FirstSlice = False, AutoLdmks = False, Overwrite = False)"
   ]
  },
  {
   "cell_type": "markdown",
   "metadata": {},
   "source": [
    "## Test Zone"
   ]
  },
  {
   "cell_type": "code",
   "execution_count": null,
   "metadata": {},
   "outputs": [],
   "source": []
  }
 ],
 "metadata": {
  "celltoolbar": "Initialization Cell",
  "kernelspec": {
   "display_name": "Python 3",
   "language": "python",
   "name": "python3"
  },
  "language_info": {
   "codemirror_mode": {
    "name": "ipython",
    "version": 3
   },
   "file_extension": ".py",
   "mimetype": "text/x-python",
   "name": "python",
   "nbconvert_exporter": "python",
   "pygments_lexer": "ipython3",
   "version": "3.8.5"
  },
  "toc": {
   "base_numbering": 1,
   "nav_menu": {},
   "number_sections": true,
   "sideBar": true,
   "skip_h1_title": true,
   "title_cell": "Table of Contents",
   "title_sidebar": "Contents",
   "toc_cell": false,
   "toc_position": {
    "height": "858.5px",
    "left": "335px",
    "top": "200px",
    "width": "275px"
   },
   "toc_section_display": true,
   "toc_window_display": true
  }
 },
 "nbformat": 4,
 "nbformat_minor": 4
}
