{
 "cells": [
  {
   "cell_type": "markdown",
   "id": "durable-locator",
   "metadata": {
    "toc": true
   },
   "source": [
    "<h1>Table of Contents<span class=\"tocSkip\"></span></h1>\n",
    "<div class=\"toc\"><ul class=\"toc-item\"></ul></div>"
   ]
  },
  {
   "cell_type": "code",
   "execution_count": null,
   "id": "burning-integer",
   "metadata": {
    "scrolled": false
   },
   "outputs": [],
   "source": [
    "# -*- coding: utf-8 -*-\n",
    "\"\"\"\n",
    "Created on Fri Jan 13 13:11:09 2023\n",
    "\n",
    "@author: laplaud\n",
    "\"\"\"\n",
    "import matplotlib as mpl\n",
    "mpl.use('TkAgg')\n",
    "%matplotlib inline\n",
    "\n",
    "COLOR = 'white'\n",
    "COLOR2 = 'black'\n",
    "\n",
    "mpl.rcParams['text.color'] = COLOR\n",
    "mpl.rcParams['axes.labelcolor'] = COLOR\n",
    "mpl.rcParams['xtick.color'] = COLOR\n",
    "mpl.rcParams['ytick.color'] = COLOR\n",
    "mpl.rcParams['axes.edgecolor'] = COLOR\n",
    "\n",
    "mpl.rcParams[\"figure.facecolor\"] = COLOR2\n",
    "mpl.rcParams[\"axes.facecolor\"] = COLOR2\n",
    "mpl.rcParams[\"savefig.facecolor\"] = COLOR2\n",
    "mpl.rcParams['axes.facecolor'] = COLOR2\n",
    "\n",
    "\n",
    "# my functions\n",
    "import sys\n",
    "sys.path.append(r'd:\\Users\\laplaud\\Desktop\\PostDoc\\Code\\PythonFunctions/')\n",
    "import pandas as pd\n",
    "from PlotFunctions import plotMeanDist, plotGrowth\n",
    "\n",
    "\n",
    "LightGreen = [0.5, 1, 0.3]\n",
    "Green = [0.3, 0.7, 0.2]\n",
    "DarkGreen = [0.1, 0.4, 0.1]\n",
    "PastelGreen = [0.5, 1, 0.8]\n",
    "DarkPastelGreen = [0.2, 0.6, 0.5]\n",
    "\n",
    "Pink = [1, 0.3, 0.5]\n",
    "Red = [0.8, 0.2, 0.2]\n",
    "DarkRed = [0.6, 0.1, 0.2]\n",
    "\n",
    "LightBlue = [0.3, 0.5, 1]\n",
    "Blue = [0.2, 0.3, 0.7]\n",
    "DarkBlue = [0.1, 0.1, 0.4]\n",
    "\n",
    "DarkPurple = [0.4, 0, 0.3]\n",
    "Purple = [0.55, 0, 0.45]\n",
    "LightPurple = [0.8, 0, 0.7]\n",
    "\n",
    "Yellow = [0.8, 0.8, 0.2]\n",
    "DarkYellow = [0.5, 0.5, 0.2]\n",
    "\n",
    "PFig = r'D:\\Users\\laplaud\\Desktop\\PostDoc\\Data\\Microflu\\Figures'\n",
    "\n",
    "P220301_Ct = r'D:\\Users\\laplaud\\Desktop\\PostDoc\\Data\\Microflu\\220301_DV6_Manitol100mM+OC\\TimeEvolution\\Ctrl'\n",
    "P220301_M100 = r'D:\\Users\\laplaud\\Desktop\\PostDoc\\Data\\Microflu\\220301_DV6_Manitol100mM+OC\\TimeEvolution\\Manitol100mM'\n",
    "\n",
    "GD_Ct = pd.read_csv(P220301_Ct + '\\\\GlobalData'+ '220301_Ct' + '_DistToMean.csv', index_col = 'Ind')\n",
    "\n",
    "GD_M100 = pd.read_csv(P220301_M100 + '\\\\GlobalData'+ '220301_M100' + '_DistToMean.csv', index_col = 'Ind')\n",
    "\n",
    "\n",
    "P220727_Hyper = r'd:\\Users\\laplaud\\Desktop\\PostDoc\\Data\\Microflu\\220727_DV7_Ctrls+OC_hyperhypo\\TimeEvolution\\Hyper'\n",
    "P220727_Hypo = r'd:\\Users\\laplaud\\Desktop\\PostDoc\\Data\\Microflu\\220727_DV7_Ctrls+OC_hyperhypo\\TimeEvolution\\Hypo'\n",
    "\n",
    "GD_Ct_11 = pd.read_csv(P220727_Hyper + '\\\\GlobalData'+ '220727_Hyper' + '_DistToMean_Symetry.csv', index_col = 'Ind')\n",
    "\n",
    "GD_Ct_12 = pd.read_csv(P220727_Hypo + '\\\\GlobalData'+ '220727_Hypo' + '_DistToMean_Symetry.csv', index_col = 'Ind')\n",
    "\n",
    "CD_Ct_11 = pd.read_csv(P220727_Hyper + '\\\\ContourData'+ '220727_Hyper' + '_ParamAligned.csv', index_col = 'Ind')\n",
    "\n",
    "CD_Ct_12 = pd.read_csv(P220727_Hypo + '\\\\ContourData'+ '220727_Hypo' + '_ParamAligned.csv', index_col = 'Ind')\n",
    "\n",
    "GM_Ct_11 = pd.read_csv(P220727_Hyper + '\\\\GrowthData' + '220727_Hyper' + '.csv',index_col = 'Ind')\n",
    "\n",
    "GM_Ct_12 = pd.read_csv(P220727_Hypo + '\\\\GrowthData' + '220727_Hypo' + '.csv',index_col = 'Ind')"
   ]
  },
  {
   "cell_type": "code",
   "execution_count": null,
   "id": "agreed-craps",
   "metadata": {
    "scrolled": false
   },
   "outputs": [],
   "source": [
    "\n",
    "# plotMeanDist([GD_Ct,GD_M100],\n",
    "#              ['220301_Ct','220301_M100'],[LightGreen, DarkGreen],[0,7,14,21])"
   ]
  },
  {
   "cell_type": "code",
   "execution_count": null,
   "id": "designed-swing",
   "metadata": {
    "scrolled": false
   },
   "outputs": [],
   "source": [
    "\n",
    "# plotMeanDist([GD_Ct_11,GD_Ct_12],\n",
    "#              ['220727_Hyper','220727_Hypo'],[LightPurple, DarkPurple],[0,7,14,21])"
   ]
  },
  {
   "cell_type": "code",
   "execution_count": null,
   "id": "twenty-passage",
   "metadata": {
    "scrolled": false
   },
   "outputs": [],
   "source": [
    "plotGrowth(PFig,GM_Ct_12,CD_Ct_12,'220727_Hypo' ,300)"
   ]
  },
  {
   "cell_type": "code",
   "execution_count": null,
   "id": "intended-morrison",
   "metadata": {},
   "outputs": [],
   "source": []
  },
  {
   "cell_type": "code",
   "execution_count": null,
   "id": "exact-pharmacology",
   "metadata": {},
   "outputs": [],
   "source": []
  },
  {
   "cell_type": "code",
   "execution_count": null,
   "id": "common-camera",
   "metadata": {},
   "outputs": [],
   "source": [
    "# import numpy as np\n",
    "# import matplotlib.pyplot as plt\n",
    "# import VallapFunc as vf"
   ]
  },
  {
   "cell_type": "code",
   "execution_count": null,
   "id": "statutory-people",
   "metadata": {},
   "outputs": [],
   "source": [
    "# t = np.linspace(1,10,100)\n",
    "# A1 = np.exp(t/5)\n",
    "# A2 = np.exp(np.square(t/5))"
   ]
  },
  {
   "cell_type": "code",
   "execution_count": null,
   "id": "artistic-sample",
   "metadata": {},
   "outputs": [],
   "source": [
    "# dA1dt,GR1 = vf.GrowthRate(A1,t)[0:2]\n",
    "# dA2dt,GR2 = vf.GrowthRate(A2,t)[0:2]"
   ]
  },
  {
   "cell_type": "code",
   "execution_count": null,
   "id": "pointed-checklist",
   "metadata": {
    "scrolled": false
   },
   "outputs": [],
   "source": [
    "# plt.figure(dpi=200)\n",
    "# plt.title('Exp(t)')\n",
    "# plt.plot(t,A1)\n",
    "# plt.figure(dpi=200)\n",
    "# plt.title('Exp(t²)')\n",
    "# plt.plot(t,A2)\n",
    "\n",
    "# plt.figure(dpi=200)\n",
    "# plt.title('dérivé Exp(t)')\n",
    "# plt.plot(A1[:-1],dA1dt)\n",
    "\n",
    "# plt.figure(dpi=200)\n",
    "# plt.title('dérivé Exp(t²)')\n",
    "# plt.plot(A2[:-1],dA2dt)"
   ]
  },
  {
   "cell_type": "code",
   "execution_count": null,
   "id": "aging-thumbnail",
   "metadata": {},
   "outputs": [],
   "source": []
  },
  {
   "cell_type": "code",
   "execution_count": null,
   "id": "conservative-courage",
   "metadata": {},
   "outputs": [],
   "source": []
  }
 ],
 "metadata": {
  "kernelspec": {
   "display_name": "Python 3",
   "language": "python",
   "name": "python3"
  },
  "language_info": {
   "codemirror_mode": {
    "name": "ipython",
    "version": 3
   },
   "file_extension": ".py",
   "mimetype": "text/x-python",
   "name": "python",
   "nbconvert_exporter": "python",
   "pygments_lexer": "ipython3",
   "version": "3.8.5"
  },
  "toc": {
   "base_numbering": 1,
   "nav_menu": {},
   "number_sections": true,
   "sideBar": true,
   "skip_h1_title": true,
   "title_cell": "Table of Contents",
   "title_sidebar": "Contents",
   "toc_cell": true,
   "toc_position": {},
   "toc_section_display": true,
   "toc_window_display": true
  }
 },
 "nbformat": 4,
 "nbformat_minor": 5
}
