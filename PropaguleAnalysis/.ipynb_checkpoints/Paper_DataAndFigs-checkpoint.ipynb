{
 "cells": [
  {
   "cell_type": "markdown",
   "metadata": {},
   "source": [
    "# Paper data and figures"
   ]
  },
  {
   "cell_type": "markdown",
   "metadata": {},
   "source": [
    "## Documentation and Imports\n",
    "\n",
    "\n",
    "Created on 03-08-2022\n",
    "\n",
    "Author: Valentin Laplaud\n"
   ]
  },
  {
   "cell_type": "code",
   "execution_count": null,
   "metadata": {
    "code_folding": []
   },
   "outputs": [],
   "source": [
    "## Clean up before script start \n",
    "\n",
    "for element in dir():\n",
    "\n",
    "    if element[0:1] != \"_\":\n",
    "\n",
    "        del globals()[element]\n",
    "\n",
    "import gc\n",
    "gc.collect()\n",
    "\n",
    "\n",
    "print('\\033[1m' + '\\033[4m' + '\\nRunning :  ''PaperDataAndFigs''\\n' + '\\033[0m')\n",
    "\n",
    "import datetime\n",
    "\n",
    "# plotting stuff\n",
    "import matplotlib.pyplot as plt\n",
    "import matplotlib as mpl\n",
    "mpl.use('tkagg')\n",
    "%matplotlib inline\n",
    "\n",
    "COLOR = 'black'\n",
    "COLOR2 = 'white'\n",
    "\n",
    "mpl.rcParams['text.color'] = COLOR\n",
    "mpl.rcParams['axes.labelcolor'] = COLOR\n",
    "mpl.rcParams['xtick.color'] = COLOR\n",
    "mpl.rcParams['ytick.color'] = COLOR\n",
    "mpl.rcParams['axes.edgecolor'] = COLOR\n",
    "mpl.rcParams['axes.labelsize'] =  'large'\n",
    "\n",
    "mpl.rcParams[\"figure.facecolor\"] = COLOR2\n",
    "mpl.rcParams[\"axes.facecolor\"] = COLOR2\n",
    "mpl.rcParams[\"savefig.facecolor\"] = COLOR2\n",
    "mpl.rcParams['axes.facecolor'] = COLOR2\n",
    "\n",
    "# numbers handling\n",
    "import numpy as np\n",
    "# import numpy.matlib as mtl\n",
    "import pandas as pd\n",
    "\n",
    "# to hide known warnings\n",
    "import warnings\n",
    "warnings.filterwarnings(\"ignore\")\n",
    "\n",
    "# General system functions\n",
    "import os\n",
    "import shutil\n",
    "import sys\n",
    "\n",
    "import time\n",
    "\n",
    "# my functions\n",
    "sys.path.append(r'd:\\Users\\laplaud\\Desktop\\PostDoc\\Code\\PythonFunctions\\\\')\n",
    "import VallapFunc as vf\n",
    "from StatsFunctions import plotSig, Corr\n",
    "from PlotFunctions import compareGrowth, compareHydroMech, GOC_Comp, plotGRratio, sizeVar\n"
   ]
  },
  {
   "cell_type": "code",
   "execution_count": null,
   "metadata": {},
   "outputs": [],
   "source": [
    "\n",
    "COLOR = 'white'\n",
    "COLOR2 = 'Black'\n",
    "\n",
    "mpl.rcParams['text.color'] = COLOR\n",
    "mpl.rcParams['axes.labelcolor'] = COLOR\n",
    "mpl.rcParams['xtick.color'] = COLOR\n",
    "mpl.rcParams['ytick.color'] = COLOR\n",
    "mpl.rcParams['axes.edgecolor'] = COLOR\n",
    "mpl.rcParams['axes.labelsize'] =  'large'\n",
    "\n",
    "mpl.rcParams[\"figure.facecolor\"] = COLOR2\n",
    "mpl.rcParams[\"axes.facecolor\"] = COLOR2\n",
    "mpl.rcParams[\"savefig.facecolor\"] = COLOR2\n",
    "mpl.rcParams['axes.facecolor'] = COLOR2\n"
   ]
  },
  {
   "cell_type": "markdown",
   "metadata": {},
   "source": [
    "## Data loading and color definition"
   ]
  },
  {
   "cell_type": "code",
   "execution_count": null,
   "metadata": {
    "code_folding": []
   },
   "outputs": [],
   "source": [
    "%run d:\\Users\\laplaud\\Desktop\\PostDoc\\Code\\PythonFunctions\\ExperimentList.py"
   ]
  },
  {
   "cell_type": "markdown",
   "metadata": {},
   "source": [
    "### Loading"
   ]
  },
  {
   "cell_type": "code",
   "execution_count": null,
   "metadata": {
    "scrolled": false,
    "tags": []
   },
   "outputs": [],
   "source": [
    "####################################### Growth #########################################################################################\n",
    "\n",
    "## Expe 220214 Ctrl growth\n",
    "GD220214_Ct1 = pd.read_csv(P220214_Ct1 + '\\\\GlobalData220214_Ct1_AreaFit.csv', index_col = 'Ind') \n",
    "GD220214_Ct2 = pd.read_csv(P220214_Ct2 + '\\\\GlobalData220214_Ct2_AreaFit.csv', index_col = 'Ind')      \n",
    "\n",
    "# Expe 220531 Ctrl growth\n",
    "GD220531_Ct1 = pd.read_csv(P220531_Ct1 + '\\\\GlobalData220531_Ct1_AreaFit.csv', index_col = 'Ind') \n",
    "GD220531_Ct2 = pd.read_csv(P220531_Ct2 + '\\\\GlobalData220531_Ct2_AreaFit.csv', index_col = 'Ind')      \n",
    "\n",
    "## Expe 220727 Ctrl growth\n",
    "GD220727_Hyper = pd.read_csv(P220727_Hyper + '\\\\GlobalData220727_Hyper_AreaFit.csv', index_col = 'Ind') \n",
    "GD220727_Hypo = pd.read_csv(P220727_Hypo + '\\\\GlobalData220727_Hypo_AreaFit.csv', index_col = 'Ind')  \n",
    "\n",
    "# Expe 220801 Ctrl growth\n",
    "GD220801_Ct1 = pd.read_csv(P220801_Ct1 + '\\\\GlobalData220801_Ct1_AreaFit.csv', index_col = 'Ind') \n",
    "GD220801_Ct2 = pd.read_csv(P220801_Ct2 + '\\\\GlobalData220801_Ct2_AreaFit.csv', index_col = 'Ind')  \n",
    "\n",
    "## Expe 220301 100mM growth\n",
    "GD220301_Ct = pd.read_csv(P220301_Ct + '\\\\GlobalData220301_Ct_AreaFit.csv', index_col = 'Ind') \n",
    "GD220301_100mM = pd.read_csv(P220301_M100 + '\\\\GlobalData220301_M100_AreaFit.csv', index_col = 'Ind') \n",
    "\n",
    "## Expe 220808 100mM growth\n",
    "GD220808_Ct = pd.read_csv(P220808_Ct + '\\\\GlobalData220808_Ct_AreaFit.csv', index_col = 'Ind') \n",
    "GD220808_100mM = pd.read_csv(P220808_100mM + '\\\\GlobalData220808_100mM_AreaFit.csv', index_col = 'Ind') \n",
    "\n",
    "## Expe 220928 100mM growth\n",
    "GD220928_Ct = pd.read_csv(P220928_Ct + '\\\\GlobalData220928_Ct_AreaFit.csv', index_col = 'Ind') \n",
    "GD220928_100mM = pd.read_csv(P220928_100mM + '\\\\GlobalData220928_100mM_AreaFit.csv', index_col = 'Ind') \n",
    "\n",
    "## Expe 221025 100mM growth\n",
    "GD221025_Ct = pd.read_csv(P221025_Ct + '\\\\GlobalData221025_Ct_AreaFit.csv', index_col = 'Ind') \n",
    "GD221025_100mM = pd.read_csv(P221025_100mM + '\\\\GlobalData221025_100mM_AreaFit.csv', index_col = 'Ind') \n",
    "\n",
    "\n",
    "####################################### Mechanics #########################################################################################\n",
    "\n",
    "## Expe 220214 Osmotic Chocs    \n",
    "GD220214_Ct1_Osmo = pd.read_csv(P220214_Ct1_Osmo + '\\\\GlobalData220214_Ct1_Osmo_AreaFit.csv', index_col = 'Ind')   \n",
    "GD220214_Ct2_Osmo = pd.read_csv(P220214_Ct2_Osmo + '\\\\GlobalData220214_Ct2_Osmo_AreaFit.csv', index_col = 'Ind')\n",
    "\n",
    "# Expe 220531 Osmotic Chocs  \n",
    "GD220531_Ct1_Osmo = pd.read_csv(P220531_Ct1_Osmo + '\\\\GlobalData220531_Ct1_Osmo_AreaFit.csv', index_col = 'Ind')   \n",
    "GD220531_Ct2_Osmo = pd.read_csv(P220531_Ct2_Osmo + '\\\\GlobalData220531_Ct2_Osmo_AreaFit.csv', index_col = 'Ind')\n",
    "\n",
    "# Expe 220801 Osmotic Chocs  \n",
    "GD220801_Ct1_Osmo = pd.read_csv(P220801_Ct1_Osmo + '\\\\GlobalData220801_Ct1_Osmo_AreaFit.csv', index_col = 'Ind') \n",
    "GD220801_Ct2_Osmo = pd.read_csv(P220801_Ct2_Osmo + '\\\\GlobalData220801_Ct2_Osmo_AreaFit.csv', index_col = 'Ind')    \n",
    "\n",
    "\n",
    "## Expe 220301 100mM growth Osmotic Chocs    \n",
    "GD220301_Ct_Osmo = pd.read_csv(P220301_Ct_Osmo + '\\\\GlobalData220301_Ct_Osmo_AreaFit.csv', index_col = 'Ind')   \n",
    "GD220301_100mM_Osmo = pd.read_csv(P220301_M100_Osmo + '\\\\GlobalData220301_M100_Osmo_AreaFit.csv', index_col = 'Ind')\n",
    "\n",
    "## Expe 220808 100mM growth  Osmotic Chocs   \n",
    "GD220808_Ct_Osmo = pd.read_csv(P220808_Ct_Osmo + '\\\\GlobalData220808_Ct_Osmo_AreaFit.csv', index_col = 'Ind') \n",
    "GD220808_100mM_Osmo = pd.read_csv(P220808_100mM_Osmo + '\\\\GlobalData220808_100mM_Osmo_AreaFit.csv', index_col = 'Ind') \n",
    "\n",
    "## Expe 220928 100mM growth\n",
    "GD220928_Ct_Osmo = pd.read_csv(P220928_Ct_Osmo + '\\\\GlobalData220928_Ct_Osmo_AreaFit.csv', index_col = 'Ind') \n",
    "GD220928_100mM_Osmo = pd.read_csv(P220928_100mM_Osmo + '\\\\GlobalData220928_100mM_Osmo_AreaFit.csv', index_col = 'Ind') \n",
    "\n",
    "## Expe 221025 100mM growth\n",
    "GD221025_Ct_Osmo = pd.read_csv(P221025_Ct_Osmo + '\\\\GlobalData221025_Ct_Osmo_AreaFit.csv', index_col = 'Ind') \n",
    "GD221025_100mM_Osmo = pd.read_csv(P221025_100mM_Osmo + '\\\\GlobalData221025_100mM_Osmo_AreaFit.csv', index_col = 'Ind')  \n",
    "\n",
    "\n",
    "now  = datetime.datetime.now()\n",
    "now_str = now.strftime(\"%d/%m/%Y %H:%M\")\n",
    "print(now_str + '\\nData loaded.')"
   ]
  },
  {
   "cell_type": "markdown",
   "metadata": {},
   "source": [
    "### Managing data for growth"
   ]
  },
  {
   "cell_type": "code",
   "execution_count": null,
   "metadata": {},
   "outputs": [],
   "source": [
    "GD220531 = GD220531_Ct1.append(GD220531_Ct2)\n",
    "GD220531.loc[:,'Expe'] = '22-05-31'\n",
    "GD220727 = GD220727_Hyper.append(GD220727_Hypo)\n",
    "GD220727.loc[:,'Expe'] = '22-07-27'\n",
    "GD220801 = GD220801_Ct1\n",
    "GD220801.loc[:,'Expe'] = '22-08-01'\n",
    "GD221025 = GD221025_Ct\n",
    "GD221025.loc[:,'Expe'] = '22-10-25'\n",
    "\n",
    "GDPooled = GD220531.append(GD220727).append(GD220801).append(GD221025)\n",
    "\n",
    "n220531 = len(np.unique(GD220531_Ct1.index)) + len(np.unique(GD220531_Ct2.index))\n",
    "n220727 = len(np.unique(GD220727_Hypo.index)) + len(np.unique(GD220727_Hyper.index))\n",
    "n220801 = len(np.unique(GD220801_Ct1.index))\n",
    "n221025 = len(np.unique(GD221025_Ct.index))\n",
    "\n",
    "nPooled = n220531+n220727+n220801+n221025\n"
   ]
  },
  {
   "cell_type": "markdown",
   "metadata": {},
   "source": [
    "### Colors"
   ]
  },
  {
   "cell_type": "code",
   "execution_count": null,
   "metadata": {},
   "outputs": [],
   "source": [
    "\n",
    "LightGreen = np.divide([68, 170, 153],255)\n",
    "Green = np.divide([17, 119, 51],255)\n",
    "\n",
    "LightBlue = np.divide([136, 204, 238],255)\n",
    "Blue = np.divide([51, 34, 136],255)\n",
    "\n",
    "Purple = np.divide([136, 34, 85],255)\n",
    "LightPurple = np.divide([170, 68, 153],255)\n",
    "\n",
    "LightYellow = np.divide([221, 204, 119],255)\n",
    "Yellow = np.divide([173, 152, 21],255)\n",
    "\n",
    "LightRed = np.divide([204, 102, 119],255)\n",
    "Red = np.divide([179, 9, 9],255)\n"
   ]
  },
  {
   "cell_type": "markdown",
   "metadata": {},
   "source": [
    "## Growth"
   ]
  },
  {
   "cell_type": "markdown",
   "metadata": {},
   "source": [
    "### Control"
   ]
  },
  {
   "cell_type": "markdown",
   "metadata": {
    "heading_collapsed": true
   },
   "source": [
    "#### 31-05-2022"
   ]
  },
  {
   "cell_type": "code",
   "execution_count": null,
   "metadata": {
    "hidden": true,
    "scrolled": false
   },
   "outputs": [],
   "source": [
    "# compareGrowth([GD220531_Ct1,GD220531_Ct2],['Ctrl1\\n','Ctrl2\\n'],['gray','gray'], \n",
    "#             PFig, '31-05-2022 - Ranksum', showcurve = True, showbox = True,showhist = True, nbins = 15,indiplots = False,NimgMax = '24h',\n",
    "#             stats='ranksum')"
   ]
  },
  {
   "cell_type": "markdown",
   "metadata": {
    "heading_collapsed": true
   },
   "source": [
    "#### 27-07-2022"
   ]
  },
  {
   "cell_type": "code",
   "execution_count": null,
   "metadata": {
    "hidden": true,
    "scrolled": false
   },
   "outputs": [],
   "source": [
    "# compareGrowth([GD220727_Hyper,GD220727_Hypo],['Ctrl1\\n','Ctrl2\\n'],['gray','gray'], \n",
    "#             PFig, '27-07-2022 - Ranksum', showcurve = True, showbox = True,showhist = True, nbins = 15,indiplots = False,NimgMax = '24h',\n",
    "#             stats='ranksum')"
   ]
  },
  {
   "cell_type": "markdown",
   "metadata": {
    "heading_collapsed": true
   },
   "source": [
    "#### 01-08-2022 (Ctrl1)"
   ]
  },
  {
   "cell_type": "code",
   "execution_count": null,
   "metadata": {
    "hidden": true,
    "scrolled": false
   },
   "outputs": [],
   "source": [
    "# compareGrowth([GD220801_Ct1],['Ctrl1\\n'],['gray'], \n",
    "#             PFig, '01-08-2022 - Ranksum', showcurve = True, showbox = True,showhist = True, nbins = 15,indiplots = False,NimgMax = 'max',\n",
    "#             stats='ranksum')"
   ]
  },
  {
   "cell_type": "markdown",
   "metadata": {
    "heading_collapsed": true
   },
   "source": [
    "#### 25-10-2022 (Ctrl)"
   ]
  },
  {
   "cell_type": "code",
   "execution_count": null,
   "metadata": {
    "hidden": true,
    "scrolled": false
   },
   "outputs": [],
   "source": [
    "# compareGrowth([GD221025],['Ctrl\\n'],['gray'], \n",
    "#             PFig, '25-10-2022 - Ranksum', showcurve = True, showbox = True,showhist = True, nbins = 15,indiplots = False,NimgMax = 'max',\n",
    "#             stats='ranksum')"
   ]
  },
  {
   "cell_type": "markdown",
   "metadata": {},
   "source": [
    "#### All together"
   ]
  },
  {
   "cell_type": "markdown",
   "metadata": {},
   "source": [
    "##### Growth quantif"
   ]
  },
  {
   "cell_type": "code",
   "execution_count": null,
   "metadata": {
    "scrolled": false
   },
   "outputs": [],
   "source": [
    "# compareGrowth([GD220531,GD220727,GD220801,GD221025],['0531\\n','0727\\n','0801\\n','1025\\n'],\n",
    "#             ['gray','gray','gray','gray','gray'],PFig, 'AllExps', \n",
    "#             showcurve = True, showbox = True,showhist = True, nbins = 15,\n",
    "#               indiplots = False, NimgMax = 'max', stats='ranksum')\n",
    "\n",
    "# compareGrowth([GD220531,GD220727,GD220801,GD221025],['Ctrl_1\\n','Ctrl_2\\n','Ctrl_3\\n','Ctrl_4\\n'],\n",
    "#             ['gray','gray','gray','gray','gray'],PFig, 'AllExps', \n",
    "#             showcurve = False, showbox = True,showhist = True, nbins = 15,\n",
    "#               indiplots = False, NimgMax = 'max', stats='kruskal')\n",
    "\n",
    "sizeVar([GD220531,GD220727,GD220801,GD221025],['Ctrl_1\\n','Ctrl_2\\n','Ctrl_3\\n','Ctrl_4\\n'],'Controls',['gray','gray','gray','gray'],\n",
    "        showcurve = True, showbox = True, pooledGraph = True)\n",
    "\n",
    "# compareGrowth([GDPooled],\n",
    "#             ['Ctrls\\n'],\n",
    "#             ['gray'],PFig, 'PooledExps', \n",
    "#             showcurve = True, showbox = False,showhist = False, nbins = 15,indiplots = False, NimgMax = 'max', stats='ranksum')\n"
   ]
  },
  {
   "cell_type": "markdown",
   "metadata": {
    "heading_collapsed": true
   },
   "source": [
    "##### Correlations (Growth rate local vs global, effect of position in chip)"
   ]
  },
  {
   "cell_type": "code",
   "execution_count": null,
   "metadata": {
    "hidden": true,
    "scrolled": false
   },
   "outputs": [],
   "source": [
    "\n",
    "# Corr([GD220531,GD220727,GD220801,GD221025],['0531\\n','0727\\n','0801\\n','1025\\n'],\n",
    "#      columns = ['GR_end','Tau'],columnslabels = ['GR_end (day-1)','Tau'],PlotFits = True,\n",
    "#      colors=[Red,Green,Yellow,Purple], corrmethod ='pearson')\n",
    "\n",
    "\n",
    "# Corr([GDPooled, GD220531,GD220727,GD220801,GD221025],['Pooled','0531\\n','0727\\n','0801\\n','1025\\n'],\n",
    "#      columns = ['ChipRow','tdeb','Tau'],columnslabels = ['Position','Tstart','Tau'],PlotFits = True,\n",
    "#      colors=['gray',Red,Green,Blue,Yellow], corrmethod ='pearson')\n",
    "\n",
    "\n",
    "# Corr([GDPooled, GD220531,GD220727,GD220801,GD221025],['Pooled','0531\\n','0727\\n','0801\\n','1025\\n'],\n",
    "#      columns = ['A0fit','Tau'],columnslabels = ['A0','Tau'],PlotFits = True,\n",
    "#      colors=['gray',Red,Green,Blue,Yellow], corrmethod ='pearson')\n"
   ]
  },
  {
   "cell_type": "code",
   "execution_count": null,
   "metadata": {
    "hidden": true
   },
   "outputs": [],
   "source": []
  },
  {
   "cell_type": "markdown",
   "metadata": {},
   "source": [
    "##### Values of quantificators"
   ]
  },
  {
   "cell_type": "code",
   "execution_count": null,
   "metadata": {},
   "outputs": [],
   "source": [
    "\n",
    "Tau220531 = np.round(GD220531.loc[GD220531['Img'] == 0,'Tau'].median()/60*100*np.log(2))/100\n",
    "Tau220727 = np.round(GD220727.loc[GD220727['Img'] == 0,'Tau'].median()/60*100*np.log(2))/100\n",
    "Tau220801 = np.round(GD220801.loc[GD220801['Img'] == 0,'Tau'].median()/60*100*np.log(2))/100\n",
    "Tau221025 = np.round(GD221025.loc[GD221025['Img'] == 0,'Tau'].median()/60*100*np.log(2))/100\n",
    "\n",
    "TauPooled = np.round(GDPooled.loc[GDPooled['Img'] == 0,'Tau'].median()/60*100*np.log(2))/100\n",
    "\n",
    "Tau220531var = np.round(GD220531.loc[GD220531['Img'] == 0,'Tau'].std()/60*10000/Tau220531*np.log(2))/100 # /np.sqrt(n220531)\n",
    "Tau220727var = np.round(GD220727.loc[GD220727['Img'] == 0,'Tau'].std()/60*10000/Tau220727*np.log(2))/100 # /np.sqrt(n220727)\n",
    "Tau220801var = np.round(GD220801.loc[GD220801['Img'] == 0,'Tau'].std()/60*10000/Tau220801*np.log(2))/100 # /np.sqrt(n220801)\n",
    "Tau221025var = np.round(GD221025.loc[GD221025['Img'] == 0,'Tau'].std()/60*10000/Tau221025*np.log(2))/100 # /np.sqrt(n221025)\n",
    "\n",
    "TauPooledvar = np.round(GDPooled.loc[GDPooled['Img'] == 0,'Tau'].std()/60*10000/TauPooled*np.log(2))/100 # /np.sqrt(nPooled)\n",
    "\n",
    "print('Area doubling time for growth : ')\n",
    "print('31-05-2022 -> ' + str(Tau220531) + ' hours ' + u\"\\u00B1\" + ' ' + str(Tau220531var) + ' %' )\n",
    "print('27-07-2022 -> ' + str(Tau220727) + ' hours ' + u\"\\u00B1\" + ' ' + str(Tau220727var) + ' %' )\n",
    "print('01-08-2022 -> ' + str(Tau220801) + ' hours ' + u\"\\u00B1\" + ' ' + str(Tau220801var) + ' %' )\n",
    "print('25-10-2022 -> ' + str(Tau221025) + ' hours ' + u\"\\u00B1\" + ' ' + str(Tau221025var) + ' %' )\n",
    "print('Pooled -> ' + str(TauPooled) + ' hours ' + u\"\\u00B1\" + ' ' + str(TauPooledvar) + ' % (n = ' + str(nPooled) + ')' )\n"
   ]
  },
  {
   "cell_type": "code",
   "execution_count": null,
   "metadata": {},
   "outputs": [],
   "source": [
    "\n",
    "tdeb220531 = np.round(GD220531.loc[GD220531['Img'] == 0,'tdeb'].median()/60*100)/100\n",
    "tdeb220727 = np.round(GD220727.loc[GD220727['Img'] == 0,'tdeb'].median()/60*100)/100\n",
    "tdeb220801 = np.round(GD220801.loc[GD220801['Img'] == 0,'tdeb'].median()/60*100)/100\n",
    "tdeb221025 = np.round(GD221025.loc[GD221025['Img'] == 0,'tdeb'].median()/60*100)/100\n",
    "\n",
    "tdebPooled = np.round(GDPooled.loc[GDPooled['Img'] == 0,'tdeb'].median()/60*100)/100\n",
    "\n",
    "tdeb220531var = np.round(GD220531.loc[GD220531['Img'] == 0,'tdeb'].std()/60*10000/tdeb220531)/100\n",
    "tdeb220727var = np.round(GD220727.loc[GD220727['Img'] == 0,'tdeb'].std()/60*10000/tdeb220727)/100\n",
    "tdeb220801var = np.round(GD220801.loc[GD220801['Img'] == 0,'tdeb'].std()/60*10000/tdeb220801)/100\n",
    "tdeb221025var = np.round(GD221025.loc[GD221025['Img'] == 0,'tdeb'].std()/60*10000/tdeb221025)/100\n",
    "\n",
    "tdebPooledvar = np.round(GDPooled.loc[GDPooled['Img'] == 0,'tdeb'].std()/60*10000/tdebPooled)/100\n",
    "\n",
    "print('Tstart for growth : ')\n",
    "print('31-05-2022 -> ' + str(tdeb220531) + ' hours ' + u\"\\u00B1\" + ' ' +str(tdeb220531var) + ' %' )\n",
    "print('27-07-2022 -> ' + str(tdeb220727) + ' hours ' + u\"\\u00B1\" + ' ' + str(tdeb220727var) + ' %' )\n",
    "print('01-08-2022 -> ' + str(tdeb220801) + ' hours ' + u\"\\u00B1\" + ' ' + str(tdeb220801var) + ' %' )\n",
    "print('25-10-2022 -> ' + str(tdeb221025) + ' hours ' + u\"\\u00B1\" + ' ' + str(tdeb221025var) + ' %' )\n",
    "print('Pooled -> ' + str(tdebPooled) + ' hours ' + u\"\\u00B1\" + ' ' + str(tdebPooledvar) + ' %' )\n"
   ]
  },
  {
   "cell_type": "markdown",
   "metadata": {},
   "source": [
    "### Hyper osmotic environement (100mM)"
   ]
  },
  {
   "cell_type": "markdown",
   "metadata": {},
   "source": [
    "#### 01-03-2022 (100mM)"
   ]
  },
  {
   "cell_type": "code",
   "execution_count": null,
   "metadata": {
    "scrolled": false
   },
   "outputs": [],
   "source": [
    "# compareGrowth([GD220301_Ct,GD220301_M100],['Ctrl\\n','100mM\\n'],[Yellow, LightYellow], \n",
    "#             PFig, '01-03-2022 - Ranksum', showcurve = True, showbox = True,showhist = True, \n",
    "#               nbins = 15,indiplots = False,NimgMax = 'max', stats='ranksum')"
   ]
  },
  {
   "cell_type": "markdown",
   "metadata": {
    "heading_collapsed": true
   },
   "source": [
    "#### 29-08-2022 (100mM)"
   ]
  },
  {
   "cell_type": "code",
   "execution_count": null,
   "metadata": {
    "hidden": true,
    "scrolled": false
   },
   "outputs": [],
   "source": [
    "# compareGrowth([GD220928_Ct,GD220928_100mM],['Ctrl\\n','100mM\\n'],[Green, LightGreen], \n",
    "#             PFig, '29-08-2022 - Ranksum', showcurve = True, showbox = True,showhist = True, \n",
    "#               nbins = 15,indiplots = False,NimgMax = 'max', stats='ranksum')"
   ]
  },
  {
   "cell_type": "markdown",
   "metadata": {},
   "source": [
    "#### All together"
   ]
  },
  {
   "cell_type": "markdown",
   "metadata": {},
   "source": [
    "##### Growth quantif"
   ]
  },
  {
   "cell_type": "code",
   "execution_count": null,
   "metadata": {
    "scrolled": false
   },
   "outputs": [],
   "source": [
    "# compareGrowth([GD220301_Ct,GD220301_100mM,GD220928_Ct,GD220928_100mM],\n",
    "#               ['0103_C\\n','0103_M\\n','0928_C\\n','0928_M\\n'],\n",
    "#               [Yellow, LightYellow, Green, LightGreen],\n",
    "#               PFig, 'Growth at 100mM', showcurve = True, sigpairs = [(0,1),(2,3)],\n",
    "#               showbox = True,showhist = True,nbins = 15,indiplots = False,NimgMax = 'max', stats='ranksum')\n",
    "\n",
    "sizeVar([GD220301_Ct,GD220301_100mM,GD220928_Ct,GD220928_100mM], ['0103_C\\n','0103_M\\n','0928_C\\n','0928_M\\n'],\n",
    "        'Growth at 100mM',[Yellow, LightYellow, Green, LightGreen],\n",
    "        showcurve = True, showbox = True, pooledGraph = True)\n"
   ]
  },
  {
   "cell_type": "markdown",
   "metadata": {},
   "source": [
    "##### Correlarions (Growth rate local vs global, effect of position in chip)"
   ]
  },
  {
   "cell_type": "code",
   "execution_count": null,
   "metadata": {
    "scrolled": false
   },
   "outputs": [],
   "source": [
    "# Corr([GD220301_Ct,GD220301_100mM,GD220928_Ct,GD220928_100mM],['GD220301_Ct','GD220301_100mM','GD220928_Ct','GD220928_100mM'],\n",
    "#      columns = ['GR_end','Tau'],columnslabels = ['GR_end (day-1)','Tau'],PlotFits = True,\n",
    "#      colors=[Blue,Red,Green,Yellow], corrmethod ='pearson')\n",
    "\n",
    "# Corr([GD220301_Ct.append(GD220928_Ct),GD220301_Ct,GD220928_Ct],['Pooled_Ctrl','GD220301_Ct','GD220928_Ct'],\n",
    "#      columns = ['ChipRow','tdeb','Tau'],columnslabels = ['Position','Tstart','Tau'],PlotFits = True,\n",
    "#      colors=['gray',Blue,Yellow], corrmethod ='pearson')\n",
    "\n",
    "# Corr([GD220301_100mM.append(GD220928_100mM),GD220301_100mM,GD220928_100mM],['Pooled_100mM','GD220301_100mM','GD220928_100mM'],\n",
    "#      columns = ['ChipRow','tdeb','Tau'],columnslabels = ['Position','Tstart','Tau'],PlotFits = True,\n",
    "#      colors=['gray',Green,Red], corrmethod ='pearson')"
   ]
  },
  {
   "cell_type": "markdown",
   "metadata": {},
   "source": [
    "## Mechanics"
   ]
  },
  {
   "cell_type": "markdown",
   "metadata": {},
   "source": [
    "### Controls"
   ]
  },
  {
   "cell_type": "markdown",
   "metadata": {
    "heading_collapsed": true
   },
   "source": [
    "#### 31-05-2022"
   ]
  },
  {
   "cell_type": "code",
   "execution_count": null,
   "metadata": {
    "hidden": true,
    "scrolled": false
   },
   "outputs": [],
   "source": [
    "# compareHydroMech([GD220531_Ct1_Osmo, GD220531_Ct2_Osmo],\n",
    "#              ['Chamber 1','Chamber 2'],[Red,LightRed], \n",
    "#              PFig, 'OsmChoc_31-05-2022', showbox = True,showhist = True,stats='ranksum');\n",
    "\n",
    "# Growth slope before/after choc\n",
    "\n",
    "# GOC_Comp([GD220531_Ct1, GD220531_Ct2],\n",
    "#          [GD220531_Ct1_Osmo, GD220531_Ct2_Osmo],\n",
    "#          ['GR_end'],['GR_AfterOC'],['GR_end'],['GrowthSlope'],\n",
    "#          ['220531_Ct1','220531_Ct2'],[Blue,Red,Green,Yellow],PlotFits=True)"
   ]
  },
  {
   "cell_type": "code",
   "execution_count": null,
   "metadata": {
    "hidden": true,
    "scrolled": true
   },
   "outputs": [],
   "source": [
    "# GOC_Comp([GD220531_Ct1,GD220531_Ct2],\n",
    "#          [GD220531_Ct1_Osmo,GD220531_Ct2_Osmo],\n",
    "#          ['GR_end'],['Ecomp','Erel'],['GrowthRate'],['E_Comp','E_Rel'],\n",
    "#          ['220531_Ct1','220531_Ct2'],[Red,Green,Blue,Purple,Green,Blue],PlotFits=True)"
   ]
  },
  {
   "cell_type": "markdown",
   "metadata": {},
   "source": [
    "#### 01-08-2022  (Ctrl1)"
   ]
  },
  {
   "cell_type": "code",
   "execution_count": null,
   "metadata": {
    "scrolled": false
   },
   "outputs": [],
   "source": [
    "# compareHydroMech([GD220801_Ct1_Osmo],\n",
    "#              ['Chamber 1'],[Purple], \n",
    "#              PFig, 'OsmChoc_01-08-2022', showbox = True,showhist = True,stats='ranksum');"
   ]
  },
  {
   "cell_type": "markdown",
   "metadata": {
    "heading_collapsed": true
   },
   "source": [
    "#### 08-08-2022 (Ctrl)"
   ]
  },
  {
   "cell_type": "code",
   "execution_count": null,
   "metadata": {
    "hidden": true,
    "scrolled": false
   },
   "outputs": [],
   "source": [
    "# compareHydroMech([GD220808_Ct_Osmo],\n",
    "#              ['Chamber 1'],[Red], \n",
    "#              PFig, 'OsmChoc_08-08-2022', showbox = True,showhist = True,stats='ranksum');\n",
    "\n",
    "#  # Growth slope before/after choc\n",
    "\n",
    "# GOC_Comp([GD220808_Ct],\n",
    "#          [GD220808_Ct_Osmo],\n",
    "#          ['GR_end'],['GR_AfterOC'],['GR_end (day-1)'],['GrowthSlope (day-1)'],\n",
    "#          ['GD220808_Ct1','GD220808_Ct2'],['gray',Red],PlotFits=True)"
   ]
  },
  {
   "cell_type": "markdown",
   "metadata": {},
   "source": [
    "#### AllTogether"
   ]
  },
  {
   "cell_type": "code",
   "execution_count": null,
   "metadata": {
    "scrolled": false
   },
   "outputs": [],
   "source": [
    "# GD_Osmo = GD220531_Ct1_Osmo.append(GD220531_Ct2_Osmo).append(GD220801_Ct1_Osmo)\n",
    "\n",
    "# compareHydroMech([GD220531_Ct1_Osmo,GD220531_Ct2_Osmo,GD220801_Ct1_Osmo],\n",
    "#                 ['0531_1','0531_2','0801'], [Red,LightRed,Yellow],PFig,'OC - All',\n",
    "#                  showbox = True,showhist = True,showTau = True,stats='ranksum')\n",
    "\n",
    "# compareHydroMech([GD_Osmo],\n",
    "#              ['All'],['gray'], \n",
    "#              PFig, 'OsmChoc_CompRel', showbox = True,showhist = True,stats='ranksum');\n",
    "\n"
   ]
  },
  {
   "cell_type": "markdown",
   "metadata": {},
   "source": [
    "#### Correlations with growth "
   ]
  },
  {
   "cell_type": "code",
   "execution_count": null,
   "metadata": {
    "scrolled": false
   },
   "outputs": [],
   "source": [
    "# GOC_Comp([GD220531_Ct1,GD220531_Ct2,GD220801_Ct1],\n",
    "#          [GD220531_Ct1_Osmo,GD220531_Ct2_Osmo,GD220801_Ct1_Osmo],\n",
    "#          ['GR_end'],['E'],['GrowthRate (day-1)'],['E (MPa)'],\n",
    "#          ['220531_Ct1','220531_Ct2','220801_Ct1'],[Purple,Red,LightRed,Yellow],\n",
    "#          PlotFits=True,CorrType = 'spearman')\n",
    "\n",
    "\n",
    "# GD220531_Ct1_Osmo = GD220531_Ct1_Osmo.assign(Ecomp_norm = lambda x: (x['Ecomp'] / x['Ecomp'].mean() ))\n",
    "# GD220531_Ct1_Osmo = GD220531_Ct1_Osmo.assign(A0_norm = lambda x: (x['A0'] / x['A0'].mean() ))\n",
    "\n",
    "# GD220531_Ct2_Osmo = GD220531_Ct2_Osmo.assign(Ecomp_norm = lambda x: (x['Ecomp'] / x['Ecomp'].mean() ))\n",
    "# GD220531_Ct2_Osmo = GD220531_Ct2_Osmo.assign(A0_norm = lambda x: (x['A0'] / x['A0'].mean() ))\n",
    "\n",
    "# GD220801_Ct1_Osmo = GD220801_Ct1_Osmo.assign(Ecomp_norm = lambda x: (x['Ecomp'] / x['Ecomp'].mean() ))\n",
    "# GD220801_Ct1_Osmo = GD220801_Ct1_Osmo.assign(A0_norm = lambda x: (x['A0'] / x['A0'].mean() ))\n",
    "\n",
    "\n",
    "# Corr([GD220531_Ct1_Osmo.append(GD220531_Ct2_Osmo).append(GD220801_Ct1_Osmo)],\n",
    "#      ['Pooled'],\n",
    "#      columns = ['A0','Ecomp','A0_norm','Ecomp_norm'],\n",
    "#      columnslabels = ['A0 (mm²)','E (MPa)','A0 (Norm)','E (Norm)'],PlotFits = True,\n",
    "#      colors=['gray',Red,Red,Yellow], corrmethod ='spearman')\n",
    "\n",
    "\n",
    "# Corr([GD220531_Ct1_Osmo.append(GD220531_Ct2_Osmo)],\n",
    "#      ['Pooled_GD220531_Ct_Osmo'],\n",
    "#      columns = ['A0','Ecomp'],columnslabels = ['A0 (mm²)','E (MPa)'],PlotFits = True,\n",
    "#      colors=['gray',Blue,Red], corrmethod ='spearman')\n",
    "\n",
    "# Corr([GD220531_Ct1_Osmo.append(GD220531_Ct2_Osmo),GD220801_Ct1_Osmo],\n",
    "#      ['GD220531_Ct_Osmo','GD220801_Ct1_Osmo'],\n",
    "#      columns = ['A0','Ecomp'],columnslabels = ['A0 (mm²)','E (MPa)'],PlotFits = True,\n",
    "#      colors=[Blue,Yellow], corrmethod ='spearman')"
   ]
  },
  {
   "cell_type": "markdown",
   "metadata": {},
   "source": [
    "### Hyperosmotic growth"
   ]
  },
  {
   "cell_type": "markdown",
   "metadata": {},
   "source": [
    "#### 28-09-2022 (100mM)"
   ]
  },
  {
   "cell_type": "code",
   "execution_count": null,
   "metadata": {},
   "outputs": [],
   "source": [
    "# compareHydroMech([GD220928_Ct_Osmo, GD220928_100mM_Osmo],\n",
    "#              ['Ctrl','100mM growth'],[Green,LightGreen], \n",
    "#              PFig, 'OsmChoc_28-09-2022', showbox = True,showhist = True,stats='ranksum');"
   ]
  },
  {
   "cell_type": "markdown",
   "metadata": {
    "heading_collapsed": true
   },
   "source": [
    "#### AllTogether"
   ]
  },
  {
   "cell_type": "code",
   "execution_count": null,
   "metadata": {
    "hidden": true,
    "scrolled": false
   },
   "outputs": [],
   "source": [
    "# compareHydroMech([GD220928_Ct_Osmo, GD220928_100mM_Osmo],\n",
    "#                  ['Ctrl','100mM growth'],\n",
    "#                 [Green,LightGreen], \n",
    "#                  PFig, 'OsmChocs', showbox = True,showhist = True,stats='ranksum',sigpairs= [(0,1)]);\n",
    "\n"
   ]
  },
  {
   "cell_type": "markdown",
   "metadata": {},
   "source": [
    "#### Correlations "
   ]
  },
  {
   "cell_type": "markdown",
   "metadata": {},
   "source": [
    "##### E vs. Growth rate vs. Size"
   ]
  },
  {
   "cell_type": "code",
   "execution_count": null,
   "metadata": {
    "scrolled": false
   },
   "outputs": [],
   "source": [
    "\n",
    "\n",
    "# GOC_Comp([GD220928_Ct,GD220928_100mM],\n",
    "#          [GD220928_Ct_Osmo,GD220928_100mM_Osmo],\n",
    "#          ['GR_end'],['A0','Ecomp'],['GrowthRate (day-1)'],['Size (mm²)','E (MPa)'],\n",
    "#          ['220928_Ct','220928_100mM'],[Blue,Green,LightGreen],\n",
    "#          PlotFits=True,CorrType = 'spearman')\n",
    "\n",
    "\n"
   ]
  },
  {
   "cell_type": "markdown",
   "metadata": {},
   "source": [
    "##### Elastic modulus vs. size"
   ]
  },
  {
   "cell_type": "code",
   "execution_count": null,
   "metadata": {
    "scrolled": false
   },
   "outputs": [],
   "source": [
    "MeanE_0301 = GD220301_Ct_Osmo['Ecomp'].mean()\n",
    "MeanA_0301 = GD220301_Ct_Osmo['A0'].mean()\n",
    "\n",
    "GD220301_Ct_Osmo = GD220301_Ct_Osmo.assign(Ecomp_norm = lambda x: (x['Ecomp'] / MeanE_0301))\n",
    "GD220301_Ct_Osmo = GD220301_Ct_Osmo.assign(A0_norm = lambda x: (x['A0'] / MeanA_0301))\n",
    "\n",
    "GD220301_100mM_Osmo = GD220301_100mM_Osmo.assign(Ecomp_norm = lambda x: (x['Ecomp'] /MeanE_0301))\n",
    "GD220301_100mM_Osmo = GD220301_100mM_Osmo.assign(A0_norm = lambda x: (x['A0'] /MeanA_0301))\n",
    "\n",
    "\n",
    "MeanE_0928 = GD220928_Ct_Osmo['Ecomp'].mean()\n",
    "MeanA_0928 = GD220928_Ct_Osmo['A0'].mean()\n",
    "\n",
    "GD220928_Ct_Osmo = GD220928_Ct_Osmo.assign(Ecomp_norm = lambda x: (x['Ecomp'] /MeanE_0928))\n",
    "GD220928_Ct_Osmo = GD220928_Ct_Osmo.assign(A0_norm = lambda x: (x['A0'] /MeanA_0928))\n",
    "\n",
    "GD220928_100mM_Osmo = GD220928_100mM_Osmo.assign(Ecomp_norm = lambda x: (x['Ecomp'] /MeanE_0928))\n",
    "GD220928_100mM_Osmo = GD220928_100mM_Osmo.assign(A0_norm = lambda x: (x['A0'] /MeanA_0928))\n",
    "\n",
    "\n",
    "MeanE_1025 = GD221025_Ct_Osmo['Ecomp'].mean()\n",
    "MeanA_1025 = GD221025_Ct_Osmo['A0'].mean()\n",
    "\n",
    "GD221025_Ct_Osmo = GD221025_Ct_Osmo.assign(Ecomp_norm = lambda x: (x['Ecomp'] /MeanE_1025))\n",
    "GD221025_Ct_Osmo = GD221025_Ct_Osmo.assign(A0_norm = lambda x: (x['A0'] /MeanA_1025))\n",
    "\n",
    "GD221025_100mM_Osmo = GD221025_100mM_Osmo.assign(Ecomp_norm = lambda x: (x['Ecomp'] /MeanE_1025))\n",
    "GD221025_100mM_Osmo = GD221025_100mM_Osmo.assign(A0_norm = lambda x: (x['A0'] /MeanA_1025))\n",
    "\n",
    "\n",
    "\n",
    "# Corr([GD220301_Ct_Osmo.append(GD220301_100mM_Osmo),\n",
    "#      GD220301_Ct_Osmo, GD220301_100mM_Osmo],\n",
    "#      ['Pooled'], # ,'GD220301_Ct_Osmo', 'GD220301_100mM_Osmo'\n",
    "#      columns = ['A0','Ecomp'],columnslabels = ['A0 (mm²)','E (MPa)'],PlotFits = True,\n",
    "#      colors=['gray',LightRed,Red], corrmethod ='spearman')\n",
    "\n",
    "# Corr([GD220928_Ct_Osmo.append(GD220928_100mM_Osmo),\n",
    "#      GD220928_Ct_Osmo, GD220928_100mM_Osmo],\n",
    "#      ['Pooled'],# ,'GD220928_Ct_Osmo', 'GD220928_100mM_Osmo'\n",
    "#      columns = ['A0','Ecomp'],columnslabels = ['A0 (mm²)','E (MPa)'],PlotFits = True,\n",
    "#      colors=['gray',LightGreen,Green], corrmethod ='spearman')\n",
    "\n",
    "# Corr([GD221025_Ct_Osmo.append(GD221025_100mM_Osmo),\n",
    "#      GD221025_Ct_Osmo, GD221025_100mM_Osmo],\n",
    "#      ['Pooled'],# ,'GD221025_Ct_Osmo', 'GD221025_100mM_Osmo'\n",
    "#      columns = ['A0','Ecomp'],columnslabels = ['A0 (mm²)','E (MPa)'],PlotFits = True,\n",
    "#      colors=['gray',LightBlue,Blue], corrmethod ='spearman')\n",
    "\n",
    "\n",
    "\n",
    "# Corr([GD221025_Ct_Osmo.append(GD221025_100mM_Osmo).append(GD220928_Ct_Osmo).append(\n",
    "#     GD220928_100mM_Osmo).append(GD220301_Ct_Osmo.append(GD220301_100mM_Osmo))],\n",
    "#      ['Pooled'],\n",
    "#      columns = ['A0','Ecomp','A0_norm','Ecomp_norm'],\n",
    "#      columnslabels = ['A0 (mm²)','E (MPa)','A0 (Norm)','E (Norm)'],PlotFits = True,\n",
    "#      colors=['gray',LightBlue,Blue,LightRed,Red,LightGreen,Green], corrmethod ='spearman')\n",
    "\n",
    "\n",
    "\n",
    "# Corr([GD221025_Ct_Osmo.append(GD221025_100mM_Osmo).append(GD220928_Ct_Osmo).append(\n",
    "#     GD220928_100mM_Osmo).append(GD220301_Ct_Osmo.append(GD220301_100mM_Osmo))],\n",
    "#      ['All'],\n",
    "#      columns = ['A0','Ecomp','A0_norm','Ecomp_norm'],\n",
    "#      columnslabels = ['A0 (mm²)','E (MPa)','A0 (Norm)','E (Norm)'],PlotFits = True,\n",
    "#      colors=['gray',LightBlue,Blue,LightRed,Red,LightGreen,Green], corrmethod ='pearson')\n"
   ]
  },
  {
   "cell_type": "markdown",
   "metadata": {},
   "source": [
    "### Growth before and after OC"
   ]
  },
  {
   "cell_type": "code",
   "execution_count": null,
   "metadata": {
    "scrolled": false
   },
   "outputs": [],
   "source": [
    "\n",
    "# plotGRratio([GD220531_Ct1,GD220801_Ct1,GD220928_Ct],\n",
    "#             [GD220531_Ct1_Osmo,GD220801_Ct1_Osmo,GD220928_Ct_Osmo],\n",
    "#             ['220531_Ct1 (1)','220801_Ct1 (1)','220928_Ct (1)'],\n",
    "#             [Red,Green,Blue]) \n",
    "\n",
    "# plotGRratio([GD220531_Ct1,GD220801_Ct1,GD220928_Ct],\n",
    "#             [GD220531_Ct1_Osmo,GD220801_Ct1_Osmo,GD220928_Ct_Osmo],\n",
    "#             ['Ctrl1','Ctrl2','Ctrl2'],\n",
    "#             [Red,Green,Blue]) \n",
    "\n",
    "\n",
    "# plotGRratio([GD220531_Ct2,GD220928_100mM,GD221025_Ct],\n",
    "#             [GD220531_Ct2_Osmo,GD220801_Ct1_Osmo,GD221025_Ct_Osmo],\n",
    "#             ['220531_Ct2 (2)','220928_100mM (2)','GD221025_Ct (2)'],\n",
    "#             [LightRed,LightGreen,LightBlue]) \n",
    "\n",
    "\n",
    "# plotGRratio([GD220531_Ct1,GD220531_Ct2,GD220801_Ct1,GD220928_Ct,GD220928_100mM,GD221025_Ct],\n",
    "#             [GD220531_Ct1_Osmo,GD220531_Ct2_Osmo,GD220801_Ct1_Osmo,GD220928_Ct_Osmo,GD220928_100mM_Osmo,GD221025_Ct_Osmo],\n",
    "#             ['220531_Ct1 (1)','220531_Ct2 (2)','220801_Ct1 (1)','220928_Ct (1)','220928_100mM (2)','GD221025_Ct (2)'],\n",
    "#             [Red,LightRed,Green,LightGreen,Blue,LightBlue]) \n",
    "\n",
    "\n",
    "\n",
    "\n"
   ]
  },
  {
   "cell_type": "code",
   "execution_count": null,
   "metadata": {
    "scrolled": false
   },
   "outputs": [],
   "source": [
    "\n",
    "# GD = GD220531_Ct1\n",
    "\n",
    "# AllGRvar = np.empty(0)\n",
    "# AllGRvarMedian = np.empty(0)\n",
    "\n",
    "# f1,ax1 = plt.subplots(dpi=200)\n",
    "# f1.patch.set_facecolor('white')\n",
    "# f1.suptitle('All data pooled')\n",
    "\n",
    "# f2,ax2 = plt.subplots(dpi=200)\n",
    "# f2.patch.set_facecolor('white')\n",
    "# f2.suptitle('Median per PPG')\n",
    "\n",
    "\n",
    "# for s in tqdm(np.unique(GD.index)):\n",
    "#     GR = GD.loc[s,'GR_Full'].to_numpy()\n",
    "    \n",
    "#     GRvar = np.abs(np.divide(GR[1:-1],GR[0:-2]))\n",
    "#     GRvarInWindow = np.round(len(GRvar[(GRvar>0) & (GRvar<2)])/len(GRvar)*1000)/10\n",
    "    \n",
    "#     AllGRvar = np.append(AllGRvar,GRvar)\n",
    "#     AllGRvarMedian = np.append(AllGRvarMedian,np.median(GRvar))\n",
    "    \n",
    "#     f0,ax0 = plt.subplots(dpi=200)\n",
    "#     f0.patch.set_facecolor('white')\n",
    "#     f0.suptitle(s + ' (' + str(GRvarInWindow) + '% in window) + median')\n",
    "#     ax0.hist(GRvar, range = (0,2), bins = 21,color='r', density = True)\n",
    "#     lims = ax0.get_ylim()\n",
    "#     ax0.plot([np.median(GRvar),np.median(GRvar)],lims,'--',color = 'lightgray')\n",
    "#     ax0.set_ylim(lims)\n",
    "    \n",
    "# ax1.hist(AllGRvar, range = (0,2), bins = 21,color='b', density = True)\n",
    "# ax2.hist(AllGRvarMedian, range = (0,2), bins = 21,color='b', density = True)"
   ]
  },
  {
   "cell_type": "code",
   "execution_count": null,
   "metadata": {},
   "outputs": [],
   "source": []
  }
 ],
 "metadata": {
  "kernelspec": {
   "display_name": "Python 3",
   "language": "python",
   "name": "python3"
  },
  "language_info": {
   "codemirror_mode": {
    "name": "ipython",
    "version": 3
   },
   "file_extension": ".py",
   "mimetype": "text/x-python",
   "name": "python",
   "nbconvert_exporter": "python",
   "pygments_lexer": "ipython3",
   "version": "3.8.5"
  },
  "toc": {
   "base_numbering": 1,
   "nav_menu": {},
   "number_sections": true,
   "sideBar": true,
   "skip_h1_title": true,
   "title_cell": "Table of Contents",
   "title_sidebar": "Contents",
   "toc_cell": false,
   "toc_position": {
    "height": "calc(100% - 180px)",
    "left": "10px",
    "top": "150px",
    "width": "352px"
   },
   "toc_section_display": true,
   "toc_window_display": true
  }
 },
 "nbformat": 4,
 "nbformat_minor": 4
}
