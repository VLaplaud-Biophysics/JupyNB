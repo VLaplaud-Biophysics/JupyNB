{
 "cells": [
  {
   "cell_type": "markdown",
   "metadata": {},
   "source": [
    "# Paper data and figures"
   ]
  },
  {
   "cell_type": "markdown",
   "metadata": {},
   "source": [
    "## Documentation and Imports\n",
    "\n",
    "\n",
    "Created on 03-08-2022\n",
    "\n",
    "Author: Valentin Laplaud\n"
   ]
  },
  {
   "cell_type": "code",
   "execution_count": 1,
   "metadata": {
    "code_folding": []
   },
   "outputs": [
    {
     "name": "stdout",
     "output_type": "stream",
     "text": [
      "\u001b[1m\u001b[4m\n",
      "Running :  PaperDataAndFigs\n",
      "\u001b[0m\n"
     ]
    }
   ],
   "source": [
    "## Clean up before script start \n",
    "\n",
    "for element in dir():\n",
    "\n",
    "    if element[0:1] != \"_\":\n",
    "\n",
    "        del globals()[element]\n",
    "\n",
    "import gc\n",
    "gc.collect()\n",
    "\n",
    "\n",
    "print('\\033[1m' + '\\033[4m' + '\\nRunning :  ''PaperDataAndFigs''\\n' + '\\033[0m')\n",
    "\n",
    "import datetime\n",
    "\n",
    "# plotting stuff\n",
    "import matplotlib as mpl\n",
    "mpl.use('TkAgg')\n",
    "%matplotlib inline\n",
    "\n",
    "COLOR = 'white'\n",
    "COLOR2 = 'black'\n",
    "\n",
    "mpl.rcParams['text.color'] = COLOR\n",
    "mpl.rcParams['axes.labelcolor'] = COLOR\n",
    "mpl.rcParams['xtick.color'] = COLOR\n",
    "mpl.rcParams['ytick.color'] = COLOR\n",
    "mpl.rcParams['axes.edgecolor'] = COLOR\n",
    "mpl.rcParams['axes.labelsize'] =  'large'\n",
    "\n",
    "mpl.rcParams[\"figure.facecolor\"] = COLOR2\n",
    "mpl.rcParams[\"axes.facecolor\"] = COLOR2\n",
    "mpl.rcParams[\"savefig.facecolor\"] = COLOR2\n",
    "mpl.rcParams['axes.facecolor'] = COLOR2\n",
    "\n",
    "# import matplotlib.pyplot as plt\n",
    "# import matplotlib.path as mpltPath\n",
    "# import seaborn as sns\n",
    "# from cycler import cycler\n",
    "# #Default colors\n",
    "# colorcycle = [plt.get_cmap('gist_rainbow')(1. * i/30) for i in range(30)]\n",
    "# mpl.rcParams['axes.prop_cycle'] = cycler(color=colorcycle)\n",
    "\n",
    "# numbers handling\n",
    "import numpy as np\n",
    "# import numpy.matlib as mtl\n",
    "import pandas as pd\n",
    "\n",
    "# signal processing \n",
    "# from scipy.signal import savgol_filter, correlate, correlation_lags\n",
    "# from scipy.interpolate import interp1d\n",
    "# from scipy.optimize import curve_fit\n",
    "\n",
    "# stats\n",
    "# from scipy.stats import ranksums, linregress, ks_2samp\n",
    "# import statsmodels.api as sm\n",
    "# from statsmodels.formula.api import ols\n",
    "\n",
    "# images handling\n",
    "# from skimage import io\n",
    "# from skimage.filters import threshold_otsu, gaussian, laplace, sobel\n",
    "# from skimage.measure import label, regionprops, regionprops_table\n",
    "# from skimage.util import invert\n",
    "# from skimage.morphology import binary_opening, binary_closing, remove_small_holes,binary_erosion\n",
    "# from skimage.color import rgb2gray\n",
    "# from skimage.segmentation import active_contour, morphological_geodesic_active_contour,morphological_chan_vese, checkerboard_level_set, inverse_gaussian_gradient\n",
    "# import cv2 as cv\n",
    "\n",
    "# to hide known warnings\n",
    "import warnings\n",
    "\n",
    "# General system functions\n",
    "import os\n",
    "import shutil\n",
    "import sys\n",
    "\n",
    "import time\n",
    "\n",
    "# my functions\n",
    "sys.path.append(r'd:\\Users\\laplaud\\Desktop\\PostDoc\\Code\\PythonFunctions/')\n",
    "import VallapFunc as vf\n",
    "from StatsFunctions import plotSig, Corr\n",
    "from Main import compareGrowth, compareHydroMech, GOC_Comp\n"
   ]
  },
  {
   "cell_type": "markdown",
   "metadata": {},
   "source": [
    "## Data loading and color definition"
   ]
  },
  {
   "cell_type": "code",
   "execution_count": 2,
   "metadata": {
    "code_folding": []
   },
   "outputs": [
    {
     "name": "stdout",
     "output_type": "stream",
     "text": [
      "Data choice made.\n"
     ]
    }
   ],
   "source": [
    "%run d:\\Users\\laplaud\\Desktop\\PostDoc\\Code\\PythonFunctions/ExperimentList.py"
   ]
  },
  {
   "cell_type": "code",
   "execution_count": 3,
   "metadata": {
    "scrolled": false,
    "tags": []
   },
   "outputs": [
    {
     "name": "stdout",
     "output_type": "stream",
     "text": [
      "08/08/2022 15:24\n",
      "Data loaded.\n"
     ]
    }
   ],
   "source": [
    "####################################### Growth #########################################################################################\n",
    "\n",
    "## Expe 220124 Ctrl growth\n",
    "GD220124_Ct2 = pd.read_csv(P220124_Ct2 + '\\\\GlobalData220124_Ct2_AreaFit.csv', index_col = 'Ind')    \n",
    "GD220124_Ct1 = pd.read_csv(P220124_Ct1 + '\\\\GlobalData220124_Ct1_AreaFit.csv', index_col = 'Ind')   \n",
    "\n",
    "## Expe 220214 Ctrl growth\n",
    "GD220214_Ct1 = pd.read_csv(P220214_Ct1 + '\\\\GlobalData220214_Ct1_AreaFit.csv', index_col = 'Ind') \n",
    "GD220214_Ct2 = pd.read_csv(P220214_Ct2 + '\\\\GlobalData220214_Ct2_AreaFit.csv', index_col = 'Ind')      \n",
    "\n",
    "# Expe 220531 Ctrl growth\n",
    "GD220531_Ct1 = pd.read_csv(P220531_Ct1 + '\\\\GlobalData220531_Ct1_AreaFit.csv', index_col = 'Ind') \n",
    "GD220531_Ct2 = pd.read_csv(P220531_Ct2 + '\\\\GlobalData220531_Ct2_AreaFit.csv', index_col = 'Ind')      \n",
    "\n",
    "## Expe 220727 Ctrl growth\n",
    "GD220727_Hyper = pd.read_csv(P220727_Hyper + '\\\\GlobalData220727_Hyper_AreaFit.csv', index_col = 'Ind') \n",
    "GD220727_Hypo = pd.read_csv(P220727_Hypo + '\\\\GlobalData220727_Hypo_AreaFit.csv', index_col = 'Ind')  \n",
    "\n",
    "# Expe 220801 Ctrl growth\n",
    "GD220801_Ct1 = pd.read_csv(P220801_Ct1 + '\\\\GlobalData220801_Ct1_AreaFit.csv', index_col = 'Ind') \n",
    "GD220801_Ct2 = pd.read_csv(P220801_Ct2 + '\\\\GlobalData220801_Ct2_AreaFit.csv', index_col = 'Ind')  \n",
    "\n",
    "\n",
    "## Expe 220301 100mM growth\n",
    "GD220301_Ct = pd.read_csv(P220301_Ct + '\\\\GlobalData220301_Ct_AreaFit.csv', index_col = 'Ind') \n",
    "GD220301_M100 = pd.read_csv(P220301_M100 + '\\\\GlobalData220301_M100_AreaFit.csv', index_col = 'Ind')  \n",
    "\n",
    "\n",
    "####################################### Mechanics #########################################################################################\n",
    "\n",
    "## Expe 220214 Osmotic Chocs    \n",
    "GD220214_Ct1_Osmo = pd.read_csv(P220214_Ct1_Osmo + '\\\\GlobalData220214_Ct1_Osmo_AreaFit.csv', index_col = 'Ind')   \n",
    "GD220214_Ct2_Osmo = pd.read_csv(P220214_Ct2_Osmo + '\\\\GlobalData220214_Ct2_Osmo_AreaFit.csv', index_col = 'Ind')\n",
    "\n",
    "# Expe 220531 Osmotic Chocs  \n",
    "GD220531_Ct1_Osmo = pd.read_csv(P220531_Ct1_Osmo + '\\\\GlobalData220531_Ct1_Osmo_AreaFit.csv', index_col = 'Ind')   \n",
    "GD220531_Ct2_Osmo = pd.read_csv(P220531_Ct2_Osmo + '\\\\GlobalData220531_Ct2_Osmo_AreaFit.csv', index_col = 'Ind')\n",
    "\n",
    "GD220801_Ct1_Osmo = pd.read_csv(P220801_Ct1_Osmo + '\\\\GlobalData220801_Ct1_Osmo_AreaFit.csv', index_col = 'Ind') \n",
    "GD220801_Ct2_Osmo = pd.read_csv(P220801_Ct2_Osmo + '\\\\GlobalData220801_Ct2_Osmo_AreaFit.csv', index_col = 'Ind')    \n",
    "\n",
    "\n",
    "## Expe 220301 100mM growth Osmotic Chocs    \n",
    "GD220301_Ct_Osmo = pd.read_csv(P220301_Ct_Osmo + '\\\\GlobalData220301_Ct_Osmo_AreaFit.csv', index_col = 'Ind')   \n",
    "GD220301_M100_Osmo = pd.read_csv(P220301_M100_Osmo + '\\\\GlobalData220301_M100_Osmo_AreaFit.csv', index_col = 'Ind')\n",
    "\n",
    "\n",
    "now  = datetime.datetime.now()\n",
    "now_str = now.strftime(\"%d/%m/%Y %H:%M\")\n",
    "print(now_str + '\\nData loaded.')"
   ]
  },
  {
   "cell_type": "code",
   "execution_count": 4,
   "metadata": {},
   "outputs": [],
   "source": [
    "# Colors\n",
    "\n",
    "LightGreen = [0.5, 1, 0.3]\n",
    "Green = [0.3, 0.7, 0.2]\n",
    "DarkGreen = [0.1, 0.4, 0.1]\n",
    "PastelGreen = [0.5, 1, 0.8]\n",
    "DarkPastelGreen = [0.2, 0.6, 0.5]\n",
    "\n",
    "LightRed = [0.8, 0.3, 0.3]\n",
    "Red = [0.6, 0.2, 0.2]\n",
    "DarkRed = [0.4, 0.1, 0.1]\n",
    "\n",
    "LightBlue = [0.3, 0.5, 1]\n",
    "Blue = [0.2, 0.3, 0.7]\n",
    "DarkBlue = [0.1, 0.1, 0.4]\n",
    "\n",
    "DarkPurple = [0.4, 0, 0.3]\n",
    "Purple = [0.55, 0, 0.45]\n",
    "LightPurple = [0.8, 0, 0.7]\n",
    "\n",
    "LightYellow = [0.8, 0.8, 0.2]\n",
    "Yellow = [0.5, 0.5, 0.2]\n",
    "DarkYellow = [0.3, 0.3, 0.1]\n"
   ]
  },
  {
   "cell_type": "markdown",
   "metadata": {},
   "source": [
    "## Growth"
   ]
  },
  {
   "cell_type": "markdown",
   "metadata": {},
   "source": [
    "### Control"
   ]
  },
  {
   "cell_type": "markdown",
   "metadata": {
    "heading_collapsed": true
   },
   "source": [
    "#### 24-01-2022 -> Not used (?)"
   ]
  },
  {
   "cell_type": "code",
   "execution_count": 5,
   "metadata": {
    "hidden": true,
    "scrolled": false
   },
   "outputs": [],
   "source": [
    "# compareGrowth([GD220124_Ct1,GD220124_Ct2],['Ctrl1\\n','Ctrl2\\n'],[DarkBlue, LightBlue], \n",
    "#             PFig, '24-01-2022 - Ranksum', showcurve = True, showbox = True,showhist = True, nbins = 15,indiplots = False,NimgMax = 'max',\n",
    "#             stats='ranksum')"
   ]
  },
  {
   "cell_type": "markdown",
   "metadata": {
    "heading_collapsed": true
   },
   "source": [
    "#### 14-02-2022"
   ]
  },
  {
   "cell_type": "code",
   "execution_count": 6,
   "metadata": {
    "hidden": true,
    "scrolled": false
   },
   "outputs": [],
   "source": [
    "# compareGrowth([GD220214_Ct1,GD220214_Ct2],['Ctrl1\\n','Ctrl2\\n'],[DarkGreen, LightGreen], \n",
    "#             PFig, '14-02-2022 - Ranksum', showcurve = True, showbox = True,showhist = True, nbins = 15,indiplots = False,NimgMax = 'max',\n",
    "#             stats='ranksum')"
   ]
  },
  {
   "cell_type": "markdown",
   "metadata": {
    "heading_collapsed": true
   },
   "source": [
    "#### 31-05-2022"
   ]
  },
  {
   "cell_type": "code",
   "execution_count": 7,
   "metadata": {
    "hidden": true,
    "scrolled": false
   },
   "outputs": [],
   "source": [
    "# compareGrowth([GD220531_Ct1,GD220531_Ct2],['Ctrl1\\n','Ctrl2\\n'],[DarkRed, LightRed], \n",
    "#             PFig, '31-05-2022 - Ranksum', showcurve = True, showbox = True,showhist = True, nbins = 15,indiplots = False,NimgMax = '24h',\n",
    "#             stats='ranksum')"
   ]
  },
  {
   "cell_type": "markdown",
   "metadata": {
    "heading_collapsed": true
   },
   "source": [
    "#### 27-07-2022"
   ]
  },
  {
   "cell_type": "code",
   "execution_count": 8,
   "metadata": {
    "hidden": true,
    "scrolled": false
   },
   "outputs": [],
   "source": [
    "# compareGrowth([GD220727_Hyper,GD220727_Hypo],['Ctrl1\\n','Ctrl2\\n'],[LightGreen, DarkGreen], \n",
    "#             PFig, '27-07-2022 - Ranksum', showcurve = True, showbox = True,showhist = True, nbins = 15,indiplots = False,NimgMax = '24h',\n",
    "#             stats='ranksum')"
   ]
  },
  {
   "cell_type": "markdown",
   "metadata": {},
   "source": [
    "#### 01-08-2022 -> Use Ctrl1 only"
   ]
  },
  {
   "cell_type": "code",
   "execution_count": 9,
   "metadata": {
    "scrolled": false
   },
   "outputs": [],
   "source": [
    "# compareGrowth([GD220801_Ct1,GD220801_Ct2],['Ctrl1\\n','Ctrl2\\n'],[DarkPurple, LightPurple], \n",
    "#             PFig, '01-08-2022 - Ranksum', showcurve = True, showbox = True,showhist = True, nbins = 15,indiplots = False,NimgMax = 'max',\n",
    "#             stats='ranksum')"
   ]
  },
  {
   "cell_type": "markdown",
   "metadata": {},
   "source": [
    "#### All together"
   ]
  },
  {
   "cell_type": "code",
   "execution_count": 10,
   "metadata": {
    "scrolled": false
   },
   "outputs": [],
   "source": [
    "# GD220124 = GD220124_Ct1.append(GD220124_Ct2)\n",
    "GD220214 = GD220214_Ct1.append(GD220214_Ct2)\n",
    "GD220531 = GD220531_Ct1.append(GD220531_Ct2)\n",
    "GD220727 = GD220727_Hyper.append(GD220727_Hypo)\n",
    "GD220801 = GD220801_Ct1\n",
    "\n",
    "GDPooled = GD220214.append(GD220531).append(GD220727).append(GD220801)\n",
    "\n",
    "# n220124 = len(np.unique(GD220124.index))\n",
    "n220214 = len(np.unique(GD220214.index))\n",
    "n220531 = len(np.unique(GD220531.index))\n",
    "n220727 = len(np.unique(GD220727.index))\n",
    "n220801 = len(np.unique(GD220801.index))\n",
    "\n",
    "nPooled = n220214+n220531+n220727+n220801\n"
   ]
  },
  {
   "cell_type": "code",
   "execution_count": 11,
   "metadata": {
    "scrolled": false
   },
   "outputs": [],
   "source": [
    "#GD220124,'Ctrls_0124\\n',Blue, \n",
    "# compareGrowth([GD220214,GD220531,GD220727,GD220801],\n",
    "#             ['0214\\n','0531\\n','0727\\n','0801\\n'],\n",
    "#             [Yellow,Red,Green,Purple],PFig, 'AllExps', \n",
    "#             showcurve = True, showbox = True,showhist = True, nbins = 15,indiplots = False, NimgMax = 'max', stats='Kruskal')\n",
    "\n",
    "\n",
    "# compareGrowth([GDPooled],\n",
    "#             ['Ctrls\\n'],\n",
    "#             ['gray'],PFig, 'PooledExps', \n",
    "#             showcurve = True, showbox = True,showhist = True, nbins = 15,indiplots = False, NimgMax = '24h', stats='ranksum')\n"
   ]
  },
  {
   "cell_type": "code",
   "execution_count": 12,
   "metadata": {},
   "outputs": [
    {
     "name": "stdout",
     "output_type": "stream",
     "text": [
      "Tau for growth : \n",
      "14-02-2022 -> 31.06 ± 0.24 hours\n",
      "31-05-2022 -> 29.36 ± 0.18 hours\n",
      "27-07-2022 -> 30.24 ± 0.26 hours\n",
      "01-08-2022 -> 32.4 ± 0.24 hours\n",
      "Pooled -> 30.73 ± 0.06 hours\n"
     ]
    }
   ],
   "source": [
    "\n",
    "# Tau220124 = np.round(GD220124.loc[GD220124['Img'] == 0,'Tau'].median()/60*100)/100\n",
    "Tau220214 = np.round(GD220214.loc[GD220214['Img'] == 0,'Tau'].median()/60*100)/100\n",
    "Tau220531 = np.round(GD220531.loc[GD220531['Img'] == 0,'Tau'].median()/60*100)/100\n",
    "Tau220727 = np.round(GD220727.loc[GD220727['Img'] == 0,'Tau'].median()/60*100)/100\n",
    "Tau220801 = np.round(GD220801.loc[GD220801['Img'] == 0,'Tau'].median()/60*100)/100\n",
    "\n",
    "TauPooled = np.round(GDPooled.loc[GDPooled['Img'] == 0,'Tau'].median()/60*100)/100\n",
    "\n",
    "# Tau220124ste = np.round(GD220124.loc[GD220124['Img'] == 0,'Tau'].std()/60/n220124*100)/100\n",
    "Tau220214ste = np.round(GD220214.loc[GD220214['Img'] == 0,'Tau'].std()/60/n220214*100)/100\n",
    "Tau220531ste = np.round(GD220531.loc[GD220531['Img'] == 0,'Tau'].std()/60/n220531*100)/100\n",
    "Tau220727ste = np.round(GD220727.loc[GD220727['Img'] == 0,'Tau'].std()/60/n220727*100)/100\n",
    "Tau220801ste = np.round(GD220801.loc[GD220801['Img'] == 0,'Tau'].std()/60/n220801*100)/100\n",
    "\n",
    "TauPooledste = np.round(GDPooled.loc[GDPooled['Img'] == 0,'Tau'].std()/60/nPooled*100)/100\n",
    "\n",
    "print('Tau for growth : ')\n",
    "# print('24-01-2022 -> ' + str(Tau220124) + ' ' + u\"\\u00B1\" + ' ' + str(Tau220124ste) + ' hours' )\n",
    "print('14-02-2022 -> ' + str(Tau220214) + ' ' + u\"\\u00B1\" + ' ' + str(Tau220214ste) + ' hours' )\n",
    "print('31-05-2022 -> ' + str(Tau220531) + ' ' + u\"\\u00B1\" + ' ' + str(Tau220531ste) + ' hours' )\n",
    "print('27-07-2022 -> ' + str(Tau220727) + ' ' + u\"\\u00B1\" + ' ' + str(Tau220727ste) + ' hours' )\n",
    "print('01-08-2022 -> ' + str(Tau220801) + ' ' + u\"\\u00B1\" + ' ' + str(Tau220801ste) + ' hours' )\n",
    "print('Pooled -> ' + str(TauPooled) + ' ' + u\"\\u00B1\" + ' ' + str(TauPooledste) + ' hours' )\n"
   ]
  },
  {
   "cell_type": "code",
   "execution_count": 13,
   "metadata": {},
   "outputs": [
    {
     "name": "stdout",
     "output_type": "stream",
     "text": [
      "Tstart of growth : \n",
      "14-02-2022 -> 4.93 ± 0.05 hours\n",
      "31-05-2022 -> 5.01 ± 0.02 hours\n",
      "27-07-2022 -> 5.28 ± 0.05 hours\n",
      "Pooled -> 5.09 ± 0.01 hours\n"
     ]
    }
   ],
   "source": [
    "\n",
    "# tdeb220124 = np.round(GD220124.loc[GD220124['Img'] == 0,'tdeb'].median()/60*100)/100\n",
    "tdeb220214 = np.round(GD220214.loc[GD220214['Img'] == 0,'tdeb'].median()/60*100)/100\n",
    "tdeb220531 = np.round(GD220531.loc[GD220531['Img'] == 0,'tdeb'].median()/60*100)/100\n",
    "tdeb220727 = np.round(GD220727.loc[GD220727['Img'] == 0,'tdeb'].median()/60*100)/100\n",
    "\n",
    "tdebPooled = np.round(GDPooled.loc[GDPooled['Img'] == 0,'tdeb'].median()/60*100)/100\n",
    "\n",
    "# tdeb220124ste = np.round(GD220124.loc[GD220124['Img'] == 0,'tdeb'].std()/60/n220124*100)/100\n",
    "tdeb220214ste = np.round(GD220214.loc[GD220214['Img'] == 0,'tdeb'].std()/60/n220214*100)/100\n",
    "tdeb220531ste = np.round(GD220531.loc[GD220531['Img'] == 0,'tdeb'].std()/60/n220531*100)/100\n",
    "tdeb220727ste = np.round(GD220727.loc[GD220727['Img'] == 0,'tdeb'].std()/60/n220727*100)/100\n",
    "\n",
    "tdebPooledste = np.round(GDPooled.loc[GDPooled['Img'] == 0,'tdeb'].std()/60/nPooled*100)/100\n",
    "\n",
    "print('Tstart of growth : ')\n",
    "# print('24-01-2022 -> ' + str(tdeb220124) + ' ' + u\"\\u00B1\" + ' ' + str(tdeb220124ste) + ' hours' )\n",
    "print('14-02-2022 -> ' + str(tdeb220214) + ' ' + u\"\\u00B1\" + ' ' + str(tdeb220214ste) + ' hours' )\n",
    "print('31-05-2022 -> ' + str(tdeb220531) + ' ' + u\"\\u00B1\" + ' ' + str(tdeb220531ste) + ' hours' )\n",
    "print('27-07-2022 -> ' + str(tdeb220727) + ' ' + u\"\\u00B1\" + ' ' + str(tdeb220727ste) + ' hours' )\n",
    "print('Pooled -> ' + str(tdebPooled) + ' ' + u\"\\u00B1\" + ' ' + str(tdebPooledste) + ' hours' )"
   ]
  },
  {
   "cell_type": "code",
   "execution_count": 14,
   "metadata": {},
   "outputs": [
    {
     "name": "stdout",
     "output_type": "stream",
     "text": [
      "A0fit of gemmae : \n",
      "14-02-2022 -> 0.27 ± 0.0014 mm²\n",
      "31-05-2022 -> 0.28 ± 0.0016 mm²\n",
      "27-07-2022 -> 0.24 ± 0.0016 mm²\n",
      "Pooled -> 0.26 ± 0.0004 mm²\n"
     ]
    }
   ],
   "source": [
    "# A0fit220124 = np.round(GD220124.loc[GD220124['Img'] == 0,'A0fit'].median()*100)/100\n",
    "A0fit220214 = np.round(GD220214.loc[GD220214['Img'] == 0,'A0fit'].median()*100)/100\n",
    "A0fit220531 = np.round(GD220531.loc[GD220531['Img'] == 0,'A0fit'].median()*100)/100\n",
    "A0fit220727 = np.round(GD220727.loc[GD220727['Img'] == 0,'A0fit'].median()*100)/100\n",
    "\n",
    "A0fitPooled = np.round(GDPooled.loc[GDPooled['Img'] == 0,'A0fit'].median()*100)/100\n",
    "\n",
    "# A0fit220124ste = np.round(GD220124.loc[GD220124['Img'] == 0,'A0fit'].std()/n220124*10000)/10000\n",
    "A0fit220214ste = np.round(GD220214.loc[GD220214['Img'] == 0,'A0fit'].std()/n220214*10000)/10000\n",
    "A0fit220531ste = np.round(GD220531.loc[GD220531['Img'] == 0,'A0fit'].std()/n220531*10000)/10000\n",
    "A0fit220727ste = np.round(GD220727.loc[GD220727['Img'] == 0,'A0fit'].std()/n220727*10000)/10000\n",
    "\n",
    "A0fitPooledste = np.round(GDPooled.loc[GDPooled['Img'] == 0,'A0fit'].std()/nPooled*10000)/10000\n",
    "\n",
    "print('A0fit of gemmae : ')\n",
    "# print('24-01-2022 -> ' + str(A0fit220124) + ' ' + u\"\\u00B1\" + ' ' + str(A0fit220124ste) + ' mm²' )\n",
    "print('14-02-2022 -> ' + str(A0fit220214) + ' ' + u\"\\u00B1\" + ' ' + str(A0fit220214ste) + ' mm²' )\n",
    "print('31-05-2022 -> ' + str(A0fit220531) + ' ' + u\"\\u00B1\" + ' ' + str(A0fit220531ste) + ' mm²' )\n",
    "print('27-07-2022 -> ' + str(A0fit220727) + ' ' + u\"\\u00B1\" + ' ' + str(A0fit220727ste) + ' mm²' )\n",
    "print('Pooled -> ' + str(A0fitPooled) + ' ' + u\"\\u00B1\" + ' ' + str(A0fitPooledste) + ' mm²' )"
   ]
  },
  {
   "cell_type": "code",
   "execution_count": 15,
   "metadata": {},
   "outputs": [
    {
     "name": "stdout",
     "output_type": "stream",
     "text": [
      "% growth at Tstart : \n",
      "14-02-2022 -> 3.3 ± 0.05 %\n",
      "31-05-2022 -> 2.4 ± 0.03 %\n",
      "27-07-2022 -> 4.3 ± 0.06 %\n",
      "Pooled -> 3.1 ± 0.01 %\n"
     ]
    }
   ],
   "source": [
    "\n",
    "# GrowthAtStart_flat220124 = np.round(GD220124.loc[GD220124['Img'] == 0,'GrowthAtStart_flat'].median()*1000)/10\n",
    "GrowthAtStart_flat220214 = np.round(GD220214.loc[GD220214['Img'] == 0,'GrowthAtStart_flat'].median()*1000)/10\n",
    "GrowthAtStart_flat220531 = np.round(GD220531.loc[GD220531['Img'] == 0,'GrowthAtStart_flat'].median()*1000)/10\n",
    "GrowthAtStart_flat220727 = np.round(GD220727.loc[GD220727['Img'] == 0,'GrowthAtStart_flat'].median()*1000)/10\n",
    "\n",
    "GrowthAtStart_flatPooled = np.round(GDPooled.loc[GDPooled['Img'] == 0,'GrowthAtStart_flat'].median()*1000)/10\n",
    "\n",
    "# GrowthAtStart_flat220124ste = np.round(GD220124.loc[GD220124['Img'] == 0,'GrowthAtStart_flat'].std()/n220124*10000)/100\n",
    "GrowthAtStart_flat220214ste = np.round(GD220214.loc[GD220214['Img'] == 0,'GrowthAtStart_flat'].std()/n220214*10000)/100\n",
    "GrowthAtStart_flat220531ste = np.round(GD220531.loc[GD220531['Img'] == 0,'GrowthAtStart_flat'].std()/n220531*10000)/100\n",
    "GrowthAtStart_flat220727ste = np.round(GD220727.loc[GD220727['Img'] == 0,'GrowthAtStart_flat'].std()/n220727*10000)/100\n",
    "\n",
    "GrowthAtStart_flatPooledste = np.round(GDPooled.loc[GDPooled['Img'] == 0,'GrowthAtStart_flat'].std()/nPooled*10000)/100\n",
    "\n",
    "print('% growth at Tstart : ')\n",
    "# print('24-01-2022 -> ' + str(GrowthAtStart_flat220124) + ' ' + u\"\\u00B1\" + ' ' + str(GrowthAtStart_flat220124ste) + ' %' )\n",
    "print('14-02-2022 -> ' + str(GrowthAtStart_flat220214) + ' ' + u\"\\u00B1\" + ' ' + str(GrowthAtStart_flat220214ste) + ' %' )\n",
    "print('31-05-2022 -> ' + str(GrowthAtStart_flat220531) + ' ' + u\"\\u00B1\" + ' ' + str(GrowthAtStart_flat220531ste) + ' %' )\n",
    "print('27-07-2022 -> ' + str(GrowthAtStart_flat220727) + ' ' + u\"\\u00B1\" + ' ' + str(GrowthAtStart_flat220727ste) + ' %' )\n",
    "print('Pooled -> ' + str(GrowthAtStart_flatPooled) + ' ' + u\"\\u00B1\" + ' ' + str(GrowthAtStart_flatPooledste) + ' %' )"
   ]
  },
  {
   "cell_type": "markdown",
   "metadata": {},
   "source": [
    "### Hyper osmotic environement (100mM)"
   ]
  },
  {
   "cell_type": "markdown",
   "metadata": {
    "heading_collapsed": true
   },
   "source": [
    "#### 01-03-2022"
   ]
  },
  {
   "cell_type": "code",
   "execution_count": 16,
   "metadata": {
    "hidden": true,
    "scrolled": false
   },
   "outputs": [],
   "source": [
    "# compareGrowth([GD220301_Ct,GD220301_M100],['Ctrl\\n','100mM\\n'],[PastelGreen, DarkPastelGreen], \n",
    "#             PFig, '01-03-2022 - Ranksum', showcurve = True, showbox = True,showhist = True, nbins = 15,indiplots = False,NimgMax = 'max',\n",
    "#             stats='ranksum')"
   ]
  },
  {
   "cell_type": "markdown",
   "metadata": {},
   "source": [
    "## Mechanics"
   ]
  },
  {
   "cell_type": "markdown",
   "metadata": {},
   "source": [
    "### 14-02-2022"
   ]
  },
  {
   "cell_type": "code",
   "execution_count": 17,
   "metadata": {
    "scrolled": false
   },
   "outputs": [],
   "source": [
    "# compareHydroMech([GD220214_Ct1_Osmo, GD220214_Ct2_Osmo],\n",
    "#              ['Chamber 1','Chamber 2'],[Green,LightGreen], \n",
    "#              PFig, 'OsmChoc_14-02-2022', showbox = True,showhist = True,stats='ranksum');"
   ]
  },
  {
   "cell_type": "markdown",
   "metadata": {},
   "source": [
    "### 31-05-2022"
   ]
  },
  {
   "cell_type": "code",
   "execution_count": 18,
   "metadata": {
    "scrolled": false
   },
   "outputs": [],
   "source": [
    "# compareHydroMech([GD220531_Ct1_Osmo, GD220531_Ct2_Osmo],\n",
    "#              ['Chamber 1','Chamber 2'],[Red,LightRed], \n",
    "#              PFig, 'OsmChoc_31-05-2022', showbox = True,showhist = True,stats='ranksum');"
   ]
  },
  {
   "cell_type": "markdown",
   "metadata": {},
   "source": [
    "### 01-08-2022 -> Use Ctrl1 only"
   ]
  },
  {
   "cell_type": "code",
   "execution_count": 19,
   "metadata": {
    "scrolled": false
   },
   "outputs": [],
   "source": [
    "# compareHydroMech([GD220801_Ct1_Osmo, GD220801_Ct2_Osmo],\n",
    "#              ['Chamber 1','Chamber 2'],[Purple,LightPurple], \n",
    "#              PFig, 'OsmChoc_01-08-2022', showbox = True,showhist = True,stats='ranksum');"
   ]
  },
  {
   "cell_type": "markdown",
   "metadata": {},
   "source": [
    "### AllTogether"
   ]
  },
  {
   "cell_type": "code",
   "execution_count": 20,
   "metadata": {
    "scrolled": false
   },
   "outputs": [],
   "source": [
    "# GD_Osmo = GD220214_Ct1_Osmo.append(GD220214_Ct2_Osmo).append(GD220531_Ct1_Osmo).append(GD220531_Ct2_Osmo).append(GD220801_Ct1_Osmo)\n",
    "\n",
    "# compareHydroMech([GD_Osmo],\n",
    "#              ['All'],[DarkRed], \n",
    "#              PFig, 'OsmChoc_CompRel', showbox = True,showhist = True,stats='ranksum');"
   ]
  },
  {
   "cell_type": "markdown",
   "metadata": {},
   "source": [
    "### Correlations with growth (31-05-22 & 01-08-22)"
   ]
  },
  {
   "cell_type": "code",
   "execution_count": 21,
   "metadata": {
    "scrolled": false
   },
   "outputs": [
    {
     "name": "stdout",
     "output_type": "stream",
     "text": [
      "n = 25\n",
      "n = 26\n",
      "n = 25\n",
      "n = 17\n"
     ]
    },
    {
     "ename": "TypeError",
     "evalue": "xticks(): Parameter 'labels' can't be set without setting 'ticks'",
     "output_type": "error",
     "traceback": [
      "\u001b[1;31m---------------------------------------------------------------------------\u001b[0m",
      "\u001b[1;31mTypeError\u001b[0m                                 Traceback (most recent call last)",
      "\u001b[1;32m<ipython-input-21-4c3dc111e1ef>\u001b[0m in \u001b[0;36m<module>\u001b[1;34m\u001b[0m\n\u001b[1;32m----> 1\u001b[1;33m GOC_Comp([GD220531_Ct1,GD220531_Ct2,GD220801_Ct1,GD220301_Ct],\n\u001b[0m\u001b[0;32m      2\u001b[0m          \u001b[1;33m[\u001b[0m\u001b[0mGD220531_Ct1_Osmo\u001b[0m\u001b[1;33m,\u001b[0m\u001b[0mGD220531_Ct2_Osmo\u001b[0m\u001b[1;33m,\u001b[0m\u001b[0mGD220801_Ct1_Osmo\u001b[0m\u001b[1;33m,\u001b[0m\u001b[0mGD220301_Ct_Osmo\u001b[0m\u001b[1;33m]\u001b[0m\u001b[1;33m,\u001b[0m\u001b[1;33m\u001b[0m\u001b[1;33m\u001b[0m\u001b[0m\n\u001b[0;32m      3\u001b[0m          \u001b[1;33m[\u001b[0m\u001b[1;34m'GR_end'\u001b[0m\u001b[1;33m]\u001b[0m\u001b[1;33m,\u001b[0m\u001b[1;33m[\u001b[0m\u001b[1;34m'Ecomp'\u001b[0m\u001b[1;33m,\u001b[0m\u001b[1;34m'Erel'\u001b[0m\u001b[1;33m]\u001b[0m\u001b[1;33m,\u001b[0m\u001b[1;33m[\u001b[0m\u001b[1;34m'GR_end'\u001b[0m\u001b[1;33m]\u001b[0m\u001b[1;33m,\u001b[0m\u001b[1;33m[\u001b[0m\u001b[1;34m'Ecomp'\u001b[0m\u001b[1;33m,\u001b[0m\u001b[1;34m'Erel'\u001b[0m\u001b[1;33m]\u001b[0m\u001b[1;33m,\u001b[0m\u001b[1;33m\u001b[0m\u001b[1;33m\u001b[0m\u001b[0m\n\u001b[0;32m      4\u001b[0m          ['220531_Ct1','220531_Ct2','220801_Ct1','220301_Ct'],[Red,Green,Blue,Purple,Green,Blue],PlotFits=True)\n",
      "\u001b[1;32m~\\Desktop\\PostDoc\\Code\\PythonFunctions\\Main.py\u001b[0m in \u001b[0;36mGOC_Comp\u001b[1;34m(GD_Growths, GD_OCs, ParamGrowth, ParamOC, labelsGrowth, labelsOC, Titles, colors, **kwargs)\u001b[0m\n\u001b[0;32m    821\u001b[0m     \u001b[0mcolumns\u001b[0m \u001b[1;33m=\u001b[0m \u001b[0mParamGrowth\u001b[0m\u001b[1;33m+\u001b[0m\u001b[0mParamOC\u001b[0m\u001b[1;33m\u001b[0m\u001b[1;33m\u001b[0m\u001b[0m\n\u001b[0;32m    822\u001b[0m \u001b[1;33m\u001b[0m\u001b[0m\n\u001b[1;32m--> 823\u001b[1;33m     \u001b[0mCorr\u001b[0m\u001b[1;33m(\u001b[0m\u001b[0mGDs\u001b[0m\u001b[1;33m,\u001b[0m\u001b[1;33m[\u001b[0m\u001b[1;34m'Pooled'\u001b[0m\u001b[1;33m]\u001b[0m \u001b[1;33m+\u001b[0m \u001b[0mTitles\u001b[0m\u001b[1;33m,\u001b[0m\u001b[0mcolumns\u001b[0m \u001b[1;33m=\u001b[0m \u001b[0mcolumns\u001b[0m\u001b[1;33m,\u001b[0m\u001b[0mcolumnslabels\u001b[0m \u001b[1;33m=\u001b[0m \u001b[0mlabelsGrowth\u001b[0m\u001b[1;33m+\u001b[0m\u001b[0mlabelsOC\u001b[0m\u001b[1;33m,\u001b[0m\u001b[0mPlotFits\u001b[0m \u001b[1;33m=\u001b[0m \u001b[0mPlotFits\u001b[0m\u001b[1;33m,\u001b[0m\u001b[0mcolors\u001b[0m\u001b[1;33m=\u001b[0m\u001b[0mcolors\u001b[0m\u001b[1;33m)\u001b[0m\u001b[1;33m\u001b[0m\u001b[1;33m\u001b[0m\u001b[0m\n\u001b[0m\u001b[0;32m    824\u001b[0m \u001b[1;33m\u001b[0m\u001b[0m\n\u001b[0;32m    825\u001b[0m \u001b[1;33m\u001b[0m\u001b[0m\n",
      "\u001b[1;32m~\\Desktop\\PostDoc\\Code\\PythonFunctions\\StatsFunctions.py\u001b[0m in \u001b[0;36mCorr\u001b[1;34m(GDs, labels, **kwargs)\u001b[0m\n\u001b[0;32m     90\u001b[0m         \u001b[0mmask\u001b[0m\u001b[1;33m[\u001b[0m\u001b[0mnp\u001b[0m\u001b[1;33m.\u001b[0m\u001b[0mtril_indices_from\u001b[0m\u001b[1;33m(\u001b[0m\u001b[0mmask\u001b[0m\u001b[1;33m,\u001b[0m\u001b[0mk\u001b[0m\u001b[1;33m=\u001b[0m\u001b[1;33m-\u001b[0m\u001b[1;36m1\u001b[0m\u001b[1;33m)\u001b[0m\u001b[1;33m]\u001b[0m \u001b[1;33m=\u001b[0m \u001b[1;32mTrue\u001b[0m\u001b[1;33m\u001b[0m\u001b[1;33m\u001b[0m\u001b[0m\n\u001b[0;32m     91\u001b[0m         \u001b[0msns\u001b[0m\u001b[1;33m.\u001b[0m\u001b[0mheatmap\u001b[0m\u001b[1;33m(\u001b[0m\u001b[0mcorrMat\u001b[0m\u001b[1;33m,\u001b[0m\u001b[0mmask\u001b[0m \u001b[1;33m=\u001b[0m \u001b[0mmask\u001b[0m\u001b[1;33m,\u001b[0m\u001b[0msquare\u001b[0m\u001b[1;33m=\u001b[0m\u001b[1;32mTrue\u001b[0m\u001b[1;33m,\u001b[0m\u001b[0mvmin\u001b[0m\u001b[1;33m=\u001b[0m\u001b[1;33m-\u001b[0m\u001b[1;36m1\u001b[0m\u001b[1;33m,\u001b[0m\u001b[0mvmax\u001b[0m\u001b[1;33m=\u001b[0m\u001b[1;36m1\u001b[0m\u001b[1;33m,\u001b[0m\u001b[0mannot\u001b[0m\u001b[1;33m=\u001b[0m\u001b[1;32mTrue\u001b[0m\u001b[1;33m,\u001b[0m\u001b[0mfmt\u001b[0m\u001b[1;33m=\u001b[0m\u001b[1;34m\".3f\"\u001b[0m\u001b[1;33m,\u001b[0m\u001b[0mannot_kws\u001b[0m\u001b[1;33m=\u001b[0m\u001b[1;33m{\u001b[0m\u001b[1;34m\"size\"\u001b[0m\u001b[1;33m:\u001b[0m\u001b[1;36m8\u001b[0m\u001b[1;33m}\u001b[0m\u001b[1;33m)\u001b[0m \u001b[1;31m#,cmap = 'YlGnBu'\u001b[0m\u001b[1;33m\u001b[0m\u001b[1;33m\u001b[0m\u001b[0m\n\u001b[1;32m---> 92\u001b[1;33m         \u001b[0mplt\u001b[0m\u001b[1;33m.\u001b[0m\u001b[0mxticks\u001b[0m\u001b[1;33m(\u001b[0m\u001b[0mlabels\u001b[0m \u001b[1;33m=\u001b[0m \u001b[0mlabels\u001b[0m\u001b[1;33m)\u001b[0m\u001b[1;33m\u001b[0m\u001b[1;33m\u001b[0m\u001b[0m\n\u001b[0m\u001b[0;32m     93\u001b[0m         \u001b[0mplt\u001b[0m\u001b[1;33m.\u001b[0m\u001b[0myticks\u001b[0m\u001b[1;33m(\u001b[0m\u001b[0mlabels\u001b[0m \u001b[1;33m=\u001b[0m \u001b[0mlabels\u001b[0m\u001b[1;33m)\u001b[0m\u001b[1;33m\u001b[0m\u001b[1;33m\u001b[0m\u001b[0m\n\u001b[0;32m     94\u001b[0m \u001b[1;33m\u001b[0m\u001b[0m\n",
      "\u001b[1;32m~\\anaconda3\\envs\\JupyterVal310122\\lib\\site-packages\\matplotlib\\pyplot.py\u001b[0m in \u001b[0;36mxticks\u001b[1;34m(ticks, labels, **kwargs)\u001b[0m\n\u001b[0;32m   1649\u001b[0m         \u001b[0mlocs\u001b[0m \u001b[1;33m=\u001b[0m \u001b[0max\u001b[0m\u001b[1;33m.\u001b[0m\u001b[0mget_xticks\u001b[0m\u001b[1;33m(\u001b[0m\u001b[1;33m)\u001b[0m\u001b[1;33m\u001b[0m\u001b[1;33m\u001b[0m\u001b[0m\n\u001b[0;32m   1650\u001b[0m         \u001b[1;32mif\u001b[0m \u001b[0mlabels\u001b[0m \u001b[1;32mis\u001b[0m \u001b[1;32mnot\u001b[0m \u001b[1;32mNone\u001b[0m\u001b[1;33m:\u001b[0m\u001b[1;33m\u001b[0m\u001b[1;33m\u001b[0m\u001b[0m\n\u001b[1;32m-> 1651\u001b[1;33m             raise TypeError(\"xticks(): Parameter 'labels' can't be set \"\n\u001b[0m\u001b[0;32m   1652\u001b[0m                             \"without setting 'ticks'\")\n\u001b[0;32m   1653\u001b[0m     \u001b[1;32melse\u001b[0m\u001b[1;33m:\u001b[0m\u001b[1;33m\u001b[0m\u001b[1;33m\u001b[0m\u001b[0m\n",
      "\u001b[1;31mTypeError\u001b[0m: xticks(): Parameter 'labels' can't be set without setting 'ticks'"
     ]
    },
    {
     "data": {
      "image/png": "[encoded data removed]",
      "text/plain": [
       "<Figure size 1500x1000 with 2 Axes>"
      ]
     },
     "metadata": {
      "needs_background": "dark"
     },
     "output_type": "display_data"
    }
   ],
   "source": [
    "GOC_Comp([GD220531_Ct1,GD220531_Ct2,GD220801_Ct1,GD220301_Ct],\n",
    "         [GD220531_Ct1_Osmo,GD220531_Ct2_Osmo,GD220801_Ct1_Osmo,GD220301_Ct_Osmo],\n",
    "         ['GR_end'],['Ecomp','Erel'],['GrowthRate'],['Ecomp','Erel'],\n",
    "         ['220531_Ct1','220531_Ct2','220801_Ct1','220301_Ct'],[Red,Green,Blue,Purple,Green,Blue],PlotFits=True)"
   ]
  },
  {
   "cell_type": "code",
   "execution_count": null,
   "metadata": {},
   "outputs": [],
   "source": []
  }
 ],
 "metadata": {
  "kernelspec": {
   "display_name": "Python 3",
   "language": "python",
   "name": "python3"
  },
  "language_info": {
   "codemirror_mode": {
    "name": "ipython",
    "version": 3
   },
   "file_extension": ".py",
   "mimetype": "text/x-python",
   "name": "python",
   "nbconvert_exporter": "python",
   "pygments_lexer": "ipython3",
   "version": "3.8.5"
  },
  "toc": {
   "base_numbering": 1,
   "nav_menu": {},
   "number_sections": true,
   "sideBar": true,
   "skip_h1_title": true,
   "title_cell": "Table of Contents",
   "title_sidebar": "Contents",
   "toc_cell": false,
   "toc_position": {
    "height": "calc(100% - 180px)",
    "left": "10px",
    "top": "150px",
    "width": "352px"
   },
   "toc_section_display": true,
   "toc_window_display": true
  }
 },
 "nbformat": 4,
 "nbformat_minor": 4
}
