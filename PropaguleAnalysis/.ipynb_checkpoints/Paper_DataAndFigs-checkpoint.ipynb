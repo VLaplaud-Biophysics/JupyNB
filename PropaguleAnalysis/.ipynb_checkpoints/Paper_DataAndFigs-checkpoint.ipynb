{
 "cells": [
  {
   "cell_type": "markdown",
   "metadata": {},
   "source": [
    "# Paper data and figures"
   ]
  },
  {
   "cell_type": "markdown",
   "metadata": {},
   "source": [
    "## Documentation and Imports\n",
    "\n",
    "\n",
    "Created on 03-08-2022\n",
    "\n",
    "Author: Valentin Laplaud\n"
   ]
  },
  {
   "cell_type": "code",
   "execution_count": null,
   "metadata": {
    "code_folding": []
   },
   "outputs": [],
   "source": [
    "## Clean up before script start \n",
    "\n",
    "for element in dir():\n",
    "\n",
    "    if element[0:1] != \"_\":\n",
    "\n",
    "        del globals()[element]\n",
    "\n",
    "import gc\n",
    "gc.collect()\n",
    "\n",
    "\n",
    "print('\\033[1m' + '\\033[4m' + '\\nRunning :  ''PaperDataAndFigs''\\n' + '\\033[0m')\n",
    "\n",
    "import datetime\n",
    "\n",
    "# plotting stuff\n",
    "import matplotlib.pyplot as plt\n",
    "import matplotlib as mpl\n",
    "mpl.use('tkagg')\n",
    "%matplotlib inline\n",
    "\n",
    "COLOR = 'black'\n",
    "COLOR2 = 'white'\n",
    "\n",
    "mpl.rcParams['text.color'] = COLOR\n",
    "mpl.rcParams['axes.labelcolor'] = COLOR\n",
    "mpl.rcParams['xtick.color'] = COLOR\n",
    "mpl.rcParams['ytick.color'] = COLOR\n",
    "mpl.rcParams['axes.edgecolor'] = COLOR\n",
    "mpl.rcParams['axes.labelsize'] =  'large'\n",
    "\n",
    "mpl.rcParams[\"figure.facecolor\"] = COLOR2\n",
    "mpl.rcParams[\"axes.facecolor\"] = COLOR2\n",
    "mpl.rcParams[\"savefig.facecolor\"] = COLOR2\n",
    "mpl.rcParams['axes.facecolor'] = COLOR2\n",
    "\n",
    "# numbers handling\n",
    "import numpy as np\n",
    "# import numpy.matlib as mtl\n",
    "import pandas as pd\n",
    "\n",
    "# to hide known warnings\n",
    "import warnings\n",
    "warnings.filterwarnings(\"ignore\")\n",
    "\n",
    "# General system functions\n",
    "import os\n",
    "import shutil\n",
    "import sys\n",
    "\n",
    "import time\n",
    "\n",
    "# my functions\n",
    "sys.path.append(r'd:\\Users\\laplaud\\Desktop\\PostDoc\\Code\\PythonFunctions\\\\')\n",
    "import VallapFunc as vf\n",
    "from StatsFunctions import plotSig, Corr\n",
    "from Main import compareGrowth, compareHydroMech, GOC_Comp\n"
   ]
  },
  {
   "cell_type": "markdown",
   "metadata": {},
   "source": [
    "## Data loading and color definition"
   ]
  },
  {
   "cell_type": "code",
   "execution_count": null,
   "metadata": {
    "code_folding": []
   },
   "outputs": [],
   "source": [
    "%run d:\\Users\\laplaud\\Desktop\\PostDoc\\Code\\PythonFunctions\\ExperimentList.py"
   ]
  },
  {
   "cell_type": "markdown",
   "metadata": {},
   "source": [
    "### Loading"
   ]
  },
  {
   "cell_type": "code",
   "execution_count": null,
   "metadata": {
    "scrolled": false,
    "tags": []
   },
   "outputs": [],
   "source": [
    "####################################### Growth #########################################################################################\n",
    "\n",
    "## Expe 220214 Ctrl growth\n",
    "GD220214_Ct1 = pd.read_csv(P220214_Ct1 + '\\\\GlobalData220214_Ct1_AreaFit.csv', index_col = 'Ind') \n",
    "GD220214_Ct2 = pd.read_csv(P220214_Ct2 + '\\\\GlobalData220214_Ct2_AreaFit.csv', index_col = 'Ind')      \n",
    "\n",
    "# Expe 220531 Ctrl growth\n",
    "GD220531_Ct1 = pd.read_csv(P220531_Ct1 + '\\\\GlobalData220531_Ct1_AreaFit.csv', index_col = 'Ind') \n",
    "GD220531_Ct2 = pd.read_csv(P220531_Ct2 + '\\\\GlobalData220531_Ct2_AreaFit.csv', index_col = 'Ind')      \n",
    "\n",
    "## Expe 220727 Ctrl growth\n",
    "GD220727_Hyper = pd.read_csv(P220727_Hyper + '\\\\GlobalData220727_Hyper_AreaFit.csv', index_col = 'Ind') \n",
    "GD220727_Hypo = pd.read_csv(P220727_Hypo + '\\\\GlobalData220727_Hypo_AreaFit.csv', index_col = 'Ind')  \n",
    "\n",
    "# Expe 220801 Ctrl growth\n",
    "GD220801_Ct1 = pd.read_csv(P220801_Ct1 + '\\\\GlobalData220801_Ct1_AreaFit.csv', index_col = 'Ind') \n",
    "GD220801_Ct2 = pd.read_csv(P220801_Ct2 + '\\\\GlobalData220801_Ct2_AreaFit.csv', index_col = 'Ind')  \n",
    "\n",
    "## Expe 220301 100mM growth\n",
    "GD220301_Ct = pd.read_csv(P220301_Ct + '\\\\GlobalData220301_Ct_AreaFit.csv', index_col = 'Ind') \n",
    "GD220301_100mM = pd.read_csv(P220301_M100 + '\\\\GlobalData220301_M100_AreaFit.csv', index_col = 'Ind') \n",
    "\n",
    "## Expe 220808 100mM growth\n",
    "GD220808_Ct = pd.read_csv(P220808_Ct + '\\\\GlobalData220808_Ct_AreaFit.csv', index_col = 'Ind') \n",
    "GD220808_100mM = pd.read_csv(P220808_100mM + '\\\\GlobalData220808_100mM_AreaFit.csv', index_col = 'Ind') \n",
    "\n",
    "## Expe 220928 100mM growth\n",
    "GD220928_Ct = pd.read_csv(P220928_Ct + '\\\\GlobalData220928_Ct_AreaFit.csv', index_col = 'Ind') \n",
    "GD220928_100mM = pd.read_csv(P220928_100mM + '\\\\GlobalData220928_100mM_AreaFit.csv', index_col = 'Ind') \n",
    "\n",
    "## Expe 221025 100mM growth\n",
    "GD221025_Ct = pd.read_csv(P221025_Ct + '\\\\GlobalData221025_Ct_AreaFit.csv', index_col = 'Ind') \n",
    "GD221025_100mM = pd.read_csv(P221025_100mM + '\\\\GlobalData221025_100mM_AreaFit.csv', index_col = 'Ind') \n",
    "\n",
    "\n",
    "####################################### Mechanics #########################################################################################\n",
    "\n",
    "## Expe 220214 Osmotic Chocs    \n",
    "GD220214_Ct1_Osmo = pd.read_csv(P220214_Ct1_Osmo + '\\\\GlobalData220214_Ct1_Osmo_AreaFit.csv', index_col = 'Ind')   \n",
    "GD220214_Ct2_Osmo = pd.read_csv(P220214_Ct2_Osmo + '\\\\GlobalData220214_Ct2_Osmo_AreaFit.csv', index_col = 'Ind')\n",
    "\n",
    "# Expe 220531 Osmotic Chocs  \n",
    "GD220531_Ct1_Osmo = pd.read_csv(P220531_Ct1_Osmo + '\\\\GlobalData220531_Ct1_Osmo_AreaFit.csv', index_col = 'Ind')   \n",
    "GD220531_Ct2_Osmo = pd.read_csv(P220531_Ct2_Osmo + '\\\\GlobalData220531_Ct2_Osmo_AreaFit.csv', index_col = 'Ind')\n",
    "\n",
    "# Expe 220801 Osmotic Chocs  \n",
    "GD220801_Ct1_Osmo = pd.read_csv(P220801_Ct1_Osmo + '\\\\GlobalData220801_Ct1_Osmo_AreaFit.csv', index_col = 'Ind') \n",
    "GD220801_Ct2_Osmo = pd.read_csv(P220801_Ct2_Osmo + '\\\\GlobalData220801_Ct2_Osmo_AreaFit.csv', index_col = 'Ind')    \n",
    "\n",
    "\n",
    "## Expe 220301 100mM growth Osmotic Chocs    \n",
    "GD220301_Ct_Osmo = pd.read_csv(P220301_Ct_Osmo + '\\\\GlobalData220301_Ct_Osmo_AreaFit.csv', index_col = 'Ind')   \n",
    "GD220301_100mM_Osmo = pd.read_csv(P220301_M100_Osmo + '\\\\GlobalData220301_M100_Osmo_AreaFit.csv', index_col = 'Ind')\n",
    "\n",
    "## Expe 220808 100mM growth  Osmotic Chocs   \n",
    "GD220808_Ct_Osmo = pd.read_csv(P220808_Ct_Osmo + '\\\\GlobalData220808_Ct_Osmo_AreaFit.csv', index_col = 'Ind') \n",
    "GD220808_100mM_Osmo = pd.read_csv(P220808_100mM_Osmo + '\\\\GlobalData220808_100mM_Osmo_AreaFit.csv', index_col = 'Ind') \n",
    "\n",
    "## Expe 220928 100mM growth\n",
    "GD220928_Ct_Osmo = pd.read_csv(P220928_Ct_Osmo + '\\\\GlobalData220928_Ct_Osmo_AreaFit.csv', index_col = 'Ind') \n",
    "GD220928_100mM_Osmo = pd.read_csv(P220928_100mM_Osmo + '\\\\GlobalData220928_100mM_Osmo_AreaFit.csv', index_col = 'Ind') \n",
    "\n",
    "## Expe 221025 100mM growth\n",
    "GD221025_Ct_Osmo = pd.read_csv(P221025_Ct_Osmo + '\\\\GlobalData221025_Ct_Osmo_AreaFit.csv', index_col = 'Ind') \n",
    "GD221025_100mM_Osmo = pd.read_csv(P221025_100mM_Osmo + '\\\\GlobalData221025_100mM_Osmo_AreaFit.csv', index_col = 'Ind')  \n",
    "\n",
    "\n",
    "now  = datetime.datetime.now()\n",
    "now_str = now.strftime(\"%d/%m/%Y %H:%M\")\n",
    "print(now_str + '\\nData loaded.')"
   ]
  },
  {
   "cell_type": "markdown",
   "metadata": {},
   "source": [
    "### Managing data for growth"
   ]
  },
  {
   "cell_type": "code",
   "execution_count": null,
   "metadata": {},
   "outputs": [],
   "source": [
    "GD220214 = GD220214_Ct1.append(GD220214_Ct2)\n",
    "GD220214.loc[:,'Expe'] = '22-02-14'\n",
    "GD220531 = GD220531_Ct1.append(GD220531_Ct2)\n",
    "GD220531.loc[:,'Expe'] = '22-05-31'\n",
    "GD220727 = GD220727_Hyper.append(GD220727_Hypo)\n",
    "GD220727.loc[:,'Expe'] = '22-07-27'\n",
    "GD220801 = GD220801_Ct1\n",
    "GD220801.loc[:,'Expe'] = '22-08-01'\n",
    "GD221025 = GD221025_Ct\n",
    "GD221025.loc[:,'Expe'] = '22-10-25'\n",
    "\n",
    "GDPooled = GD220214.append(GD220531).append(GD220727).append(GD220801).append(GD221025)\n",
    "\n",
    "n220214 = len(np.unique(GD220214.index))\n",
    "n220531 = len(np.unique(GD220531.index))\n",
    "n220727 = len(np.unique(GD220727.index))\n",
    "n220801 = len(np.unique(GD220801.index))\n",
    "n221025 = len(np.unique(GD221025.index))\n",
    "\n",
    "nPooled = n220214+n220531+n220727+n220801+n221025\n"
   ]
  },
  {
   "cell_type": "markdown",
   "metadata": {},
   "source": [
    "### Colors"
   ]
  },
  {
   "cell_type": "code",
   "execution_count": null,
   "metadata": {},
   "outputs": [],
   "source": [
    "\n",
    "LightGreen = np.divide([68, 170, 153],255)\n",
    "Green = np.divide([17, 119, 51],255)\n",
    "\n",
    "LightBlue = np.divide([136, 204, 238],255)\n",
    "Blue = np.divide([51, 34, 136],255)\n",
    "\n",
    "Purple = np.divide([136, 34, 85],255)\n",
    "LightPurple = np.divide([170, 68, 153],255)\n",
    "\n",
    "LightYellow = np.divide([221, 204, 119],255)\n",
    "Yellow = np.divide([173, 152, 21],255)\n",
    "\n",
    "LightRed = np.divide([204, 102, 119],255)\n",
    "Red = np.divide([179, 9, 9],255)\n"
   ]
  },
  {
   "cell_type": "markdown",
   "metadata": {},
   "source": [
    "## Growth"
   ]
  },
  {
   "cell_type": "markdown",
   "metadata": {},
   "source": [
    "### Control"
   ]
  },
  {
   "cell_type": "markdown",
   "metadata": {
    "heading_collapsed": true
   },
   "source": [
    "#### 14-02-2022"
   ]
  },
  {
   "cell_type": "code",
   "execution_count": null,
   "metadata": {
    "hidden": true,
    "scrolled": false
   },
   "outputs": [],
   "source": [
    "# compareGrowth([GD220214_Ct1,GD220214_Ct2],['Ctrl1\\n','Ctrl2\\n'],['gray', 'gray'], \n",
    "#             PFig, '14-02-2022 - Ranksum', showcurve = True, showbox = True,showhist = True, nbins = 15,indiplots = False,NimgMax = 'max',\n",
    "#             stats='ranksum')"
   ]
  },
  {
   "cell_type": "markdown",
   "metadata": {
    "heading_collapsed": true
   },
   "source": [
    "#### 31-05-2022"
   ]
  },
  {
   "cell_type": "code",
   "execution_count": null,
   "metadata": {
    "hidden": true,
    "scrolled": false
   },
   "outputs": [],
   "source": [
    "# compareGrowth([GD220531_Ct1,GD220531_Ct2],['Ctrl1\\n','Ctrl2\\n'],['gray','gray'], \n",
    "#             PFig, '31-05-2022 - Ranksum', showcurve = True, showbox = True,showhist = True, nbins = 15,indiplots = False,NimgMax = '24h',\n",
    "#             stats='ranksum')"
   ]
  },
  {
   "cell_type": "markdown",
   "metadata": {
    "heading_collapsed": true
   },
   "source": [
    "#### 27-07-2022"
   ]
  },
  {
   "cell_type": "code",
   "execution_count": null,
   "metadata": {
    "hidden": true,
    "scrolled": false
   },
   "outputs": [],
   "source": [
    "# compareGrowth([GD220727_Hyper,GD220727_Hypo],['Ctrl1\\n','Ctrl2\\n'],['gray','gray'], \n",
    "#             PFig, '27-07-2022 - Ranksum', showcurve = True, showbox = True,showhist = True, nbins = 15,indiplots = False,NimgMax = '24h',\n",
    "#             stats='ranksum')"
   ]
  },
  {
   "cell_type": "markdown",
   "metadata": {
    "heading_collapsed": true
   },
   "source": [
    "#### 01-08-2022 (Ctrl1)"
   ]
  },
  {
   "cell_type": "code",
   "execution_count": null,
   "metadata": {
    "hidden": true,
    "scrolled": false
   },
   "outputs": [],
   "source": [
    "# compareGrowth([GD220801_Ct1],['Ctrl1\\n'],['gray'], \n",
    "#             PFig, '01-08-2022 - Ranksum', showcurve = True, showbox = True,showhist = True, nbins = 15,indiplots = False,NimgMax = 'max',\n",
    "#             stats='ranksum')"
   ]
  },
  {
   "cell_type": "markdown",
   "metadata": {},
   "source": [
    "#### All together"
   ]
  },
  {
   "cell_type": "markdown",
   "metadata": {
    "heading_collapsed": true
   },
   "source": [
    "##### Growth quantif"
   ]
  },
  {
   "cell_type": "code",
   "execution_count": null,
   "metadata": {
    "hidden": true,
    "scrolled": false
   },
   "outputs": [],
   "source": [
    "# compareGrowth([GD220214,GD220531,GD220727,GD220801,GD221025_Ct],\n",
    "#             ['0214\\n','0531\\n','0727\\n','0801\\n','1025\\n'],\n",
    "#             ['gray','gray','gray','gray','gray'],PFig, 'AllExps', \n",
    "#             showcurve = True, showbox = True,showhist = True, nbins = 15,indiplots = False, NimgMax = 'max', stats='kruskal')\n",
    "\n",
    "# compareGrowth([GDPooled],\n",
    "#             ['Ctrls\\n'],\n",
    "#             ['gray'],PFig, 'PooledExps', \n",
    "#             showcurve = True, showbox = False,showhist = False, nbins = 15,indiplots = False, NimgMax = 'max', stats='ranksum')\n"
   ]
  },
  {
   "cell_type": "markdown",
   "metadata": {
    "heading_collapsed": true
   },
   "source": [
    "##### Correlations (Growth rate local vs global, effect of position in chip)"
   ]
  },
  {
   "cell_type": "code",
   "execution_count": null,
   "metadata": {
    "hidden": true,
    "scrolled": false
   },
   "outputs": [],
   "source": [
    "\n",
    "# Corr([GD220214,GD220531,GD220727,GD220801],['GD220214','GD220531','GD220727','GD220801'],\n",
    "#      columns = ['GR_end','Tau'],columnslabels = ['GR_end (day-1)','Tau'],PlotFits = True,\n",
    "#      colors=[Red,Green,Yellow,Purple], corrmethod ='pearson')\n",
    "\n",
    "\n",
    "# Corr([GDPooled,GD220214,GD220531,GD220727,GD220801],['Pooled','GD220214','GD220531','GD220727','GD220801'],\n",
    "#      columns = ['ChipRow','tdeb','Tau'],columnslabels = ['Position','Tstart','Tau'],PlotFits = True,\n",
    "#      colors=['gray',Red,Green,Blue,Yellow], corrmethod ='pearson')\n"
   ]
  },
  {
   "cell_type": "markdown",
   "metadata": {
    "heading_collapsed": true
   },
   "source": [
    "##### Values of quantificators"
   ]
  },
  {
   "cell_type": "code",
   "execution_count": null,
   "metadata": {
    "hidden": true
   },
   "outputs": [],
   "source": [
    "\n",
    "# Tau220214 = np.round(GD220214.loc[GD220214['Img'] == 0,'Tau'].median()/60*100)/100\n",
    "# Tau220531 = np.round(GD220531.loc[GD220531['Img'] == 0,'Tau'].median()/60*100)/100\n",
    "# Tau220727 = np.round(GD220727.loc[GD220727['Img'] == 0,'Tau'].median()/60*100)/100\n",
    "# Tau220801 = np.round(GD220801.loc[GD220801['Img'] == 0,'Tau'].median()/60*100)/100\n",
    "\n",
    "# TauPooled = np.round(GDPooled.loc[GDPooled['Img'] == 0,'Tau'].median()/60*100)/100\n",
    "\n",
    "# Tau220214ste = np.round(GD220214.loc[GD220214['Img'] == 0,'Tau'].std()/60/n220214*100)/100\n",
    "# Tau220531ste = np.round(GD220531.loc[GD220531['Img'] == 0,'Tau'].std()/60/n220531*100)/100\n",
    "# Tau220727ste = np.round(GD220727.loc[GD220727['Img'] == 0,'Tau'].std()/60/n220727*100)/100\n",
    "# Tau220801ste = np.round(GD220801.loc[GD220801['Img'] == 0,'Tau'].std()/60/n220801*100)/100\n",
    "\n",
    "# TauPooledste = np.round(GDPooled.loc[GDPooled['Img'] == 0,'Tau'].std()/60/nPooled*100)/100\n",
    "\n",
    "# print('Tau for growth : ')\n",
    "# print('14-02-2022 -> ' + str(Tau220214) + ' ' + u\"\\u00B1\" + ' ' + str(Tau220214ste) + ' hours' )\n",
    "# print('31-05-2022 -> ' + str(Tau220531) + ' ' + u\"\\u00B1\" + ' ' + str(Tau220531ste) + ' hours' )\n",
    "# print('27-07-2022 -> ' + str(Tau220727) + ' ' + u\"\\u00B1\" + ' ' + str(Tau220727ste) + ' hours' )\n",
    "# print('01-08-2022 -> ' + str(Tau220801) + ' ' + u\"\\u00B1\" + ' ' + str(Tau220801ste) + ' hours' )\n",
    "# print('Pooled -> ' + str(TauPooled) + ' ' + u\"\\u00B1\" + ' ' + str(TauPooledste) + ' hours' )\n"
   ]
  },
  {
   "cell_type": "code",
   "execution_count": null,
   "metadata": {
    "hidden": true
   },
   "outputs": [],
   "source": [
    "\n",
    "# tdeb220214 = np.round(GD220214.loc[GD220214['Img'] == 0,'tdeb'].median()/60*100)/100\n",
    "# tdeb220531 = np.round(GD220531.loc[GD220531['Img'] == 0,'tdeb'].median()/60*100)/100\n",
    "# tdeb220727 = np.round(GD220727.loc[GD220727['Img'] == 0,'tdeb'].median()/60*100)/100\n",
    "\n",
    "# tdebPooled = np.round(GDPooled.loc[GDPooled['Img'] == 0,'tdeb'].median()/60*100)/100\n",
    "\n",
    "# tdeb220214ste = np.round(GD220214.loc[GD220214['Img'] == 0,'tdeb'].std()/60/n220214*100)/100\n",
    "# tdeb220531ste = np.round(GD220531.loc[GD220531['Img'] == 0,'tdeb'].std()/60/n220531*100)/100\n",
    "# tdeb220727ste = np.round(GD220727.loc[GD220727['Img'] == 0,'tdeb'].std()/60/n220727*100)/100\n",
    "\n",
    "# tdebPooledste = np.round(GDPooled.loc[GDPooled['Img'] == 0,'tdeb'].std()/60/nPooled*100)/100\n",
    "\n",
    "# print('Tstart of growth : ')\n",
    "# print('14-02-2022 -> ' + str(tdeb220214) + ' ' + u\"\\u00B1\" + ' ' + str(tdeb220214ste) + ' hours' )\n",
    "# print('31-05-2022 -> ' + str(tdeb220531) + ' ' + u\"\\u00B1\" + ' ' + str(tdeb220531ste) + ' hours' )\n",
    "# print('27-07-2022 -> ' + str(tdeb220727) + ' ' + u\"\\u00B1\" + ' ' + str(tdeb220727ste) + ' hours' )\n",
    "# print('Pooled -> ' + str(tdebPooled) + ' ' + u\"\\u00B1\" + ' ' + str(tdebPooledste) + ' hours' )"
   ]
  },
  {
   "cell_type": "code",
   "execution_count": null,
   "metadata": {
    "hidden": true
   },
   "outputs": [],
   "source": [
    "# A0fit220214 = np.round(GD220214.loc[GD220214['Img'] == 0,'A0fit'].median()*100)/100\n",
    "# A0fit220531 = np.round(GD220531.loc[GD220531['Img'] == 0,'A0fit'].median()*100)/100\n",
    "# A0fit220727 = np.round(GD220727.loc[GD220727['Img'] == 0,'A0fit'].median()*100)/100\n",
    "\n",
    "# A0fitPooled = np.round(GDPooled.loc[GDPooled['Img'] == 0,'A0fit'].median()*100)/100\n",
    "\n",
    "# A0fit220214ste = np.round(GD220214.loc[GD220214['Img'] == 0,'A0fit'].std()/n220214*10000)/10000\n",
    "# A0fit220531ste = np.round(GD220531.loc[GD220531['Img'] == 0,'A0fit'].std()/n220531*10000)/10000\n",
    "# A0fit220727ste = np.round(GD220727.loc[GD220727['Img'] == 0,'A0fit'].std()/n220727*10000)/10000\n",
    "\n",
    "# A0fitPooledste = np.round(GDPooled.loc[GDPooled['Img'] == 0,'A0fit'].std()/nPooled*10000)/10000\n",
    "\n",
    "# print('A0fit of gemmae : ')\n",
    "# print('14-02-2022 -> ' + str(A0fit220214) + ' ' + u\"\\u00B1\" + ' ' + str(A0fit220214ste) + ' mm²' )\n",
    "# print('31-05-2022 -> ' + str(A0fit220531) + ' ' + u\"\\u00B1\" + ' ' + str(A0fit220531ste) + ' mm²' )\n",
    "# print('27-07-2022 -> ' + str(A0fit220727) + ' ' + u\"\\u00B1\" + ' ' + str(A0fit220727ste) + ' mm²' )\n",
    "# print('Pooled -> ' + str(A0fitPooled) + ' ' + u\"\\u00B1\" + ' ' + str(A0fitPooledste) + ' mm²' )"
   ]
  },
  {
   "cell_type": "code",
   "execution_count": null,
   "metadata": {
    "hidden": true
   },
   "outputs": [],
   "source": [
    "\n",
    "# GrowthAtStart_flat220214 = np.round(GD220214.loc[GD220214['Img'] == 0,'GrowthAtStart_flat'].median()*1000)/10\n",
    "# GrowthAtStart_flat220531 = np.round(GD220531.loc[GD220531['Img'] == 0,'GrowthAtStart_flat'].median()*1000)/10\n",
    "# GrowthAtStart_flat220727 = np.round(GD220727.loc[GD220727['Img'] == 0,'GrowthAtStart_flat'].median()*1000)/10\n",
    "\n",
    "# GrowthAtStart_flatPooled = np.round(GDPooled.loc[GDPooled['Img'] == 0,'GrowthAtStart_flat'].median()*1000)/10\n",
    "\n",
    "# GrowthAtStart_flat220214ste = np.round(GD220214.loc[GD220214['Img'] == 0,'GrowthAtStart_flat'].std()/n220214*10000)/100\n",
    "# GrowthAtStart_flat220531ste = np.round(GD220531.loc[GD220531['Img'] == 0,'GrowthAtStart_flat'].std()/n220531*10000)/100\n",
    "# GrowthAtStart_flat220727ste = np.round(GD220727.loc[GD220727['Img'] == 0,'GrowthAtStart_flat'].std()/n220727*10000)/100\n",
    "\n",
    "# GrowthAtStart_flatPooledste = np.round(GDPooled.loc[GDPooled['Img'] == 0,'GrowthAtStart_flat'].std()/nPooled*10000)/100\n",
    "\n",
    "# print('% growth at Tstart : ')\n",
    "# print('14-02-2022 -> ' + str(GrowthAtStart_flat220214) + ' ' + u\"\\u00B1\" + ' ' + str(GrowthAtStart_flat220214ste) + ' %' )\n",
    "# print('31-05-2022 -> ' + str(GrowthAtStart_flat220531) + ' ' + u\"\\u00B1\" + ' ' + str(GrowthAtStart_flat220531ste) + ' %' )\n",
    "# print('27-07-2022 -> ' + str(GrowthAtStart_flat220727) + ' ' + u\"\\u00B1\" + ' ' + str(GrowthAtStart_flat220727ste) + ' %' )\n",
    "# print('Pooled -> ' + str(GrowthAtStart_flatPooled) + ' ' + u\"\\u00B1\" + ' ' + str(GrowthAtStart_flatPooledste) + ' %' )"
   ]
  },
  {
   "cell_type": "markdown",
   "metadata": {},
   "source": [
    "### Hyper osmotic environement (100mM)"
   ]
  },
  {
   "cell_type": "markdown",
   "metadata": {
    "heading_collapsed": true
   },
   "source": [
    "#### 01-03-2022 (100mM)"
   ]
  },
  {
   "cell_type": "code",
   "execution_count": null,
   "metadata": {
    "hidden": true,
    "scrolled": false
   },
   "outputs": [],
   "source": [
    "# compareGrowth([GD220301_Ct,GD220301_M100],['Ctrl\\n','100mM\\n'],[Yellow, LightYellow], \n",
    "#             PFig, '01-03-2022 - Ranksum', showcurve = True, showbox = True,showhist = True, \n",
    "#               nbins = 15,indiplots = False,NimgMax = 'max', stats='ranksum')"
   ]
  },
  {
   "cell_type": "markdown",
   "metadata": {
    "heading_collapsed": true
   },
   "source": [
    "#### 08-08-2022 (100mM)"
   ]
  },
  {
   "cell_type": "code",
   "execution_count": null,
   "metadata": {
    "hidden": true
   },
   "outputs": [],
   "source": [
    "# compareGrowth([GD220301_Ct,GD220301_M100],['Ctrl\\n','100mM\\n'],[Red, LightRed], \n",
    "#             PFig, '01-03-2022 - Ranksum', showcurve = True, showbox = True,showhist = True, \n",
    "#               nbins = 15,indiplots = False,NimgMax = 'max', stats='ranksum')"
   ]
  },
  {
   "cell_type": "markdown",
   "metadata": {
    "heading_collapsed": true
   },
   "source": [
    "#### 29-08-2022 (100mM)"
   ]
  },
  {
   "cell_type": "code",
   "execution_count": null,
   "metadata": {
    "hidden": true,
    "scrolled": false
   },
   "outputs": [],
   "source": [
    "# compareGrowth([GD220928_Ct,GD220928_100mM],['Ctrl\\n','100mM\\n'],[Green, LightGreen], \n",
    "#             PFig, '29-08-2022 - Ranksum', showcurve = True, showbox = True,showhist = True, \n",
    "#               nbins = 15,indiplots = False,NimgMax = 'max', stats='ranksum')"
   ]
  },
  {
   "cell_type": "markdown",
   "metadata": {},
   "source": [
    "#### All together"
   ]
  },
  {
   "cell_type": "markdown",
   "metadata": {
    "heading_collapsed": true
   },
   "source": [
    "##### Growth quantif"
   ]
  },
  {
   "cell_type": "code",
   "execution_count": null,
   "metadata": {
    "hidden": true,
    "scrolled": false
   },
   "outputs": [],
   "source": [
    "# compareGrowth([GD220301_Ct,GD220301_100mM,GD220808_Ct,GD220808_100mM,GD220928_Ct,GD220928_100mM],\n",
    "#               ['0103_C\\n','0103_M\\n','0808_C\\n','0808_M\\n','0928_C\\n','0928_M\\n'],\n",
    "#               [Yellow, LightYellow, Red, LightRed, Green, LightGreen],\n",
    "#               PFig, 'Growth at 100mM', showcurve = True, sigpairs = [(0,1),(2,3),(4,5)],\n",
    "#               showbox = True,showhist = True,nbins = 15,indiplots = False,NimgMax = 'max', stats='ranksum')\n",
    "\n"
   ]
  },
  {
   "cell_type": "markdown",
   "metadata": {
    "heading_collapsed": true
   },
   "source": [
    "##### Correlarions (Growth rate local vs global, effect of position in chip)"
   ]
  },
  {
   "cell_type": "code",
   "execution_count": null,
   "metadata": {
    "hidden": true,
    "scrolled": false
   },
   "outputs": [],
   "source": [
    "# Corr([GD220301_Ct,GD220301_100mM,GD220928_Ct,GD220928_100mM],['GD220301_Ct','GD220301_100mM','GD220928_Ct','GD220928_100mM'],\n",
    "#      columns = ['GR_end','Tau'],columnslabels = ['GR_end (day-1)','Tau'],PlotFits = True,\n",
    "#      colors=[Blue,Red,Green,Yellow], corrmethod ='pearson')\n",
    "\n",
    "# Corr([GD220301_Ct.append(GD220928_Ct),GD220301_Ct,GD220928_Ct],['Pooled_Ctrl','GD220301_Ct','GD220928_Ct'],\n",
    "#      columns = ['ChipRow','tdeb','Tau'],columnslabels = ['Position','Tstart','Tau'],PlotFits = True,\n",
    "#      colors=['gray',Blue,Yellow], corrmethod ='pearson')\n",
    "\n",
    "# Corr([GD220301_100mM.append(GD220928_100mM),GD220301_100mM,GD220928_100mM],['Pooled_100mM','GD220301_100mM','GD220928_100mM'],\n",
    "#      columns = ['ChipRow','tdeb','Tau'],columnslabels = ['Position','Tstart','Tau'],PlotFits = True,\n",
    "#      colors=['gray',Green,Red], corrmethod ='pearson')"
   ]
  },
  {
   "cell_type": "markdown",
   "metadata": {},
   "source": [
    "## Mechanics"
   ]
  },
  {
   "cell_type": "markdown",
   "metadata": {},
   "source": [
    "### Controls"
   ]
  },
  {
   "cell_type": "markdown",
   "metadata": {
    "heading_collapsed": true
   },
   "source": [
    "#### 31-05-2022"
   ]
  },
  {
   "cell_type": "code",
   "execution_count": null,
   "metadata": {
    "hidden": true,
    "scrolled": false
   },
   "outputs": [],
   "source": [
    "# compareHydroMech([GD220531_Ct1_Osmo, GD220531_Ct2_Osmo],\n",
    "#              ['Chamber 1','Chamber 2'],[Red,LightRed], \n",
    "#              PFig, 'OsmChoc_31-05-2022', showbox = True,showhist = True,stats='ranksum');\n",
    "\n",
    "# Growth slope before/after choc\n",
    "\n",
    "# GOC_Comp([GD220531_Ct1, GD220531_Ct2],\n",
    "#          [GD220531_Ct1_Osmo, GD220531_Ct2_Osmo],\n",
    "#          ['GR_end'],['GR_AfterOC'],['GR_end'],['GrowthSlope'],\n",
    "#          ['220531_Ct1','220531_Ct2'],[Blue,Red,Green,Yellow],PlotFits=True)"
   ]
  },
  {
   "cell_type": "code",
   "execution_count": null,
   "metadata": {
    "hidden": true,
    "scrolled": true
   },
   "outputs": [],
   "source": [
    "# GOC_Comp([GD220531_Ct1,GD220531_Ct2],\n",
    "#          [GD220531_Ct1_Osmo,GD220531_Ct2_Osmo],\n",
    "#          ['GR_end'],['Ecomp','Erel'],['GrowthRate'],['E_Comp','E_Rel'],\n",
    "#          ['220531_Ct1','220531_Ct2'],[Red,Green,Blue,Purple,Green,Blue],PlotFits=True)"
   ]
  },
  {
   "cell_type": "markdown",
   "metadata": {},
   "source": [
    "#### 01-08-2022  (Ctrl1)"
   ]
  },
  {
   "cell_type": "code",
   "execution_count": null,
   "metadata": {
    "scrolled": false
   },
   "outputs": [],
   "source": [
    "# compareHydroMech([GD220801_Ct1_Osmo],\n",
    "#              ['Chamber 1'],[Purple], \n",
    "#              PFig, 'OsmChoc_01-08-2022', showbox = True,showhist = True,stats='ranksum');"
   ]
  },
  {
   "cell_type": "markdown",
   "metadata": {
    "heading_collapsed": true
   },
   "source": [
    "#### 08-08-2022 (Ctrl)"
   ]
  },
  {
   "cell_type": "code",
   "execution_count": null,
   "metadata": {
    "hidden": true,
    "scrolled": false
   },
   "outputs": [],
   "source": [
    "# compareHydroMech([GD220808_Ct_Osmo],\n",
    "#              ['Chamber 1'],[Red], \n",
    "#              PFig, 'OsmChoc_08-08-2022', showbox = True,showhist = True,stats='ranksum');\n",
    "\n",
    "#  # Growth slope before/after choc\n",
    "\n",
    "# GOC_Comp([GD220808_Ct],\n",
    "#          [GD220808_Ct_Osmo],\n",
    "#          ['GR_end'],['GR_AfterOC'],['GR_end (day-1)'],['GrowthSlope (day-1)'],\n",
    "#          ['GD220808_Ct1','GD220808_Ct2'],['gray',Red],PlotFits=True)"
   ]
  },
  {
   "cell_type": "markdown",
   "metadata": {
    "heading_collapsed": true
   },
   "source": [
    "#### AllTogether"
   ]
  },
  {
   "cell_type": "code",
   "execution_count": null,
   "metadata": {
    "hidden": true,
    "scrolled": false
   },
   "outputs": [],
   "source": [
    "# GD_Osmo = GD220808_Ct_Osmo.append(GD220531_Ct1_Osmo).append(GD220531_Ct2_Osmo).append(GD220801_Ct1_Osmo)\n",
    "\n",
    "# compareHydroMech([GD220808_Ct_Osmo,GD220531_Ct1_Osmo,GD220531_Ct2_Osmo,GD220801_Ct1_Osmo],\n",
    "#                 ['0808','0531_1','0531_2','0801'], [Red,Green,LightGreen,Blue],PFig,'OC - All',\n",
    "#                  showbox = True,showhist = True,stats='ranksum',sigpairs = [(0,1),(2,3),(4,5)])\n",
    "\n",
    "# compareHydroMech([GD_Osmo],\n",
    "#              ['All'],['gray'], \n",
    "#              PFig, 'OsmChoc_CompRel', showbox = True,showhist = True,stats='ranksum');\n",
    "\n"
   ]
  },
  {
   "cell_type": "markdown",
   "metadata": {},
   "source": [
    "#### Correlations with growth "
   ]
  },
  {
   "cell_type": "code",
   "execution_count": null,
   "metadata": {
    "scrolled": false
   },
   "outputs": [],
   "source": [
    "# GOC_Comp([GD220808_Ct,GD220531_Ct1,GD220531_Ct2,GD220801_Ct1],\n",
    "#          [GD220808_Ct_Osmo,GD220531_Ct1_Osmo,GD220531_Ct2_Osmo,GD220801_Ct1_Osmo],\n",
    "#          ['GR_end'],['Ecomp','Erel'],['GrowthRate'],['E_Comp','E_Rel'],\n",
    "#          ['GD220808_Ct','220531_Ct1','220531_Ct2','220801_Ct1'],[Purple,Blue,Red,Green,Yellow],\n",
    "#          PlotFits=True,CorrType = 'spearman')\n",
    "\n",
    "\n",
    "# GOC_Comp([GD220808_Ct,GD220531_Ct1,GD220531_Ct2,GD220801_Ct1],\n",
    "#          [GD220808_Ct_Osmo,GD220531_Ct1_Osmo,GD220531_Ct2_Osmo,GD220801_Ct1_Osmo],\n",
    "#          ['GR_end',],['GR_AfterOC'],['GR_end (day-1)'],['GR_OC (day-1)'],\n",
    "#          ['GD220808_Ct','220531_Ct1','220531_Ct2','GD220801_Ct1'],['gray',Red,Green,LightGreen,Blue],PlotFits=True)\n",
    "\n",
    "\n",
    "# GD220808_Ct_Osmo = GD220808_Ct_Osmo.assign(Ecomp_norm = lambda x: (x['Ecomp'] / x['Ecomp'].mean() ))\n",
    "# GD220808_Ct_Osmo = GD220808_Ct_Osmo.assign(A0_norm = lambda x: (x['A0'] / x['A0'].mean() ))\n",
    "\n",
    "# GD220531_Ct1_Osmo = GD220531_Ct1_Osmo.assign(Ecomp_norm = lambda x: (x['Ecomp'] / x['Ecomp'].mean() ))\n",
    "# GD220531_Ct1_Osmo = GD220531_Ct1_Osmo.assign(A0_norm = lambda x: (x['A0'] / x['A0'].mean() ))\n",
    "\n",
    "# GD220531_Ct2_Osmo = GD220531_Ct2_Osmo.assign(Ecomp_norm = lambda x: (x['Ecomp'] / x['Ecomp'].mean() ))\n",
    "# GD220531_Ct2_Osmo = GD220531_Ct2_Osmo.assign(A0_norm = lambda x: (x['A0'] / x['A0'].mean() ))\n",
    "\n",
    "# GD220801_Ct1_Osmo = GD220801_Ct1_Osmo.assign(Ecomp_norm = lambda x: (x['Ecomp'] / x['Ecomp'].mean() ))\n",
    "# GD220801_Ct1_Osmo = GD220801_Ct1_Osmo.assign(A0_norm = lambda x: (x['A0'] / x['A0'].mean() ))\n",
    "\n",
    "\n",
    "# Corr([GD220531_Ct1_Osmo.append(GD220531_Ct2_Osmo).append(GD220801_Ct1_Osmo)],\n",
    "#      ['Pooled'],\n",
    "#      columns = ['A0','Ecomp','A0_norm','Ecomp_norm'],\n",
    "#      columnslabels = ['A0 (mm²)','E (MPa)','A0 (Norm)','E (Norm)'],PlotFits = True,\n",
    "#      colors=['gray',Red,Red,Yellow], corrmethod ='spearman')\n",
    "\n",
    "\n",
    "# Corr([GD220531_Ct1_Osmo.append(GD220531_Ct2_Osmo)],\n",
    "#      ['Pooled_GD220531_Ct_Osmo'],\n",
    "#      columns = ['A0','Ecomp'],columnslabels = ['A0 (mm²)','E (MPa)'],PlotFits = True,\n",
    "#      colors=['gray',Blue,Red], corrmethod ='spearman')\n",
    "\n",
    "# Corr([GD220808_Ct_Osmo,GD220531_Ct1_Osmo.append(GD220531_Ct2_Osmo),GD220801_Ct1_Osmo],\n",
    "#      ['GD220808_Ct_Osmo','GD220531_Ct_Osmo','GD220801_Ct1_Osmo'],\n",
    "#      columns = ['A0','Ecomp'],columnslabels = ['A0 (mm²)','E (MPa)'],PlotFits = True,\n",
    "#      colors=[Blue,Red,Yellow], corrmethod ='spearman')"
   ]
  },
  {
   "cell_type": "markdown",
   "metadata": {},
   "source": [
    "### Hyperosmotic growth"
   ]
  },
  {
   "cell_type": "markdown",
   "metadata": {
    "heading_collapsed": true
   },
   "source": [
    "#### 01-03-2022 (100mM)"
   ]
  },
  {
   "cell_type": "code",
   "execution_count": null,
   "metadata": {
    "hidden": true,
    "scrolled": false
   },
   "outputs": [],
   "source": [
    "# compareHydroMech([GD220301_Ct_Osmo, GD220301_100mM_Osmo],\n",
    "#              ['Ctrl','100mM growth'],[Yellow,LightYellow], \n",
    "#              PFig, 'OsmChoc_01-03-2022', showbox = True,showhist = True,stats='ranksum');"
   ]
  },
  {
   "cell_type": "markdown",
   "metadata": {
    "heading_collapsed": true
   },
   "source": [
    "#### 28-09-2022 (100mM)"
   ]
  },
  {
   "cell_type": "code",
   "execution_count": null,
   "metadata": {
    "hidden": true
   },
   "outputs": [],
   "source": [
    "# compareHydroMech([GD220928_Ct_Osmo, GD220928_100mM_Osmo],\n",
    "#              ['Ctrl','100mM growth'],[Green,LightGreen], \n",
    "#              PFig, 'OsmChoc_28-09-2022', showbox = True,showhist = True,stats='ranksum');"
   ]
  },
  {
   "cell_type": "markdown",
   "metadata": {
    "heading_collapsed": true
   },
   "source": [
    "#### 10-25-2022 (100mM)"
   ]
  },
  {
   "cell_type": "code",
   "execution_count": null,
   "metadata": {
    "hidden": true
   },
   "outputs": [],
   "source": [
    "# compareHydroMech([GD221025_Ct_Osmo, GD221025_100mM_Osmo],\n",
    "#              ['Ctrl','100mM growth'],[Blue,LightBlue], \n",
    "#              PFig, 'OsmChoc_25-10-2022', showbox = True,showhist = True,stats='ranksum');"
   ]
  },
  {
   "cell_type": "markdown",
   "metadata": {},
   "source": [
    "#### AllTogether"
   ]
  },
  {
   "cell_type": "code",
   "execution_count": null,
   "metadata": {
    "scrolled": false
   },
   "outputs": [],
   "source": [
    "# compareHydroMech([GD220301_Ct_Osmo, GD220301_100mM_Osmo,GD220928_Ct_Osmo, GD220928_100mM_Osmo,GD221025_Ct_Osmo, GD221025_100mM_Osmo],\n",
    "#                  ['Ctrl','100mM growth','Ctrl','100mM growth','Ctrl','100mM growth'],\n",
    "#                 [Yellow,LightYellow,Green,LightGreen,Blue,LightBlue], \n",
    "#                  PFig, 'OsmChocs', showbox = True,showhist = True,stats='ranksum',sigpairs= [(0,1),(2,3),(4,5)]);\n",
    "\n"
   ]
  },
  {
   "cell_type": "markdown",
   "metadata": {},
   "source": [
    "#### Correlations "
   ]
  },
  {
   "cell_type": "markdown",
   "metadata": {},
   "source": [
    "##### E vs. Growth rate"
   ]
  },
  {
   "cell_type": "code",
   "execution_count": null,
   "metadata": {
    "scrolled": false
   },
   "outputs": [],
   "source": [
    "\n",
    "\n",
    "# GOC_Comp([GD220928_Ct,GD220928_100mM],\n",
    "#          [GD220928_Ct_Osmo,GD220928_100mM_Osmo],\n",
    "#          ['GR_end'],['Ecomp','Erel'],['GrowthRate'],['E_Comp','E_Rel'],\n",
    "#          ['220928_Ct','220928_100mM'],[Blue,Red,Green],\n",
    "#          PlotFits=True,CorrType = 'spearman')\n",
    "\n"
   ]
  },
  {
   "cell_type": "markdown",
   "metadata": {},
   "source": [
    "##### Growth rate before vs. after choc"
   ]
  },
  {
   "cell_type": "code",
   "execution_count": null,
   "metadata": {
    "scrolled": false
   },
   "outputs": [],
   "source": [
    "\n",
    "\n",
    "\n",
    "GOC_Comp([GD220928_Ct,GD220928_100mM],\n",
    "         [GD220928_Ct_Osmo,GD220928_100mM_Osmo],\n",
    "         ['GR_end'],['GR_AfterOC'],['GR_end (day-1)'],['GR_AfterOC (day-1)'],\n",
    "         ['220928_Ct','220928_100mM'],[Blue,Red,Green],PlotFits=True)\n",
    "\n",
    "\n"
   ]
  },
  {
   "cell_type": "markdown",
   "metadata": {},
   "source": [
    "##### Elastic modulus vs. size"
   ]
  },
  {
   "cell_type": "code",
   "execution_count": null,
   "metadata": {
    "scrolled": false
   },
   "outputs": [],
   "source": [
    "A0_E_220301_Ct_Osmo = GD220301_Ct_Osmo.loc[GD220301_Ct_Osmo['Img'] == 0,['Img','Expe','Ecomp','A0']]\n",
    "\n",
    "MeanE_0301 = A0_E_220301_Ct_Osmo['Ecomp'].mean()\n",
    "MeanA_0301 = A0_E_220301_Ct_Osmo['A0'].mean()\n",
    "\n",
    "A0_E_220301_Ct_Osmo = A0_E_220301_Ct_Osmo.assign(Ecomp_norm = lambda x: (x['Ecomp'] / MeanE_0301))\n",
    "A0_E_220301_Ct_Osmo = A0_E_220301_Ct_Osmo.assign(A0_norm = lambda x: (x['A0'] / MeanA_0301))\n",
    "\n",
    "\n",
    "A0_E_220928_Ct_Osmo = GD220928_Ct_Osmo.loc[GD220928_Ct_Osmo['Img'] == 0,['Img','Expe','Ecomp','A0']]\n",
    "\n",
    "MeanE_0928 = A0_E_220928_Ct_Osmo['Ecomp'].mean()\n",
    "MeanA_0928 = A0_E_220928_Ct_Osmo['A0'].mean()\n",
    "\n",
    "A0_E_220928_Ct_Osmo = A0_E_220928_Ct_Osmo.assign(Ecomp_norm = lambda x: (x['Ecomp'] /MeanE_0928))\n",
    "A0_E_220928_Ct_Osmo = A0_E_220928_Ct_Osmo.assign(A0_norm = lambda x: (x['A0'] /MeanA_0928))\n",
    "\n",
    "\n",
    "A0_E_221025_Ct_Osmo = GD221025_Ct_Osmo.loc[GD221025_Ct_Osmo['Img'] == 0,['Img','Expe','Ecomp','A0']]\n",
    "\n",
    "MeanE_1025 = A0_E_221025_Ct_Osmo['Ecomp'].mean()\n",
    "MeanA_1025 = A0_E_221025_Ct_Osmo['A0'].mean()\n",
    "\n",
    "A0_E_221025_Ct_Osmo = A0_E_221025_Ct_Osmo.assign(Ecomp_norm = lambda x: (x['Ecomp'] /MeanE_1025))\n",
    "A0_E_221025_Ct_Osmo = A0_E_221025_Ct_Osmo.assign(A0_norm = lambda x: (x['A0'] /MeanA_1025))\n",
    "\n",
    "\n",
    "\n",
    "A0_E_220301_100mM_Osmo = GD220301_100mM_Osmo.loc[GD220301_100mM_Osmo['Img'] == 0,['Img','Expe','Ecomp','A0']]\n",
    "A0_E_220301_100mM_Osmo = A0_E_220301_100mM_Osmo.assign(Ecomp_norm = lambda x: (x['Ecomp'] /MeanE_0301))\n",
    "A0_E_220301_100mM_Osmo = A0_E_220301_100mM_Osmo.assign(A0_norm = lambda x: (x['A0'] /MeanA_0301))\n",
    "\n",
    "A0_E_220928_100mM_Osmo = GD220928_100mM_Osmo.loc[GD220928_100mM_Osmo['Img'] == 0,['Img','Expe','Ecomp','A0']]\n",
    "A0_E_220928_100mM_Osmo = A0_E_220928_100mM_Osmo.assign(Ecomp_norm = lambda x: (x['Ecomp'] /MeanE_0928))\n",
    "A0_E_220928_100mM_Osmo = A0_E_220928_100mM_Osmo.assign(A0_norm = lambda x: (x['A0'] /MeanA_0928))\n",
    "\n",
    "A0_E_221025_100mM_Osmo = GD221025_100mM_Osmo.loc[GD221025_100mM_Osmo['Img'] == 0,['Img','Expe','Ecomp','A0']]\n",
    "A0_E_221025_100mM_Osmo = A0_E_221025_100mM_Osmo.assign(Ecomp_norm = lambda x: (x['Ecomp'] /MeanE_1025))\n",
    "A0_E_221025_100mM_Osmo = A0_E_221025_100mM_Osmo.assign(A0_norm = lambda x: (x['A0'] /MeanA_1025))\n",
    "\n",
    "# Corr([A0_E_220301_Ct_Osmo.append(A0_E_220301_100mM_Osmo),\n",
    "#      A0_E_220301_Ct_Osmo, A0_E_220301_100mM_Osmo],\n",
    "#      ['Pooled'], # ,'A0_E_220301_Ct_Osmo', 'A0_E_220301_100mM_Osmo'\n",
    "#      columns = ['A0','Ecomp'],columnslabels = ['A0 (mm²)','E (MPa)'],PlotFits = True,\n",
    "#      colors=['gray',LightRed,Red], corrmethod ='spearman')\n",
    "\n",
    "# Corr([A0_E_220928_Ct_Osmo.append(A0_E_220928_100mM_Osmo),\n",
    "#      A0_E_220928_Ct_Osmo, A0_E_220928_100mM_Osmo],\n",
    "#      ['Pooled'],# ,'A0_E_220928_Ct_Osmo', 'A0_E_220928_100mM_Osmo'\n",
    "#      columns = ['A0','Ecomp'],columnslabels = ['A0 (mm²)','E (MPa)'],PlotFits = True,\n",
    "#      colors=['gray',LightGreen,Green], corrmethod ='spearman')\n",
    "\n",
    "# Corr([A0_E_221025_Ct_Osmo.append(A0_E_221025_100mM_Osmo),\n",
    "#      A0_E_221025_Ct_Osmo, A0_E_221025_100mM_Osmo],\n",
    "#      ['Pooled'],# ,'A0_E_221025_Ct_Osmo', 'A0_E_221025_100mM_Osmo'\n",
    "#      columns = ['A0','Ecomp'],columnslabels = ['A0 (mm²)','E (MPa)'],PlotFits = True,\n",
    "#      colors=['gray',LightBlue,Blue], corrmethod ='spearman')\n",
    "\n",
    "\n",
    "\n",
    "# Corr([A0_E_221025_Ct_Osmo.append(A0_E_221025_100mM_Osmo).append(A0_E_220928_Ct_Osmo).append(\n",
    "#     A0_E_220928_100mM_Osmo).append(A0_E_220301_Ct_Osmo.append(A0_E_220301_100mM_Osmo))],\n",
    "#      ['Pooled'],\n",
    "#      columns = ['A0','Ecomp','A0_norm','Ecomp_norm'],\n",
    "#      columnslabels = ['A0 (mm²)','E (MPa)','A0 (Norm)','E (Norm)'],PlotFits = True,\n",
    "#      colors=['gray',LightBlue,Blue,LightRed,Red,LightGreen,Green], corrmethod ='spearman')\n",
    "\n",
    "\n",
    "\n",
    "# Corr([A0_E_221025_Ct_Osmo.append(A0_E_221025_100mM_Osmo).append(A0_E_220928_Ct_Osmo).append(\n",
    "#     A0_E_220928_100mM_Osmo).append(A0_E_220301_Ct_Osmo.append(A0_E_220301_100mM_Osmo))],\n",
    "#      ['All'],\n",
    "#      columns = ['A0','Ecomp','A0_norm','Ecomp_norm'],\n",
    "#      columnslabels = ['A0 (mm²)','E (MPa)','A0 (Norm)','E (Norm)'],PlotFits = True,\n",
    "#      colors=['gray',LightBlue,Blue,LightRed,Red,LightGreen,Green], corrmethod ='pearson')\n"
   ]
  },
  {
   "cell_type": "markdown",
   "metadata": {},
   "source": [
    "## Architecture model"
   ]
  },
  {
   "cell_type": "code",
   "execution_count": null,
   "metadata": {},
   "outputs": [],
   "source": [
    "import matplotlib.pyplot as plt"
   ]
  },
  {
   "cell_type": "code",
   "execution_count": null,
   "metadata": {},
   "outputs": [],
   "source": [
    "def volumeRatio(m,A,B,c,hratio):\n",
    "\n",
    "    # Consider a assembly of n = m*p*q cubes of segment length c \n",
    "    # With aspect ratios such that p = A*m and q = B*m, total number of cubes is n = A*B*m^3\n",
    "\n",
    "    # Total volume is :\n",
    "\n",
    "    Vtot = np.multiply(A,np.multiply(B,np.multiply(np.power(m,3),np.power(c,3))))\n",
    "\n",
    "    # Number of internal faces is p*q*(m-1) + p*m*(q-1) + m*q*(p-1) \n",
    "    # Equivalently it is A*B*m²*(m-1) + A*m²*(B*m-1) + B*m²*(A*m-1) or :\n",
    "\n",
    "    Nint = 3*A*B*np.power(m,3) - np.multiply((A+B+A*B),np.power(m,2))\n",
    "\n",
    "    # Number of external faces is 2*m*p + 2*p*q + 2*m*q or :\n",
    "\n",
    "    Next = 2*np.multiply((A+B+A*B),np.power(m,2))\n",
    "\n",
    "    # If we consider internal/external face to have a thickness hi/he (=hratio), both small compared to c\n",
    "\n",
    "    he = np.divide(c,1000)\n",
    "    hi = np.multiply(hratio,he)\n",
    "\n",
    "    # We get a 'volume' for face :\n",
    "\n",
    "    Vface = np.multiply(Nint,hi) + np.multiply(Next,he)\n",
    "\n",
    "    # And the reminding volume is\n",
    "    \n",
    "    Vother = Vtot - Vface\n",
    "    \n",
    "    # Finally the volume ratio is \n",
    "    \n",
    "    Vratio = np.divide(Vface,Vother)\n",
    "    \n",
    "    # We enforce the fact that the volume of faces must be lower than the total volume\n",
    "    \n",
    "    mask = Vface>=Vtot\n",
    "    \n",
    "    Vratio[mask] = np.nan\n",
    "    \n",
    "    \n",
    "    # For display purposes we limit the volume ratio to Vface = Vother\n",
    "    \n",
    "    mask2 = Vface >= Vother\n",
    "    \n",
    "    Vratio[mask2] = np.nan\n",
    "    \n",
    "    return(Vratio,Vtot)\n"
   ]
  },
  {
   "cell_type": "code",
   "execution_count": null,
   "metadata": {},
   "outputs": [],
   "source": [
    "# Evolution of Vratio for increasing size of cube\n",
    "\n",
    "m = 5\n",
    "A = 100\n",
    "B = 100\n",
    "\n",
    "c = np.linspace(1,10,100)\n",
    "\n",
    "hratio = 1.5\n",
    "\n",
    "vR, Vtot = volumeRatio(m,A,B,c,hratio)\n",
    "\n",
    "f, [ax0,ax1] = plt.subplots(ncols = 2,dpi=200)\n",
    "f.patch.set_facecolor('white')\n",
    "ax0.set_xlabel('Size of cells (A.U.)')\n",
    "ax0.set_ylabel('VolumeRatio')\n",
    "ax0.plot(c,vR*100)\n",
    "ax1.set_xlabel('Total volume (A.U.)')\n",
    "ax1.set_ylabel('Solid fraction (%)')\n",
    "ax1.plot(Vtot,vR)\n",
    "\n",
    "\n",
    "f.tight_layout()"
   ]
  },
  {
   "cell_type": "code",
   "execution_count": null,
   "metadata": {},
   "outputs": [],
   "source": [
    "# Evolution of Vratio for increasing number of cube (keeping the geometry constant) at different hratio\n",
    "\n",
    "m = np.linspace(2,6,50)\n",
    "A = 20\n",
    "B = 20\n",
    "\n",
    "c = 1\n",
    "\n",
    "f, [ax0,ax1] = plt.subplots(ncols = 2,dpi=200)\n",
    "f.patch.set_facecolor('white')\n",
    "ax0.set_xlabel('Number of cells')\n",
    "ax0.set_ylabel('Solid fraction (%)')\n",
    "ax1.set_xlabel('Total volume (A.U.)')\n",
    "ax1.set_ylabel('Solid fraction (%)')\n",
    "\n",
    "for hratio in np.linspace(0.5,3,10):\n",
    "    vR, Vtot = volumeRatio(m,A,B,c,hratio)\n",
    "    ax0.plot(np.power(m,3)*A*B,vR*100)\n",
    "    ax1.plot(Vtot,vR*100)\n",
    "\n",
    "f.tight_layout()"
   ]
  },
  {
   "cell_type": "code",
   "execution_count": null,
   "metadata": {},
   "outputs": [],
   "source": [
    "# Evolution of Vratio for increasing number of cube at constant volume and for different hratio\n",
    "\n",
    "m = np.linspace(2,6,1000)\n",
    "A = 20\n",
    "B = 20\n",
    "\n",
    "c = np.divide(1,m)\n",
    "\n",
    "f, ax0 = plt.subplots(dpi=200)\n",
    "f.patch.set_facecolor('white')\n",
    "ax0.set_xlabel('Number of cells')\n",
    "ax0.set_ylabel('Solid fraction (%)')\n",
    "\n",
    "for hratio in np.linspace(0.5,3,10):\n",
    "    vR, Vtot = volumeRatio(m,A,B,c,hratio)\n",
    "    ax0.plot(np.power(m,3)*A*B,vR*100)\n",
    "    \n",
    "    \n",
    "f.tight_layout()"
   ]
  },
  {
   "cell_type": "code",
   "execution_count": null,
   "metadata": {},
   "outputs": [],
   "source": []
  }
 ],
 "metadata": {
  "kernelspec": {
   "display_name": "Python 3",
   "language": "python",
   "name": "python3"
  },
  "language_info": {
   "codemirror_mode": {
    "name": "ipython",
    "version": 3
   },
   "file_extension": ".py",
   "mimetype": "text/x-python",
   "name": "python",
   "nbconvert_exporter": "python",
   "pygments_lexer": "ipython3",
   "version": "3.8.5"
  },
  "toc": {
   "base_numbering": 1,
   "nav_menu": {},
   "number_sections": true,
   "sideBar": true,
   "skip_h1_title": true,
   "title_cell": "Table of Contents",
   "title_sidebar": "Contents",
   "toc_cell": false,
   "toc_position": {
    "height": "calc(100% - 180px)",
    "left": "10px",
    "top": "150px",
    "width": "352px"
   },
   "toc_section_display": true,
   "toc_window_display": true
  }
 },
 "nbformat": 4,
 "nbformat_minor": 4
}
