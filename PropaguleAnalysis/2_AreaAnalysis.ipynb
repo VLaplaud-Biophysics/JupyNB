{
 "cells": [
  {
   "cell_type": "markdown",
   "metadata": {},
   "source": [
    "# Quantifications of area and growth"
   ]
  },
  {
   "cell_type": "markdown",
   "metadata": {},
   "source": [
    "## Documentation and Imports\n",
    "\n",
    "\n",
    "Created on 01-04-2021\n",
    "\n",
    "Author: Valentin Laplaud\n",
    "\n",
    "This code is loading data from different experiment, created by ShapeQuatification. It plots those various data and compare them to each other."
   ]
  },
  {
   "cell_type": "code",
   "execution_count": null,
   "metadata": {
    "code_folding": []
   },
   "outputs": [],
   "source": [
    "## Clean up before script start \n",
    "\n",
    "for element in dir():\n",
    "\n",
    "    if element[0:1] != \"_\":\n",
    "\n",
    "        del globals()[element]\n",
    "\n",
    "import gc\n",
    "gc.collect()\n",
    "\n",
    "\n",
    "print('\\033[1m' + '\\033[4m' + '\\nRunning :  ''ExperimentComparisonNB''\\n' + '\\033[0m')\n",
    "\n",
    "import datetime\n",
    "\n",
    "# plotting stuff\n",
    "import matplotlib as mpl\n",
    "mpl.use('TkAgg')\n",
    "%matplotlib inline\n",
    "\n",
    "COLOR = 'white'\n",
    "COLOR2 = 'black'\n",
    "\n",
    "mpl.rcParams['text.color'] = COLOR\n",
    "mpl.rcParams['axes.labelcolor'] = COLOR\n",
    "mpl.rcParams['xtick.color'] = COLOR\n",
    "mpl.rcParams['ytick.color'] = COLOR\n",
    "mpl.rcParams['axes.edgecolor'] = COLOR\n",
    "\n",
    "mpl.rcParams[\"figure.facecolor\"] = COLOR2\n",
    "mpl.rcParams[\"axes.facecolor\"] = COLOR2\n",
    "mpl.rcParams[\"savefig.facecolor\"] = COLOR2\n",
    "mpl.rcParams['axes.facecolor'] = COLOR2\n",
    "\n",
    "import matplotlib.pyplot as plt\n",
    "import matplotlib.path as mpltPath\n",
    "import seaborn as sns\n",
    "from cycler import cycler\n",
    "#Default colors\n",
    "colorcycle = [plt.get_cmap('gist_rainbow')(1. * i/30) for i in range(30)]\n",
    "mpl.rcParams['axes.prop_cycle'] = cycler(color=colorcycle)\n",
    "\n",
    "# numbers handling\n",
    "import numpy as np\n",
    "import numpy.matlib as mtl\n",
    "import pandas as pd\n",
    "\n",
    "# signal processing \n",
    "from scipy.signal import savgol_filter, correlate, correlation_lags\n",
    "from scipy.interpolate import interp1d\n",
    "from scipy.optimize import curve_fit\n",
    "\n",
    "# stats\n",
    "from scipy.stats import ranksums, linregress, ks_2samp\n",
    "import statsmodels.api as sm\n",
    "from statsmodels.formula.api import ols\n",
    "\n",
    "# images handling\n",
    "from skimage import io\n",
    "from skimage.filters import threshold_otsu, gaussian, laplace, sobel\n",
    "from skimage.measure import label, regionprops, regionprops_table\n",
    "from skimage.util import invert\n",
    "from skimage.morphology import binary_opening, binary_closing, remove_small_holes,binary_erosion\n",
    "from skimage.color import rgb2gray\n",
    "from skimage.segmentation import active_contour, morphological_geodesic_active_contour,morphological_chan_vese, checkerboard_level_set, inverse_gaussian_gradient\n",
    "import cv2 as cv\n",
    "\n",
    "# to hide known warnings\n",
    "import warnings\n",
    "\n",
    "# General system functions\n",
    "import os\n",
    "import shutil\n",
    "import sys\n",
    "\n",
    "import time\n",
    "\n",
    "# my functions\n",
    "sys.path.append(r'd:\\Users\\laplaud\\Desktop\\PostDoc\\Code\\PythonFunctions/')\n",
    "import VallapFunc as vf\n",
    "from StatsFunctions import plotSig, Corr\n",
    "from Main import compareGrowth, compareHydroMech, GOC_Comp\n"
   ]
  },
  {
   "cell_type": "markdown",
   "metadata": {},
   "source": [
    "## Data loading and color definition"
   ]
  },
  {
   "cell_type": "code",
   "execution_count": null,
   "metadata": {
    "code_folding": []
   },
   "outputs": [],
   "source": [
    "%run d:\\Users\\laplaud\\Desktop\\PostDoc\\Code\\PythonFunctions/ExperimentList.py"
   ]
  },
  {
   "cell_type": "code",
   "execution_count": null,
   "metadata": {
    "scrolled": false,
    "tags": []
   },
   "outputs": [],
   "source": [
    "## Expe 210903\n",
    "GlobalData210903_5 = pd.read_csv(P210903_5 + '\\\\GlobalData210903_500ulh_AreaFit.csv', index_col = 'Ind')   \n",
    "GlobalData210903_1 = pd.read_csv(P210903_1 + '\\\\GlobalData210903_1mlh_AreaFit.csv', index_col = 'Ind')   \n",
    "\n",
    "## Expe 210914 ctrl\n",
    "# GlobalData210914_Ct = pd.read_csv(P210914_Ct + '\\\\GlobalData210914_Ct_AreaFit.csv', index_col = 'Ind')    \n",
    "# GlobalData210914_M125 = pd.read_csv(P210914_M125 + '\\\\GlobalData210914_M125_AreaFit.csv', index_col = 'Ind')    \n",
    "\n",
    "## Expe 210927\n",
    "GlobalData210927_5 = pd.read_csv(P210927_5 + '\\\\GlobalData210927_5_AreaFit.csv', index_col = 'Ind')    \n",
    "GlobalData210927_1 = pd.read_csv(P210927_1 + '\\\\GlobalData210927_1_AreaFit.csv', index_col = 'Ind')    \n",
    "\n",
    "## Expe 211022\n",
    "GlobalData211022_Ct2 = pd.read_csv(P211022_Ct2 + '\\\\GlobalData211022_Ct2_AreaFit.csv', index_col = 'Ind')    \n",
    "GlobalData211022_Ct1 = pd.read_csv(P211022_Ct1 + '\\\\GlobalData211022_Ct1_AreaFit.csv', index_col = 'Ind')    \n",
    "\n",
    "## Expe 211105\n",
    "GlobalData211105_Degas = pd.read_csv(P211105_Degas + '\\\\GlobalData211105_Degas_AreaFit.csv', index_col = 'Ind')    \n",
    "GlobalData211105_Deg_Bsa = pd.read_csv(P211105_Deg_Bsa + '\\\\GlobalData211105_Deg_Bsa_AreaFit.csv', index_col = 'Ind')    \n",
    "\n",
    "## Expe 211222\n",
    "GlobalData211222_Degas = pd.read_csv(P211222_Degas + '\\\\GlobalData211222_Degas_AreaFit.csv', index_col = 'Ind')    \n",
    "GlobalData211222_Deg_Bsa = pd.read_csv(P211222_Deg_Bsa + '\\\\GlobalData211222_Deg_Bsa_AreaFit.csv', index_col = 'Ind')    \n",
    "\n",
    "## Expe 220107\n",
    "GlobalData220107_S1 = pd.read_csv(P220107_S1 + '\\\\GlobalData220107_S1_AreaFit.csv', index_col = 'Ind')    \n",
    "GlobalData220107_S3 = pd.read_csv(P220107_S3 + '\\\\GlobalData220107_S3_AreaFit.csv', index_col = 'Ind')   \n",
    "\n",
    "## Expe 220112\n",
    "GlobalData220112_S1 = pd.read_csv(P220112_S1 + '\\\\GlobalData220112_S1_AreaFit.csv', index_col = 'Ind')    \n",
    "GlobalData220112_S3 = pd.read_csv(P220112_S3 + '\\\\GlobalData220112_S3_AreaFit.csv', index_col = 'Ind')  \n",
    "\n",
    "## Expe 220112\n",
    "GlobalData220114_S1 = pd.read_csv(P220114_S1 + '\\\\GlobalData220114_S1_AreaFit.csv', index_col = 'Ind')    \n",
    "GlobalData220114_S3 = pd.read_csv(P220114_S3 + '\\\\GlobalData220114_S3_AreaFit.csv', index_col = 'Ind')  \n",
    "\n",
    "## Expe 220124\n",
    "GlobalData220124_Ct2 = pd.read_csv(P220124_Ct2 + '\\\\GlobalData220124_Ct2_AreaFit.csv', index_col = 'Ind')    \n",
    "GlobalData220124_Ct1 = pd.read_csv(P220124_Ct1 + '\\\\GlobalData220124_Ct1_AreaFit.csv', index_col = 'Ind')   \n",
    "\n",
    "## Expe 220203 [Bad Data]\n",
    "# GlobalData220203_Ct1 = pd.read_csv(P220203_Ct1 + '\\\\GlobalData220203_Ct1_AreaFit.csv', index_col = 'Ind')    \n",
    "# GlobalData220203_Ct2 = pd.read_csv(P220203_Ct2 + '\\\\GlobalData220203_Ct2_AreaFit.csv', index_col = 'Ind')  \n",
    "\n",
    "## Expe 220214   \n",
    "GlobalData220214_Ct1 = pd.read_csv(P220214_Ct1 + '\\\\GlobalData220214_Ct1_AreaFit.csv', index_col = 'Ind') \n",
    "GlobalData220214_Ct2 = pd.read_csv(P220214_Ct2 + '\\\\GlobalData220214_Ct2_AreaFit.csv', index_col = 'Ind')      \n",
    "\n",
    "## Expe 220214 Osmotic Chocs    \n",
    "GlobalData220214_Ct1_Osmo = pd.read_csv(P220214_Ct1_Osmo + '\\\\GlobalData220214_Ct1_Osmo_AreaFit.csv', index_col = 'Ind')   \n",
    "GlobalData220214_Ct2_Osmo = pd.read_csv(P220214_Ct2_Osmo + '\\\\GlobalData220214_Ct2_Osmo_AreaFit.csv', index_col = 'Ind')\n",
    "\n",
    "## Expe 220301   \n",
    "GlobalData220301_Ct = pd.read_csv(P220301_Ct + '\\\\GlobalData220301_Ct_AreaFit.csv', index_col = 'Ind') \n",
    "GlobalData220301_M100 = pd.read_csv(P220301_M100 + '\\\\GlobalData220301_M100_AreaFit.csv', index_col = 'Ind')      \n",
    "\n",
    "## Expe 220301 Osmotic Chocs    \n",
    "GlobalData220301_Ct_Osmo = pd.read_csv(P220301_Ct_Osmo + '\\\\GlobalData220301_Ct_Osmo_AreaFit.csv', index_col = 'Ind')   \n",
    "GlobalData220301_M100_Osmo = pd.read_csv(P220301_M100_Osmo + '\\\\GlobalData220301_M100_Osmo_AreaFit.csv', index_col = 'Ind')\n",
    "\n",
    "# Expe 220531 \n",
    "GlobalData220531_Ct1 = pd.read_csv(P220531_Ct1 + '\\\\GlobalData220531_Ct1_AreaFit.csv', index_col = 'Ind') \n",
    "GlobalData220531_Ct2 = pd.read_csv(P220531_Ct2 + '\\\\GlobalData220531_Ct2_AreaFit.csv', index_col = 'Ind')      \n",
    "\n",
    "# Expe 220531 Osmotic Chocs  \n",
    "GlobalData220531_Ct1_Osmo = pd.read_csv(P220531_Ct1_Osmo + '\\\\GlobalData220531_Ct1_Osmo_AreaFit.csv', index_col = 'Ind')   \n",
    "GlobalData220531_Ct2_Osmo = pd.read_csv(P220531_Ct2_Osmo + '\\\\GlobalData220531_Ct2_Osmo_AreaFit.csv', index_col = 'Ind')\n",
    "\n",
    "\n",
    "## Expe 220722 ABA natalia   \n",
    "GlobalData220722_Ct = pd.read_csv(P220722_Ct + '\\\\GlobalData220722_Ct_AreaFit.csv', index_col = 'Ind') \n",
    "GlobalData220722_ABA = pd.read_csv(P220722_ABA + '\\\\GlobalData220722_ABA_AreaFit.csv', index_col = 'Ind')   \n",
    "\n",
    "## Expe 220727 Ctrl + OC\n",
    "GlobalData220727_Hyper = pd.read_csv(P220727_Hyper + '\\\\GlobalData220727_Hyper_AreaFit.csv', index_col = 'Ind') \n",
    "GlobalData220727_Hypo = pd.read_csv(P220727_Hypo + '\\\\GlobalData220727_Hypo_AreaFit.csv', index_col = 'Ind')  \n",
    "# GlobalData220727_Hyper_Osmo = pd.read_csv(P220727_Hyper + '\\\\GlobalData220727_Hyper_Osmo_AreaFit.csv', index_col = 'Ind') \n",
    "# GlobalData220727_Hypo_Osmo = pd.read_csv(P220727_Hypo_Osmo + '\\\\GlobalData220727_Hypo_Osmo_AreaFit.csv', index_col = 'Ind')  \n",
    "\n",
    "## Expe 220801 Ctrl + OC\n",
    "GlobalData220801_Ct1 = pd.read_csv(P220801_Ct1 + '\\\\GlobalData220801_Ct1_AreaFit.csv', index_col = 'Ind') \n",
    "GlobalData220801_Ct2 = pd.read_csv(P220801_Ct2 + '\\\\GlobalData220801_Ct2_AreaFit.csv', index_col = 'Ind') \n",
    "GlobalData220801_Ct1_Osmo = pd.read_csv(P220801_Ct1_Osmo + '\\\\GlobalData220801_Ct1_Osmo_AreaFit.csv', index_col = 'Ind') \n",
    "GlobalData220801_Ct2_Osmo = pd.read_csv(P220801_Ct2_Osmo + '\\\\GlobalData220801_Ct2_Osmo_AreaFit.csv', index_col = 'Ind')    \n",
    "\n",
    "## Expe 220808\n",
    "GlobalData220808_Ct = pd.read_csv(P220808_Ct + '\\\\GlobalData220808_Ct_AreaFit.csv', index_col = 'Ind') \n",
    "GlobalData220808_100mM = pd.read_csv(P220808_100mM + '\\\\GlobalData220808_100mM_AreaFit.csv', index_col = 'Ind')      \n",
    "\n",
    "## Expe 220808 Osmotic Chocs    \n",
    "GlobalData220808_Ct_Osmo = pd.read_csv(P220808_Ct_Osmo + '\\\\GlobalData220808_Ct_Osmo_AreaFit.csv', index_col = 'Ind')   \n",
    "GlobalData220808_100mM_Osmo = pd.read_csv(P220808_100mM_Osmo + '\\\\GlobalData220808_100mM_Osmo_AreaFit.csv', index_col = 'Ind')\n",
    "\n",
    "## Expe 220928 \n",
    "GlobalData220928_Ct = pd.read_csv(P220928_Ct + '\\\\GlobalData220928_Ct_AreaFit.csv', index_col = 'Ind') \n",
    "GlobalData220928_100mM = pd.read_csv(P220928_100mM + '\\\\GlobalData220928_100mM_AreaFit.csv', index_col = 'Ind')      \n",
    "\n",
    "## Expe 220928 Osmotic Chocs    \n",
    "GlobalData220928_Ct_Osmo = pd.read_csv(P220928_Ct_Osmo + '\\\\GlobalData220928_Ct_Osmo_AreaFit.csv', index_col = 'Ind')   \n",
    "GlobalData220928_100mM_Osmo = pd.read_csv(P220928_100mM_Osmo + '\\\\GlobalData220928_100mM_Osmo_AreaFit.csv', index_col = 'Ind')\n",
    "\n",
    "## Expe 221025 manitol growth\n",
    "GlobalData221025_Ct  = pd.read_csv(P221025_Ct + '\\\\GlobalData221025_Ct_AreaFit.csv', index_col = 'Ind')\n",
    "GlobalData221025_100mM  = pd.read_csv(P221025_100mM + '\\\\GlobalData221025_100mM_AreaFit.csv', index_col = 'Ind')\n",
    "\n",
    "##Expe 221025 manitol growth + double OC\n",
    "GlobalData221025_Ct_Osmo  = pd.read_csv(P221025_Ct_Osmo + '\\\\GlobalData221025_Ct_Osmo_AreaFit.csv', index_col = 'Ind')\n",
    "GlobalData221025_Ct_Osmo2  = pd.read_csv(P221025_Ct_Osmo2 + '\\\\GlobalData221025_Ct_Osmo2_AreaFit.csv', index_col = 'Ind')\n",
    "GlobalData221025_100mM_Osmo = pd.read_csv(P221025_100mM_Osmo + '\\\\GlobalData221025_100mM_Osmo_AreaFit.csv', index_col = 'Ind')\n",
    "GlobalData221025_100mM_Osmo2 = pd.read_csv(P221025_100mM_Osmo2 + '\\\\GlobalData221025_100mM_Osmo2_AreaFit.csv', index_col = 'Ind')\n",
    "\n",
    "## Expe \n",
    "GlobalData221004_Ct_Osmo = pd.read_csv(P221004_Ct_Osmo + '\\\\GlobalData221004_Ct_Osmo_AreaFit.csv', index_col = 'Ind') \n",
    "GlobalData221004_Pase10U_Osmo = pd.read_csv(P221004_Pase10U_Osmo + '\\\\GlobalData221004_Pase10U_Osmo_AreaFit.csv', index_col = 'Ind')    \n",
    "\n",
    "now  = datetime.datetime.now()\n",
    "now_str = now.strftime(\"%d/%m/%Y %H:%M\")\n",
    "print(now_str + '\\nData loaded.')"
   ]
  },
  {
   "cell_type": "code",
   "execution_count": null,
   "metadata": {},
   "outputs": [],
   "source": [
    "# Colors\n",
    "\n",
    "LightGreen = [0.5, 1, 0.3]\n",
    "Green = [0.3, 0.7, 0.2]\n",
    "DarkGreen = [0.1, 0.4, 0.1]\n",
    "PastelGreen = [0.5, 1, 0.8]\n",
    "DarkPastelGreen = [0.2, 0.6, 0.5]\n",
    "\n",
    "Pink = [1, 0.3, 0.5]\n",
    "Red = [0.8, 0.2, 0.2]\n",
    "DarkRed = [0.6, 0.1, 0.2]\n",
    "\n",
    "LightBlue = [0.3, 0.5, 1]\n",
    "Blue = [0.2, 0.3, 0.7]\n",
    "DarkBlue = [0.1, 0.1, 0.4]\n",
    "\n",
    "DarkPurple = [0.4, 0, 0.3]\n",
    "Purple = [0.55, 0, 0.45]\n",
    "LightPurple = [0.8, 0, 0.7]\n",
    "\n",
    "Yellow = [0.8, 0.8, 0.2]\n",
    "DarkYellow = [0.5, 0.5, 0.2]\n"
   ]
  },
  {
   "cell_type": "markdown",
   "metadata": {},
   "source": [
    "## Plots by experiments"
   ]
  },
  {
   "cell_type": "markdown",
   "metadata": {
    "heading_collapsed": true
   },
   "source": [
    "### Ctrls V5"
   ]
  },
  {
   "cell_type": "code",
   "execution_count": null,
   "metadata": {
    "hidden": true,
    "scrolled": false
   },
   "outputs": [],
   "source": [
    "#### No degas flux controls\n",
    "\n",
    "# ### Pool data\n",
    "# GlobalData_5 = GlobalData210927_5.append(GlobalData210903_5)\n",
    "# GlobalData_1 = GlobalData210927_1.append(GlobalData210903_1)\n",
    "\n",
    "# # ### Plot\n",
    "# compareGrowth([GlobalData210903_5,GlobalData210903_1,GlobalData210927_5,GlobalData210927_1],\n",
    "#               ['500 µl/h\\nN=2','1 ml/h\\nN=2'],[Green, DarkGreen], PFig, 'Flux controls - Pooled',\n",
    "#               showcurve = False, showbox = False,showhist = True, nbins = 15,stats='ANOVA',\n",
    "#              groupcat = ['1_500ulh','2_1mlh','1_500ulh','2_1mlh'], diffcat = ['0309','0309','2709','2709']);\n",
    "\n",
    "\n",
    "\n",
    "### Ctrls gas & degas\n",
    "# compareGrowth([GlobalData211022_Ct1,GlobalData211022_Ct2],['Chamber 1\\n','Chamber 2\\n'],\n",
    "#          [Red, DarkRed], PFig, 'V5_Ctrls', showcurve = False, showbox = True,showhist = True, nbins = 15,stats='ranksum');\n",
    "\n",
    "# compareGrowth([GlobalData211105_Degas,GlobalData211222_Degas],['Degas0511\\n','Degas2212\\n'],\n",
    "#          [Blue, DarkBlue], PFig, 'V5_Degas_2days', showcurve = False, showbox = True,showhist = True, \n",
    "#               nbins = 15,stats='ranksum');\n",
    "\n",
    "# GlobalDataCtrl = GlobalData211022_Ct1.append(GlobalData211022_Ct2)\n",
    "# GlobalDataDegased = GlobalData211222_Degas.append(GlobalData211105_Degas)\n",
    "\n",
    "# compareGrowth([GlobalDataCtrl,GlobalDataDegased],['Ctrl\\n','Degased\\n'],\n",
    "#            [Red, Blue], PFig, 'V5_DegasControls_Pooled', showcurve = False, showbox = True,showhist = True, nbins = 15,stats='ranksum');\n",
    "\n"
   ]
  },
  {
   "cell_type": "markdown",
   "metadata": {
    "heading_collapsed": true
   },
   "source": [
    "### Stade comparison DV6"
   ]
  },
  {
   "cell_type": "code",
   "execution_count": null,
   "metadata": {
    "hidden": true,
    "scrolled": false
   },
   "outputs": [],
   "source": [
    "# ## Pool data\n",
    "\n",
    "# GlobalData_S1 = GlobalData220107_S1.append(GlobalData220112_S1)\n",
    "# GlobalData_S3 = GlobalData220107_S3.append(GlobalData220112_S3)\n",
    "\n",
    "# # GlobalData_S1 = GlobalData_S1.append(GlobalData220114_S1) # Discarded data\n",
    "# # GlobalData_S3 = GlobalData_S3.append(GlobalData220114_S3)\n",
    "\n",
    "# compareGrowth([GlobalData220107_S1,GlobalData220107_S3,GlobalData220112_S1,GlobalData220112_S3],\n",
    "#              ['Stade 1\\nN = 2\\n','Stade 3\\nN=2\\n'],[Yellow, DarkYellow], \n",
    "#              PFig, 'Stades 1 & 3 - Pooled - ANOVA', showcurve = False, showbox = True,stats='ANOVA',\n",
    "#              groupcat = ['1_Stade1','2_Stade3','1_Stade1','2_Stade3'], diffcat = ['0701','0701','1201','1201']);\n",
    "\n",
    "# ### Correlation with starting size\n",
    "# Corr([GlobalData_S1,GlobalData_S3],['Stade1_Pooled','Stade3_Pooled'],colors = [Yellow, DarkYellow],\n",
    "#          columns = ['A0fit','Area','tdeb','Tau','ChipRow'],\n",
    "#          columnslabels = ['A0fit (mm²)', 'A0exp (mm²)', 'Tstart (min)', 'Tau (min)','Chip position'])\n"
   ]
  },
  {
   "cell_type": "markdown",
   "metadata": {
    "heading_collapsed": true
   },
   "source": [
    "### Hyperosmotic growth V5"
   ]
  },
  {
   "cell_type": "code",
   "execution_count": null,
   "metadata": {
    "hidden": true,
    "scrolled": false
   },
   "outputs": [],
   "source": [
    "# compareGrowth([GlobalData210914_Ct,GlobalData210914_M125],['Ctrl','Manitol'],\n",
    "#             [PastelGreen, DarkPastelGreen], PFig, 'V5_Manitol125', showcurve = True, showbox = True);"
   ]
  },
  {
   "cell_type": "markdown",
   "metadata": {
    "heading_collapsed": true
   },
   "source": [
    "### Ctrls DV6 degas Stade1 (24-01-2022, 14-02-2022, )"
   ]
  },
  {
   "cell_type": "code",
   "execution_count": null,
   "metadata": {
    "hidden": true,
    "scrolled": false
   },
   "outputs": [],
   "source": [
    "\n",
    "# compareGrowth([GlobalData220124_Ct1,GlobalData220124_Ct2,GlobalData220214_Ct1,GlobalData220214_Ct2],\n",
    "#               ['Chamber 1\\nN = 2\\n','Chamber 2\\nN=2\\n','Chamber 1\\nN = 2\\n','Chamber 2\\nN=2\\n'],[Blue, LightBlue, Green, LightGreen], \n",
    "#              PFig, 'Controls - ExpDel - ANOVA', showcurve = True, showbox = True,showhist = True, nbins = 15,indiplots = False,NimgMax = '24h',\n",
    "#               stats='ANOVA',groupcat = ['1_Chamber1','2_Chamber2','1_Chamber1','2_Chamber2'], diffcat = ['0124','0124','0214','0214'])\n",
    "\n",
    "\n",
    "# compareGrowth([GlobalData220214_Ct1,GlobalData220214_Ct2],['Chamber 1\\n','Chamber 2\\n'],[Red, DarkRed], \n",
    "#              PFig, 'Controls 14-02-2022 - ExpDel', showcurve = False, showbox = True,showhist = False, \n",
    "#               nbins = 15,indiplots = False,NimgMax = '24h',stats='ranksum')\n",
    "\n",
    "\n",
    "\n",
    "# compareGrowth([GlobalData220124_Ct1,GlobalData220124_Ct2,GlobalData220214_Ct1,GlobalData220214_Ct2],\n",
    "#               ['1_C1','1_C2','2_C1','2_C2'],[Purple,Green,Blue, Yellow], \n",
    "#              PFig, 'Controls - MixedTdeb - ranksum', showcurve = True, showbox = True,showhist = True, \n",
    "#               nbins = 15,stats='ranksum')\n",
    "\n",
    "## Correlations of variables\n",
    "# Corr([GlobalData_Ct1.append(GlobalData_Ct2)],['Controls_Pooled'],colors = [Purple],\n",
    "#          columns = ['A0fit','Area','tdeb','tdeb_GR','Tau','CaracT_GR','ChipRow'],\n",
    "#          columnslabels = ['A0fit (mm²)', 'A0exp (mm²)', 'Tstart (min)','Tstart_GR (min)', 'Tau (min)','Carac time GR','Chip position',],PlotFits=True)\n",
    "\n",
    "\n",
    "# Corr([GlobalData_Ct1.append(GlobalData_Ct2)],['Controls_Pooled'],colors = [Purple],\n",
    "#          columns = ['tdeb','CaracT_GR','tdeb_GR','Tau'],\n",
    "#          columnslabels = ['Tstart (min)','Carac time GR (min)','Tstart_GR (min)', 'Tau (min)'],PlotFits=True)\n",
    "\n",
    "# Corr([GlobalData_Ct1, GlobalData_Ct2],['Ct1', 'Ct2'],colors = [Red, Blue],\n",
    "#          columns = ['tdeb','CaracT_GR','tdeb_GR','Tau'],\n",
    "#          columnslabels = ['Tstart (min)','Carac time GR (min)','Tstart_GR (min)', 'Tau (min)'],PlotFits=True)\n",
    "\n",
    "# Corr([GlobalData220124_Ct1,GlobalData220124_Ct2,GlobalData220214_Ct1,GlobalData220214_Ct2],['1_C1','1_C2','2_C1','2_C2']\n",
    "#      ,colors = [Blue, Red, Green, Yellow],\n",
    "#          columns = ['tdeb','CaracT_GR','tdeb_GR','Tau',],\n",
    "#          columnslabels = ['Tstart (min)','Carac time GR (min)','Tstart_GR (min)', 'Tau (min)'],PlotFits=True)\n"
   ]
  },
  {
   "cell_type": "markdown",
   "metadata": {
    "heading_collapsed": true
   },
   "source": [
    "### Osmotic choc correlation on Ctrls from 14-02-2022"
   ]
  },
  {
   "cell_type": "code",
   "execution_count": null,
   "metadata": {
    "hidden": true,
    "scrolled": false
   },
   "outputs": [],
   "source": [
    "# compareHydroMech([GlobalData220214_Ct1_Osmo, GlobalData220214_Ct2_Osmo],\n",
    "#              ['Chamber 1','Chamber 2'],[Blue,LightBlue], \n",
    "#              PFig, 'OsmChoc_14-02-2022', showbox = True,showhist = True,stats='ranksum');\n",
    "\n",
    "# GOC_Comp([GlobalData220214_Ct1],[GlobalData220214_Ct1_Osmo],['Tau'],\n",
    "#          ['Ecomp','Erel','E','H/L_Comp','H/L_Rel','H/L'],['Tau'],['Ecomp','Erel','E','H/L_Comp','H/L_Rel','H/L'],['1402_OC_Ct1','1402_OC_Ct2'],[Purple,Red,Blue],PlotFits=True)\n",
    "\n",
    "\n",
    "# compareHydroMech([GlobalData220214_Ct1_Osmo.append(GlobalData220214_Ct2_Osmo)],\n",
    "#              ['Chambers pooled'],[Purple], \n",
    "#              PFig, 'OsmChoc_14-02-2022', showbox = True,showhist = False, nbins = 'auto',stats='ranksum');\n",
    "\n",
    "# GOC_Comp([GlobalData220214_Ct1,GlobalData220214_Ct2],[GlobalData220214_Ct2_Osmo,GlobalData220214_Ct1_Osmo],['GR_end'],\n",
    "#          ['1/E','1/Ecomp','1/Erel'],['GR_end'],\n",
    "#          ['1/E','1/Ecomp','1/Erel'],['1402_OC_Ct1','1402_OC_Ct2'],[Purple,Red,Blue],PlotFits=False)\n",
    "\n",
    "\n",
    "# GOC_Comp([GlobalData220214_Ct1,GlobalData220214_Ct2],[GlobalData220214_Ct1_Osmo,GlobalData220214_Ct2_Osmo],['GR_end'],\n",
    "#          ['L/H_Comp','L/H_Rel','1/E'],['GR_end'],['L/H_Comp','L/H_Rel','1/E'],\n",
    "#          ['1402_OC_Ct1','1402_OC_Ct2'],[Purple,Red,Blue],PlotFits=False)\n",
    "\n"
   ]
  },
  {
   "cell_type": "markdown",
   "metadata": {},
   "source": [
    "### Growth 100mM +OC (01-03-22)"
   ]
  },
  {
   "cell_type": "markdown",
   "metadata": {
    "heading_collapsed": true
   },
   "source": [
    "#### Growth quantif"
   ]
  },
  {
   "cell_type": "code",
   "execution_count": null,
   "metadata": {
    "hidden": true,
    "scrolled": false
   },
   "outputs": [],
   "source": [
    "# Plot \n",
    "\n",
    "# compareGrowth([GlobalData220301_Ct, GlobalData220301_M100],\n",
    "#              ['Ctrl\\n','M100\\n'],[Green, DarkGreen], \n",
    "#              PFig, '100mM 0103', showcurve = True, showbox = True,showhist = False, nbins = 15,stats='ranksum');"
   ]
  },
  {
   "cell_type": "markdown",
   "metadata": {
    "heading_collapsed": true
   },
   "source": [
    "#### OC correlation"
   ]
  },
  {
   "cell_type": "code",
   "execution_count": null,
   "metadata": {
    "hidden": true,
    "scrolled": false
   },
   "outputs": [],
   "source": [
    "# compareHydroMech([GlobalData220301_Ct_Osmo,GlobalData220301_M100_Osmo],\n",
    "#              ['Ctrl','Manitol 100mM'],[Green, DarkGreen], \n",
    "#              PFig, 'OsmChoc 01-03-2022', showbox = True,showhist = True,stats='ranksum');\n",
    "\n",
    "# GOC_Comp(GlobalData220301_Ct,GlobalData220301_Ct_Osmo,['Tau','Tau10h'],\n",
    "#          ['K','L'],['Tau','Tau10h'],\n",
    "#          ['Module K (MPa)','Hydraulic permitivity (m.s-1.Pa-1)','Tau growth (min)', 'Tau growth 10 last hours (min)'],\n",
    "#          '0103_Ctrl_OC',[PastelGreen],PlotFits=True)\n",
    "\n",
    "# GOC_Comp(GlobalData220301_M100,GlobalData220301_M100_Osmo,['Tau','Tau10h'],\n",
    "#          ['K','L'],['Tau','Tau10h'],\n",
    "#          ['Module K (MPa)','Hydraulic permitivity (m.s-1.Pa-1)','Tau growth (min)', 'Tau growth 10 last hours (min)'],\n",
    "#          '0103_100mM_OC',[DarkPastelGreen],PlotFits=True)\n",
    "\n",
    "# GOC_Comp([GlobalData220301_Ct,GlobalData220301_M100],[GlobalData220301_Ct_Osmo,GlobalData220301_M100_Osmo],['GR_end'],\n",
    "#          ['L/H_Comp','L/H_Rel','1/E'],['GR_end'],['L/H_Comp','L/H_Rel','1/E'],\n",
    "#          ['1402_OC_Ct1','1402_OC_Ct2'],[Purple,Red,Blue],PlotFits=False)"
   ]
  },
  {
   "cell_type": "markdown",
   "metadata": {},
   "source": [
    "### Growth DV7 (27-07-2022)"
   ]
  },
  {
   "cell_type": "markdown",
   "metadata": {
    "heading_collapsed": true
   },
   "source": [
    "#### Growth"
   ]
  },
  {
   "cell_type": "code",
   "execution_count": null,
   "metadata": {
    "hidden": true,
    "scrolled": false
   },
   "outputs": [],
   "source": [
    "# compareGrowth([GlobalData220727_Hyper, GlobalData220124_Ct1.append(GlobalData220124_Ct2).append(GlobalData220214_Ct1).append(GlobalData220214_Ct2)],\n",
    "#              ['New\\n','Pooled\\n'],[Blue, DarkBlue], \n",
    "#              PFig, '220727_Ctrls', showcurve = True, showbox = True,showhist = True, nbins = 15,stats='ranksum');\n",
    "\n"
   ]
  },
  {
   "cell_type": "markdown",
   "metadata": {
    "heading_collapsed": true
   },
   "source": [
    "### Natalia's experiments"
   ]
  },
  {
   "cell_type": "code",
   "execution_count": null,
   "metadata": {
    "hidden": true,
    "scrolled": false
   },
   "outputs": [],
   "source": [
    "\n",
    "# GlobalData220518_Ct = pd.read_csv(P220518_Ct + '\\\\GlobalData220518_Ct_AreaFit.csv', index_col = 'Ind') \n",
    "# GlobalData220518_ABA = pd.read_csv(P220518_ABA + '\\\\GlobalData220518_Aba07_AreaFit.csv', index_col = 'Ind') \n",
    "\n",
    "# GlobalData_Ct  = GlobalData220124_Ct1.append(GlobalData220214_Ct2.append(GlobalData220214_Ct1)).append(GlobalData220124_Ct2)\n",
    "\n",
    "# compareGrowth([GlobalData_Ct, GlobalData220518_Ct, GlobalData220518_ABA],\n",
    "#              ['Ctrl Val\\n','Ctrl Nat\\n','ABA Nat\\n'],[Blue, Green, DarkGreen], \n",
    "#              PFig, 'Natalia_ABA', showcurve = True, showbox = True,showhist = True, nbins = 15,stats='ranksum');"
   ]
  },
  {
   "cell_type": "markdown",
   "metadata": {
    "heading_collapsed": true,
    "hidden": true
   },
   "source": [
    "#### 22-07-22 (ABA 3.5µM)"
   ]
  },
  {
   "cell_type": "code",
   "execution_count": null,
   "metadata": {
    "hidden": true,
    "scrolled": false
   },
   "outputs": [],
   "source": [
    "# compareGrowth([GlobalData220722_Ct, GlobalData220722_ABA],\n",
    "#              ['Ctrl\\n','ABA 3.5 µM\\n'],[Red,DarkRed],PFig, '220722_ABA',NimgMax = 'max',\n",
    "#               showcurve = True, showbox = True,showhist = True, nbins = 15,stats='ranksum');\n"
   ]
  },
  {
   "cell_type": "markdown",
   "metadata": {
    "heading_collapsed": true
   },
   "source": [
    "### Ctrls DV7 (31/05/2022)"
   ]
  },
  {
   "cell_type": "markdown",
   "metadata": {
    "heading_collapsed": true,
    "hidden": true
   },
   "source": [
    "#### Growth"
   ]
  },
  {
   "cell_type": "code",
   "execution_count": null,
   "metadata": {
    "hidden": true,
    "scrolled": false
   },
   "outputs": [],
   "source": [
    "# GlobalData_Ct  = GlobalData220124_Ct1.append(GlobalData220214_Ct2.append(GlobalData220214_Ct1)).append(GlobalData220124_Ct2)\n",
    "\n",
    "# compareGrowth([GlobalData_Ct, GlobalData220531_Ct1, GlobalData220531_Ct2],\n",
    "#              ['Old data\\n','3105_Ct1\\n','3105_Ct2\\n'],[Blue, Green, DarkGreen], \n",
    "#              PFig, 'Controls 310522', showcurve = True, showbox = True,showhist = True, nbins = 15,stats='ranksum');\n",
    "\n",
    "# compareGrowth([GlobalData_Ct, GlobalData220531_Ct2],\n",
    "#              ['Old data\\n','3105_Ct2\\n'],[Blue, DarkGreen], \n",
    "#              PFig, 'Controls 310522', showcurve = True, showbox = True,showhist = True, nbins = 15,stats='ranksum');"
   ]
  },
  {
   "cell_type": "markdown",
   "metadata": {
    "heading_collapsed": true,
    "hidden": true
   },
   "source": [
    "#### OC"
   ]
  },
  {
   "cell_type": "code",
   "execution_count": null,
   "metadata": {
    "hidden": true,
    "scrolled": false
   },
   "outputs": [],
   "source": [
    "# compareHydroMech([GlobalData220531_Ct1_Osmo, GlobalData220531_Ct2_Osmo],\n",
    "#              ['220531_Ct1','220531_Ct2'],[Red,DarkRed], \n",
    "#              PFig, 'OsmChoc_31-05-2022', showbox = True,showhist = True,stats='ranksum');\n",
    "\n",
    "# compareHydroMech([GlobalData220214_Ct1_Osmo.append(GlobalData220214_Ct2_Osmo).append(GlobalData220531_Ct1_Osmo).append(GlobalData220531_Ct2_Osmo).append(GlobalData220801_Ct1_Osmo)],\n",
    "#              ['AllChocs'],[Red,DarkRed], \n",
    "#              PFig, 'OsmChoc_All', showbox = True,showhist = True,stats='ranksum');\n",
    "\n",
    "# GOC_Comp([GlobalData220531_Ct1,GlobalData220531_Ct2],[GlobalData220531_Ct1_Osmo,GlobalData220531_Ct2_Osmo],\n",
    "#          ['GR_end'],['1/E','1/Ecomp','1/Erel'],['GR_end'],['1/E','1/Ecomp','1/Erel'],\n",
    "#          ['220531_Ct1','220531_Ct2'],[Purple,Red,Blue],PlotFits=True)\n",
    "\n",
    "\n",
    "# GOC_Comp([GlobalData220531_Ct1,GlobalData220531_Ct2],[GlobalData220531_Ct1_Osmo,GlobalData220531_Ct2_Osmo],\n",
    "#          ['GR_end'],['TauFlux','TauFluxRel','L/H_Comp','L/H_Rel'],['GR_end'],['TauFlux','TauFluxRel','L/H_Comp','L/H_Rel'],\n",
    "#          ['220531_Cts'],[Purple,Red,Blue],PlotFits=True)\n"
   ]
  },
  {
   "cell_type": "markdown",
   "metadata": {},
   "source": [
    "### New heading"
   ]
  },
  {
   "cell_type": "markdown",
   "metadata": {
    "heading_collapsed": true
   },
   "source": [
    "### Ctrls DV7 (01/08/2022)"
   ]
  },
  {
   "cell_type": "markdown",
   "metadata": {
    "heading_collapsed": true,
    "hidden": true
   },
   "source": [
    "#### Growth"
   ]
  },
  {
   "cell_type": "code",
   "execution_count": null,
   "metadata": {
    "hidden": true,
    "scrolled": false
   },
   "outputs": [],
   "source": [
    "# GlobalData_Ct  = GlobalData220124_Ct1.append(GlobalData220214_Ct2.append(GlobalData220214_Ct1)).append(GlobalData220124_Ct2)\n",
    "\n",
    "\n",
    "# compareGrowth([GlobalData_Ct, GlobalData220801_Ct1],\n",
    "#              ['Old data\\n','0108_Ct1\\n'],[Blue, Green, DarkGreen],PFig, 'Controls 010822', \n",
    "#               showcurve = True, showbox = True,showhist = True, nbins = 15,stats='ranksum',NimgMax = '24h');\n",
    "\n",
    "# compareGrowth([GlobalData_Ct, GlobalData220801_Ct1, GlobalData220801_Ct2],\n",
    "#              ['Old data\\n','0108_Ct1\\n','0108_Ct2\\n'],[Blue, Green, DarkGreen], \n",
    "#              PFig, 'Controls 010822', showcurve = True, showbox = True,showhist = True, nbins = 15,stats='ranksum');\n"
   ]
  },
  {
   "cell_type": "markdown",
   "metadata": {
    "heading_collapsed": true,
    "hidden": true
   },
   "source": [
    "#### OC"
   ]
  },
  {
   "cell_type": "code",
   "execution_count": null,
   "metadata": {
    "hidden": true,
    "scrolled": false
   },
   "outputs": [],
   "source": [
    "# compareHydroMech([GlobalData220531_Ct1_Osmo.append(GlobalData220531_Ct2_Osmo),GlobalData220801_Ct1_Osmo.append(GlobalData220801_Ct2_Osmo)],\n",
    "#              ['220531','220801'],[Blue,DarkRed], \n",
    "#              PFig, 'OsmChoc_All', showbox = True,showhist = False,stats='ranksum');\n",
    "\n",
    "# GOC_Comp([GlobalData220214_Ct1,GlobalData220214_Ct2,GlobalData220531_Ct1,GlobalData220531_Ct2,GlobalData220801_Ct1],\n",
    "#          [GlobalData220214_Ct1_Osmo,GlobalData220214_Ct2_Osmo,GlobalData220531_Ct1_Osmo,GlobalData220531_Ct2_Osmo,GlobalData220801_Ct1_Osmo],\n",
    "#          ['GR_end'],['Ecomp','Erel'],['GR_end'],['Ecomp','Erel'],\n",
    "#          ['220531_Ct1','220531_Ct2','220801_Ct1','220801_Ct2'],['gray',LightBlue,DarkBlue,Pink,DarkRed],PlotFits=True)\n",
    "\n",
    "# compareHydroMech([GlobalData220801_Ct1_Osmo, GlobalData220801_Ct2_Osmo],\n",
    "#              ['220801_Ct1','220801_Ct2'],[Red,DarkRed], \n",
    "#              PFig, 'OsmChoc_01-08-2022', showbox = True,showhist = False,stats='ranksum');\n",
    "\n",
    "# GOC_Comp([GlobalData220801_Ct1,GlobalData220801_Ct2],[GlobalData220801_Ct1_Osmo,GlobalData220801_Ct2_Osmo],\n",
    "#          ['GR_end'],['1/E','1/Ecomp','1/Erel'],['GR_end'],['1/E','1/Ecomp','1/Erel'],\n",
    "#          ['220801_Ct1','220801_Ct2'],[Purple,Red,Blue],PlotFits=True)"
   ]
  },
  {
   "cell_type": "markdown",
   "metadata": {
    "heading_collapsed": true
   },
   "source": [
    "### Growth 100mM + OC (08-08-2022, 28-09-2022, & 25-10-2022)"
   ]
  },
  {
   "cell_type": "markdown",
   "metadata": {
    "hidden": true
   },
   "source": [
    "#### Growth quantif"
   ]
  },
  {
   "cell_type": "code",
   "execution_count": null,
   "metadata": {
    "hidden": true,
    "scrolled": false
   },
   "outputs": [],
   "source": [
    "# compareGrowth([GlobalData220808_Ct, GlobalData220808_100mM],\n",
    "#              ['Ctrl\\n','M100\\n'],[Red, DarkRed], \n",
    "#              PFig, '100mM 0808', showcurve = True, showbox = True,showhist = True, nbins = 15,stats='ranksum');\n",
    "\n",
    "# compareGrowth([GlobalData220928_Ct, GlobalData220928_100mM],\n",
    "#              ['Ctrl\\n','M100\\n'],[Green, DarkGreen], \n",
    "#              PFig, '100mM 0928', showcurve = True, showbox = True,showhist = True, nbins = 15,stats='ranksum');\n",
    "\n",
    "# compareGrowth([GlobalData221025_Ct, GlobalData221025_100mM],\n",
    "#              ['Ctrl\\n','M100\\n'],[Blue, DarkBlue], \n",
    "#              PFig, '100mM 1025', showcurve = True, showbox = True,showhist = False, nbins = 15,stats='ranksum');\n",
    "\n",
    "# compareGrowth([GlobalData220808_Ct, GlobalData220808_100mM,GlobalData220928_Ct, GlobalData220928_100mM,GlobalData221025_Ct, GlobalData221025_100mM],\n",
    "#              ['Ctrl_0808\\n','M100_0808\\n','Ctrl_0928\\n','M100_0928\\n','Ctrl_1025\\n','M100_1025\\n'],[Red,DarkRed,Green, DarkGreen,Blue, DarkBlue], \n",
    "#              PFig, '100mM_pooled', showcurve = True, showbox = True,showhist = False, nbins = 15,stats='ranksum',\n",
    "#              sigpairs = [(0,1),(2,3),(4,5)]);\n"
   ]
  },
  {
   "cell_type": "markdown",
   "metadata": {
    "hidden": true
   },
   "source": [
    "#### OC correlation"
   ]
  },
  {
   "cell_type": "code",
   "execution_count": null,
   "metadata": {
    "hidden": true,
    "scrolled": true
   },
   "outputs": [],
   "source": [
    "# compareHydroMech([GlobalData220808_Ct_Osmo,GlobalData220808_100mM_Osmo],\n",
    "#              ['Ctrl','Manitol 100mM'],[Red, DarkRed], \n",
    "#              PFig, 'OsmChoc 0808', showbox = True,showhist = True,stats='ranksum');\n",
    "\n",
    "\n",
    "# compareHydroMech([GlobalData220928_Ct_Osmo,GlobalData220928_100mM_Osmo],\n",
    "#              ['Ctrl','Manitol 100mM'],[Green, DarkGreen], \n",
    "#              PFig, 'OsmChoc 0928', showbox = True,showhist = True,stats='ranksum');\n",
    "\n",
    "\n",
    "\n",
    "# compareHydroMech([GlobalData221025_Ct_Osmo,GlobalData221025_100mM_Osmo],\n",
    "#              ['Ctrl','Manitol 100mM'],[Green, DarkGreen], \n",
    "#              PFig, 'OsmChoc 1025', showbox = True,showhist = True,stats='ranksum');\n",
    "\n",
    "\n",
    "# compareHydroMech([GlobalData220808_Ct_Osmo,GlobalData220808_100mM_Osmo,GlobalData220928_Ct_Osmo,GlobalData220928_100mM_Osmo,\n",
    "#                   GlobalData221025_Ct_Osmo,GlobalData221025_100mM_Osmo],\n",
    "#              ['Ctrl','Manitol 100mM','Ctrl','Manitol 100mM'],[Red,DarkRed, Green, DarkGreen,Blue, DarkBlue], \n",
    "#              PFig, 'OsmChoc_Pooled', showbox = True,showhist = True,stats='ranksum',sigpairs =[(0,1),(2,3)]);\n",
    "\n",
    "\n",
    "\n",
    "\n",
    "# GOC_Comp([GlobalData221025_Ct,GlobalData221025_100mM,GlobalData220928_Ct, GlobalData220928_100mM],\n",
    "#          [GlobalData221025_Ct_Osmo,GlobalData221025_100mM_Osmo,GlobalData220928_Ct_Osmo,GlobalData220928_100mM_Osmo],\n",
    "#          ['GR_end'],['Ecomp','Erel'],['GR_end'],['Ecomp','Erel'],\n",
    "#          ['Ctrl_1025\\n','M100_1025\\n','Ctrl_0928\\n','M100_0928\\n'],['gray',Green, DarkGreen,Blue, DarkBlue],PlotFits=True)"
   ]
  },
  {
   "cell_type": "markdown",
   "metadata": {
    "heading_collapsed": true
   },
   "source": [
    "### OC after pectinase treatment (04-10-2022)"
   ]
  },
  {
   "cell_type": "code",
   "execution_count": null,
   "metadata": {
    "hidden": true,
    "scrolled": false
   },
   "outputs": [],
   "source": [
    "\n",
    "# compareHydroMech([GlobalData220531_Ct1_Osmo.append(GlobalData220531_Ct2_Osmo),\n",
    "#                  GlobalData221004_Ct_Osmo,GlobalData221004_Pase10U_Osmo],\n",
    "#              ['Ctrls','1004_Ctrl','1004_Pase10U'],['b','g','r'], \n",
    "#              PFig, 'OsmChoc_Pase', showbox = True,showhist = True,stats='ranksum');"
   ]
  },
  {
   "cell_type": "markdown",
   "metadata": {
    "heading_collapsed": true
   },
   "source": [
    "### Successive OC (25-10-2022)"
   ]
  },
  {
   "cell_type": "code",
   "execution_count": null,
   "metadata": {
    "hidden": true,
    "scrolled": false
   },
   "outputs": [],
   "source": [
    "# compareHydroMech([GlobalData221025_Ct_Osmo,GlobalData221025_Ct_Osmo2],\n",
    "#              ['Ctrl_OC1','Ctrl_OC2'],[Green, DarkGreen], \n",
    "#              PFig, 'OsmChoc2 1025', showbox = True,showhist = True,stats='ranksum');\n",
    "\n",
    "# compareHydroMech([GlobalData221025_100mM_Osmo,GlobalData221025_100mM_Osmo2],\n",
    "#              ['100mM_OC1','100mM_OC2'],[Blue, DarkBlue], \n",
    "#              PFig, 'OsmChoc2 1025', showbox = True,showhist = True,stats='ranksum');\n",
    "\n",
    "\n",
    "# GlobalData221025_Ct_Osmo2.loc[:,'Ecomp2'] = GlobalData221025_Ct_Osmo2.loc[:,'Ecomp'] \n",
    "# GlobalData221025_Ct_Osmo2.loc[:,'Erel2'] = GlobalData221025_Ct_Osmo2.loc[:,'Erel'] \n",
    "\n",
    "# GlobalData221025_Ct_Osmo2 =GlobalData221025_Ct_Osmo2.drop(columns=['Ecomp','Erel'])\n",
    "\n",
    "\n",
    "# GlobalData221025_100mM_Osmo2.loc[:,'Ecomp2'] = GlobalData221025_100mM_Osmo2.loc[:,'Ecomp']\n",
    "# GlobalData221025_100mM_Osmo2.loc[:,'Erel2'] = GlobalData221025_100mM_Osmo2.loc[:,'Erel']\n",
    "\n",
    "\n",
    "# GlobalData221025_100mM_Osmo2 =GlobalData221025_100mM_Osmo2.drop(columns=['Ecomp','Erel'])\n",
    "\n",
    "\n",
    "\n",
    "# GOC_Comp([GlobalData221025_Ct_Osmo,GlobalData221025_100mM_Osmo],\n",
    "#          [GlobalData221025_Ct_Osmo2,GlobalData221025_100mM_Osmo2],\n",
    "#          ['Ecomp','Erel'],['Ecomp2','Erel2'],['Ecomp_1','Erel_1'],['Ecomp_2','Erel_2'],\n",
    "#          ['Ctrl_OC1','100mM_OC1','Ctrl_OC2','100mM_OC2'],[DarkGreen, DarkBlue,Red],PlotFits=True)"
   ]
  },
  {
   "cell_type": "markdown",
   "metadata": {
    "heading_collapsed": true
   },
   "source": [
    "### Bad data plots"
   ]
  },
  {
   "cell_type": "markdown",
   "metadata": {
    "hidden": true
   },
   "source": [
    "#### Growth 03-02-2022"
   ]
  },
  {
   "cell_type": "code",
   "execution_count": null,
   "metadata": {
    "hidden": true,
    "scrolled": false
   },
   "outputs": [],
   "source": [
    "# #### Growth quantif\n",
    "# GlobalData_Ct = GlobalData_Ct1.append(GlobalData_Ct2)\n",
    "\n",
    "# compareGrowth([GlobalData_Ct1,GlobalData220203_Ct1],\n",
    "#              ['GoodCtrls','Bad data 030222'],[DarkGreen, Blue], \n",
    "#              PFig, 'DV6 ctrls vs 030222', showcurve = False, showbox = True,showhist = True, nbins = 15,stats='ranksum');\n",
    "\n",
    "# compareGrowth([GlobalData_Ct1,GlobalData220405_Ct1],\n",
    "#              ['GoodCtrls','Bad data 050422'],[DarkGreen, Blue], \n",
    "#              PFig, 'DV6 ctrls vs 050422', showcurve = False, showbox = True,showhist = True, nbins = 15,stats='ranksum');\n",
    "\n"
   ]
  },
  {
   "cell_type": "markdown",
   "metadata": {
    "hidden": true
   },
   "source": [
    "##### OC +100mM --> BAD data"
   ]
  },
  {
   "cell_type": "code",
   "execution_count": null,
   "metadata": {
    "hidden": true,
    "scrolled": false
   },
   "outputs": [],
   "source": [
    "# compareHydroMech([GlobalData220531_Ct1_Osmo, GlobalData220531_Ct2_Osmo],\n",
    "#              ['Chamber 1','Chamber 2'],[DarkBlue,LightBlue], \n",
    "#              PFig, 'OsmChoc 31-05-2022', showbox = True,showhist = True, nbins = 'auto',stats='ranksum');\n",
    "\n",
    "\n",
    "\n",
    "# GOC_Comp([GlobalData220531_Ct1,GlobalData220531_Ct2],[GlobalData220531_Ct1_Osmo,GlobalData220531_Ct2_Osmo],['Tau'],\n",
    "#          ['E','Erel','H/L','H/L_Rel'],['Tau'],['E','Erel','H/L','H/L_Rel'],['3105_OC_Ct1','3105_OC_Ct2'],[Purple,Blue,Red],PlotFits=True)\n",
    "\n",
    "\n",
    "# compareHydroMech([GlobalData220214_Ct1_Osmo, GlobalData220214_Ct2_Osmo,\n",
    "#                   GlobalData220531_Ct1_Osmo, GlobalData220531_Ct2_Osmo],\n",
    "#                  ['Chamber 1\\n1402','Chamber 2\\n1402','Chamber 1\\n3105','Chamber 2\\n3105'],\n",
    "#                  [DarkPurple,LightPurple,DarkBlue,LightBlue], \n",
    "#              PFig, 'OsmChoc comparison', showbox = True,showhist = True, nbins = 'auto',stats='ranksum');"
   ]
  },
  {
   "cell_type": "markdown",
   "metadata": {},
   "source": [
    "## Test zone\n"
   ]
  },
  {
   "cell_type": "code",
   "execution_count": null,
   "metadata": {
    "scrolled": false
   },
   "outputs": [],
   "source": [
    "# GOC_Comp([GlobalData220531_Ct1,GlobalData220531_Ct2,GlobalData220801_Ct1],\n",
    "#          [GlobalData220531_Ct1_Osmo,GlobalData220531_Ct2_Osmo,GlobalData220801_Ct1_Osmo],\n",
    "#          [],['Ecomp','Erel'],[],['Ecomp','Erel'],\n",
    "#          ['220531_Ct1','220531_Ct2','220801_Ct1'],[Blue,Red,Green,Yellow],PlotFits=True)\n"
   ]
  },
  {
   "cell_type": "code",
   "execution_count": 64,
   "metadata": {},
   "outputs": [
    {
     "name": "stdout",
     "output_type": "stream",
     "text": [
      "Pinfinity = 9.5 MPa\n",
      "Tau (pressure) = 33.333333333333336 sec\n"
     ]
    }
   ],
   "source": [
    "import numpy as np \n",
    "import matplotlib.pyplot as plt\n",
    "E = 15 # MPa\n",
    "L = 1e-4 # mm.s-1.MPa-1\n",
    "H0 = 100e-3 # mm\n",
    "A0 = 0.25 # mm²\n",
    "Phi = 1e-3 # s.Mpa-1\n",
    "DeltaPi = 10 # MPa\n",
    "Y = 9 # MPa\n",
    "\n",
    "Pinf = (DeltaPi*L+Phi*H0*Y)/(L+Phi*H0)\n",
    "print('Pinfinity = ' + str(Pinf) + ' MPa')\n",
    "Tau = 1/(L*E/H0+Phi*E)\n",
    "print('Tau (pressure) = ' + str(Tau) + ' sec')\n",
    "\n",
    "\n",
    "def A(t):\n",
    "    A = A0*np.multiply(np.exp(np.multiply(L/H0*(DeltaPi-Pinf),t)),\n",
    "                       np.exp(L/H0*(Y-Pinf)*Tau*(np.exp(-np.divide(t,Tau))-1)))\n",
    "    \n",
    "    return A\n",
    "\n",
    "def A2(t):\n",
    "    A = A0*np.multiply(np.exp(np.multiply(L/H0*(DeltaPi-Pinf),t)),\n",
    "                       np.exp(L/H0*(Y-Pinf)*Tau*-1))\n",
    "    \n",
    "    return A"
   ]
  },
  {
   "cell_type": "code",
   "execution_count": 61,
   "metadata": {},
   "outputs": [
    {
     "data": {
      "text/plain": [
       "[<matplotlib.lines.Line2D at 0x25083b614f0>]"
      ]
     },
     "execution_count": 61,
     "metadata": {},
     "output_type": "execute_result"
    },
    {
     "data": {
      "image/png": "[encoded data removed]",
      "text/plain": [
       "<Figure size 1200x800 with 1 Axes>"
      ]
     },
     "metadata": {
      "needs_background": "light"
     },
     "output_type": "display_data"
    }
   ],
   "source": [
    "t = np.linspace(0,500,1000)\n",
    "\n",
    "plt.figure(dpi=200)\n",
    "plt.plot(t,A(t))\n",
    "plt.plot(t,A2(t))"
   ]
  },
  {
   "cell_type": "code",
   "execution_count": null,
   "metadata": {},
   "outputs": [],
   "source": []
  },
  {
   "cell_type": "code",
   "execution_count": 105,
   "metadata": {},
   "outputs": [
    {
     "data": {
      "text/plain": [
       "[<matplotlib.lines.Line2D at 0x2508e145d30>]"
      ]
     },
     "execution_count": 105,
     "metadata": {},
     "output_type": "execute_result"
    },
    {
     "data": {
      "image/png": "[encoded data removed]",
      "text/plain": [
       "<Figure size 1200x800 with 1 Axes>"
      ]
     },
     "metadata": {
      "needs_background": "light"
     },
     "output_type": "display_data"
    }
   ],
   "source": [
    "Tau = 10\n",
    "Tau2 = 9.5\n",
    "A0 = 25\n",
    "\n",
    "tdeb = 0\n",
    "\n",
    "T = np.linspace(0,200,1000)\n",
    "\n",
    "def G(t,Tau,A0):\n",
    "    Res = np.multiply(A0,np.exp(np.divide(t,Tau)))\n",
    "    \n",
    "    return(Res)\n",
    "\n",
    "\n",
    "def G2(t,Tau,Tau2,A0):\n",
    "    Res = np.multiply(A0, np.multiply(np.exp(np.divide(t,Tau)),np.exp(np.multiply(np.exp(np.divide(-t,Tau2))-1,Tau/Tau2))))\n",
    "    \n",
    "    return(Res)\n",
    "\n",
    "f = plt.figure(dpi=200)\n",
    "plt.plot(T,G(T,Tau,A0))\n",
    "plt.plot(T,G2(T,Tau,Tau2,A0))"
   ]
  },
  {
   "cell_type": "code",
   "execution_count": null,
   "metadata": {},
   "outputs": [],
   "source": []
  }
 ],
 "metadata": {
  "kernelspec": {
   "display_name": "Python 3",
   "language": "python",
   "name": "python3"
  },
  "language_info": {
   "codemirror_mode": {
    "name": "ipython",
    "version": 3
   },
   "file_extension": ".py",
   "mimetype": "text/x-python",
   "name": "python",
   "nbconvert_exporter": "python",
   "pygments_lexer": "ipython3",
   "version": "3.8.5"
  },
  "toc": {
   "base_numbering": 1,
   "nav_menu": {},
   "number_sections": true,
   "sideBar": true,
   "skip_h1_title": true,
   "title_cell": "Table of Contents",
   "title_sidebar": "Contents",
   "toc_cell": false,
   "toc_position": {
    "height": "calc(100% - 180px)",
    "left": "10px",
    "top": "150px",
    "width": "352px"
   },
   "toc_section_display": true,
   "toc_window_display": true
  }
 },
 "nbformat": 4,
 "nbformat_minor": 4
}
