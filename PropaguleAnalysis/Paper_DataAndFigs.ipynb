{
 "cells": [
  {
   "cell_type": "markdown",
   "metadata": {},
   "source": [
    "# Paper data and figures"
   ]
  },
  {
   "cell_type": "markdown",
   "metadata": {},
   "source": [
    "## Documentation and Imports\n",
    "\n",
    "\n",
    "Created on 03-08-2022\n",
    "\n",
    "Author: Valentin Laplaud\n"
   ]
  },
  {
   "cell_type": "code",
   "execution_count": null,
   "metadata": {
    "code_folding": []
   },
   "outputs": [],
   "source": [
    "## Clean up before script start \n",
    "\n",
    "for element in dir():\n",
    "\n",
    "    if element[0:1] != \"_\":\n",
    "\n",
    "        del globals()[element]\n",
    "import gc\n",
    "gc.collect()\n",
    "\n",
    "\n",
    "print('\\033[1m' + '\\033[4m' + '\\nRunning :  ''PaperDataAndFigs''\\n' + '\\033[0m')\n",
    "\n",
    "import datetime\n",
    "\n",
    "# plotting stuff\n",
    "import matplotlib.pyplot as plt\n",
    "import matplotlib as mpl\n",
    "mpl.use('tkagg')\n",
    "%matplotlib inline\n",
    "\n",
    "COLOR = 'black'\n",
    "COLOR2 = 'white'\n",
    "\n",
    "mpl.rcParams['text.color'] = COLOR\n",
    "mpl.rcParams['axes.labelcolor'] = COLOR\n",
    "mpl.rcParams['xtick.color'] = COLOR\n",
    "mpl.rcParams['ytick.color'] = COLOR\n",
    "mpl.rcParams['axes.edgecolor'] = COLOR\n",
    "mpl.rcParams['axes.labelsize'] =  'large'\n",
    "\n",
    "mpl.rcParams[\"figure.facecolor\"] = COLOR2\n",
    "mpl.rcParams[\"axes.facecolor\"] = COLOR2\n",
    "mpl.rcParams[\"savefig.facecolor\"] = COLOR2\n",
    "mpl.rcParams['axes.facecolor'] = COLOR2\n",
    "\n",
    "# numbers handling\n",
    "import numpy as np\n",
    "# import numpy.matlib as mtl\n",
    "import pandas as pd\n",
    "\n",
    "# to hide known warnings\n",
    "import warnings\n",
    "warnings.filterwarnings(\"ignore\")\n",
    "\n",
    "# General system functions\n",
    "import os\n",
    "import shutil\n",
    "import sys\n",
    "\n",
    "import time\n",
    "\n",
    "# my functions\n",
    "sys.path.append(r'd:\\Users\\laplaud\\Desktop\\PostDoc\\Code\\PythonFunctions\\\\')\n",
    "import VallapFunc as vf\n",
    "from StatsFunctions import plotSig, Corr\n",
    "from PlotFunctions import compareGrowth, compareHydroMech, GOC_Comp, plotGRratio, sizeVar, successiveOC, plotRhizoides\n"
   ]
  },
  {
   "cell_type": "markdown",
   "metadata": {},
   "source": [
    "## Data loading and color definition"
   ]
  },
  {
   "cell_type": "code",
   "execution_count": null,
   "metadata": {
    "code_folding": []
   },
   "outputs": [],
   "source": [
    "%run d:\\Users\\laplaud\\Desktop\\PostDoc\\Code\\PythonFunctions\\ExperimentList.py"
   ]
  },
  {
   "cell_type": "markdown",
   "metadata": {},
   "source": [
    "### Loading"
   ]
  },
  {
   "cell_type": "code",
   "execution_count": null,
   "metadata": {
    "scrolled": false,
    "tags": []
   },
   "outputs": [],
   "source": [
    "####################################### Growth #########################################################################################\n",
    "\n",
    "################# Ctrls\n",
    "\n",
    "## Expe 220214 Ctrl growth -> Ctrl 1\n",
    "GD220214_Ct1 = pd.read_csv(P220214_Ct1 + '\\\\GlobalData220214_Ct1_AreaFit.csv', index_col = 'Ind') \n",
    "GD220214_Ct2 = pd.read_csv(P220214_Ct2 + '\\\\GlobalData220214_Ct2_AreaFit.csv', index_col = 'Ind')      \n",
    "\n",
    "# Expe 220531 Ctrl growth -> Ctrl 2\n",
    "GD220531_Ct1 = pd.read_csv(P220531_Ct1 + '\\\\GlobalData220531_Ct1_AreaFit.csv', index_col = 'Ind') \n",
    "GD220531_Ct2 = pd.read_csv(P220531_Ct2 + '\\\\GlobalData220531_Ct2_AreaFit.csv', index_col = 'Ind')      \n",
    "\n",
    "## Expe 220727 Ctrl growth -> Ctrl 3\n",
    "GD220727_Hyper = pd.read_csv(P220727_Hyper + '\\\\GlobalData220727_Hyper_AreaFit.csv', index_col = 'Ind') \n",
    "GD220727_Hypo = pd.read_csv(P220727_Hypo + '\\\\GlobalData220727_Hypo_AreaFit.csv', index_col = 'Ind')  \n",
    "\n",
    "# Expe 220801 Ctrl growth -> Ctrl 4\n",
    "GD220801_Ct1 = pd.read_csv(P220801_Ct1 + '\\\\GlobalData220801_Ct1_AreaFit.csv', index_col = 'Ind') \n",
    "GD220801_Ct2 = pd.read_csv(P220801_Ct2 + '\\\\GlobalData220801_Ct2_AreaFit.csv', index_col = 'Ind')  \n",
    "\n",
    "############## 100mM growth \n",
    "\n",
    "## Expe 220301 100mM growth -> Man 1\n",
    "GD220301_Ct = pd.read_csv(P220301_Ct + '\\\\GlobalData220301_Ct_AreaFit.csv', index_col = 'Ind') \n",
    "GD220301_100mM = pd.read_csv(P220301_M100 + '\\\\GlobalData220301_M100_AreaFit.csv', index_col = 'Ind') \n",
    "\n",
    "## Expe 220928 100mM growth -> Man 2\n",
    "GD220928_Ct = pd.read_csv(P220928_Ct + '\\\\GlobalData220928_Ct_AreaFit.csv', index_col = 'Ind') \n",
    "GD220928_100mM = pd.read_csv(P220928_100mM + '\\\\GlobalData220928_100mM_AreaFit.csv', index_col = 'Ind') \n",
    "\n",
    "## Expe 221025 100mM growth -> Man 3\n",
    "GD221025_Ct = pd.read_csv(P221025_Ct + '\\\\GlobalData221025_Ct_AreaFit.csv', index_col = 'Ind') \n",
    "GD221025_100mM = pd.read_csv(P221025_100mM + '\\\\GlobalData221025_100mM_AreaFit.csv', index_col = 'Ind') \n",
    "\n",
    "################## ABA growth\n",
    "\n",
    "## Expe 220614 ABA natalia -> ABA 1\n",
    "GD220614_Ct = pd.read_csv(P220614_Ct + '\\\\GlobalData220614_Ct_AreaFit.csv', index_col = 'Ind') \n",
    "GD220614_ABA = pd.read_csv(P220614_ABA + '\\\\GlobalData220614_ABA_AreaFit.csv', index_col = 'Ind') \n",
    "\n",
    "## Expe 220722 ABA natalia -> ABA 2\n",
    "GD220722_Ct = pd.read_csv(P220722_Ct + '\\\\GlobalData220722_Ct_AreaFit.csv', index_col = 'Ind') \n",
    "GD220722_ABA = pd.read_csv(P220722_ABA + '\\\\GlobalData220722_ABA_AreaFit.csv', index_col = 'Ind') \n",
    "\n",
    "\n",
    "## Expe 2301221 ABA growth -> ABA 3\n",
    "GD230221_Ct  = pd.read_csv(P230221_Ct + '\\\\GlobalData230221_Ct_AreaFit.csv', index_col = 'Ind')\n",
    "GD230221_ABA  = pd.read_csv(P230221_ABA + '\\\\GlobalData230221_ABA_AreaFit.csv', index_col = 'Ind')\n",
    "\n",
    "## Expe 230301 ABA growth -> ABA 4\n",
    "GD230301_Ct  = pd.read_csv(P230301_Ct_P1 + '\\\\GlobalData230301_Ct_AreaFit.csv', index_col = 'Ind')\n",
    "GD230301_ABA  = pd.read_csv(P230301_ABA_P1 + '\\\\GlobalData230301_ABA_AreaFit.csv', index_col = 'Ind')\n",
    "\n",
    "\n",
    "\n",
    "####################################### Mechanics #########################################################################################\n",
    "\n",
    "############## Ctrls\n",
    "\n",
    "# Expe 220531 Osmotic Chocs  -> Ctrl 2\n",
    "GD220531_Ct1_Osmo = pd.read_csv(P220531_Ct1_Osmo + '\\\\GlobalData220531_Ct1_Osmo_AreaFit.csv', index_col = 'Ind')   \n",
    "GD220531_Ct2_Osmo = pd.read_csv(P220531_Ct2_Osmo + '\\\\GlobalData220531_Ct2_Osmo_AreaFit.csv', index_col = 'Ind')\n",
    "\n",
    "########### 100mM growth\n",
    "\n",
    "## Expe 220301 100mM growth OC -> Man 1\n",
    "GD220301_Ct_Osmo = pd.read_csv(P220301_Ct_Osmo + '\\\\GlobalData220301_Ct_Osmo_AreaFit.csv', index_col = 'Ind') \n",
    "GD220301_100mM_Osmo = pd.read_csv(P220301_M100_Osmo + '\\\\GlobalData220301_M100_Osmo_AreaFit.csv', index_col = 'Ind') \n",
    "\n",
    "## Expe 220928 100mM growth -> Man 2\n",
    "GD220928_Ct_Osmo = pd.read_csv(P220928_Ct_Osmo + '\\\\GlobalData220928_Ct_Osmo_AreaFit.csv', index_col = 'Ind') \n",
    "GD220928_100mM_Osmo = pd.read_csv(P220928_100mM_Osmo + '\\\\GlobalData220928_100mM_Osmo_AreaFit.csv', index_col = 'Ind') \n",
    "\n",
    "## Expe 221025 100mM growth -> Man 3\n",
    "GD221025_Ct_Osmo = pd.read_csv(P221025_Ct_Osmo + '\\\\GlobalData221025_Ct_Osmo_AreaFit.csv', index_col = 'Ind') \n",
    "GD221025_100mM_Osmo = pd.read_csv(P221025_100mM_Osmo + '\\\\GlobalData221025_100mM_Osmo_AreaFit.csv', index_col = 'Ind')  \n",
    "  \n",
    "################ ABA growth\n",
    "    \n",
    "##Expe 230221 ABA growth + OC -> ABA 3\n",
    "GD230221_Ct_Osmo  = pd.read_csv(P230221_Ct_Osmo + '\\\\GlobalData230221_Ct_Osmo_AreaFit.csv', index_col = 'Ind')\n",
    "GD230221_ABA_Osmo = pd.read_csv(P230221_ABA_Osmo + '\\\\GlobalData230221_ABA_Osmo_AreaFit.csv', index_col = 'Ind')\n",
    "\n",
    "##Expe 230301 ABA growth + OC -> ABA 4\n",
    "GD230301_Ct_Osmo  = pd.read_csv(P230301_Ct_Osmo + '\\\\GlobalData230301_Ct_Osmo_AreaFit.csv', index_col = 'Ind')\n",
    "GD230301_ABA_Osmo = pd.read_csv(P230301_ABA_Osmo + '\\\\GlobalData230301_ABA_Osmo_AreaFit.csv', index_col = 'Ind')\n",
    "\n",
    "\n",
    "##Successive OC + 20h mechanics\n",
    "\n",
    "GD221025_Ct_Osmo2  = pd.read_csv(P221025_Ct_Osmo2 + '\\\\GlobalData221025_Ct_Osmo2_AreaFit.csv', index_col = 'Ind')\n",
    "\n",
    "GD221201_Ct_Osmo = pd.read_csv(P221201_Ct_Osmo + '\\\\GlobalData221201_Ct_Osmo_AreaFit.csv', index_col = 'Ind') \n",
    "GD221201_Ct_Osmo2 = pd.read_csv(P221201_Ct_Osmo2 + '\\\\GlobalData221201_Ct_Osmo2_AreaFit.csv', index_col = 'Ind') \n",
    "\n",
    "GD221206_Ct_Osmo = pd.read_csv(P221206_Ct_Osmo + '\\\\GlobalData221206_Ct_Osmo_AreaFit.csv', index_col = 'Ind') \n",
    "\n",
    "\n",
    "now  = datetime.datetime.now()\n",
    "now_str = now.strftime(\"%d/%m/%Y %H:%M\")\n",
    "print(now_str + '\\nData loaded.')"
   ]
  },
  {
   "cell_type": "markdown",
   "metadata": {},
   "source": [
    "### Managing data "
   ]
  },
  {
   "cell_type": "markdown",
   "metadata": {
    "heading_collapsed": true
   },
   "source": [
    "#### Donnée pour etudiant M2"
   ]
  },
  {
   "cell_type": "code",
   "execution_count": null,
   "metadata": {
    "hidden": true
   },
   "outputs": [],
   "source": [
    "JeuDonnee1 = GD220531_Ct1.loc[:,['Time (min)','Area']]\n",
    "JeuDonnee2 = GD220531_Ct2.loc[:,['Time (min)','Area']]\n",
    "JeuDonnee3 = GD220727_Hyper.loc[:,['Time (min)','Area']]\n",
    "JeuDonnee4 = GD220727_Hypo.loc[:,['Time (min)','Area']]\n",
    "JeuDonnee5 = GD220801_Ct1.loc[:,['Time (min)','Area']]\n",
    "JeuDonnee6 = GD221025_Ct.loc[:,['Time (min)','Area']]\n",
    "\n",
    "JeuDonnee1.to_csv(r'd:\\Users\\laplaud\\Desktop\\PostDoc\\Data\\Microflu\\JeuDonnéeM2_Math\\Data1.csv',index_label = 'Ind')\n",
    "JeuDonnee2.to_csv(r'd:\\Users\\laplaud\\Desktop\\PostDoc\\Data\\Microflu\\JeuDonnéeM2_Math\\Data2.csv',index_label = 'Ind')\n",
    "JeuDonnee3.to_csv(r'd:\\Users\\laplaud\\Desktop\\PostDoc\\Data\\Microflu\\JeuDonnéeM2_Math\\Data3.csv',index_label = 'Ind')\n",
    "JeuDonnee4.to_csv(r'd:\\Users\\laplaud\\Desktop\\PostDoc\\Data\\Microflu\\JeuDonnéeM2_Math\\Data4.csv',index_label = 'Ind')\n",
    "JeuDonnee5.to_csv(r'd:\\Users\\laplaud\\Desktop\\PostDoc\\Data\\Microflu\\JeuDonnéeM2_Math\\Data5.csv',index_label = 'Ind')\n",
    "JeuDonnee6.to_csv(r'd:\\Users\\laplaud\\Desktop\\PostDoc\\Data\\Microflu\\JeuDonnéeM2_Math\\Data6.csv',index_label = 'Ind')"
   ]
  },
  {
   "cell_type": "markdown",
   "metadata": {},
   "source": [
    "#### Growth"
   ]
  },
  {
   "cell_type": "markdown",
   "metadata": {
    "heading_collapsed": true
   },
   "source": [
    "##### Ctrl"
   ]
  },
  {
   "cell_type": "code",
   "execution_count": null,
   "metadata": {
    "hidden": true
   },
   "outputs": [],
   "source": [
    "# Index precisions\n",
    "GD220214_Ct1.rename(index=lambda s: s + '_Ctrl_1-1',inplace=True)\n",
    "GD220214_Ct2.rename(index=lambda s: s + '_Ctrl_1-2',inplace=True)\n",
    "\n",
    "GD220531_Ct1.rename(index=lambda s: s + '_Ctrl_2-1',inplace=True)\n",
    "GD220531_Ct2.rename(index=lambda s: s + '_Ctrl_2-2',inplace=True)\n",
    "\n",
    "GD220727_Hyper.rename(index=lambda s: s + '_Ctrl_3-1',inplace=True)\n",
    "GD220727_Hypo.rename(index=lambda s: s + '_Ctrl_3-2',inplace=True)\n",
    "\n",
    "GD220801_Ct1.rename(index=lambda s: s + '_Ctrl_4-1',inplace=True)\n",
    "\n",
    "# Data pooling and naming\n",
    "GD220214 = GD220214_Ct1.append(GD220214_Ct2)\n",
    "GD220214.loc[:,'Expe'] = 'Ctrl_1'\n",
    "GD220531 = GD220531_Ct1.append(GD220531_Ct2)\n",
    "GD220531.loc[:,'Expe'] = 'Ctrl_2'\n",
    "GD220727 = GD220727_Hyper.append(GD220727_Hypo)\n",
    "GD220727.loc[:,'Expe'] = 'Ctrl_3'\n",
    "GD220801 = GD220801_Ct1\n",
    "GD220801.loc[:,'Expe'] = 'Ctrl_4'\n",
    "\n",
    "GD_Ctrls = GD220214.append(GD220531).append(GD220727).append(GD220801)\n",
    "\n",
    "# Number of individuals\n",
    "n220214 = len(np.unique(GD220214.index))\n",
    "n220531 = len(np.unique(GD220531.index))\n",
    "n220727 = len(np.unique(GD220727.index))\n",
    "n220801 = len(np.unique(GD220801.index))\n",
    "\n",
    "nPooled = len(np.unique(GD_Ctrls.index))\n"
   ]
  },
  {
   "cell_type": "markdown",
   "metadata": {},
   "source": [
    "##### 100mM growth"
   ]
  },
  {
   "cell_type": "code",
   "execution_count": null,
   "metadata": {},
   "outputs": [],
   "source": [
    "# Data and index renaming\n",
    "GD220301_Ct.loc[:,'Expe'] = 'ManCt_1'\n",
    "GD220301_Ct.rename(index=lambda s: s + '_ManCt_1',inplace=True)\n",
    "GD220928_Ct.loc[:,'Expe'] = 'ManCt_2'\n",
    "GD220928_Ct.rename(index=lambda s: s + '_ManCt_2',inplace=True)\n",
    "GD221025_Ct.loc[:,'Expe'] = 'ManCt_3'\n",
    "GD221025_Ct.rename(index=lambda s: s + '_ManCt_3',inplace=True)\n",
    "\n",
    "GD220301_100mM.loc[:,'Expe'] = 'ManTr_1'\n",
    "GD220301_100mM.rename(index=lambda s: s + '_ManTr_1',inplace=True)\n",
    "GD220928_100mM.loc[:,'Expe'] = 'ManTr_2'\n",
    "GD220928_100mM.rename(index=lambda s: s + '_ManTr_2',inplace=True)\n",
    "GD221025_100mM.loc[:,'Expe'] = 'ManTr_3'\n",
    "GD221025_100mM.rename(index=lambda s: s + '_ManTr_3',inplace=True)\n",
    "\n",
    "\n",
    "\n",
    "# Data pooling\n",
    "GD_Man_Ct = GD220301_Ct.append(GD220928_Ct).append(GD221025_Ct)\n",
    "GD_Man_Tr = GD220301_100mM.append(GD220928_100mM).append(GD221025_100mM)\n",
    "\n"
   ]
  },
  {
   "cell_type": "markdown",
   "metadata": {},
   "source": [
    "##### ABA growth"
   ]
  },
  {
   "cell_type": "code",
   "execution_count": null,
   "metadata": {},
   "outputs": [],
   "source": [
    "GD220614_Ct.loc[:,'Expe'] = 'AbaCt_1'\n",
    "GD220614_Ct.rename(index=lambda s: s + '_AbaCt_1',inplace=True)\n",
    "GD220722_Ct.loc[:,'Expe'] = 'AbaCt_2'\n",
    "GD220722_Ct.rename(index=lambda s: s + '_AbaCt_2',inplace=True)\n",
    "GD230221_Ct.loc[:,'Expe'] = 'AbaCt_3'\n",
    "GD230221_Ct.rename(index=lambda s: s + '_AbaCt_3',inplace=True)\n",
    "\n",
    "# Not in growth fig\n",
    "GD230301_Ct.loc[:,'Expe'] = 'AbaCt_4'\n",
    "GD230301_Ct.rename(index=lambda s: s + '_AbaCt_4',inplace=True)\n",
    "\n",
    "GD220614_ABA.loc[:,'Expe'] = 'AbaTr_1'\n",
    "GD220614_ABA.rename(index=lambda s: s + '_AbaTr_1',inplace=True)\n",
    "GD220722_ABA.loc[:,'Expe'] = 'AbaTr_2'\n",
    "GD220722_ABA.rename(index=lambda s: s + '_AbaTr_2',inplace=True)\n",
    "GD230221_ABA.loc[:,'Expe'] = 'AbaTr_3'\n",
    "GD230221_ABA.rename(index=lambda s: s + '_AbaTr_3',inplace=True)\n",
    "\n",
    "# Not in growth fig\n",
    "GD230301_ABA.loc[:,'Expe'] = 'AbaTr_4'\n",
    "GD230301_ABA.rename(index=lambda s: s + '_AbaTr_4',inplace=True)\n",
    "\n",
    "\n",
    "# Pooling for growth plot\n",
    "GD_ABA_Ct = GD220614_Ct.append(GD220722_Ct).append(GD230221_Ct)\n",
    "GD_ABA_Tr = GD220614_ABA.append(GD220722_ABA).append(GD230221_ABA)\n",
    "\n",
    "# Pooling for meca plot\n",
    "GD_ABA_Ct_meca = GD230301_Ct.append(GD230221_Ct)\n",
    "GD_ABA_Tr_meca = GD230301_ABA.append(GD230221_ABA)\n"
   ]
  },
  {
   "cell_type": "markdown",
   "metadata": {},
   "source": [
    "#### Mechanics"
   ]
  },
  {
   "cell_type": "markdown",
   "metadata": {
    "heading_collapsed": true
   },
   "source": [
    "##### Ctrl"
   ]
  },
  {
   "cell_type": "code",
   "execution_count": null,
   "metadata": {
    "hidden": true
   },
   "outputs": [],
   "source": [
    "# Reindexing\n",
    "GD220531_Ct1_Osmo.rename(index=lambda s: s + '_Ctrl_2-1',inplace=True)\n",
    "GD220531_Ct2_Osmo.rename(index=lambda s: s + '_Ctrl_2-2',inplace=True)\n",
    "\n",
    "# Pooling and naming\n",
    "GD220531_Osmo = GD220531_Ct1_Osmo.append(GD220531_Ct2_Osmo)\n",
    "GD220531_Osmo.loc[:,'Expe'] = 'Ctrl_2'\n"
   ]
  },
  {
   "cell_type": "markdown",
   "metadata": {
    "heading_collapsed": true
   },
   "source": [
    "##### 100mM growth"
   ]
  },
  {
   "cell_type": "code",
   "execution_count": null,
   "metadata": {
    "hidden": true
   },
   "outputs": [],
   "source": [
    "# Data and index renaming\n",
    "GD220301_Ct_Osmo.loc[:,'Expe'] = 'ManCt_1'\n",
    "GD220301_Ct_Osmo.rename(index=lambda s: s + '_ManCt_1',inplace=True)\n",
    "GD220928_Ct_Osmo.loc[:,'Expe'] = 'ManCt_2'\n",
    "GD220928_Ct_Osmo.rename(index=lambda s: s + '_ManCt_2',inplace=True)\n",
    "GD221025_Ct_Osmo.loc[:,'Expe'] = 'ManCt_3'\n",
    "GD221025_Ct_Osmo.rename(index=lambda s: s + '_ManCt_3',inplace=True)\n",
    "\n",
    "GD220301_100mM_Osmo.loc[:,'Expe'] = 'ManTr_1'\n",
    "GD220301_100mM_Osmo.rename(index=lambda s: s + '_ManTr_1',inplace=True)\n",
    "GD220928_100mM_Osmo.loc[:,'Expe'] = 'ManTr_2'\n",
    "GD220928_100mM_Osmo.rename(index=lambda s: s + '_ManTr_2',inplace=True)\n",
    "GD221025_100mM_Osmo.loc[:,'Expe'] = 'ManTr_3'\n",
    "GD221025_100mM_Osmo.rename(index=lambda s: s + '_ManTr_3',inplace=True)\n",
    "\n",
    "\n",
    "# Data pooling\n",
    "\n",
    "GD_Man_Ct_Osmo = GD220301_Ct_Osmo.append(GD220928_Ct_Osmo).append(GD221025_Ct_Osmo)\n",
    "GD_Man_Tr_Osmo = GD220301_100mM_Osmo.append(GD220928_100mM_Osmo).append(GD221025_100mM_Osmo)\n",
    "\n"
   ]
  },
  {
   "cell_type": "markdown",
   "metadata": {},
   "source": [
    "##### ABA"
   ]
  },
  {
   "cell_type": "code",
   "execution_count": null,
   "metadata": {},
   "outputs": [],
   "source": [
    "# Data and index renaming\n",
    "GD230221_Ct_Osmo.loc[:,'Expe'] = 'AbaCt_3'\n",
    "GD230221_Ct_Osmo.rename(index=lambda s: s + '_AbaCt_3',inplace=True)\n",
    "GD230301_Ct_Osmo.loc[:,'Expe'] = 'AbaCt_4'\n",
    "GD230301_Ct_Osmo.rename(index=lambda s: s + '_AbaCt_4',inplace=True)\n",
    "\n",
    "GD230221_ABA_Osmo.loc[:,'Expe'] = 'AbaTr_3'\n",
    "GD230221_ABA_Osmo.rename(index=lambda s: s + '_AbaTr_3',inplace=True)\n",
    "GD230301_ABA_Osmo.loc[:,'Expe'] = 'AbaTr_4'\n",
    "GD230301_ABA_Osmo.rename(index=lambda s: s + '_AbaTr_4',inplace=True)\n",
    "\n",
    "\n",
    "# Data pooling\n",
    "GD_ABA_Ct_Osmo = GD230221_Ct_Osmo.append(GD230301_Ct_Osmo)\n",
    "GD_ABA_Tr_Osmo = GD230221_ABA_Osmo.append(GD230301_ABA_Osmo)"
   ]
  },
  {
   "cell_type": "markdown",
   "metadata": {},
   "source": [
    "### Colors"
   ]
  },
  {
   "cell_type": "code",
   "execution_count": null,
   "metadata": {},
   "outputs": [],
   "source": [
    "\n",
    "LightGreen = np.divide([68, 170, 153],255)\n",
    "Green = np.divide([17, 119, 51],255)\n",
    "\n",
    "LightBlue = np.divide([136, 204, 238],255)\n",
    "Blue = np.divide([81, 54, 166],255)\n",
    "DarkBlue = np.divide([30, 10, 106],255)\n",
    "\n",
    "Purple = np.divide([136, 34, 85],255)\n",
    "LightPurple = np.divide([170, 68, 153],255)\n",
    "\n",
    "LightYellow = np.divide([221, 204, 119],255)\n",
    "Yellow = np.divide([173, 152, 21],255)\n",
    "\n",
    "LightRed = np.divide([204, 102, 119],255)\n",
    "Red = np.divide([179, 9, 9],255)\n",
    "\n",
    "LightOrange = np.divide([255, 127, 0],255)\n",
    "Orange = np.divide([150, 75, 0],255)\n"
   ]
  },
  {
   "cell_type": "markdown",
   "metadata": {},
   "source": [
    "## Growth"
   ]
  },
  {
   "cell_type": "markdown",
   "metadata": {},
   "source": [
    "### Control"
   ]
  },
  {
   "cell_type": "markdown",
   "metadata": {},
   "source": [
    "#### Growth quantif"
   ]
  },
  {
   "cell_type": "code",
   "execution_count": null,
   "metadata": {
    "scrolled": false
   },
   "outputs": [],
   "source": [
    "# compareGrowth([GD220214,GD220531,GD220727,GD220801],['#1\\n','#2\\n','#3\\n','#4\\n'],\n",
    "#             [Purple,Blue,Red,Yellow],PFig, 'PaperFig1', \n",
    "#             showcurve = True, showbox = True,showhist = False, nbins = 15,\n",
    "#               indiplots = False, NimgMax = 'max', stats='none')\n",
    "\n",
    "\n",
    "# compareGrowth([GD_Ctrls],['Pooled\\n'],\n",
    "#             ['gray'],PFig, 'AllExps', \n",
    "#             showcurve = True, showbox = False,showhist = True, nbins = 15,\n",
    "#               indiplots = False, NimgMax = 'max')\n",
    "\n",
    "GOC_Comp([GD220214,GD220531,GD220727,GD220801],\n",
    "         [GD220214,GD220531,GD220727,GD220801],\n",
    "         ['ChipRow'],['tdeb','G'],['Gemmae position'],\n",
    "         [r\"$\\mathrm{T_s (min)}$\",'G ' + r\"$\\mathrm{(days^{-1})}$\"],\n",
    "         ['#1\\n','#2\\n','#3\\n','#4\\n'],\n",
    "          ['gray',Purple,Blue,Red,Yellow],\n",
    "          PlotFits=True,PlotStats=True,Norm=False,PooledOnly=False,CorrType = 'pearson')\n",
    "\n",
    "\n",
    "# Corr([GD220214,GD220531,GD220727,GD220801],['#1\\n','#2\\n','#3\\n','#4\\n'],\n",
    "#          colors = [Purple,Blue,Red,Yellow], PlotFits = True,corrmethod = 'spearman',\n",
    "#          columns = ['ChipRow','tdeb','Tau'],\n",
    "#          columnslabels = ['Chip position', r\"$\\mathrm{T_s (min)}$\",'G ' + r\"$\\mathrm{(days^{-1})}$\"])"
   ]
  },
  {
   "cell_type": "markdown",
   "metadata": {},
   "source": [
    "#### Values of quantificators"
   ]
  },
  {
   "cell_type": "code",
   "execution_count": null,
   "metadata": {},
   "outputs": [],
   "source": [
    "\n",
    "# vf.dataSummary([GD220214,GD220531,GD220727,GD220801],[n220214,n220531,n220727,n220801],\n",
    "#             ['14-02-22','31-05-2022','27-07-2022','01-08-2022'],np.log(2)/60,'Tau','Area doubling time for growth','hours')\n",
    "\n",
    "# vf.dataSummary([GD220214,GD220531,GD220727,GD220801],[n220214,n220531,n220727,n220801],\n",
    "#             ['14-02-22','31-05-2022','27-07-2022','01-08-2022'],1/60,'tdeb','Tstart for growth','hours')\n"
   ]
  },
  {
   "cell_type": "markdown",
   "metadata": {},
   "source": [
    "### Hyper osmotic environement (100mM)"
   ]
  },
  {
   "cell_type": "markdown",
   "metadata": {},
   "source": [
    "#### Growth quantif"
   ]
  },
  {
   "cell_type": "code",
   "execution_count": null,
   "metadata": {
    "scrolled": false
   },
   "outputs": [],
   "source": [
    "# compareGrowth([GD_Man_Ct,GD_Man_Tr],\n",
    "#               ['Ctrl','Mannitol'],\n",
    "#               [LightGreen,Green],\n",
    "#               PFig, 'Fig3_Manitol', showcurve = True, sigpairs = [(0,1)],\n",
    "#               showbox = True,showhist = True,nbins = 15,indiplots = False,NimgMax = 'max', stats='ranksum')\n",
    "\n",
    "\n",
    "# compareGrowth([GD220301_Ct,GD220301_100mM],\n",
    "#               ['#5_Ct\\n','#5_Man\\n'],\n",
    "#               [LightGreen,Green],\n",
    "#               PFig, 'FigS3_Manitol', showcurve = True, sigpairs = [(0,1)],\n",
    "#               showbox = False,showhist = False,nbins = 15,indiplots = False,NimgMax = 'max', stats='ranksum')\n",
    "\n",
    "# compareGrowth([GD220928_Ct,GD220928_100mM],\n",
    "#               ['#6_Ct\\n','#6_Man\\n'],\n",
    "#               [LightGreen,Green],\n",
    "#               PFig, 'FigS3_Manitol', showcurve = True, sigpairs = [(0,1)],\n",
    "#               showbox = False,showhist = False,nbins = 15,indiplots = False,NimgMax = 'max', stats='ranksum')\n",
    "\n",
    "# compareGrowth([GD221025_Ct,GD221025_100mM],\n",
    "#               ['#7_Ct\\n','#7_Man\\n'],\n",
    "#               [LightGreen,Green],\n",
    "#               PFig, 'FigS3_Manitol', showcurve = True, sigpairs = [(0,1)],\n",
    "#               showbox = False,showhist = False,nbins = 15,indiplots = False,NimgMax = 'max', stats='ranksum')\n",
    "\n",
    "# compareGrowth([GD220301_Ct,GD220301_100mM,GD220928_Ct,GD220928_100mM,\n",
    "#               GD221025_Ct,GD221025_100mM],\n",
    "#               ['#5_Ct\\n','#5_Man\\n','#6_Ct\\n','#6_Man\\n','#7_Ct\\n','#7_Man\\n'],\n",
    "#               [LightGreen,Green,LightGreen,Green,LightGreen,Green],\n",
    "#               PFig, 'FigS3_Manitol', showcurve = False, sigpairs = [(0,1),(2,3),(4,5)],\n",
    "#               showbox = True,showhist = False,nbins = 15,indiplots = False,NimgMax = '24h', stats='ranksum')\n",
    "\n"
   ]
  },
  {
   "cell_type": "markdown",
   "metadata": {
    "heading_collapsed": true
   },
   "source": [
    "#### Values of quantificators"
   ]
  },
  {
   "cell_type": "code",
   "execution_count": null,
   "metadata": {
    "hidden": true
   },
   "outputs": [],
   "source": [
    "\n",
    "# vf.dataSummary([GD220301_Ct,GD220928_Ct,GD221025_Ct],[len(x) for x in [GD220301_Ct[GD220301_Ct['Img']==0],GD220928_Ct[GD220928_Ct['Img']==0],\n",
    "#                                                                        GD221025_Ct[GD221025_Ct['Img']==0]]],\n",
    "#             ['220301_Ct','220928_Ct','221025_Ct'],np.log(2)/60,'Tau','Area doubling time for growth','hours')\n",
    "# print()\n",
    "# vf.dataSummary([GD220301_100mM,GD220928_100mM,GD221025_100mM],[len(x) for x in [GD220301_100mM[GD220301_100mM['Img']==0],GD220928_100mM[GD220928_100mM['Img']==0],\n",
    "#                                                                        GD221025_100mM[GD221025_100mM['Img']==0]]],\n",
    "#             ['220301_100mM','220928_100mM','221025_100mM'],np.log(2)/60,'Tau','Area doubling time for growth','hours')\n",
    "# print()\n",
    "\n",
    "# vf.dataSummary([GD220301_Ct,GD220928_Ct,GD221025_Ct],[len(x) for x in [GD220301_Ct[GD220301_Ct['Img']==0],GD220928_Ct[GD220928_Ct['Img']==0],\n",
    "#                                                                        GD221025_Ct[GD221025_Ct['Img']==0]]],\n",
    "#             ['220301_Ct','220928_Ct','221025_Ct'],1/60,'tdeb','Tstart for growth','hours')\n",
    "# print()\n",
    "# vf.dataSummary([GD220301_100mM,GD220928_100mM,GD221025_100mM],[len(x) for x in [GD220301_100mM[GD220301_100mM['Img']==0],GD220928_100mM[GD220928_100mM['Img']==0],\n",
    "#                                                                        GD221025_100mM[GD221025_100mM['Img']==0]]],\n",
    "#             ['220301_100mM','220928_100mM','221025_100mM'],1/60,'tdeb','Tstart for growth','hours')\n"
   ]
  },
  {
   "cell_type": "markdown",
   "metadata": {},
   "source": [
    "### In the presence of Absicic acid (µM)"
   ]
  },
  {
   "cell_type": "markdown",
   "metadata": {},
   "source": [
    "#### Growth quantif"
   ]
  },
  {
   "cell_type": "code",
   "execution_count": null,
   "metadata": {
    "scrolled": false
   },
   "outputs": [],
   "source": [
    "# compareGrowth([GD220614_Ct, GD220614_ABA],\n",
    "#              ['#8_Ct','#8_ABA'],[LightOrange,Orange],\n",
    "#               PFig, 'Fig3_ABA',NimgMax = '30h',\n",
    "#               showcurve = True, showbox = False,showhist = False, nbins = 15,stats='ranksum',sigpairs = [(0,1)]);\n",
    "\n",
    "# compareGrowth([GD220722_Ct, GD220722_ABA],\n",
    "#              ['#9_Ct','#9_ABA'],[LightOrange,Orange],\n",
    "#               PFig, 'Fig3_ABA',NimgMax = '30h',\n",
    "#               showcurve = True, showbox = False,showhist = False, nbins = 15,stats='ranksum',sigpairs = [(0,1)]);\n",
    "\n",
    "# compareGrowth([GD230221_Ct,GD230221_ABA],\n",
    "#              ['#10_Ct','#10_ABA'],[LightOrange,Orange],\n",
    "#               PFig, 'Fig3_ABA',NimgMax = '30h',\n",
    "#               showcurve = True, showbox = False,showhist = False, nbins = 15,stats='ranksum',sigpairs = [(0,1)]);\n",
    "\n",
    "# compareGrowth([GD220614_Ct, GD220614_ABA,GD220722_Ct, GD220722_ABA,GD230221_Ct,GD230221_ABA],\n",
    "#              ['#8_Ct\\n','#8_ABA\\n','#9_Ct\\n','#9_ABA\\n','#10_Ct\\n','#10_ABA\\n'],[LightOrange,Orange,\n",
    "#              LightOrange,Orange,LightOrange,Orange],PFig, 'All_ABA',NimgMax = '30h', showcurve = False, showbox = True,\n",
    "#               showhist = False, nbins = 15,stats='ranksum',sigpairs = [(0,1),(2,3),(4,5)]);\n",
    "\n",
    "# compareGrowth([GD_ABA_Ct, GD_ABA_Tr],\n",
    "#              ['Ctrl\\n','ABA\\n'],[LightOrange,Orange],PFig, 'All_ABA',NimgMax = '30h',\n",
    "#               showcurve = True, showbox = True,showhist = False, nbins = 15,stats='ranksum',sigpairs = [(0,1)]\n",
    "#               ,indiplots=False);\n",
    "\n"
   ]
  },
  {
   "cell_type": "markdown",
   "metadata": {
    "heading_collapsed": true
   },
   "source": [
    "#### Values of quatificators"
   ]
  },
  {
   "cell_type": "code",
   "execution_count": null,
   "metadata": {
    "hidden": true
   },
   "outputs": [],
   "source": [
    "\n",
    "# vf.dataSummary([GD220614_Ct,GD220722_Ct],[len(x) for x in [GD220614_Ct[GD220614_Ct['Img']==0],GD220722_Ct[GD220722_Ct['Img']==0],]],\n",
    "#             ['220614_Ct','220722_Ct'],np.log(2)/60,'Tau','Area doubling time for growth','hours')\n",
    "# print()\n",
    "# vf.dataSummary([GD220614_ABA,GD220722_ABA],[len(x) for x in [GD220614_ABA[GD220614_ABA['Img']==0],GD220722_ABA[GD220722_ABA['Img']==0]]],\n",
    "#             ['220614_ABA','220722_ABA'],np.log(2)/60,'Tau','Area doubling time for growth','hours')\n",
    "# print()\n",
    "# vf.dataSummary([GD220614_Ct,GD220722_Ct],[len(x) for x in [GD220614_Ct[GD220614_Ct['Img']==0],GD220722_Ct[GD220722_Ct['Img']==0]]],\n",
    "#             ['220614_Ct','220722_Ct'],1/60,'tdeb','Tstart for growth','hours')\n",
    "# print()\n",
    "# vf.dataSummary([GD220614_ABA,GD220722_ABA],[len(x) for x in [GD220614_ABA[GD220614_ABA['Img']==0],GD220722_ABA[GD220722_ABA['Img']==0]]],\n",
    "#             ['220614_ABA','220722_ABA'],1/60,'tdeb','Tstart for growth','hours')"
   ]
  },
  {
   "cell_type": "code",
   "execution_count": null,
   "metadata": {
    "hidden": true
   },
   "outputs": [],
   "source": [
    "# plotRhizoides([P220614_Ct,P220614_ABA,P220722_Ct,P220722_ABA],[LightRed,Red,LightPurple,Purple],\n",
    "#          ['220614_Ct','220614_ABA','220722_Ct','220722_ABA'],['Ctrl_8','ABA_8','Ctrl_9','ABA_9'],[111,111,111,111])"
   ]
  },
  {
   "cell_type": "markdown",
   "metadata": {},
   "source": [
    "## Mechanics"
   ]
  },
  {
   "cell_type": "markdown",
   "metadata": {
    "heading_collapsed": true
   },
   "source": [
    "### Controls"
   ]
  },
  {
   "cell_type": "code",
   "execution_count": null,
   "metadata": {
    "hidden": true,
    "scrolled": false
   },
   "outputs": [],
   "source": [
    "# compareHydroMech([GD220531_Osmo],['#2'],[Blue], \n",
    "#   PFig, 'Fig2', showbox = True,showTau=False,showhist = True,stats='ranksum');\n"
   ]
  },
  {
   "cell_type": "code",
   "execution_count": null,
   "metadata": {
    "hidden": true,
    "scrolled": false
   },
   "outputs": [],
   "source": [
    "# GOC_Comp([GD220531],\n",
    "#          [GD220531_Osmo],\n",
    "#          ['GR_end'],['Ecomp'],['Growth rate (day-1)'],['E (MPa)'],\n",
    "#          ['#2'],['gray',Blue],PlotFits=True,PlotStats=True,Norm=False,CorrType = 'spearman')"
   ]
  },
  {
   "cell_type": "markdown",
   "metadata": {},
   "source": [
    "### Hyperosmotic growth"
   ]
  },
  {
   "cell_type": "code",
   "execution_count": null,
   "metadata": {
    "scrolled": false
   },
   "outputs": [],
   "source": [
    "# compareHydroMech([GD_Man_Ct_Osmo,GD_Man_Tr_Osmo],\n",
    "#                  ['Ctrl','Mannitol'],\n",
    "#                 [LightGreen, Green], \n",
    "#                  PFig, 'Fig3_manitol', showE = True, showTau = False,showbox = True,showhist = True,\n",
    "#                  stats='ranksum',indiplots=True);\n",
    "\n",
    "\n",
    "# GOC_Comp([GD_Man_Ct,GD_Man_Tr],\n",
    "#          [GD_Man_Ct_Osmo,GD_Man_Tr_Osmo],\n",
    "#          ['GR_end'],['Ecomp'],['Growth rate (day-1)'],\n",
    "#          ['E (MPa)'],\n",
    "#          ['Ctrl','Mannitol'],\n",
    "#           ['gray',LightGreen, Green],\n",
    "#           PlotFits=True,PlotStats=True,Norm=False,PooledOnly=False,CorrType = 'spearman')\n",
    "\n",
    "\n",
    "\n",
    "# compareHydroMech([GD220301_Ct_Osmo, GD220301_100mM_Osmo, GD220928_Ct_Osmo,GD220928_100mM_Osmo, \n",
    "#                   GD221025_Ct_Osmo, GD221025_100mM_Osmo],\n",
    "#                  ['#5_Ct\\n','#5_Man\\n','#6_Ct\\n','#6_Man\\n','#7_Ct\\n','#7_Man\\n'],\n",
    "#                 [LightGreen, Green,LightGreen, Green,LightGreen, Green], \n",
    "#                  PFig, 'FigS3_manitol', showE = True, showTau = False,showbox = True,showhist = False,\n",
    "#                  stats='ranksum',sigpairs=[(0,1),(2,3),(4,5)],indiplots=False);\n",
    "\n",
    "\n",
    "\n",
    "GOC_Comp([GD220301_Ct, GD220301_100mM, GD220928_Ct,GD220928_100mM,GD221025_Ct, GD221025_100mM],\n",
    "         [GD220301_Ct_Osmo, GD220301_100mM_Osmo, GD220928_Ct_Osmo,GD220928_100mM_Osmo, \n",
    "                  GD221025_Ct_Osmo, GD221025_100mM_Osmo],\n",
    "         ['GR_end'],['Ecomp'],['Growth rate (day-1)'],\n",
    "         ['E (MPa)'],\n",
    "         ['ManCt_1\\n','ManTr_1\\n','ManCt_2\\n','ManTr_2\\n','ManCt_3\\n','ManTr_3\\n'],\n",
    "          ['gray',LightGreen, Green,LightGreen, Green,LightGreen, Green],\n",
    "          PlotFits=True,PlotStats=True,Norm=False,PooledOnly=False,CorrType = 'spearman')"
   ]
  },
  {
   "cell_type": "markdown",
   "metadata": {},
   "source": [
    "### ABA growth"
   ]
  },
  {
   "cell_type": "code",
   "execution_count": null,
   "metadata": {
    "scrolled": false
   },
   "outputs": [],
   "source": [
    "# compareHydroMech([GD_ABA_Ct_Osmo, GD_ABA_Tr_Osmo],\n",
    "#              ['Ctrl','ABA'],[LightOrange,Orange], \n",
    "#              PFig, 'OsmChoc_ABA', showbox = True,showhist = True,stats='ranksum');\n",
    "\n",
    "# GOC_Comp([GD_ABA_Ct_meca, GD_ABA_Tr_meca],\n",
    "#          [GD_ABA_Ct_Osmo, GD_ABA_Tr_Osmo],\n",
    "#          ['GR_end'],['Ecomp'],['Growth rate (day-1)'],\n",
    "#          ['E (MPa)'],\n",
    "#          ['Ctrl','ABA'],\n",
    "#           ['gray',LightOrange,Orange],\n",
    "#           PlotFits=True,PlotStats=True,Norm=False,CorrType = 'spearman')\n",
    "\n",
    "compareHydroMech([GD230221_Ct_Osmo, GD230221_ABA_Osmo, GD230301_Ct_Osmo, GD230301_ABA_Osmo ],\n",
    "             ['#10_Ct','#10_ABA','#11_Ct','#11_ABA'],[LightOrange,Orange,LightOrange,Orange], \n",
    "             PFig, 'OsmChoc_ABA', showbox = True,showhist = True,stats='ranksum',sigpairs=[(0,1),(2,3)]);\n",
    "\n",
    "\n",
    "\n",
    "# GOC_Comp([GD230221_Ct, GD230221_ABA, GD230301_Ct, GD230301_ABA],\n",
    "#          [GD230221_Ct_Osmo, GD230221_ABA_Osmo, GD230301_Ct_Osmo, GD230301_ABA_Osmo],\n",
    "#          ['GR_end'],['Ecomp'],['Growth rate (day-1)'],\n",
    "#          ['E (MPa)'],\n",
    "#          ['AbaCt_3','AbaTr_3','AbaCt_4','AbaTr_4'],\n",
    "#           ['gray',LightOrange,Orange,LightOrange,Orange],\n",
    "#           PlotFits=True,PlotStats=True,Norm=False,CorrType = 'spearman')\n",
    "\n",
    "\n",
    "\n",
    "\n",
    "# GOC_Comp([GD230221_ABA, GD230301_ABA],\n",
    "#          [GD230221_ABA_Osmo, GD230301_ABA_Osmo],\n",
    "#          ['GR_end'],['Ecomp'],['Growth rate (day-1)'],\n",
    "#          ['E (MPa)'],\n",
    "#          ['AbaTr_3','AbaTr_4'],\n",
    "#           ['gray',LightOrange,Orange],\n",
    "#           PlotFits=True,PlotStats=True,Norm=False,CorrType = 'spearman')\n",
    "\n",
    "\n"
   ]
  },
  {
   "cell_type": "markdown",
   "metadata": {},
   "source": [
    "### Growth before and after OC"
   ]
  },
  {
   "cell_type": "code",
   "execution_count": null,
   "metadata": {
    "scrolled": false
   },
   "outputs": [],
   "source": [
    "\n",
    "# plotGRratio([GD220531_Ct1,GD220531_Ct2,GD220301_Ct, GD220301_100mM, GD220808_Ct, GD220808_100mM, GD220928_Ct,\n",
    "#                   GD220928_100mM, GD221025_Ct, GD221025_100mM, GD230201_Ct, GD230201_100mM],\n",
    "#          [GD220531_Ct1_Osmo,GD220531_Ct2_Osmo,GD220301_Ct_Osmo, GD220301_100mM_Osmo, GD220808_Ct_Osmo, GD220808_100mM_Osmo, GD220928_Ct_Osmo,\n",
    "#                   GD220928_100mM_Osmo, GD221025_Ct_Osmo, GD221025_100mM_Osmo, GD230201_Ct_Osmo, GD230201_100mM_Osmo],\n",
    "#             ['Ctrl','Ctrl','Ct','100mM','Ct','100mM','Ct','100mM','Ct','100mM','Ct','100mM'],\n",
    "#           [Blue,Blue,Blue,LightBlue,Blue,LightBlue,Blue,LightBlue,Blue,LightBlue,Blue,LightBlue]) \n",
    "\n",
    "\n",
    "\n",
    "# plotGRratio([GD_100mM_Ct,GD_100mM_100mM],\n",
    "#          [GD_100mM_Ct_Osmo,GD_100mM_100mM_Osmo],\n",
    "#             ['Ct','100mM'],\n",
    "#           [Blue,LightBlue]) \n",
    "\n",
    "\n",
    "# plotGRratio([GD220531_Ct1,GD220531_Ct2],\n",
    "#             [GD220531_Ct1_Osmo,GD220531_Ct2_Osmo],\n",
    "#             ['220531_Ct1','220531_Ct2'],\n",
    "#             [Red,Green]) \n",
    "\n",
    "# plt.figure(dpi=300)\n",
    "# plt.hist(GD220531_Ct1.append(GD220531_Ct2).append(GD220928_Ct).append(GD220801_Ct1).append(GD221025_Ct)['GR_end'],\n",
    "#          color = 'b',bins=20,alpha = 0.7)\n",
    "# plt.hist(GD220531_Ct1_Osmo.append(GD220531_Ct2_Osmo).append(GD220928_Ct_Osmo).append(GD220801_Ct1_Osmo).append(GD221025_Ct_Osmo)['GR_AfterOC'],\n",
    "#          color = 'r',bins=15,alpha = 0.7)\n",
    "# plt.hist(GD220531_Ct1_Osmo.append(GD220531_Ct2_Osmo).append(GD220928_Ct_Osmo).append(GD220801_Ct1_Osmo).append(GD221025_Ct_Osmo)['GR_InOC'],\n",
    "#          color = 'gray',bins=100,alpha = 0.7)\n",
    "# plt.ylabel('Density')\n",
    "# plt.xlabel('Growth rate (day-1)')\n",
    "# plt.legend(['Before shock','After both shocks','After hyperosmotic shock'])\n",
    "\n",
    "\n",
    "\n",
    "# plotGRratio([GD220531_Ct2,GD220928_100mM,GD221025_Ct],\n",
    "#             [GD220531_Ct2_Osmo,GD220801_Ct1_Osmo,GD221025_Ct_Osmo],\n",
    "#             ['220531_Ct2 (2)','220928_100mM (2)','GD221025_Ct (2)'],\n",
    "#             [LightRed,LightGreen,LightBlue]) \n",
    "\n",
    "\n",
    "# plotGRratio([GD220531_Ct1,GD220531_Ct2,GD220801_Ct1,GD220928_Ct,GD220928_100mM,GD221025_Ct],\n",
    "#             [GD220531_Ct1_Osmo,GD220531_Ct2_Osmo,GD220801_Ct1_Osmo,GD220928_Ct_Osmo,GD220928_100mM_Osmo,GD221025_Ct_Osmo],\n",
    "#             ['220531_Ct1 (1)','220531_Ct2 (2)','220801_Ct1 (1)','220928_Ct (1)','220928_100mM (2)','GD221025_Ct (2)'],\n",
    "#             [Red,LightRed,Green,LightGreen,Blue,LightBlue]) \n",
    "\n",
    "# paper fig (no mech of 100mM growth)\n",
    "\n",
    "# plotGRratio([GD221025_Ct,GD220531_Ct1,GD220531_Ct2,GD220928_Ct],\n",
    "#             [GD221025_Ct_Osmo,GD220531_Ct1_Osmo,GD220531_Ct2_Osmo,GD220928_Ct_Osmo],\n",
    "#             ['Ctrl2','Ctrl4_1','Ctrl4_2','Ctrl5'],\n",
    "#             [Blue,Red,Yellow,LightYellow,Green]) \n",
    "\n",
    "# plotGRratio([GD221025_Ct,GD220531_Ct1,GD220928_Ct],\n",
    "#             [GD221025_Ct_Osmo,GD220531_Ct1_Osmo,GD220928_Ct_Osmo],\n",
    "#             ['Ctrl2','Ctrl4_1','Ctrl5'],\n",
    "#             [Blue,Red,Yellow,Green]) \n",
    "\n",
    "\n",
    "\n",
    "\n",
    "\n"
   ]
  },
  {
   "cell_type": "code",
   "execution_count": null,
   "metadata": {
    "scrolled": false
   },
   "outputs": [],
   "source": [
    "\n",
    "# GD = GD220531_Ct1\n",
    "\n",
    "# AllGRvar = np.empty(0)\n",
    "# AllGRvarMedian = np.empty(0)\n",
    "\n",
    "# f1,ax1 = plt.subplots(dpi=200)\n",
    "# f1.patch.set_facecolor('white')\n",
    "# f1.suptitle('All data pooled')\n",
    "\n",
    "# f2,ax2 = plt.subplots(dpi=200)\n",
    "# f2.patch.set_facecolor('white')\n",
    "# f2.suptitle('Median per PPG')\n",
    "\n",
    "\n",
    "# for s in tqdm(np.unique(GD.index)):\n",
    "#     GR = GD.loc[s,'GR_Full'].to_numpy()\n",
    "    \n",
    "#     GRvar = np.abs(np.divide(GR[1:-1],GR[0:-2]))\n",
    "#     GRvarInWindow = np.round(len(GRvar[(GRvar>0) & (GRvar<2)])/len(GRvar)*1000)/10\n",
    "    \n",
    "#     AllGRvar = np.append(AllGRvar,GRvar)\n",
    "#     AllGRvarMedian = np.append(AllGRvarMedian,np.median(GRvar))\n",
    "    \n",
    "#     f0,ax0 = plt.subplots(dpi=200)\n",
    "#     f0.patch.set_facecolor('white')\n",
    "#     f0.suptitle(s + ' (' + str(GRvarInWindow) + '% in window) + median')\n",
    "#     ax0.hist(GRvar, range = (0,2), bins = 21,color='r', density = True)\n",
    "#     lims = ax0.get_ylim()\n",
    "#     ax0.plot([np.median(GRvar),np.median(GRvar)],lims,'--',color = 'lightgray')\n",
    "#     ax0.set_ylim(lims)\n",
    "    \n",
    "# ax1.hist(AllGRvar, range = (0,2), bins = 21,color='b', density = True)\n",
    "# ax2.hist(AllGRvarMedian, range = (0,2), bins = 21,color='b', density = True)"
   ]
  },
  {
   "cell_type": "markdown",
   "metadata": {},
   "source": [
    "### Successive OC"
   ]
  },
  {
   "cell_type": "code",
   "execution_count": null,
   "metadata": {
    "scrolled": false
   },
   "outputs": [],
   "source": [
    "# successiveOC(GD221025_Ct_Osmo,GD221025_Ct_Osmo2)\n",
    "\n",
    "# successiveOC(GD221201_Ct_Osmo,GD221201_Ct_Osmo2)"
   ]
  },
  {
   "cell_type": "markdown",
   "metadata": {},
   "source": [
    "### Mechanics and size correlation"
   ]
  },
  {
   "cell_type": "code",
   "execution_count": null,
   "metadata": {
    "scrolled": false
   },
   "outputs": [],
   "source": [
    "# Corr([GD221025_Ct_Osmo.append(GD220531_Osmo).append(GD220928_Ct_Osmo).append(GD221201_Ct_Osmo).append(GD221206_Ct_Osmo),\n",
    "#      GD221025_Ct_Osmo,GD220531_Osmo,GD220928_Ct_Osmo,GD221201_Ct_Osmo,GD221206_Ct_Osmo],\n",
    "#      ['Pooled','221025_Ct','220531_Ct','220928_Ct','221201_Ct','221206_Ct'],\n",
    "#      columns = ['A0','Ecomp'],columnslabels = ['Size (mm²)', 'Elastic modulus (MPa)'],PlotFits = True,\n",
    "#      colors=['gray',Blue,Yellow,Green,Red,Purple], corrmethod ='spearman')\n",
    "\n",
    "# GlobalData221201_Ct_Osmo\n",
    "# GlobalData221206_Ct_Osmo\n",
    "\n",
    "# GD221025_Ct_Osmo,GD220531_Osmo,GD220928_Ct_Osmo"
   ]
  }
 ],
 "metadata": {
  "kernelspec": {
   "display_name": "Python 3",
   "language": "python",
   "name": "python3"
  },
  "language_info": {
   "codemirror_mode": {
    "name": "ipython",
    "version": 3
   },
   "file_extension": ".py",
   "mimetype": "text/x-python",
   "name": "python",
   "nbconvert_exporter": "python",
   "pygments_lexer": "ipython3",
   "version": "3.8.5"
  },
  "toc": {
   "base_numbering": 1,
   "nav_menu": {},
   "number_sections": true,
   "sideBar": true,
   "skip_h1_title": true,
   "title_cell": "Table of Contents",
   "title_sidebar": "Contents",
   "toc_cell": false,
   "toc_position": {
    "height": "719px",
    "left": "181px",
    "top": "58px",
    "width": "352px"
   },
   "toc_section_display": true,
   "toc_window_display": true
  }
 },
 "nbformat": 4,
 "nbformat_minor": 4
}
