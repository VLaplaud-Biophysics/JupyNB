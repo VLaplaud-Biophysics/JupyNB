{
 "cells": [
  {
   "cell_type": "markdown",
   "metadata": {},
   "source": [
    "# Paper data and figures"
   ]
  },
  {
   "cell_type": "markdown",
   "metadata": {},
   "source": [
    "## Documentation and Imports\n",
    "\n",
    "\n",
    "Created on 03-08-2022\n",
    "\n",
    "Author: Valentin Laplaud\n"
   ]
  },
  {
   "cell_type": "code",
   "execution_count": null,
   "metadata": {
    "code_folding": []
   },
   "outputs": [],
   "source": [
    "## Clean up before script start \n",
    "\n",
    "for element in dir():\n",
    "\n",
    "    if element[0:1] != \"_\":\n",
    "\n",
    "        del globals()[element]\n",
    "\n",
    "import gc\n",
    "gc.collect()\n",
    "\n",
    "\n",
    "print('\\033[1m' + '\\033[4m' + '\\nRunning :  ''PaperDataAndFigs''\\n' + '\\033[0m')\n",
    "\n",
    "import datetime\n",
    "\n",
    "# plotting stuff\n",
    "import matplotlib as mpl\n",
    "mpl.use('TkAgg')\n",
    "%matplotlib inline\n",
    "\n",
    "COLOR = 'white'\n",
    "COLOR2 = 'black'\n",
    "\n",
    "mpl.rcParams['text.color'] = COLOR\n",
    "mpl.rcParams['axes.labelcolor'] = COLOR\n",
    "mpl.rcParams['xtick.color'] = COLOR\n",
    "mpl.rcParams['ytick.color'] = COLOR\n",
    "mpl.rcParams['axes.edgecolor'] = COLOR\n",
    "mpl.rcParams['axes.labelsize'] =  'large'\n",
    "\n",
    "mpl.rcParams[\"figure.facecolor\"] = COLOR2\n",
    "mpl.rcParams[\"axes.facecolor\"] = COLOR2\n",
    "mpl.rcParams[\"savefig.facecolor\"] = COLOR2\n",
    "mpl.rcParams['axes.facecolor'] = COLOR2\n",
    "\n",
    "# numbers handling\n",
    "import numpy as np\n",
    "# import numpy.matlib as mtl\n",
    "import pandas as pd\n",
    "\n",
    "# to hide known warnings\n",
    "import warnings\n",
    "\n",
    "# General system functions\n",
    "import os\n",
    "import shutil\n",
    "import sys\n",
    "\n",
    "import time\n",
    "\n",
    "# my functions\n",
    "sys.path.append(r'd:\\Users\\laplaud\\Desktop\\PostDoc\\Code\\PythonFunctions\\\\')\n",
    "import VallapFunc as vf\n",
    "from StatsFunctions import plotSig, Corr\n",
    "from Main import compareGrowth, compareHydroMech, GOC_Comp\n"
   ]
  },
  {
   "cell_type": "markdown",
   "metadata": {},
   "source": [
    "## Data loading and color definition"
   ]
  },
  {
   "cell_type": "code",
   "execution_count": null,
   "metadata": {
    "code_folding": []
   },
   "outputs": [],
   "source": [
    "%run d:\\Users\\laplaud\\Desktop\\PostDoc\\Code\\PythonFunctions/ExperimentList.py"
   ]
  },
  {
   "cell_type": "markdown",
   "metadata": {},
   "source": [
    "### Loading"
   ]
  },
  {
   "cell_type": "code",
   "execution_count": null,
   "metadata": {
    "scrolled": false,
    "tags": []
   },
   "outputs": [],
   "source": [
    "####################################### Growth #########################################################################################\n",
    "\n",
    "## Expe 220214 Ctrl growth\n",
    "GD220214_Ct1 = pd.read_csv(P220214_Ct1 + '\\\\GlobalData220214_Ct1_AreaFit.csv', index_col = 'Ind') \n",
    "GD220214_Ct2 = pd.read_csv(P220214_Ct2 + '\\\\GlobalData220214_Ct2_AreaFit.csv', index_col = 'Ind')      \n",
    "\n",
    "# Expe 220531 Ctrl growth\n",
    "GD220531_Ct1 = pd.read_csv(P220531_Ct1 + '\\\\GlobalData220531_Ct1_AreaFit.csv', index_col = 'Ind') \n",
    "GD220531_Ct2 = pd.read_csv(P220531_Ct2 + '\\\\GlobalData220531_Ct2_AreaFit.csv', index_col = 'Ind')      \n",
    "\n",
    "## Expe 220727 Ctrl growth\n",
    "GD220727_Hyper = pd.read_csv(P220727_Hyper + '\\\\GlobalData220727_Hyper_AreaFit.csv', index_col = 'Ind') \n",
    "GD220727_Hypo = pd.read_csv(P220727_Hypo + '\\\\GlobalData220727_Hypo_AreaFit.csv', index_col = 'Ind')  \n",
    "\n",
    "# Expe 220801 Ctrl growth\n",
    "GD220801_Ct1 = pd.read_csv(P220801_Ct1 + '\\\\GlobalData220801_Ct1_AreaFit.csv', index_col = 'Ind') \n",
    "GD220801_Ct2 = pd.read_csv(P220801_Ct2 + '\\\\GlobalData220801_Ct2_AreaFit.csv', index_col = 'Ind')  \n",
    "\n",
    "\n",
    "## Expe 220301 100mM growth\n",
    "GD220301_Ct = pd.read_csv(P220301_Ct + '\\\\GlobalData220301_Ct_AreaFit.csv', index_col = 'Ind') \n",
    "GD220301_100mM = pd.read_csv(P220301_M100 + '\\\\GlobalData220301_M100_AreaFit.csv', index_col = 'Ind') \n",
    "\n",
    "## Expe 220928 100mM growth\n",
    "GD220928_Ct = pd.read_csv(P220928_Ct + '\\\\GlobalData220928_Ct_AreaFit.csv', index_col = 'Ind') \n",
    "GD220928_100mM = pd.read_csv(P220928_100mM + '\\\\GlobalData220928_100mM_AreaFit.csv', index_col = 'Ind')  \n",
    "\n",
    "\n",
    "####################################### Mechanics #########################################################################################\n",
    "\n",
    "## Expe 220214 Osmotic Chocs    \n",
    "GD220214_Ct1_Osmo = pd.read_csv(P220214_Ct1_Osmo + '\\\\GlobalData220214_Ct1_Osmo_AreaFit.csv', index_col = 'Ind')   \n",
    "GD220214_Ct2_Osmo = pd.read_csv(P220214_Ct2_Osmo + '\\\\GlobalData220214_Ct2_Osmo_AreaFit.csv', index_col = 'Ind')\n",
    "\n",
    "# Expe 220531 Osmotic Chocs  \n",
    "GD220531_Ct1_Osmo = pd.read_csv(P220531_Ct1_Osmo + '\\\\GlobalData220531_Ct1_Osmo_AreaFit.csv', index_col = 'Ind')   \n",
    "GD220531_Ct2_Osmo = pd.read_csv(P220531_Ct2_Osmo + '\\\\GlobalData220531_Ct2_Osmo_AreaFit.csv', index_col = 'Ind')\n",
    "\n",
    "GD220801_Ct1_Osmo = pd.read_csv(P220801_Ct1_Osmo + '\\\\GlobalData220801_Ct1_Osmo_AreaFit.csv', index_col = 'Ind') \n",
    "GD220801_Ct2_Osmo = pd.read_csv(P220801_Ct2_Osmo + '\\\\GlobalData220801_Ct2_Osmo_AreaFit.csv', index_col = 'Ind')    \n",
    "\n",
    "\n",
    "## Expe 220301 100mM growth Osmotic Chocs    \n",
    "GD220301_Ct_Osmo = pd.read_csv(P220301_Ct_Osmo + '\\\\GlobalData220301_Ct_Osmo_AreaFit.csv', index_col = 'Ind')   \n",
    "GD220301_100mM_Osmo = pd.read_csv(P220301_M100_Osmo + '\\\\GlobalData220301_M100_Osmo_AreaFit.csv', index_col = 'Ind')\n",
    "\n",
    "## Expe 220928 100mM growth\n",
    "GD220928_Ct_Osmo = pd.read_csv(P220928_Ct_Osmo + '\\\\GlobalData220928_Ct_Osmo_AreaFit.csv', index_col = 'Ind') \n",
    "GD220928_100mM_Osmo = pd.read_csv(P220928_100mM_Osmo + '\\\\GlobalData220928_100mM_Osmo_AreaFit.csv', index_col = 'Ind')  \n",
    "\n",
    "\n",
    "now  = datetime.datetime.now()\n",
    "now_str = now.strftime(\"%d/%m/%Y %H:%M\")\n",
    "print(now_str + '\\nData loaded.')"
   ]
  },
  {
   "cell_type": "markdown",
   "metadata": {},
   "source": [
    "### Managing data for growth"
   ]
  },
  {
   "cell_type": "code",
   "execution_count": null,
   "metadata": {},
   "outputs": [],
   "source": [
    "GD220214 = GD220214_Ct1.append(GD220214_Ct2)\n",
    "GD220214.loc[:,'Expe'] = '22-02-14'\n",
    "GD220531 = GD220531_Ct1.append(GD220531_Ct2)\n",
    "GD220531.loc[:,'Expe'] = '22-05-31'\n",
    "GD220727 = GD220727_Hyper.append(GD220727_Hypo)\n",
    "GD220727.loc[:,'Expe'] = '22-07-27'\n",
    "GD220801 = GD220801_Ct1\n",
    "GD220801.loc[:,'Expe'] = '22-08-01'\n",
    "\n",
    "GDPooled = GD220214.append(GD220531).append(GD220727).append(GD220801)\n",
    "\n",
    "n220214 = len(np.unique(GD220214.index))\n",
    "n220531 = len(np.unique(GD220531.index))\n",
    "n220727 = len(np.unique(GD220727.index))\n",
    "n220801 = len(np.unique(GD220801.index))\n",
    "\n",
    "nPooled = n220214+n220531+n220727+n220801\n"
   ]
  },
  {
   "cell_type": "markdown",
   "metadata": {},
   "source": [
    "### Colors"
   ]
  },
  {
   "cell_type": "code",
   "execution_count": null,
   "metadata": {},
   "outputs": [],
   "source": [
    "\n",
    "LightGreen = [0.5, 1, 0.3]\n",
    "Green = [0.3, 0.7, 0.2]\n",
    "DarkGreen = [0.1, 0.4, 0.1]\n",
    "PastelGreen = [0.5, 1, 0.8]\n",
    "DarkPastelGreen = [0.2, 0.6, 0.5]\n",
    "\n",
    "LightRed = [0.8, 0.3, 0.3]\n",
    "Red = [0.6, 0.2, 0.2]\n",
    "DarkRed = [0.4, 0.1, 0.1]\n",
    "\n",
    "LightBlue = [0.3, 0.5, 1]\n",
    "Blue = [0.2, 0.3, 0.7]\n",
    "DarkBlue = [0.1, 0.1, 0.4]\n",
    "\n",
    "DarkPurple = [0.4, 0, 0.3]\n",
    "Purple = [0.55, 0, 0.45]\n",
    "LightPurple = [0.8, 0, 0.7]\n",
    "\n",
    "LightYellow = [0.8, 0.8, 0.2]\n",
    "Yellow = [0.5, 0.5, 0.2]\n",
    "DarkYellow = [0.3, 0.3, 0.1]\n"
   ]
  },
  {
   "cell_type": "markdown",
   "metadata": {},
   "source": [
    "## Growth"
   ]
  },
  {
   "cell_type": "markdown",
   "metadata": {},
   "source": [
    "### Control"
   ]
  },
  {
   "cell_type": "markdown",
   "metadata": {
    "heading_collapsed": true
   },
   "source": [
    "#### 14-02-2022"
   ]
  },
  {
   "cell_type": "code",
   "execution_count": null,
   "metadata": {
    "hidden": true,
    "scrolled": false
   },
   "outputs": [],
   "source": [
    "# compareGrowth([GD220214_Ct1,GD220214_Ct2],['Ctrl1\\n','Ctrl2\\n'],[DarkGreen, LightGreen], \n",
    "#             PFig, '14-02-2022 - Ranksum', showcurve = True, showbox = True,showhist = True, nbins = 15,indiplots = False,NimgMax = 'max',\n",
    "#             stats='ranksum')"
   ]
  },
  {
   "cell_type": "markdown",
   "metadata": {
    "heading_collapsed": true
   },
   "source": [
    "#### 31-05-2022"
   ]
  },
  {
   "cell_type": "code",
   "execution_count": null,
   "metadata": {
    "hidden": true,
    "scrolled": false
   },
   "outputs": [],
   "source": [
    "# compareGrowth([GD220531_Ct1,GD220531_Ct2],['Ctrl1\\n','Ctrl2\\n'],[DarkRed, LightRed], \n",
    "#             PFig, '31-05-2022 - Ranksum', showcurve = True, showbox = True,showhist = True, nbins = 15,indiplots = False,NimgMax = '24h',\n",
    "#             stats='ranksum')"
   ]
  },
  {
   "cell_type": "markdown",
   "metadata": {
    "heading_collapsed": true
   },
   "source": [
    "#### 27-07-2022"
   ]
  },
  {
   "cell_type": "code",
   "execution_count": null,
   "metadata": {
    "hidden": true,
    "scrolled": false
   },
   "outputs": [],
   "source": [
    "# compareGrowth([GD220727_Hyper,GD220727_Hypo],['Ctrl1\\n','Ctrl2\\n'],[LightGreen, DarkGreen], \n",
    "#             PFig, '27-07-2022 - Ranksum', showcurve = True, showbox = True,showhist = True, nbins = 15,indiplots = False,NimgMax = '24h',\n",
    "#             stats='ranksum')"
   ]
  },
  {
   "cell_type": "markdown",
   "metadata": {
    "heading_collapsed": true
   },
   "source": [
    "#### 01-08-2022 Ctrl1 only"
   ]
  },
  {
   "cell_type": "code",
   "execution_count": null,
   "metadata": {
    "hidden": true,
    "scrolled": false
   },
   "outputs": [],
   "source": [
    "# compareGrowth([GD220801_Ct1],['Ctrl1\\n'],[DarkPurple], \n",
    "#             PFig, '01-08-2022 - Ranksum', showcurve = True, showbox = True,showhist = True, nbins = 15,indiplots = False,NimgMax = 'max',\n",
    "#             stats='ranksum')"
   ]
  },
  {
   "cell_type": "markdown",
   "metadata": {},
   "source": [
    "#### All together"
   ]
  },
  {
   "cell_type": "markdown",
   "metadata": {
    "heading_collapsed": true
   },
   "source": [
    "##### Growth quantif"
   ]
  },
  {
   "cell_type": "code",
   "execution_count": null,
   "metadata": {
    "hidden": true,
    "scrolled": false
   },
   "outputs": [],
   "source": [
    "# compareGrowth([GD220214,GD220531,GD220727,GD220801],\n",
    "#             ['0214\\n','0531\\n','0727\\n','0801\\n'],\n",
    "#             [Yellow,Red,Green,Purple],PFig, 'AllExps', \n",
    "#             showcurve = True, showbox = False,showhist = False, nbins = 15,indiplots = False, NimgMax = 'max', stats='kruskal')\n",
    "\n",
    "# compareGrowth([GDPooled],\n",
    "#             ['Ctrls\\n'],\n",
    "#             ['gray'],PFig, 'PooledExps', \n",
    "#             showcurve = True, showbox = False,showhist = False, nbins = 15,indiplots = False, NimgMax = 'max', stats='ranksum')\n"
   ]
  },
  {
   "cell_type": "markdown",
   "metadata": {
    "heading_collapsed": true
   },
   "source": [
    "##### Correlations (Growth rate local vs global, effect of position in chip)"
   ]
  },
  {
   "cell_type": "code",
   "execution_count": null,
   "metadata": {
    "hidden": true,
    "scrolled": false
   },
   "outputs": [],
   "source": [
    "\n",
    "# Corr([GD220214,GD220531,GD220727,GD220801],['GD220214','GD220531','GD220727','GD220801'],\n",
    "#      columns = ['GR_end','Tau'],columnslabels = ['GR_end (day-1)','Tau'],PlotFits = True,\n",
    "#      colors=[Blue,Red,Green,Yellow,Purple], corrmethod ='pearson')\n",
    "\n",
    "\n",
    "# Corr([GDPooled,GD220214,GD220531,GD220727,GD220801],['Pooled','GD220214','GD220531','GD220727','GD220801'],\n",
    "#      columns = ['ChipRow','tdeb','Tau'],columnslabels = ['Position','Tstart','Tau'],PlotFits = True,\n",
    "#      colors=['gray',Red,Green,Blue,Yellow], corrmethod ='pearson')\n"
   ]
  },
  {
   "cell_type": "markdown",
   "metadata": {
    "heading_collapsed": true
   },
   "source": [
    "##### Values of quantificators"
   ]
  },
  {
   "cell_type": "code",
   "execution_count": null,
   "metadata": {
    "hidden": true
   },
   "outputs": [],
   "source": [
    "\n",
    "# Tau220214 = np.round(GD220214.loc[GD220214['Img'] == 0,'Tau'].median()/60*100)/100\n",
    "# Tau220531 = np.round(GD220531.loc[GD220531['Img'] == 0,'Tau'].median()/60*100)/100\n",
    "# Tau220727 = np.round(GD220727.loc[GD220727['Img'] == 0,'Tau'].median()/60*100)/100\n",
    "# Tau220801 = np.round(GD220801.loc[GD220801['Img'] == 0,'Tau'].median()/60*100)/100\n",
    "\n",
    "# TauPooled = np.round(GDPooled.loc[GDPooled['Img'] == 0,'Tau'].median()/60*100)/100\n",
    "\n",
    "# Tau220214ste = np.round(GD220214.loc[GD220214['Img'] == 0,'Tau'].std()/60/n220214*100)/100\n",
    "# Tau220531ste = np.round(GD220531.loc[GD220531['Img'] == 0,'Tau'].std()/60/n220531*100)/100\n",
    "# Tau220727ste = np.round(GD220727.loc[GD220727['Img'] == 0,'Tau'].std()/60/n220727*100)/100\n",
    "# Tau220801ste = np.round(GD220801.loc[GD220801['Img'] == 0,'Tau'].std()/60/n220801*100)/100\n",
    "\n",
    "# TauPooledste = np.round(GDPooled.loc[GDPooled['Img'] == 0,'Tau'].std()/60/nPooled*100)/100\n",
    "\n",
    "# print('Tau for growth : ')\n",
    "# print('14-02-2022 -> ' + str(Tau220214) + ' ' + u\"\\u00B1\" + ' ' + str(Tau220214ste) + ' hours' )\n",
    "# print('31-05-2022 -> ' + str(Tau220531) + ' ' + u\"\\u00B1\" + ' ' + str(Tau220531ste) + ' hours' )\n",
    "# print('27-07-2022 -> ' + str(Tau220727) + ' ' + u\"\\u00B1\" + ' ' + str(Tau220727ste) + ' hours' )\n",
    "# print('01-08-2022 -> ' + str(Tau220801) + ' ' + u\"\\u00B1\" + ' ' + str(Tau220801ste) + ' hours' )\n",
    "# print('Pooled -> ' + str(TauPooled) + ' ' + u\"\\u00B1\" + ' ' + str(TauPooledste) + ' hours' )\n"
   ]
  },
  {
   "cell_type": "code",
   "execution_count": null,
   "metadata": {
    "hidden": true
   },
   "outputs": [],
   "source": [
    "\n",
    "# tdeb220214 = np.round(GD220214.loc[GD220214['Img'] == 0,'tdeb'].median()/60*100)/100\n",
    "# tdeb220531 = np.round(GD220531.loc[GD220531['Img'] == 0,'tdeb'].median()/60*100)/100\n",
    "# tdeb220727 = np.round(GD220727.loc[GD220727['Img'] == 0,'tdeb'].median()/60*100)/100\n",
    "\n",
    "# tdebPooled = np.round(GDPooled.loc[GDPooled['Img'] == 0,'tdeb'].median()/60*100)/100\n",
    "\n",
    "# tdeb220214ste = np.round(GD220214.loc[GD220214['Img'] == 0,'tdeb'].std()/60/n220214*100)/100\n",
    "# tdeb220531ste = np.round(GD220531.loc[GD220531['Img'] == 0,'tdeb'].std()/60/n220531*100)/100\n",
    "# tdeb220727ste = np.round(GD220727.loc[GD220727['Img'] == 0,'tdeb'].std()/60/n220727*100)/100\n",
    "\n",
    "# tdebPooledste = np.round(GDPooled.loc[GDPooled['Img'] == 0,'tdeb'].std()/60/nPooled*100)/100\n",
    "\n",
    "# print('Tstart of growth : ')\n",
    "# print('14-02-2022 -> ' + str(tdeb220214) + ' ' + u\"\\u00B1\" + ' ' + str(tdeb220214ste) + ' hours' )\n",
    "# print('31-05-2022 -> ' + str(tdeb220531) + ' ' + u\"\\u00B1\" + ' ' + str(tdeb220531ste) + ' hours' )\n",
    "# print('27-07-2022 -> ' + str(tdeb220727) + ' ' + u\"\\u00B1\" + ' ' + str(tdeb220727ste) + ' hours' )\n",
    "# print('Pooled -> ' + str(tdebPooled) + ' ' + u\"\\u00B1\" + ' ' + str(tdebPooledste) + ' hours' )"
   ]
  },
  {
   "cell_type": "code",
   "execution_count": null,
   "metadata": {
    "hidden": true
   },
   "outputs": [],
   "source": [
    "# A0fit220214 = np.round(GD220214.loc[GD220214['Img'] == 0,'A0fit'].median()*100)/100\n",
    "# A0fit220531 = np.round(GD220531.loc[GD220531['Img'] == 0,'A0fit'].median()*100)/100\n",
    "# A0fit220727 = np.round(GD220727.loc[GD220727['Img'] == 0,'A0fit'].median()*100)/100\n",
    "\n",
    "# A0fitPooled = np.round(GDPooled.loc[GDPooled['Img'] == 0,'A0fit'].median()*100)/100\n",
    "\n",
    "# A0fit220214ste = np.round(GD220214.loc[GD220214['Img'] == 0,'A0fit'].std()/n220214*10000)/10000\n",
    "# A0fit220531ste = np.round(GD220531.loc[GD220531['Img'] == 0,'A0fit'].std()/n220531*10000)/10000\n",
    "# A0fit220727ste = np.round(GD220727.loc[GD220727['Img'] == 0,'A0fit'].std()/n220727*10000)/10000\n",
    "\n",
    "# A0fitPooledste = np.round(GDPooled.loc[GDPooled['Img'] == 0,'A0fit'].std()/nPooled*10000)/10000\n",
    "\n",
    "# print('A0fit of gemmae : ')\n",
    "# print('14-02-2022 -> ' + str(A0fit220214) + ' ' + u\"\\u00B1\" + ' ' + str(A0fit220214ste) + ' mm²' )\n",
    "# print('31-05-2022 -> ' + str(A0fit220531) + ' ' + u\"\\u00B1\" + ' ' + str(A0fit220531ste) + ' mm²' )\n",
    "# print('27-07-2022 -> ' + str(A0fit220727) + ' ' + u\"\\u00B1\" + ' ' + str(A0fit220727ste) + ' mm²' )\n",
    "# print('Pooled -> ' + str(A0fitPooled) + ' ' + u\"\\u00B1\" + ' ' + str(A0fitPooledste) + ' mm²' )"
   ]
  },
  {
   "cell_type": "code",
   "execution_count": null,
   "metadata": {
    "hidden": true
   },
   "outputs": [],
   "source": [
    "\n",
    "# GrowthAtStart_flat220214 = np.round(GD220214.loc[GD220214['Img'] == 0,'GrowthAtStart_flat'].median()*1000)/10\n",
    "# GrowthAtStart_flat220531 = np.round(GD220531.loc[GD220531['Img'] == 0,'GrowthAtStart_flat'].median()*1000)/10\n",
    "# GrowthAtStart_flat220727 = np.round(GD220727.loc[GD220727['Img'] == 0,'GrowthAtStart_flat'].median()*1000)/10\n",
    "\n",
    "# GrowthAtStart_flatPooled = np.round(GDPooled.loc[GDPooled['Img'] == 0,'GrowthAtStart_flat'].median()*1000)/10\n",
    "\n",
    "# GrowthAtStart_flat220214ste = np.round(GD220214.loc[GD220214['Img'] == 0,'GrowthAtStart_flat'].std()/n220214*10000)/100\n",
    "# GrowthAtStart_flat220531ste = np.round(GD220531.loc[GD220531['Img'] == 0,'GrowthAtStart_flat'].std()/n220531*10000)/100\n",
    "# GrowthAtStart_flat220727ste = np.round(GD220727.loc[GD220727['Img'] == 0,'GrowthAtStart_flat'].std()/n220727*10000)/100\n",
    "\n",
    "# GrowthAtStart_flatPooledste = np.round(GDPooled.loc[GDPooled['Img'] == 0,'GrowthAtStart_flat'].std()/nPooled*10000)/100\n",
    "\n",
    "# print('% growth at Tstart : ')\n",
    "# print('14-02-2022 -> ' + str(GrowthAtStart_flat220214) + ' ' + u\"\\u00B1\" + ' ' + str(GrowthAtStart_flat220214ste) + ' %' )\n",
    "# print('31-05-2022 -> ' + str(GrowthAtStart_flat220531) + ' ' + u\"\\u00B1\" + ' ' + str(GrowthAtStart_flat220531ste) + ' %' )\n",
    "# print('27-07-2022 -> ' + str(GrowthAtStart_flat220727) + ' ' + u\"\\u00B1\" + ' ' + str(GrowthAtStart_flat220727ste) + ' %' )\n",
    "# print('Pooled -> ' + str(GrowthAtStart_flatPooled) + ' ' + u\"\\u00B1\" + ' ' + str(GrowthAtStart_flatPooledste) + ' %' )"
   ]
  },
  {
   "cell_type": "markdown",
   "metadata": {},
   "source": [
    "### Hyper osmotic environement (100mM)"
   ]
  },
  {
   "cell_type": "markdown",
   "metadata": {
    "heading_collapsed": true
   },
   "source": [
    "#### 01-03-2022"
   ]
  },
  {
   "cell_type": "code",
   "execution_count": null,
   "metadata": {
    "hidden": true,
    "scrolled": false
   },
   "outputs": [],
   "source": [
    "# compareGrowth([GD220301_Ct,GD220301_M100],['Ctrl\\n','100mM\\n'],[PastelGreen, DarkPastelGreen], \n",
    "#             PFig, '01-03-2022 - Ranksum', showcurve = True, showbox = True,showhist = True, \n",
    "#               nbins = 15,indiplots = False,NimgMax = 'max', stats='ranksum')"
   ]
  },
  {
   "cell_type": "markdown",
   "metadata": {
    "heading_collapsed": true
   },
   "source": [
    "#### 29-08-2022"
   ]
  },
  {
   "cell_type": "code",
   "execution_count": null,
   "metadata": {
    "hidden": true,
    "scrolled": false
   },
   "outputs": [],
   "source": [
    "# compareGrowth([GD220928_Ct,GD220928_100mM],['Ctrl\\n','100mM\\n'],[PastelGreen, DarkPastelGreen], \n",
    "#             PFig, '29-08-2022 - Ranksum', showcurve = True, showbox = True,showhist = True, \n",
    "#               nbins = 15,indiplots = False,NimgMax = 'max', stats='ranksum')"
   ]
  },
  {
   "cell_type": "markdown",
   "metadata": {},
   "source": [
    "#### All together"
   ]
  },
  {
   "cell_type": "markdown",
   "metadata": {
    "heading_collapsed": true
   },
   "source": [
    "##### Growth quantif"
   ]
  },
  {
   "cell_type": "code",
   "execution_count": null,
   "metadata": {
    "hidden": true,
    "scrolled": false
   },
   "outputs": [],
   "source": [
    "# compareGrowth([GD220301_Ct,GD220301_100mM,GD220928_Ct,GD220928_100mM],\n",
    "#               ['Ctrl\\n','100mM\\n','Ctrl\\n','100mM\\n'],\n",
    "#               [PastelGreen, DarkPastelGreen,PastelGreen, DarkPastelGreen],\n",
    "#               PFig, 'Growth at 100mM', showcurve = True, sigpairs = [(0,1),(2,3)],\n",
    "#               showbox = True,showhist = True,nbins = 15,indiplots = False,NimgMax = 'max', stats='ranksum')\n",
    "\n"
   ]
  },
  {
   "cell_type": "markdown",
   "metadata": {
    "heading_collapsed": true
   },
   "source": [
    "##### Correlarions (Growth rate local vs global, effect of position in chip)"
   ]
  },
  {
   "cell_type": "code",
   "execution_count": null,
   "metadata": {
    "hidden": true,
    "scrolled": false
   },
   "outputs": [],
   "source": [
    "# Corr([GD220301_Ct,GD220301_100mM,GD220928_Ct,GD220928_100mM],['GD220301_Ct','GD220301_100mM','GD220928_Ct','GD220928_100mM'],\n",
    "#      columns = ['GR_end','Tau'],columnslabels = ['GR_end (day-1)','Tau'],PlotFits = True,\n",
    "#      colors=[Blue,Red,Green,Yellow], corrmethod ='pearson')\n",
    "\n",
    "# Corr([GD220301_Ct.append(GD220928_Ct),GD220301_Ct,GD220928_Ct],['Pooled_Ctrl','GD220301_Ct','GD220928_Ct'],\n",
    "#      columns = ['ChipRow','tdeb','Tau'],columnslabels = ['Position','Tstart','Tau'],PlotFits = True,\n",
    "#      colors=['gray',Blue,Yellow], corrmethod ='pearson')\n",
    "\n",
    "# Corr([GD220301_100mM.append(GD220928_100mM),GD220301_100mM,GD220928_100mM],['Pooled_100mM','GD220301_100mM','GD220928_100mM'],\n",
    "#      columns = ['ChipRow','tdeb','Tau'],columnslabels = ['Position','Tstart','Tau'],PlotFits = True,\n",
    "#      colors=['gray',Green,Red], corrmethod ='pearson')"
   ]
  },
  {
   "cell_type": "markdown",
   "metadata": {},
   "source": [
    "## Mechanics"
   ]
  },
  {
   "cell_type": "markdown",
   "metadata": {},
   "source": [
    "### Controls"
   ]
  },
  {
   "cell_type": "markdown",
   "metadata": {
    "heading_collapsed": true
   },
   "source": [
    "#### 14-02-2022"
   ]
  },
  {
   "cell_type": "code",
   "execution_count": null,
   "metadata": {
    "hidden": true,
    "scrolled": false
   },
   "outputs": [],
   "source": [
    "# compareHydroMech([GD220214_Ct1_Osmo, GD220214_Ct2_Osmo],\n",
    "#              ['Chamber 1','Chamber 2'],[Green,LightGreen], \n",
    "#              PFig, 'OsmChoc_14-02-2022', showbox = True,showhist = True,stats='ranksum');\n",
    "\n",
    "# Growth slope before/after choc\n",
    "\n",
    "# GOC_Comp([GD220214_Ct1, GD220214_Ct2],\n",
    "#          [GD220214_Ct1_Osmo, GD220214_Ct2_Osmo],\n",
    "#          ['GR_end'],['GR_AfterOC'],['GR_end (day-1)'],['GrowthSlope (day-1)'],\n",
    "#          ['GD220214_Ct1','GD220214_Ct2],[Blue,Red,Green,Yellow],PlotFits=True)"
   ]
  },
  {
   "cell_type": "markdown",
   "metadata": {
    "heading_collapsed": true
   },
   "source": [
    "#### 31-05-2022"
   ]
  },
  {
   "cell_type": "code",
   "execution_count": null,
   "metadata": {
    "hidden": true,
    "scrolled": false
   },
   "outputs": [],
   "source": [
    "# compareHydroMech([GD220531_Ct1_Osmo, GD220531_Ct2_Osmo],\n",
    "#              ['Chamber 1','Chamber 2'],[Red,LightRed], \n",
    "#              PFig, 'OsmChoc_31-05-2022', showbox = True,showhist = True,stats='ranksum');\n",
    "\n",
    "# Growth slope before/after choc\n",
    "\n",
    "# GOC_Comp([GD220531_Ct1, GD220531_Ct2],\n",
    "#          [GD220531_Ct1_Osmo, GD220531_Ct2_Osmo],\n",
    "#          ['GR_end'],['GR_AfterOC'],['GR_end'],['GrowthSlope'],\n",
    "#          ['220531_Ct1','220531_Ct2'],[Blue,Red,Green,Yellow],PlotFits=True)"
   ]
  },
  {
   "cell_type": "code",
   "execution_count": null,
   "metadata": {
    "hidden": true,
    "scrolled": true
   },
   "outputs": [],
   "source": [
    "# GOC_Comp([GD220531_Ct1,GD220531_Ct2],\n",
    "#          [GD220531_Ct1_Osmo,GD220531_Ct2_Osmo],\n",
    "#          ['GR_end'],['Ecomp','Erel'],['GrowthRate'],['E_Comp','E_Rel'],\n",
    "#          ['220531_Ct1','220531_Ct2'],[Red,Green,Blue,Purple,Green,Blue],PlotFits=True)"
   ]
  },
  {
   "cell_type": "markdown",
   "metadata": {
    "heading_collapsed": true
   },
   "source": [
    "#### 01-08-2022  Ctrl1 only"
   ]
  },
  {
   "cell_type": "code",
   "execution_count": null,
   "metadata": {
    "hidden": true,
    "scrolled": false
   },
   "outputs": [],
   "source": [
    "# compareHydroMech([GD220801_Ct1_Osmo],\n",
    "#              ['Chamber 1'],[Purple], \n",
    "#              PFig, 'OsmChoc_01-08-2022', showbox = True,showhist = True,stats='ranksum');"
   ]
  },
  {
   "cell_type": "markdown",
   "metadata": {
    "heading_collapsed": true
   },
   "source": [
    "#### AllTogether"
   ]
  },
  {
   "cell_type": "code",
   "execution_count": null,
   "metadata": {
    "hidden": true,
    "scrolled": true
   },
   "outputs": [],
   "source": [
    "# GD_Osmo = GD220214_Ct1_Osmo.append(GD220214_Ct2_Osmo).append(GD220531_Ct1_Osmo).append(GD220531_Ct2_Osmo).append(GD220801_Ct1_Osmo)\n",
    "\n",
    "# compareHydroMech([GD220214_Ct1_Osmo.append(GD220214_Ct2_Osmo),GD220531_Ct1_Osmo.append(GD220531_Ct2_Osmo),GD220801_Ct1_Osmo],\n",
    "#                 ['0214','0531','0801'], [Red,Green,Blue],PFig,'OC - All', showbox = True,showhist = True,stats='ranksum')\n",
    "\n",
    "# compareHydroMech([GD_Osmo],\n",
    "#              ['All'],[DarkRed], \n",
    "#              PFig, 'OsmChoc_CompRel', showbox = True,showhist = True,stats='ranksum');\n",
    "\n"
   ]
  },
  {
   "cell_type": "markdown",
   "metadata": {
    "heading_collapsed": true
   },
   "source": [
    "#### Correlations with growth (31-05-22 & 01-08-22)"
   ]
  },
  {
   "cell_type": "code",
   "execution_count": null,
   "metadata": {
    "hidden": true,
    "scrolled": false
   },
   "outputs": [],
   "source": [
    "# GOC_Comp([GD220531_Ct1,GD220531_Ct2,GD220801_Ct1],\n",
    "#          [GD220531_Ct1_Osmo,GD220531_Ct2_Osmo,GD220801_Ct1_Osmo],\n",
    "#          ['GR_end'],['Ecomp','Erel'],['GrowthRate'],['E_Comp','E_Rel'],\n",
    "#          ['220531_Ct1','220531_Ct2','220801_Ct1'],[Blue,Red,Green,Yellow],\n",
    "#          PlotFits=True,CorrType = 'spearman')\n",
    "\n",
    "\n",
    "# GOC_Comp([GD220531_Ct1,GD220531_Ct2,GD220801_Ct1],\n",
    "#          [GD220531_Ct1_Osmo,GD220531_Ct2_Osmo,GD220801_Ct1_Osmo],\n",
    "#          ['GR_end'],['GR_AfterOC'],['GR_end (day-1)'],['GR_OC (day-1)'],\n",
    "#          ['220531_Ct1','220531_Ct2','GD220801_Ct1'],[Blue,Red,Green,Yellow],PlotFits=True)\n"
   ]
  },
  {
   "cell_type": "markdown",
   "metadata": {},
   "source": [
    "### Hyperosmotic growth"
   ]
  },
  {
   "cell_type": "markdown",
   "metadata": {
    "heading_collapsed": true
   },
   "source": [
    "#### 01-03-2022 (100mM) -> not used, not coherent return, not enough points"
   ]
  },
  {
   "cell_type": "code",
   "execution_count": null,
   "metadata": {
    "hidden": true,
    "scrolled": false
   },
   "outputs": [],
   "source": [
    "# compareHydroMech([GD220301_Ct_Osmo, GD220301_100mM_Osmo],\n",
    "#              ['Ctrl','100mM growth'],[Green,LightGreen], \n",
    "#              PFig, 'OsmChoc_01-03-2022', showbox = True,showhist = True,stats='ranksum');\n"
   ]
  },
  {
   "cell_type": "markdown",
   "metadata": {
    "heading_collapsed": true
   },
   "source": [
    "#### 28-09-2022 (100mM)"
   ]
  },
  {
   "cell_type": "code",
   "execution_count": null,
   "metadata": {
    "hidden": true
   },
   "outputs": [],
   "source": [
    "# compareHydroMech([GD220928_Ct_Osmo, GD220928_100mM_Osmo],\n",
    "#              ['Ctrl','100mM growth'],[Green,LightGreen], \n",
    "#              PFig, 'OsmChoc_28-09-2022', showbox = True,showhist = True,stats='ranksum');"
   ]
  },
  {
   "cell_type": "markdown",
   "metadata": {
    "heading_collapsed": true
   },
   "source": [
    "#### AllTogether"
   ]
  },
  {
   "cell_type": "code",
   "execution_count": null,
   "metadata": {
    "hidden": true,
    "scrolled": false
   },
   "outputs": [],
   "source": [
    "# compareHydroMech([GD220928_Ct_Osmo, GD220928_100mM_Osmo],\n",
    "#                  ['Ct928','Os928'],\n",
    "#                 [PastelGreen, DarkPastelGreen,PastelGreen, DarkPastelGreen,PastelGreen, DarkPastelGreen], \n",
    "#                  PFig, 'OsmChocs', showbox = True,showhist = False,stats='ranksum',sigpairs= [(0,1)]);\n",
    "\n"
   ]
  },
  {
   "cell_type": "markdown",
   "metadata": {
    "heading_collapsed": true
   },
   "source": [
    "#### Correlations with growth"
   ]
  },
  {
   "cell_type": "code",
   "execution_count": null,
   "metadata": {
    "hidden": true,
    "scrolled": false
   },
   "outputs": [],
   "source": [
    "# GOC_Comp([GD220928_Ct,GD220928_100mM],\n",
    "#          [GD220928_Ct_Osmo,GD220928_100mM_Osmo],\n",
    "#          ['GR_end'],['Ecomp','Erel'],['GrowthRate'],['E_Comp','E_Rel'],\n",
    "#          ['220928_Ct','220928_100mM'],[Blue,Red,Green],\n",
    "#          PlotFits=True,CorrType = 'spearman')\n",
    "\n",
    "\n",
    "# GOC_Comp([GD220928_Ct,GD220928_100mM],\n",
    "#          [GD220928_Ct_Osmo,GD220928_100mM_Osmo],\n",
    "#          ['GR_end'],['GR_AfterOC'],['GR_end (day-1)'],['GR_AfterOC (day-1)'],\n",
    "#          ['220928_Ct','220928_100mM'],[Blue,Red,Green],PlotFits=True)\n"
   ]
  },
  {
   "cell_type": "code",
   "execution_count": null,
   "metadata": {
    "hidden": true
   },
   "outputs": [],
   "source": []
  }
 ],
 "metadata": {
  "kernelspec": {
   "display_name": "Python 3",
   "language": "python",
   "name": "python3"
  },
  "language_info": {
   "codemirror_mode": {
    "name": "ipython",
    "version": 3
   },
   "file_extension": ".py",
   "mimetype": "text/x-python",
   "name": "python",
   "nbconvert_exporter": "python",
   "pygments_lexer": "ipython3",
   "version": "3.8.5"
  },
  "toc": {
   "base_numbering": 1,
   "nav_menu": {},
   "number_sections": true,
   "sideBar": true,
   "skip_h1_title": true,
   "title_cell": "Table of Contents",
   "title_sidebar": "Contents",
   "toc_cell": false,
   "toc_position": {
    "height": "calc(100% - 180px)",
    "left": "10px",
    "top": "150px",
    "width": "352px"
   },
   "toc_section_display": true,
   "toc_window_display": true
  }
 },
 "nbformat": 4,
 "nbformat_minor": 4
}
