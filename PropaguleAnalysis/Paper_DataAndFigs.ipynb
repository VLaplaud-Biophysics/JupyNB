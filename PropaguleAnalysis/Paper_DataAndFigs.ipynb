{
 "cells": [
  {
   "cell_type": "markdown",
   "metadata": {},
   "source": [
    "# Paper data and figures"
   ]
  },
  {
   "cell_type": "markdown",
   "metadata": {},
   "source": [
    "## Documentation and Imports\n",
    "\n",
    "\n",
    "Created on 03-08-2022\n",
    "\n",
    "Author: Valentin Laplaud\n"
   ]
  },
  {
   "cell_type": "code",
   "execution_count": null,
   "metadata": {
    "code_folding": []
   },
   "outputs": [],
   "source": [
    "## Clean up before script start \n",
    "\n",
    "for element in dir():\n",
    "\n",
    "    if element[0:1] != \"_\":\n",
    "\n",
    "        del globals()[element]\n",
    "import gc\n",
    "gc.collect()\n",
    "\n",
    "\n",
    "print('\\033[1m' + '\\033[4m' + '\\nRunning :  ''PaperDataAndFigs''\\n' + '\\033[0m')\n",
    "\n",
    "import datetime\n",
    "\n",
    "# plotting stuff\n",
    "import matplotlib.pyplot as plt\n",
    "import matplotlib as mpl\n",
    "mpl.use('tkagg')\n",
    "%matplotlib inline\n",
    "\n",
    "COLOR = 'white'\n",
    "COLOR2 = 'black'\n",
    "\n",
    "mpl.rcParams['text.color'] = COLOR\n",
    "mpl.rcParams['axes.labelcolor'] = COLOR\n",
    "mpl.rcParams['xtick.color'] = COLOR\n",
    "mpl.rcParams['ytick.color'] = COLOR\n",
    "mpl.rcParams['axes.edgecolor'] = COLOR\n",
    "mpl.rcParams['axes.labelsize'] =  'large'\n",
    "\n",
    "mpl.rcParams[\"figure.facecolor\"] = COLOR2\n",
    "mpl.rcParams[\"axes.facecolor\"] = COLOR2\n",
    "mpl.rcParams[\"savefig.facecolor\"] = COLOR2\n",
    "mpl.rcParams['axes.facecolor'] = COLOR2\n",
    "\n",
    "# numbers handling\n",
    "import numpy as np\n",
    "# import numpy.matlib as mtl\n",
    "import pandas as pd\n",
    "\n",
    "# to hide known warnings\n",
    "import warnings\n",
    "warnings.filterwarnings(\"ignore\")\n",
    "\n",
    "# General system functions\n",
    "import os\n",
    "import shutil\n",
    "import sys\n",
    "\n",
    "import time\n",
    "\n",
    "# my functions\n",
    "sys.path.append(r'd:\\Users\\laplaud\\Desktop\\PostDoc\\Code\\PythonFunctions\\\\')\n",
    "import VallapFunc as vf\n",
    "from StatsFunctions import plotSig, Corr\n",
    "from PlotFunctions import compareGrowth, compareHydroMech, GOC_Comp, plotGRratio, sizeVar, successiveOC, plotRhizoides\n"
   ]
  },
  {
   "cell_type": "markdown",
   "metadata": {},
   "source": [
    "## Data loading and color definition"
   ]
  },
  {
   "cell_type": "code",
   "execution_count": null,
   "metadata": {
    "code_folding": []
   },
   "outputs": [],
   "source": [
    "%run d:\\Users\\laplaud\\Desktop\\PostDoc\\Code\\PythonFunctions\\ExperimentList.py"
   ]
  },
  {
   "cell_type": "markdown",
   "metadata": {},
   "source": [
    "### Loading"
   ]
  },
  {
   "cell_type": "code",
   "execution_count": null,
   "metadata": {
    "scrolled": false,
    "tags": []
   },
   "outputs": [],
   "source": [
    "####################################### Growth #########################################################################################\n",
    "\n",
    "## Expe 220214 Ctrl growth\n",
    "GD220214_Ct1 = pd.read_csv(P220214_Ct1 + '\\\\GlobalData220214_Ct1_AreaFit.csv', index_col = 'Ind') \n",
    "GD220214_Ct2 = pd.read_csv(P220214_Ct2 + '\\\\GlobalData220214_Ct2_AreaFit.csv', index_col = 'Ind')      \n",
    "\n",
    "# Expe 220531 Ctrl growth\n",
    "GD220531_Ct1 = pd.read_csv(P220531_Ct1 + '\\\\GlobalData220531_Ct1_AreaFit.csv', index_col = 'Ind') \n",
    "GD220531_Ct2 = pd.read_csv(P220531_Ct2 + '\\\\GlobalData220531_Ct2_AreaFit.csv', index_col = 'Ind')      \n",
    "\n",
    "## Expe 220727 Ctrl growth\n",
    "GD220727_Hyper = pd.read_csv(P220727_Hyper + '\\\\GlobalData220727_Hyper_AreaFit.csv', index_col = 'Ind') \n",
    "GD220727_Hypo = pd.read_csv(P220727_Hypo + '\\\\GlobalData220727_Hypo_AreaFit.csv', index_col = 'Ind')  \n",
    "\n",
    "# Expe 220801 Ctrl growth\n",
    "GD220801_Ct1 = pd.read_csv(P220801_Ct1 + '\\\\GlobalData220801_Ct1_AreaFit.csv', index_col = 'Ind') \n",
    "GD220801_Ct2 = pd.read_csv(P220801_Ct2 + '\\\\GlobalData220801_Ct2_AreaFit.csv', index_col = 'Ind')  \n",
    "\n",
    "## Expe 220301 100mM growth\n",
    "GD220301_Ct = pd.read_csv(P220301_Ct + '\\\\GlobalData220301_Ct_AreaFit.csv', index_col = 'Ind') \n",
    "GD220301_100mM = pd.read_csv(P220301_M100 + '\\\\GlobalData220301_M100_AreaFit.csv', index_col = 'Ind') \n",
    "\n",
    "## Expe 220808 100mM growth\n",
    "GD220808_Ct = pd.read_csv(P220808_Ct + '\\\\GlobalData220808_Ct_AreaFit.csv', index_col = 'Ind') \n",
    "GD220808_100mM = pd.read_csv(P220808_100mM + '\\\\GlobalData220808_100mM_AreaFit.csv', index_col = 'Ind') \n",
    "\n",
    "## Expe 220928 100mM growth\n",
    "GD220928_Ct = pd.read_csv(P220928_Ct + '\\\\GlobalData220928_Ct_AreaFit.csv', index_col = 'Ind') \n",
    "GD220928_100mM = pd.read_csv(P220928_100mM + '\\\\GlobalData220928_100mM_AreaFit.csv', index_col = 'Ind') \n",
    "\n",
    "## Expe 221025 100mM growth\n",
    "GD221025_Ct = pd.read_csv(P221025_Ct + '\\\\GlobalData221025_Ct_AreaFit.csv', index_col = 'Ind') \n",
    "GD221025_100mM = pd.read_csv(P221025_100mM + '\\\\GlobalData221025_100mM_AreaFit.csv', index_col = 'Ind') \n",
    "\n",
    "## Expe 220722 ABA natalia   \n",
    "GD220614_Ct = pd.read_csv(P220614_Ct + '\\\\GlobalData220614_Ct_AreaFit.csv', index_col = 'Ind') \n",
    "GD220614_ABA = pd.read_csv(P220614_ABA + '\\\\GlobalData220614_ABA_AreaFit.csv', index_col = 'Ind') \n",
    "\n",
    "## Expe 220722 ABA natalia   \n",
    "GD220722_Ct = pd.read_csv(P220722_Ct + '\\\\GlobalData220722_Ct_AreaFit.csv', index_col = 'Ind') \n",
    "GD220722_ABA = pd.read_csv(P220722_ABA + '\\\\GlobalData220722_ABA_AreaFit.csv', index_col = 'Ind') \n",
    "\n",
    "\n",
    "## Expe 230201 100mM growth\n",
    "GD230201_Ct = pd.read_csv(P230201_Ct + '\\\\GlobalData230201_Ct_AreaFit.csv', index_col = 'Ind') \n",
    "GD230201_100mM = pd.read_csv(P230201_100mM + '\\\\GlobalData230201_100mM_AreaFit.csv', index_col = 'Ind')\n",
    "####################################### Mechanics #########################################################################################\n",
    "\n",
    "## Expe 220301 100mM growth OC\n",
    "GD220301_Ct_Osmo = pd.read_csv(P220301_Ct_Osmo + '\\\\GlobalData220301_Ct_Osmo_AreaFit.csv', index_col = 'Ind') \n",
    "GD220301_100mM_Osmo = pd.read_csv(P220301_M100_Osmo + '\\\\GlobalData220301_M100_Osmo_AreaFit.csv', index_col = 'Ind') \n",
    "\n",
    "# Expe 220531 Osmotic Chocs  \n",
    "GD220531_Ct1_Osmo = pd.read_csv(P220531_Ct1_Osmo + '\\\\GlobalData220531_Ct1_Osmo_AreaFit.csv', index_col = 'Ind')   \n",
    "GD220531_Ct2_Osmo = pd.read_csv(P220531_Ct2_Osmo + '\\\\GlobalData220531_Ct2_Osmo_AreaFit.csv', index_col = 'Ind')\n",
    "\n",
    "## Expe 220928 100mM growth\n",
    "GD220808_Ct_Osmo = pd.read_csv(P220808_Ct_Osmo + '\\\\GlobalData220808_Ct_Osmo_AreaFit.csv', index_col = 'Ind') \n",
    "GD220808_100mM_Osmo = pd.read_csv(P220808_100mM_Osmo + '\\\\GlobalData220808_100mM_Osmo_AreaFit.csv', index_col = 'Ind') \n",
    "\n",
    "\n",
    "## Expe 220928 100mM growth\n",
    "GD220928_Ct_Osmo = pd.read_csv(P220928_Ct_Osmo + '\\\\GlobalData220928_Ct_Osmo_AreaFit.csv', index_col = 'Ind') \n",
    "GD220928_100mM_Osmo = pd.read_csv(P220928_100mM_Osmo + '\\\\GlobalData220928_100mM_Osmo_AreaFit.csv', index_col = 'Ind') \n",
    "\n",
    "## Expe 221025 100mM growth\n",
    "GD221025_Ct_Osmo = pd.read_csv(P221025_Ct_Osmo + '\\\\GlobalData221025_Ct_Osmo_AreaFit.csv', index_col = 'Ind') \n",
    "GD221025_100mM_Osmo = pd.read_csv(P221025_100mM_Osmo + '\\\\GlobalData221025_100mM_Osmo_AreaFit.csv', index_col = 'Ind')  \n",
    "  \n",
    "    \n",
    "## Expe 230201 100mM growth\n",
    "GD230201_Ct_Osmo = pd.read_csv(P230201_Ct_Osmo + '\\\\GlobalData230201_Ct_Osmo_AreaFit.csv', index_col = 'Ind') \n",
    "GD230201_100mM_Osmo = pd.read_csv(P230201_100mM_Osmo + '\\\\GlobalData230201_100mM_Osmo_AreaFit.csv', index_col = 'Ind')\n",
    "\n",
    "##Successive OC + 20h mechanics\n",
    "\n",
    "GD221025_Ct_Osmo2  = pd.read_csv(P221025_Ct_Osmo2 + '\\\\GlobalData221025_Ct_Osmo2_AreaFit.csv', index_col = 'Ind')\n",
    "\n",
    "GD221201_Ct_Osmo = pd.read_csv(P221201_Ct_Osmo + '\\\\GlobalData221201_Ct_Osmo_AreaFit.csv', index_col = 'Ind') \n",
    "GD221201_Ct_Osmo2 = pd.read_csv(P221201_Ct_Osmo2 + '\\\\GlobalData221201_Ct_Osmo2_AreaFit.csv', index_col = 'Ind') \n",
    "\n",
    "GD221206_Ct_Osmo = pd.read_csv(P221206_Ct_Osmo + '\\\\GlobalData221206_Ct_Osmo_AreaFit.csv', index_col = 'Ind') \n",
    "\n",
    "\n",
    "now  = datetime.datetime.now()\n",
    "now_str = now.strftime(\"%d/%m/%Y %H:%M\")\n",
    "print(now_str + '\\nData loaded.')"
   ]
  },
  {
   "cell_type": "markdown",
   "metadata": {},
   "source": [
    "### Managing data "
   ]
  },
  {
   "cell_type": "markdown",
   "metadata": {
    "heading_collapsed": true
   },
   "source": [
    "#### Donnée pour etudiant M2"
   ]
  },
  {
   "cell_type": "code",
   "execution_count": null,
   "metadata": {
    "hidden": true
   },
   "outputs": [],
   "source": [
    "JeuDonnee1 = GD220531_Ct1.loc[:,['Time (min)','Area']]\n",
    "JeuDonnee2 = GD220531_Ct2.loc[:,['Time (min)','Area']]\n",
    "JeuDonnee3 = GD220727_Hyper.loc[:,['Time (min)','Area']]\n",
    "JeuDonnee4 = GD220727_Hypo.loc[:,['Time (min)','Area']]\n",
    "JeuDonnee5 = GD220801_Ct1.loc[:,['Time (min)','Area']]\n",
    "JeuDonnee6 = GD221025_Ct.loc[:,['Time (min)','Area']]\n",
    "\n",
    "JeuDonnee1.to_csv(r'd:\\Users\\laplaud\\Desktop\\PostDoc\\Data\\Microflu\\JeuDonnéeM2_Math\\Data1.csv',index_label = 'Ind')\n",
    "JeuDonnee2.to_csv(r'd:\\Users\\laplaud\\Desktop\\PostDoc\\Data\\Microflu\\JeuDonnéeM2_Math\\Data2.csv',index_label = 'Ind')\n",
    "JeuDonnee3.to_csv(r'd:\\Users\\laplaud\\Desktop\\PostDoc\\Data\\Microflu\\JeuDonnéeM2_Math\\Data3.csv',index_label = 'Ind')\n",
    "JeuDonnee4.to_csv(r'd:\\Users\\laplaud\\Desktop\\PostDoc\\Data\\Microflu\\JeuDonnéeM2_Math\\Data4.csv',index_label = 'Ind')\n",
    "JeuDonnee5.to_csv(r'd:\\Users\\laplaud\\Desktop\\PostDoc\\Data\\Microflu\\JeuDonnéeM2_Math\\Data5.csv',index_label = 'Ind')\n",
    "JeuDonnee6.to_csv(r'd:\\Users\\laplaud\\Desktop\\PostDoc\\Data\\Microflu\\JeuDonnéeM2_Math\\Data6.csv',index_label = 'Ind')"
   ]
  },
  {
   "cell_type": "markdown",
   "metadata": {},
   "source": [
    "#### Growth"
   ]
  },
  {
   "cell_type": "markdown",
   "metadata": {},
   "source": [
    "##### Ctrl"
   ]
  },
  {
   "cell_type": "code",
   "execution_count": null,
   "metadata": {},
   "outputs": [],
   "source": [
    "GD220531 = GD220531_Ct1.append(GD220531_Ct2)\n",
    "GD220531.loc[:,'Expe'] = 'Ctrl_1'\n",
    "GD220727 = GD220727_Hyper.append(GD220727_Hypo)\n",
    "GD220727.loc[:,'Expe'] = 'Ctrl_2'\n",
    "GD220801 = GD220801_Ct1\n",
    "GD220801.loc[:,'Expe'] = 'Ctrl_3'\n",
    "\n",
    "GD_Ctrls = GD220531.append(GD220727).append(GD220801)\n",
    "\n",
    "n220531 = len(np.unique(GD220531_Ct1.index)) + len(np.unique(GD220531_Ct2.index))\n",
    "n220727 = len(np.unique(GD220727_Hypo.index)) + len(np.unique(GD220727_Hyper.index))\n",
    "n220801 = len(np.unique(GD220801_Ct1.index))\n",
    "\n",
    "nPooled = n220531+n220727+n220801\n"
   ]
  },
  {
   "cell_type": "markdown",
   "metadata": {},
   "source": [
    "##### 100mM growth"
   ]
  },
  {
   "cell_type": "code",
   "execution_count": null,
   "metadata": {},
   "outputs": [],
   "source": [
    "GD220301_Ct.loc[:,'Expe'] = 'Ctrl_4'\n",
    "GD220808_Ct.loc[:,'Expe'] = 'Ctrl_5'\n",
    "GD220928_Ct.loc[:,'Expe'] = 'Ctrl_6'\n",
    "GD221025_Ct.loc[:,'Expe'] = 'Ctrl_7'\n",
    "GD230201_Ct.loc[:,'Expe'] = 'Ctrl_8'\n",
    "\n",
    "GD220301_100mM.loc[:,'Expe'] = 'Man_4'\n",
    "GD220808_100mM.loc[:,'Expe'] = 'Man_5'\n",
    "GD220928_100mM.loc[:,'Expe'] = 'Man_6'\n",
    "GD221025_100mM.loc[:,'Expe'] = 'Man_7'\n",
    "GD230201_100mM.loc[:,'Expe'] = 'Man_8'\n",
    "\n",
    "\n",
    "GD_100mM_Ct = GD220301_Ct.append(GD220808_Ct).append(GD220928_Ct).append(GD221025_Ct).append(GD230201_Ct)\n",
    "\n",
    "GD_100mM_100mM = GD220301_100mM.append(GD220808_100mM).append(GD220928_100mM).append(GD221025_100mM).append(GD230201_100mM)"
   ]
  },
  {
   "cell_type": "markdown",
   "metadata": {},
   "source": [
    "##### ABA growth"
   ]
  },
  {
   "cell_type": "code",
   "execution_count": null,
   "metadata": {},
   "outputs": [],
   "source": [
    "GD220614_Ct.loc[:,'Expe'] = 'Ctrl_10'\n",
    "GD220722_Ct.loc[:,'Expe'] = 'Ctrl_11'\n",
    "\n",
    "GD220614_ABA.loc[:,'Expe'] = 'ABA_10'\n",
    "GD220722_ABA.loc[:,'Expe'] = 'ABA_11'\n",
    "\n",
    "GD_ABA_Ct = GD220614_Ct.append(GD220722_Ct)\n",
    "\n",
    "GD_ABA_ABA = GD220614_ABA.append(GD220722_ABA)"
   ]
  },
  {
   "cell_type": "markdown",
   "metadata": {},
   "source": [
    "#### Mechanics"
   ]
  },
  {
   "cell_type": "markdown",
   "metadata": {},
   "source": [
    "##### Ctrl"
   ]
  },
  {
   "cell_type": "code",
   "execution_count": null,
   "metadata": {},
   "outputs": [],
   "source": [
    "GD220531_Osmo = GD220531_Ct1_Osmo.append(GD220531_Ct2_Osmo)\n",
    "GD220531_Osmo.loc[:,'Expe'] = 'Ctrl_1'\n"
   ]
  },
  {
   "cell_type": "markdown",
   "metadata": {},
   "source": [
    "##### 100mM growth"
   ]
  },
  {
   "cell_type": "code",
   "execution_count": null,
   "metadata": {},
   "outputs": [],
   "source": [
    "GD221025_Osmo = GD221025_Ct_Osmo\n",
    "GD221025_Osmo.loc[:,'Expe'] = '22-10-25'\n",
    "GD220928_Osmo = GD220928_Ct_Osmo\n",
    "GD220928_Osmo.loc[:,'Expe'] = '28-09-25'\n",
    "\n",
    "GD_Ctrls_Osmo = GD220531_Osmo.append(GD220928_Osmo) #.append(GD221025_Osmo)\n",
    "\n",
    "n220531_Osmo = len(np.unique(GD220531_Ct1_Osmo.index)) + len(np.unique(GD220531_Ct2_Osmo.index))\n",
    "n220928_Osmo = len(np.unique(GD220928_Ct_Osmo.index)) \n",
    "n221025_Osmo = len(np.unique(GD221025_Ct_Osmo.index))\n",
    "\n",
    "nPooled = n220531_Osmo+n220928_Osmo+n221025_Osmo"
   ]
  },
  {
   "cell_type": "markdown",
   "metadata": {},
   "source": [
    "### Colors"
   ]
  },
  {
   "cell_type": "code",
   "execution_count": null,
   "metadata": {},
   "outputs": [],
   "source": [
    "\n",
    "LightGreen = np.divide([68, 170, 153],255)\n",
    "Green = np.divide([17, 119, 51],255)\n",
    "\n",
    "LightBlue = np.divide([136, 204, 238],255)\n",
    "Blue = np.divide([51, 34, 136],255)\n",
    "\n",
    "Purple = np.divide([136, 34, 85],255)\n",
    "LightPurple = np.divide([170, 68, 153],255)\n",
    "\n",
    "LightYellow = np.divide([221, 204, 119],255)\n",
    "Yellow = np.divide([173, 152, 21],255)\n",
    "\n",
    "LightRed = np.divide([204, 102, 119],255)\n",
    "Red = np.divide([179, 9, 9],255)\n"
   ]
  },
  {
   "cell_type": "markdown",
   "metadata": {},
   "source": [
    "## Growth"
   ]
  },
  {
   "cell_type": "markdown",
   "metadata": {},
   "source": [
    "### Control"
   ]
  },
  {
   "cell_type": "markdown",
   "metadata": {
    "heading_collapsed": true
   },
   "source": [
    "#### 31-05-2022"
   ]
  },
  {
   "cell_type": "code",
   "execution_count": null,
   "metadata": {
    "hidden": true,
    "scrolled": false
   },
   "outputs": [],
   "source": [
    "# compareGrowth([GD220531_Ct1,GD220531_Ct2],['Ctrl1\\n','Ctrl2\\n'],['gray','gray'], \n",
    "#             PFig, '31-05-2022 - Ranksum', showcurve = True, showbox = True,showhist = True, nbins = 15,indiplots = False,NimgMax = '24h',\n",
    "#             stats='ranksum')"
   ]
  },
  {
   "cell_type": "markdown",
   "metadata": {
    "heading_collapsed": true
   },
   "source": [
    "#### 27-07-2022"
   ]
  },
  {
   "cell_type": "code",
   "execution_count": null,
   "metadata": {
    "hidden": true,
    "scrolled": false
   },
   "outputs": [],
   "source": [
    "# compareGrowth([GD220727_Hyper,GD220727_Hypo],['Ctrl1\\n','Ctrl2\\n'],np.array([[0.7,0.7,0.7],[0.5,0.5,0.5]]), \n",
    "#             PFig, '27-07-2022 - Ranksum', showcurve = True, showbox = True,showhist = True, nbins = 15,indiplots = False,NimgMax = '24h',\n",
    "#             stats='ranksum')\n",
    "\n",
    "# compareGrowth([GD220727_Hyper],['Ctrl1\\n','Ctrl2\\n'],np.array([[0.7,0.7,0.7],[0.5,0.5,0.5]]), \n",
    "#             PFig, '27-07-2022 - Ranksum', showcurve = True, showbox = True,showhist = True, nbins = 15,indiplots = False,NimgMax = '24h',\n",
    "#             stats='ranksum')"
   ]
  },
  {
   "cell_type": "markdown",
   "metadata": {
    "heading_collapsed": true
   },
   "source": [
    "#### 01-08-2022 (Ctrl1)"
   ]
  },
  {
   "cell_type": "code",
   "execution_count": null,
   "metadata": {
    "hidden": true,
    "scrolled": false
   },
   "outputs": [],
   "source": [
    "# compareGrowth([GD220801_Ct1],['Ctrl1\\n'],['gray'], \n",
    "#             PFig, '01-08-2022 - Ranksum', showcurve = True, showbox = True,showhist = True, nbins = 15,indiplots = False,NimgMax = 'max',\n",
    "#             stats='ranksum')"
   ]
  },
  {
   "cell_type": "markdown",
   "metadata": {},
   "source": [
    "#### All together"
   ]
  },
  {
   "cell_type": "markdown",
   "metadata": {
    "heading_collapsed": true
   },
   "source": [
    "##### Growth quantif"
   ]
  },
  {
   "cell_type": "code",
   "execution_count": null,
   "metadata": {
    "hidden": true,
    "scrolled": false
   },
   "outputs": [],
   "source": [
    "# compareGrowth([GD220727,GD220801,GD220531],['Ctrl_1\\n','Ctrl_2\\n','Ctrl_3\\n'],\n",
    "#             [Purple,Red,Yellow],PFig, 'AllExps', \n",
    "#             showcurve = False, showbox = True,showhist = False, nbins = 15,\n",
    "#               indiplots = False, NimgMax = 'max', stats='kruskal')\n",
    "\n",
    "# compareGrowth([GD_Ctrls],['Pooled\\n'],\n",
    "#             ['gray'],PFig, 'AllExps', \n",
    "#             showcurve = False, showbox = False,showhist = True, nbins = 15,\n",
    "#               indiplots = False, NimgMax = 'max')\n"
   ]
  },
  {
   "cell_type": "markdown",
   "metadata": {
    "heading_collapsed": true
   },
   "source": [
    "##### Correlations (Growth rate local vs global, effect of position in chip)"
   ]
  },
  {
   "cell_type": "code",
   "execution_count": null,
   "metadata": {
    "hidden": true,
    "scrolled": false
   },
   "outputs": [],
   "source": [
    "\n",
    "# Corr([GD220531,GD220727,GD220801,GD221025],['0531\\n','0727\\n','0801\\n','1025\\n'],\n",
    "#      columns = ['GR_end','Tau'],columnslabels = ['GR_end (day-1)','Tau'],PlotFits = True,\n",
    "#      colors=[Red,Green,Yellow,Purple], corrmethod ='pearson')\n",
    "\n",
    "\n",
    "# Corr([GD_Ctrls, GD220531,GD220727,GD220801,GD221025],['Pooled','Ctrl_1\\n','Ctrl_2\\n','Ctrl_3\\n','Ctrl_4\\n'],\n",
    "#      columns = ['ChipRow','tdeb','Tau'],columnslabels = ['Position','Tstart','Tau'],PlotFits = True,\n",
    "#      colors=['gray',LightPurple,Blue,Red,Yellow], corrmethod ='pearson')\n",
    "\n",
    "\n",
    "# Corr([GD_Ctrls, GD220531,GD220727,GD220801,GD221025],['Pooled','0531\\n','0727\\n','0801\\n','1025\\n'],\n",
    "#      columns = ['A0fit','Tau'],columnslabels = ['A0','Tau'],PlotFits = True,\n",
    "#      colors=['gray',Red,Green,Blue,Yellow], corrmethod ='pearson')\n"
   ]
  },
  {
   "cell_type": "code",
   "execution_count": null,
   "metadata": {
    "hidden": true
   },
   "outputs": [],
   "source": []
  },
  {
   "cell_type": "markdown",
   "metadata": {},
   "source": [
    "##### Values of quantificators"
   ]
  },
  {
   "cell_type": "code",
   "execution_count": null,
   "metadata": {},
   "outputs": [],
   "source": [
    "\n",
    "# vf.dataSummary([GD220531,GD220727,GD220801],[n220531,n220727,n220801],\n",
    "#             ['31-05-2022','27-07-2022','01-08-2022'],np.log(2)/60,'Tau','Area doubling time for growth','hours')\n",
    "\n",
    "# vf.dataSummary([GD220531,GD220727,GD220801],[n220531,n220727,n220801],\n",
    "#             ['31-05-2022','27-07-2022','01-08-2022'],1/60,'tdeb','Tstart for growth','hours')\n"
   ]
  },
  {
   "cell_type": "markdown",
   "metadata": {},
   "source": [
    "### Hyper osmotic environement (100mM)"
   ]
  },
  {
   "cell_type": "markdown",
   "metadata": {},
   "source": [
    "#### 01-03-2022 (100mM)"
   ]
  },
  {
   "cell_type": "code",
   "execution_count": null,
   "metadata": {
    "scrolled": false
   },
   "outputs": [],
   "source": [
    "# compareGrowth([GD220301_Ct,GD220301_100mM],['Ctrl_6\\n','Man_6\\n'],[LightGreen,Green], \n",
    "#             PFig, '01-03-2022 - Ranksum', showcurve = True, showbox = True,showhist = True, \n",
    "#               nbins = 15,indiplots = False,NimgMax = 'max', stats='ranksum')"
   ]
  },
  {
   "cell_type": "markdown",
   "metadata": {},
   "source": [
    "#### 08-08-2022 (100mM)"
   ]
  },
  {
   "cell_type": "code",
   "execution_count": null,
   "metadata": {
    "scrolled": false
   },
   "outputs": [],
   "source": [
    "# compareGrowth([GD220808_Ct,GD220808_100mM],['Ctrl_x1\\n','Man_x1\\n'],[LightGreen,Green], \n",
    "#             PFig, '08-08-2022 - Ranksum', showcurve = True, showbox = True,showhist = True, \n",
    "#               nbins = 15,indiplots = False,NimgMax = 'max', stats='ranksum')"
   ]
  },
  {
   "cell_type": "markdown",
   "metadata": {},
   "source": [
    "#### 28-09-2022 (100mM)"
   ]
  },
  {
   "cell_type": "code",
   "execution_count": null,
   "metadata": {
    "scrolled": false
   },
   "outputs": [],
   "source": [
    "# compareGrowth([GD220928_Ct,GD220928_100mM],['Ctrl_7\\n','Man_7\\n'],[LightGreen,Green], \n",
    "#             PFig, '29-08-2022 - Ranksum', showcurve = True, showbox = True,showhist = True, \n",
    "#               nbins = 15,indiplots = False,NimgMax = 'max', stats='ranksum')"
   ]
  },
  {
   "cell_type": "markdown",
   "metadata": {},
   "source": [
    "#### 25-10-2022 (100mM)"
   ]
  },
  {
   "cell_type": "code",
   "execution_count": null,
   "metadata": {},
   "outputs": [],
   "source": [
    "# compareGrowth([GD221025_Ct,GD221025_100mM],['Ctrl_x2\\n','Man_x2\\n'],[LightGreen,Green], \n",
    "#             PFig, '25-10-2022 - Ranksum', showcurve = True, showbox = True,showhist = True, \n",
    "#               nbins = 15,indiplots = False,NimgMax = 'max', stats='ranksum')"
   ]
  },
  {
   "cell_type": "markdown",
   "metadata": {},
   "source": [
    "#### 01-02-2023 (100mM)"
   ]
  },
  {
   "cell_type": "code",
   "execution_count": null,
   "metadata": {
    "scrolled": true
   },
   "outputs": [],
   "source": [
    "# compareGrowth([GD230201_Ct,GD230201_100mM],['Ctrl_x3\\n','Man_x3\\n'],[LightGreen,Green], \n",
    "#             PFig, '01-02-2023 - Ranksum', showcurve = True, showbox = True,showhist = True, \n",
    "#               nbins = 15,indiplots = False,NimgMax = 'max', stats='ranksum')"
   ]
  },
  {
   "cell_type": "markdown",
   "metadata": {},
   "source": [
    "#### All together"
   ]
  },
  {
   "cell_type": "markdown",
   "metadata": {},
   "source": [
    "##### Growth quantif"
   ]
  },
  {
   "cell_type": "code",
   "execution_count": null,
   "metadata": {
    "scrolled": false
   },
   "outputs": [],
   "source": [
    "compareGrowth([GD220301_Ct,GD220301_100mM,GD220808_Ct,GD220808_100mM,GD220928_Ct,GD220928_100mM,\n",
    "              GD221025_Ct,GD221025_100mM,GD230201_Ct,GD230201_100mM],\n",
    "              ['C_4\\n','M_4\\n','C_5\\n','M_5\\n','C_6\\n','M_6\\n',\n",
    "              'C_7\\n','M_7\\n','C_8\\n','M_8\\n'],\n",
    "              [LightBlue,Blue,LightGreen,Green,LightYellow,Yellow,LightRed,Red,LightPurple,Purple],\n",
    "              PFig, 'Growth at 100mM', showcurve = True, sigpairs = [(0,1),(2,3)],\n",
    "              showbox = True,showhist = False,nbins = 15,indiplots = False,NimgMax = 'max', stats='kruskal')\n",
    "\n",
    "# compareGrowth([GD_100mM_Ct,GD_100mM_100mM],\n",
    "#               ['100mM_Ctrls\\n','100mM_Treated\\n'],\n",
    "#               [LightBlue,Blue],\n",
    "#               PFig, 'Growth at 100mM Pooled', showcurve = True, sigpairs = [(0,1)],\n",
    "#               showbox = True,showhist = True,nbins = 15,indiplots = False,NimgMax = 'max', stats='ranksum')\n",
    " \n",
    "\n",
    "# sizeVar([GD220301_Ct,GD220301_100mM,GD220928_Ct,GD220928_100mM], ['0103_C\\n','0103_M\\n','0928_C\\n','0928_M\\n'],\n",
    "#         'Growth at 100mM',[Yellow, LightYellow, Green, LightGreen],\n",
    "#         showcurve = True, showbox = True, pooledGraph = True)\n"
   ]
  },
  {
   "cell_type": "markdown",
   "metadata": {},
   "source": [
    "##### Correlarions (Growth rate local vs global, effect of position in chip)"
   ]
  },
  {
   "cell_type": "code",
   "execution_count": null,
   "metadata": {
    "scrolled": false
   },
   "outputs": [],
   "source": [
    "# Corr([GD220301_Ct,GD220301_100mM,GD220928_Ct,GD220928_100mM],['GD220301_Ct','GD220301_100mM','GD220928_Ct','GD220928_100mM'],\n",
    "#      columns = ['GR_end','Tau'],columnslabels = ['GR_end (day-1)','Tau'],PlotFits = True,\n",
    "#      colors=[Blue,Red,Green,Yellow], corrmethod ='pearson')\n",
    "\n",
    "# Corr([GD220301_Ct.append(GD220928_Ct),GD220301_Ct,GD220928_Ct],['Pooled_Ctrl','GD220301_Ct','GD220928_Ct'],\n",
    "#      columns = ['ChipRow','tdeb','Tau'],columnslabels = ['Position','Tstart','Tau'],PlotFits = True,\n",
    "#      colors=['gray',Blue,Yellow], corrmethod ='pearson')\n",
    "\n",
    "# Corr([GD220301_100mM.append(GD220928_100mM),GD220301_100mM,GD220928_100mM],['Pooled_100mM','GD220301_100mM','GD220928_100mM'],\n",
    "#      columns = ['ChipRow','tdeb','Tau'],columnslabels = ['Position','Tstart','Tau'],PlotFits = True,\n",
    "#      colors=['gray',Green,Red], corrmethod ='pearson')"
   ]
  },
  {
   "cell_type": "markdown",
   "metadata": {},
   "source": [
    "#### Direct quantif"
   ]
  },
  {
   "cell_type": "code",
   "execution_count": null,
   "metadata": {},
   "outputs": [],
   "source": [
    "\n",
    "# vf.dataSummary([GD220301_Ct,GD220928_Ct],[len(x) for x in [GD220301_Ct[GD220301_Ct['Img']==0],GD220928_Ct[GD220928_Ct['Img']==0],]],\n",
    "#             ['220301_Ct','220928_Ct'],np.log(2)/60,'Tau','Area doubling time for growth','hours')\n",
    "# print()\n",
    "# vf.dataSummary([GD220301_100mM,GD220928_100mM],[len(x) for x in [GD220301_100mM[GD220301_100mM['Img']==0],GD220928_100mM[GD220928_100mM['Img']==0]]],\n",
    "#             ['220301_100mM','220928_100mM'],np.log(2)/60,'Tau','Area doubling time for growth','hours')\n",
    "# print()\n",
    "# vf.dataSummary([GD220301_Ct,GD220928_Ct],[len(x) for x in [GD220301_Ct[GD220301_Ct['Img']==0],GD220928_Ct[GD220928_Ct['Img']==0]]],\n",
    "#             ['220301_Ct','220928_Ct'],1/60,'tdeb','Tstart for growth','hours')\n",
    "# print()\n",
    "# vf.dataSummary([GD220301_100mM,GD220928_100mM],[len(x) for x in [GD220301_100mM[GD220301_100mM['Img']==0],GD220928_100mM[GD220928_100mM['Img']==0]]],\n",
    "#             ['220301_100mM','220928_100mM'],1/60,'tdeb','Tstart for growth','hours')"
   ]
  },
  {
   "cell_type": "markdown",
   "metadata": {},
   "source": [
    "### In the presence of Absicic acid (µM)"
   ]
  },
  {
   "cell_type": "markdown",
   "metadata": {},
   "source": [
    "#### 22-06-14 (3.5 µM)"
   ]
  },
  {
   "cell_type": "code",
   "execution_count": null,
   "metadata": {
    "scrolled": false
   },
   "outputs": [],
   "source": [
    "# compareGrowth([GD220614_Ct, GD220614_ABA],\n",
    "#              ['Ctrl_8\\n','ABA_8\\n'],[LightPurple,Purple],PFig, '220614_ABA',NimgMax = '30h',\n",
    "#               showcurve = True, showbox = True,showhist = True, nbins = 15,stats='ranksum');"
   ]
  },
  {
   "cell_type": "markdown",
   "metadata": {},
   "source": [
    "#### 22-07-22 (3.5 µM)"
   ]
  },
  {
   "cell_type": "code",
   "execution_count": null,
   "metadata": {
    "scrolled": false
   },
   "outputs": [],
   "source": [
    "# compareGrowth([GD220722_Ct, GD220722_ABA],\n",
    "#              ['Ctrl_9\\n','ABA_9\\n'],[LightPurple,Purple],PFig, '220722_ABA',NimgMax = '30h',\n",
    "#               showcurve = True, showbox = True,showhist = True, nbins = 15,stats='ranksum');"
   ]
  },
  {
   "cell_type": "markdown",
   "metadata": {},
   "source": [
    "#### All together"
   ]
  },
  {
   "cell_type": "code",
   "execution_count": null,
   "metadata": {
    "scrolled": false
   },
   "outputs": [],
   "source": [
    "# compareGrowth([GD220614_Ct, GD220614_ABA,GD220722_Ct, GD220722_ABA],\n",
    "#              ['Ctrl_8\\n','ABA_8\\n','Ctrl_9\\n','ABA_9\\n'],[LightRed,Red,LightPurple,Purple],PFig, 'All_ABA',NimgMax = '24h',\n",
    "#               showcurve = True, showbox = False,showhist = False, nbins = 15,stats='ranksum',sigpairs = [(0,1),(2,3)]);\n",
    "\n",
    "\n",
    "# compareGrowth([GD_ABA_Ct, GD_ABA_ABA],\n",
    "#              ['ABA_Ctrls\\n','ABA_Treated\\n'],[LightGreen,Green],PFig, 'All_ABA',NimgMax = '30h',\n",
    "#               showcurve = True, showbox = True,showhist = False, nbins = 15,stats='ranksum',sigpairs = [(0,1)]);\n",
    "\n"
   ]
  },
  {
   "cell_type": "code",
   "execution_count": null,
   "metadata": {},
   "outputs": [],
   "source": [
    "\n",
    "# vf.dataSummary([GD220614_Ct,GD220722_Ct],[len(x) for x in [GD220614_Ct[GD220614_Ct['Img']==0],GD220722_Ct[GD220722_Ct['Img']==0],]],\n",
    "#             ['220614_Ct','220722_Ct'],np.log(2)/60,'Tau','Area doubling time for growth','hours')\n",
    "# print()\n",
    "# vf.dataSummary([GD220614_ABA,GD220722_ABA],[len(x) for x in [GD220614_ABA[GD220614_ABA['Img']==0],GD220722_ABA[GD220722_ABA['Img']==0]]],\n",
    "#             ['220614_ABA','220722_ABA'],np.log(2)/60,'Tau','Area doubling time for growth','hours')\n",
    "# print()\n",
    "# vf.dataSummary([GD220614_Ct,GD220722_Ct],[len(x) for x in [GD220614_Ct[GD220614_Ct['Img']==0],GD220722_Ct[GD220722_Ct['Img']==0]]],\n",
    "#             ['220614_Ct','220722_Ct'],1/60,'tdeb','Tstart for growth','hours')\n",
    "# print()\n",
    "# vf.dataSummary([GD220614_ABA,GD220722_ABA],[len(x) for x in [GD220614_ABA[GD220614_ABA['Img']==0],GD220722_ABA[GD220722_ABA['Img']==0]]],\n",
    "#             ['220614_ABA','220722_ABA'],1/60,'tdeb','Tstart for growth','hours')"
   ]
  },
  {
   "cell_type": "code",
   "execution_count": null,
   "metadata": {},
   "outputs": [],
   "source": [
    "# plotRhizoides([P220614_Ct,P220614_ABA,P220722_Ct,P220722_ABA],[LightRed,Red,LightPurple,Purple],\n",
    "#          ['220614_Ct','220614_ABA','220722_Ct','220722_ABA'],['Ctrl_8','ABA_8','Ctrl_9','ABA_9'],[111,111,111,111])"
   ]
  },
  {
   "cell_type": "markdown",
   "metadata": {},
   "source": [
    "### All pooled conditions together"
   ]
  },
  {
   "cell_type": "code",
   "execution_count": null,
   "metadata": {
    "scrolled": false
   },
   "outputs": [],
   "source": [
    "\n",
    "# compareGrowth([GD_Ctrls,GD_ABA_Ct, GD_ABA_ABA,GD_100mM_Ct,GD_100mM_100mM],\n",
    "#              ['Ctrls\\n','ABA_Ctrls\\n','ABA_Treated\\n','100mM_Ctrls\\n','100mM_Mannitols\\n'],\n",
    "#               ['gray',LightRed,Red,LightBlue,Blue],PFig, 'AllData',NimgMax = '24h',\n",
    "#               showcurve = True, showbox = False,showhist = False, nbins = 15,stats='kruskal');"
   ]
  },
  {
   "cell_type": "markdown",
   "metadata": {},
   "source": [
    "## Mechanics"
   ]
  },
  {
   "cell_type": "markdown",
   "metadata": {},
   "source": [
    "### Controls"
   ]
  },
  {
   "cell_type": "markdown",
   "metadata": {},
   "source": [
    "#### 31-05-2022"
   ]
  },
  {
   "cell_type": "code",
   "execution_count": null,
   "metadata": {
    "scrolled": false
   },
   "outputs": [],
   "source": [
    "# compareHydroMech([GD220531_Osmo],\n",
    "#              ['Ctrl_1'],[Purple], \n",
    "#              PFig, 'OsmChoc_31-05-2022', showbox = True,showhist = True,stats='ranksum');\n",
    "\n"
   ]
  },
  {
   "cell_type": "code",
   "execution_count": null,
   "metadata": {
    "scrolled": false
   },
   "outputs": [],
   "source": [
    "GOC_Comp([GD220531_Ct1,GD220531_Ct2],\n",
    "         [GD220531_Ct1_Osmo,GD220531_Ct2_Osmo],\n",
    "         ['GR_ini','GR_end'],['Ecomp','Erel'],['Initial growthRate (day-1)','Final growthRate (day-1)'],['Ed (MPa)','Ei (MPa)'],\n",
    "         ['220531_Ct1','220531_Ct2'],['gray',Purple,Purple],PlotFits=True,PlotStats=True,Norm=False,CorrType = 'spearman')"
   ]
  },
  {
   "cell_type": "markdown",
   "metadata": {},
   "source": [
    "### Hyperosmotic growth"
   ]
  },
  {
   "cell_type": "markdown",
   "metadata": {},
   "source": [
    "#### 01-03-2022 (100mM)"
   ]
  },
  {
   "cell_type": "code",
   "execution_count": null,
   "metadata": {},
   "outputs": [],
   "source": [
    "# compareHydroMech([GD220301_Ct_Osmo, GD220301_100mM_Osmo],\n",
    "#              ['Ctrl','100mM growth'],[Green,LightGreen], \n",
    "#              PFig, 'OsmChoc_01-03-2022', showbox = True,showhist = True,stats='ranksum');"
   ]
  },
  {
   "cell_type": "markdown",
   "metadata": {},
   "source": [
    "#### 08-08-2022 (100mM)"
   ]
  },
  {
   "cell_type": "code",
   "execution_count": null,
   "metadata": {},
   "outputs": [],
   "source": [
    "# compareHydroMech([GD220808_Ct_Osmo, GD220808_100mM_Osmo],\n",
    "#              ['Ctrl','100mM growth'],[Green,LightGreen], \n",
    "#              PFig, 'OsmChoc_008-08-2022', showbox = True,showhist = True,stats='ranksum');"
   ]
  },
  {
   "cell_type": "markdown",
   "metadata": {},
   "source": [
    "#### 28-09-2022 (100mM)"
   ]
  },
  {
   "cell_type": "code",
   "execution_count": null,
   "metadata": {},
   "outputs": [],
   "source": [
    "# compareHydroMech([GD220928_Ct_Osmo, GD220928_100mM_Osmo],\n",
    "#              ['Ctrl','100mM growth'],[Green,LightGreen], \n",
    "#              PFig, 'OsmChoc_28-09-2022', showbox = True,showhist = True,stats='ranksum');"
   ]
  },
  {
   "cell_type": "markdown",
   "metadata": {},
   "source": [
    "#### 25-10-2022 (100mM)"
   ]
  },
  {
   "cell_type": "code",
   "execution_count": null,
   "metadata": {},
   "outputs": [],
   "source": [
    "# compareHydroMech([GD221025_Ct_Osmo, GD221025_100mM_Osmo],\n",
    "#              ['Ctrl','100mM growth'],[Green,LightGreen], \n",
    "#              PFig, 'OsmChoc_25-10-2022', showbox = True,showhist = True,stats='ranksum');"
   ]
  },
  {
   "cell_type": "markdown",
   "metadata": {},
   "source": [
    "#### 01-02-2023 (100mM)"
   ]
  },
  {
   "cell_type": "code",
   "execution_count": null,
   "metadata": {},
   "outputs": [],
   "source": [
    "# compareHydroMech([GD230201_Ct_Osmo, GD230201_100mM_Osmo],\n",
    "#              ['Ctrl','100mM growth'],[Green,LightGreen], \n",
    "#              PFig, 'OsmChoc_01-02-2023', showbox = True,showhist = True,stats='ranksum');"
   ]
  },
  {
   "cell_type": "markdown",
   "metadata": {},
   "source": [
    "#### AllTogether"
   ]
  },
  {
   "cell_type": "code",
   "execution_count": null,
   "metadata": {
    "scrolled": false
   },
   "outputs": [],
   "source": [
    "# vf.dataSummary([GD220928_Ct_Osmo, GD220928_100mM_Osmo],[40,40],\n",
    "#             ['Ctrl','100mM growth'],1,'Ecomp','Modulus for hyper osmotic schock','MPa')\n",
    "\n",
    "# compareHydroMech([GD220531_Osmo,GD220301_Ct_Osmo, GD220301_100mM_Osmo, GD220808_Ct_Osmo, GD220808_100mM_Osmo, GD220928_Ct_Osmo,\n",
    "#                   GD220928_100mM_Osmo, GD221025_Ct_Osmo, GD221025_100mM_Osmo, GD230201_Ct_Osmo, GD230201_100mM_Osmo],\n",
    "#                  ['Ctrl','Ct','100mM','Ct','100mM','Ct','100mM','Ct','100mM','Ct','100mM'],\n",
    "#                 [Purple,LightBlue,Blue,LightBlue,Blue,LightBlue,Blue,LightBlue,Blue,LightBlue,Blue], \n",
    "#                  PFig, 'OsmChocs_100mM', showbox = True,showhist = False,stats='kruskal');\n",
    "\n",
    "GOC_Comp([GD220531_Ct1,GD220531_Ct2,GD220301_Ct, GD220301_100mM, GD220808_Ct, GD220808_100mM, GD220928_Ct,\n",
    "                  GD220928_100mM, GD221025_Ct, GD221025_100mM, GD230201_Ct, GD230201_100mM],\n",
    "         [GD220531_Ct1_Osmo,GD220531_Ct2_Osmo,GD220301_Ct_Osmo, GD220301_100mM_Osmo, GD220808_Ct_Osmo, GD220808_100mM_Osmo, GD220928_Ct_Osmo,\n",
    "                  GD220928_100mM_Osmo, GD221025_Ct_Osmo, GD221025_100mM_Osmo, GD230201_Ct_Osmo, GD230201_100mM_Osmo],\n",
    "         ['GR_ini','GR_end'],['Ecomp','Erel'],['Initial growthRate (day-1)','Final growthRate (day-1)'],\n",
    "         ['Ed (MPa)','Ei (MPa)'],\n",
    "         ['Ctrl','Ctrl','Ct','100mM','Ct','100mM','Ct','100mM','Ct','100mM','Ct','100mM'],\n",
    "          ['gray',Purple,LightBlue,Blue],\n",
    "          PlotFits=True,PlotStats=True,Norm=False,CorrType = 'spearman')"
   ]
  },
  {
   "cell_type": "markdown",
   "metadata": {},
   "source": [
    "#### Correlations "
   ]
  },
  {
   "cell_type": "markdown",
   "metadata": {},
   "source": [
    "##### E vs. Growth rate vs. Size"
   ]
  },
  {
   "cell_type": "code",
   "execution_count": null,
   "metadata": {
    "scrolled": false
   },
   "outputs": [],
   "source": [
    "\n",
    "\n",
    "# GOC_Comp([GD220928_Ct,GD220928_100mM],\n",
    "#          [GD220928_Ct_Osmo,GD220928_100mM_Osmo],\n",
    "#          ['GR_end','Tau'],['A0','Ecomp'],['GrowthRate (day-1)','Tau'],['Size (mm²)','E (MPa)'],\n",
    "#          ['220928_Ct','220928_100mM'],[Blue,Green,LightGreen],\n",
    "#          PlotFits=True,CorrType = 'spearman')\n",
    "\n",
    "\n"
   ]
  },
  {
   "cell_type": "markdown",
   "metadata": {},
   "source": [
    "##### Elastic modulus vs. size"
   ]
  },
  {
   "cell_type": "code",
   "execution_count": null,
   "metadata": {
    "scrolled": false
   },
   "outputs": [],
   "source": [
    "# MeanE_0301 = GD220301_Ct_Osmo['Ecomp'].mean()\n",
    "# MeanA_0301 = GD220301_Ct_Osmo['A0'].mean()\n",
    "\n",
    "# GD220301_Ct_Osmo = GD220301_Ct_Osmo.assign(Ecomp_norm = lambda x: (x['Ecomp'] / MeanE_0301))\n",
    "# GD220301_Ct_Osmo = GD220301_Ct_Osmo.assign(A0_norm = lambda x: (x['A0'] / MeanA_0301))\n",
    "\n",
    "# GD220301_100mM_Osmo = GD220301_100mM_Osmo.assign(Ecomp_norm = lambda x: (x['Ecomp'] /MeanE_0301))\n",
    "# GD220301_100mM_Osmo = GD220301_100mM_Osmo.assign(A0_norm = lambda x: (x['A0'] /MeanA_0301))\n",
    "\n",
    "\n",
    "# MeanE_0928 = GD220928_Ct_Osmo['Ecomp'].mean()\n",
    "# MeanA_0928 = GD220928_Ct_Osmo['A0'].mean()\n",
    "\n",
    "# GD220928_Ct_Osmo = GD220928_Ct_Osmo.assign(Ecomp_norm = lambda x: (x['Ecomp'] /MeanE_0928))\n",
    "# GD220928_Ct_Osmo = GD220928_Ct_Osmo.assign(A0_norm = lambda x: (x['A0'] /MeanA_0928))\n",
    "\n",
    "# GD220928_100mM_Osmo = GD220928_100mM_Osmo.assign(Ecomp_norm = lambda x: (x['Ecomp'] /MeanE_0928))\n",
    "# GD220928_100mM_Osmo = GD220928_100mM_Osmo.assign(A0_norm = lambda x: (x['A0'] /MeanA_0928))\n",
    "\n",
    "\n",
    "# MeanE_1025 = GD221025_Ct_Osmo['Ecomp'].mean()\n",
    "# MeanA_1025 = GD221025_Ct_Osmo['A0'].mean()\n",
    "\n",
    "# GD221025_Ct_Osmo = GD221025_Ct_Osmo.assign(Ecomp_norm = lambda x: (x['Ecomp'] /MeanE_1025))\n",
    "# GD221025_Ct_Osmo = GD221025_Ct_Osmo.assign(A0_norm = lambda x: (x['A0'] /MeanA_1025))\n",
    "\n",
    "# GD221025_100mM_Osmo = GD221025_100mM_Osmo.assign(Ecomp_norm = lambda x: (x['Ecomp'] /MeanE_1025))\n",
    "# GD221025_100mM_Osmo = GD221025_100mM_Osmo.assign(A0_norm = lambda x: (x['A0'] /MeanA_1025))\n",
    "\n",
    "\n",
    "\n",
    "# Corr([GD220301_Ct_Osmo.append(GD220301_100mM_Osmo),\n",
    "#      GD220301_Ct_Osmo, GD220301_100mM_Osmo],\n",
    "#      ['Pooled'], # ,'GD220301_Ct_Osmo', 'GD220301_100mM_Osmo'\n",
    "#      columns = ['A0','Ecomp'],columnslabels = ['A0 (mm²)','E (MPa)'],PlotFits = True,\n",
    "#      colors=['gray',LightRed,Red], corrmethod ='spearman')\n",
    "\n",
    "# Corr([GD220928_Ct_Osmo.append(GD220928_100mM_Osmo),\n",
    "#      GD220928_Ct_Osmo, GD220928_100mM_Osmo],\n",
    "#      ['Pooled'],# ,'GD220928_Ct_Osmo', 'GD220928_100mM_Osmo'\n",
    "#      columns = ['A0','Ecomp'],columnslabels = ['A0 (mm²)','E (MPa)'],PlotFits = True,\n",
    "#      colors=['gray',LightGreen,Green], corrmethod ='spearman')\n",
    "\n",
    "# Corr([GD221025_Ct_Osmo.append(GD221025_100mM_Osmo),\n",
    "#      GD221025_Ct_Osmo, GD221025_100mM_Osmo],\n",
    "#      ['Pooled'],# ,'GD221025_Ct_Osmo', 'GD221025_100mM_Osmo'\n",
    "#      columns = ['A0','Ecomp'],columnslabels = ['A0 (mm²)','E (MPa)'],PlotFits = True,\n",
    "#      colors=['gray',LightBlue,Blue], corrmethod ='spearman')\n",
    "\n",
    "\n",
    "\n",
    "# Corr([GD221025_Ct_Osmo.append(GD221025_100mM_Osmo).append(GD220928_Ct_Osmo).append(\n",
    "#     GD220928_100mM_Osmo).append(GD220301_Ct_Osmo.append(GD220301_100mM_Osmo))],\n",
    "#      ['Pooled'],\n",
    "#      columns = ['A0','Ecomp','A0_norm','Ecomp_norm'],\n",
    "#      columnslabels = ['A0 (mm²)','E (MPa)','A0 (Norm)','E (Norm)'],PlotFits = True,\n",
    "#      colors=['gray',LightBlue,Blue,LightRed,Red,LightGreen,Green], corrmethod ='spearman')\n",
    "\n",
    "\n",
    "\n",
    "# Corr([GD221025_Ct_Osmo.append(GD221025_100mM_Osmo).append(GD220928_Ct_Osmo).append(\n",
    "#     GD220928_100mM_Osmo).append(GD220301_Ct_Osmo.append(GD220301_100mM_Osmo))],\n",
    "#      ['All'],\n",
    "#      columns = ['A0','Ecomp','A0_norm','Ecomp_norm'],\n",
    "#      columnslabels = ['A0 (mm²)','E (MPa)','A0 (Norm)','E (Norm)'],PlotFits = True,\n",
    "#      colors=['gray',LightBlue,Blue,LightRed,Red,LightGreen,Green], corrmethod ='pearson')\n"
   ]
  },
  {
   "cell_type": "markdown",
   "metadata": {},
   "source": [
    "### Growth before and after OC"
   ]
  },
  {
   "cell_type": "code",
   "execution_count": null,
   "metadata": {
    "scrolled": false
   },
   "outputs": [],
   "source": [
    "\n",
    "# plotGRratio([GD220531_Ct1,GD220801_Ct1,GD220928_Ct],\n",
    "#             [GD220531_Ct1_Osmo,GD220801_Ct1_Osmo,GD220928_Ct_Osmo],\n",
    "#             ['220531_Ct1 (1)','220801_Ct1 (1)','220928_Ct (1)'],\n",
    "#             [Red,Green,Blue]) \n",
    "\n",
    "\n",
    "# plotGRratio([GD220531_Ct1,GD220531_Ct2],\n",
    "#             [GD220531_Ct1_Osmo,GD220531_Ct2_Osmo],\n",
    "#             ['220531_Ct1','220531_Ct2'],\n",
    "#             [Red,Green]) \n",
    "\n",
    "# plt.figure(dpi=300)\n",
    "# plt.hist(GD220531_Ct1.append(GD220531_Ct2).append(GD220928_Ct).append(GD220801_Ct1).append(GD221025_Ct)['GR_end'],\n",
    "#          color = 'b',bins=20,alpha = 0.7)\n",
    "# plt.hist(GD220531_Ct1_Osmo.append(GD220531_Ct2_Osmo).append(GD220928_Ct_Osmo).append(GD220801_Ct1_Osmo).append(GD221025_Ct_Osmo)['GR_AfterOC'],\n",
    "#          color = 'r',bins=15,alpha = 0.7)\n",
    "# plt.hist(GD220531_Ct1_Osmo.append(GD220531_Ct2_Osmo).append(GD220928_Ct_Osmo).append(GD220801_Ct1_Osmo).append(GD221025_Ct_Osmo)['GR_InOC'],\n",
    "#          color = 'gray',bins=100,alpha = 0.7)\n",
    "# plt.ylabel('Density')\n",
    "# plt.xlabel('Growth rate (day-1)')\n",
    "# plt.legend(['Before shock','After both shocks','After hyperosmotic shock'])\n",
    "\n",
    "\n",
    "\n",
    "# plotGRratio([GD220531_Ct2,GD220928_100mM,GD221025_Ct],\n",
    "#             [GD220531_Ct2_Osmo,GD220801_Ct1_Osmo,GD221025_Ct_Osmo],\n",
    "#             ['220531_Ct2 (2)','220928_100mM (2)','GD221025_Ct (2)'],\n",
    "#             [LightRed,LightGreen,LightBlue]) \n",
    "\n",
    "\n",
    "# plotGRratio([GD220531_Ct1,GD220531_Ct2,GD220801_Ct1,GD220928_Ct,GD220928_100mM,GD221025_Ct],\n",
    "#             [GD220531_Ct1_Osmo,GD220531_Ct2_Osmo,GD220801_Ct1_Osmo,GD220928_Ct_Osmo,GD220928_100mM_Osmo,GD221025_Ct_Osmo],\n",
    "#             ['220531_Ct1 (1)','220531_Ct2 (2)','220801_Ct1 (1)','220928_Ct (1)','220928_100mM (2)','GD221025_Ct (2)'],\n",
    "#             [Red,LightRed,Green,LightGreen,Blue,LightBlue]) \n",
    "\n",
    "# paper fig (no mech of 100mM growth)\n",
    "\n",
    "# plotGRratio([GD221025_Ct,GD220531_Ct1,GD220531_Ct2,GD220928_Ct],\n",
    "#             [GD221025_Ct_Osmo,GD220531_Ct1_Osmo,GD220531_Ct2_Osmo,GD220928_Ct_Osmo],\n",
    "#             ['Ctrl2','Ctrl4_1','Ctrl4_2','Ctrl5'],\n",
    "#             [Blue,Red,Yellow,LightYellow,Green]) \n",
    "\n",
    "# plotGRratio([GD221025_Ct,GD220531_Ct1,GD220928_Ct],\n",
    "#             [GD221025_Ct_Osmo,GD220531_Ct1_Osmo,GD220928_Ct_Osmo],\n",
    "#             ['Ctrl2','Ctrl4_1','Ctrl5'],\n",
    "#             [Blue,Red,Yellow,Green]) \n",
    "\n",
    "\n",
    "\n",
    "\n",
    "\n"
   ]
  },
  {
   "cell_type": "code",
   "execution_count": null,
   "metadata": {
    "scrolled": false
   },
   "outputs": [],
   "source": [
    "\n",
    "# GD = GD220531_Ct1\n",
    "\n",
    "# AllGRvar = np.empty(0)\n",
    "# AllGRvarMedian = np.empty(0)\n",
    "\n",
    "# f1,ax1 = plt.subplots(dpi=200)\n",
    "# f1.patch.set_facecolor('white')\n",
    "# f1.suptitle('All data pooled')\n",
    "\n",
    "# f2,ax2 = plt.subplots(dpi=200)\n",
    "# f2.patch.set_facecolor('white')\n",
    "# f2.suptitle('Median per PPG')\n",
    "\n",
    "\n",
    "# for s in tqdm(np.unique(GD.index)):\n",
    "#     GR = GD.loc[s,'GR_Full'].to_numpy()\n",
    "    \n",
    "#     GRvar = np.abs(np.divide(GR[1:-1],GR[0:-2]))\n",
    "#     GRvarInWindow = np.round(len(GRvar[(GRvar>0) & (GRvar<2)])/len(GRvar)*1000)/10\n",
    "    \n",
    "#     AllGRvar = np.append(AllGRvar,GRvar)\n",
    "#     AllGRvarMedian = np.append(AllGRvarMedian,np.median(GRvar))\n",
    "    \n",
    "#     f0,ax0 = plt.subplots(dpi=200)\n",
    "#     f0.patch.set_facecolor('white')\n",
    "#     f0.suptitle(s + ' (' + str(GRvarInWindow) + '% in window) + median')\n",
    "#     ax0.hist(GRvar, range = (0,2), bins = 21,color='r', density = True)\n",
    "#     lims = ax0.get_ylim()\n",
    "#     ax0.plot([np.median(GRvar),np.median(GRvar)],lims,'--',color = 'lightgray')\n",
    "#     ax0.set_ylim(lims)\n",
    "    \n",
    "# ax1.hist(AllGRvar, range = (0,2), bins = 21,color='b', density = True)\n",
    "# ax2.hist(AllGRvarMedian, range = (0,2), bins = 21,color='b', density = True)"
   ]
  },
  {
   "cell_type": "markdown",
   "metadata": {},
   "source": [
    "### Successive OC"
   ]
  },
  {
   "cell_type": "code",
   "execution_count": null,
   "metadata": {
    "scrolled": false
   },
   "outputs": [],
   "source": [
    "# successiveOC(GD221025_Ct_Osmo,GD221025_Ct_Osmo2)\n",
    "\n",
    "# successiveOC(GD221201_Ct_Osmo,GD221201_Ct_Osmo2)"
   ]
  },
  {
   "cell_type": "markdown",
   "metadata": {},
   "source": [
    "### Mechanics and size correlation"
   ]
  },
  {
   "cell_type": "code",
   "execution_count": null,
   "metadata": {
    "scrolled": false
   },
   "outputs": [],
   "source": [
    "# Corr([GD221025_Ct_Osmo.append(GD220531_Osmo).append(GD220928_Ct_Osmo).append(GD221201_Ct_Osmo).append(GD221206_Ct_Osmo),\n",
    "#      GD221025_Ct_Osmo,GD220531_Osmo,GD220928_Ct_Osmo,GD221201_Ct_Osmo,GD221206_Ct_Osmo],\n",
    "#      ['Pooled','221025_Ct','220531_Ct','220928_Ct','221201_Ct','221206_Ct'],\n",
    "#      columns = ['A0','Ecomp'],columnslabels = ['Size (mm²)', 'Elastic modulus (MPa)'],PlotFits = True,\n",
    "#      colors=['gray',Blue,Yellow,Green,Red,Purple], corrmethod ='spearman')\n",
    "\n",
    "# GlobalData221201_Ct_Osmo\n",
    "# GlobalData221206_Ct_Osmo\n",
    "\n",
    "# GD221025_Ct_Osmo,GD220531_Osmo,GD220928_Ct_Osmo"
   ]
  },
  {
   "cell_type": "code",
   "execution_count": null,
   "metadata": {},
   "outputs": [],
   "source": []
  }
 ],
 "metadata": {
  "kernelspec": {
   "display_name": "Python 3",
   "language": "python",
   "name": "python3"
  },
  "language_info": {
   "codemirror_mode": {
    "name": "ipython",
    "version": 3
   },
   "file_extension": ".py",
   "mimetype": "text/x-python",
   "name": "python",
   "nbconvert_exporter": "python",
   "pygments_lexer": "ipython3",
   "version": "3.8.5"
  },
  "toc": {
   "base_numbering": 1,
   "nav_menu": {},
   "number_sections": true,
   "sideBar": true,
   "skip_h1_title": true,
   "title_cell": "Table of Contents",
   "title_sidebar": "Contents",
   "toc_cell": false,
   "toc_position": {
    "height": "calc(100% - 180px)",
    "left": "10px",
    "top": "150px",
    "width": "352px"
   },
   "toc_section_display": true,
   "toc_window_display": true
  }
 },
 "nbformat": 4,
 "nbformat_minor": 4
}
