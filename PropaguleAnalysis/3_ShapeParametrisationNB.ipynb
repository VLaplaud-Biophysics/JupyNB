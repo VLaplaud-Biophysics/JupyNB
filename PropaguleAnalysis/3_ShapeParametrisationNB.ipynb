{
 "cells": [
  {
   "cell_type": "markdown",
   "metadata": {},
   "source": [
    "# Parametrisation of gemmae contours\n"
   ]
  },
  {
   "cell_type": "markdown",
   "metadata": {},
   "source": [
    "## Documentation and Imports\n",
    "\n",
    "\n",
    "Created on 27-05-2021\n",
    "\n",
    "Author: Valentin Laplaud\n",
    "\n",
    "This code loads gemmae contours from ShapeComputation.ipynb and express them as a function of a curvilinar abcisse. Adding landmark points (notches and attach points) then allows a deformation of the contour to match the position of landmark points."
   ]
  },
  {
   "cell_type": "code",
   "execution_count": 3,
   "metadata": {
    "code_folding": [],
    "init_cell": true
   },
   "outputs": [],
   "source": [
    "## Clean up before script start \n",
    "\n",
    "for element in dir():\n",
    "\n",
    "    if element[0:1] != \"_\":\n",
    "\n",
    "        del globals()[element]\n",
    "\n",
    "import gc\n",
    "gc.collect()\n",
    "\n",
    "# plotting stuff in jupyter\n",
    "import matplotlib as mpl\n",
    "mpl.use('TkAgg')\n",
    "%matplotlib inline\n",
    "\n",
    "COLOR = 'white'\n",
    "COLOR2 = 'black'\n",
    "\n",
    "mpl.rcParams['text.color'] = COLOR\n",
    "mpl.rcParams['axes.labelcolor'] = COLOR\n",
    "mpl.rcParams['xtick.color'] = COLOR\n",
    "mpl.rcParams['ytick.color'] = COLOR\n",
    "mpl.rcParams['axes.edgecolor'] = COLOR\n",
    "\n",
    "mpl.rcParams[\"figure.facecolor\"] = COLOR2\n",
    "mpl.rcParams[\"axes.facecolor\"] = COLOR2\n",
    "mpl.rcParams[\"savefig.facecolor\"] = COLOR2\n",
    "mpl.rcParams['axes.facecolor'] = COLOR2\n",
    "\n",
    "\n",
    "# to hide known warnings\n",
    "import warnings\n",
    "warnings.filterwarnings(\"ignore\")\n",
    "\n",
    "# my functions\n",
    "import sys\n",
    "sys.path.append(r'd:\\Users\\laplaud\\Desktop\\PostDoc\\Code\\PythonFunctions/')\n",
    "import VallapFunc as vf\n",
    "from Main import ParametriseContour\n"
   ]
  },
  {
   "cell_type": "markdown",
   "metadata": {},
   "source": [
    "##  Enter data and run"
   ]
  },
  {
   "cell_type": "markdown",
   "metadata": {},
   "source": [
    "### Data details"
   ]
  },
  {
   "cell_type": "code",
   "execution_count": 4,
   "metadata": {
    "init_cell": true
   },
   "outputs": [
    {
     "name": "stdout",
     "output_type": "stream",
     "text": [
      "Contour data choice made.\n"
     ]
    }
   ],
   "source": [
    "%run d:\\Users\\laplaud\\Desktop\\PostDoc\\Code\\PythonFunctions\\ExperimentList_Contours.py"
   ]
  },
  {
   "cell_type": "markdown",
   "metadata": {},
   "source": [
    "#### 01-03-2022 : 100mM growth RESULTS TO CHECK !"
   ]
  },
  {
   "cell_type": "code",
   "execution_count": 5,
   "metadata": {
    "scrolled": false
   },
   "outputs": [],
   "source": [
    "# ParametriseContour('220301_Ct',P220301_Ct,ExcludeList220301_Ct,'01-03-2022 Ctrl',Scale220301,'LPR',\n",
    "#                    ldmkplots=True, FirstSlice = False, AutoLdmks = False, Overwrite = False)\n",
    "\n",
    "# ParametriseContour('220301_M100',P220301_M100,ExcludeList220301_M100,'01-03-2022 100mM',Scale220301,'LPR',\n",
    "#                    ldmkplots=True, FirstSlice = False, AutoLdmks = False, Overwrite = False)\n"
   ]
  },
  {
   "cell_type": "markdown",
   "metadata": {},
   "source": [
    "#### 31-05-2022 : Ctrls + OC   CT1 TE TO CHECK"
   ]
  },
  {
   "cell_type": "code",
   "execution_count": null,
   "metadata": {
    "scrolled": false
   },
   "outputs": [
    {
     "name": "stdout",
     "output_type": "stream",
     "text": [
      "\u001b[1m\u001b[4m\n",
      "Analyzing 31-05-2022 Ctrl2:\n",
      "\u001b[0m\n",
      "\n",
      " Loaded Landmarks_tmp file.\n",
      "\n",
      "\n",
      "\n",
      "Getting landmarks for : 31-05-2022 Ctrl2\n",
      "\n",
      "\n",
      "First image landmarks for : PPG9      \n",
      "\n",
      "Stack PPG1 already processed in tmp file.\n",
      "\n",
      "Stack PPG10 already processed in tmp file.\n",
      "\n",
      "Stack PPG12 already processed in tmp file.\n",
      "\n",
      "Stack PPG14 already processed in tmp file.\n",
      "\n",
      "Stack PPG15 already processed in tmp file.\n",
      "\n",
      "Stack PPG16 already processed in tmp file.\n",
      "\n",
      "Stack PPG17 already processed in tmp file.\n",
      "\n",
      "Stack PPG18 already processed in tmp file.\n",
      "\n",
      "Stack PPG19 already processed in tmp file.\n",
      "\n",
      "Stack PPG2 already processed in tmp file.\n",
      "\n",
      "Stack PPG20 already processed in tmp file.\n",
      "\n",
      "Stack PPG22 already processed in tmp file.\n",
      "\n",
      "Stack PPG23 already processed in tmp file.\n",
      "\n",
      "Stack PPG24 already processed in tmp file.\n",
      "\n",
      "Stack PPG25 already processed in tmp file.\n",
      "\n",
      "Stack PPG26 already processed in tmp file.\n",
      "\n",
      "Stack PPG28 already processed in tmp file.\n",
      "\n",
      "Stack PPG29 already processed in tmp file.\n",
      "\n",
      "Stack PPG3 already processed in tmp file.\n",
      "\n",
      "Stack PPG30 already processed in tmp file.\n",
      "\n",
      "Processing PPG31 image 61/61        \n",
      "\n",
      "Processing PPG32 image 61/61        \n",
      "\n",
      "Processing PPG33 image 61/61        \n",
      "\n",
      "Processing PPG34 image 61/61        \n",
      "\n",
      "Processing PPG35 image 61/61        \n",
      "\n",
      "Processing PPG36 image 61/61        \n",
      "\n",
      "Processing PPG37 image 61/61        \n",
      "\n",
      "Processing PPG38 image 61/61        \n",
      "\n",
      "Processing PPG39 image 61/61        \n",
      "\n",
      "Processing PPG4 image 61/61        \n",
      "\n",
      "Processing PPG41 image 61/61        \n",
      "\n",
      "Processing PPG5 image 61/61        \n",
      "\n",
      "Processing PPG6 image 61/61        \n",
      "\n",
      "Processing PPG7 image 61/61        \n",
      "\n",
      "Processing PPG9 image 61/61        \n",
      "\n",
      "\n",
      "Landmarks saved.\n",
      "\n",
      "\n",
      "\n",
      "\n",
      "\n",
      "Computing parametric contours for : 31-05-2022 Ctrl2\n",
      "\n",
      "\n",
      "Unknown key : debug. Kwarg ignored.\n",
      "Processing PPG1... Done\n",
      "Processing PPG10... Done\n",
      "Processing PPG12... Done\n",
      "Processing PPG14... Done\n",
      "Processing PPG15... Done\n",
      "Processing PPG16... Done\n",
      "Processing PPG17... Done\n",
      "Processing PPG18... Done\n",
      "Processing PPG19... Done\n",
      "Processing PPG2... Done\n",
      "Processing PPG20... Done\n",
      "Processing PPG22... Done\n",
      "Processing PPG23... Done\n",
      "Processing PPG24... Done\n",
      "Processing PPG25... Done\n",
      "Processing PPG26... Done\n",
      "Processing PPG28... Done\n",
      "Processing PPG29... Done\n",
      "Processing PPG3... Done\n",
      "Processing PPG30... Done\n",
      "Processing PPG31... Done\n",
      "Processing PPG32... Done\n",
      "Processing PPG33... Done\n",
      "Processing PPG34... Done\n",
      "Processing PPG35... Done\n",
      "Processing PPG36... Done\n",
      "Processing PPG37... Done\n",
      "Processing PPG38... Done\n",
      "Processing PPG39... Done\n",
      "Processing PPG4... Done\n",
      "Processing PPG41... Done\n",
      "Processing PPG5... Done\n",
      "Processing PPG6... Done\n",
      "Processing PPG7... Done\n",
      "Processing PPG9... Done\n",
      "\n",
      "Parametric contours saved.\n",
      "\n",
      "\n",
      "\n",
      "\n",
      "\n",
      "Aligning contours for : 31-05-2022 Ctrl2\n",
      "\n",
      "\n",
      "First images aligned on notches.                   \n",
      "Computing temp mean contour\n",
      "Loop 1: First images aligned on temp mean contour.                   \n",
      "Loop 1: Computing temp mean aligned contour\n",
      "Loop 1: Contour distance : 0.41073815025881416\n",
      "Loop 2: First images aligned on temp mean contour.                   \n",
      "Loop 2: Computing temp mean aligned contour\n",
      "Loop 2: Contour distance : 0.014285714285721384\n",
      "Alignement of first images done.\n",
      "\n",
      "Alignement in time for PPG1:\n",
      "All images aligned.\n",
      "\n",
      "\n",
      "Alignement in time for PPG10:\n",
      "All images aligned.\n",
      "\n",
      "\n",
      "Alignement in time for PPG12:\n",
      "All images aligned.\n",
      "\n",
      "\n",
      "Alignement in time for PPG14:\n",
      "All images aligned.\n",
      "\n",
      "\n",
      "Alignement in time for PPG15:\n",
      "All images aligned.\n",
      "\n",
      "\n",
      "Alignement in time for PPG16:\n",
      "All images aligned.\n",
      "\n",
      "\n",
      "Alignement in time for PPG17:\n",
      "All images aligned.\n",
      "\n",
      "\n",
      "Alignement in time for PPG18:\n",
      "All images aligned.\n",
      "\n",
      "\n",
      "Alignement in time for PPG19:\n",
      "All images aligned.\n",
      "\n",
      "\n",
      "Alignement in time for PPG2:\n",
      "All images aligned.\n",
      "\n",
      "\n",
      "Alignement in time for PPG20:\n",
      "All images aligned.\n",
      "\n",
      "\n",
      "Alignement in time for PPG22:\n",
      "All images aligned.\n",
      "\n",
      "\n",
      "Alignement in time for PPG23:\n",
      "All images aligned.\n",
      "\n",
      "\n",
      "Alignement in time for PPG24:\n",
      "All images aligned.\n",
      "\n",
      "\n",
      "Alignement in time for PPG25:\n",
      "Image 38/61\r"
     ]
    }
   ],
   "source": [
    "\n",
    "# ParametriseContour('220531_Ct1',P220531_Ct1,ExcludeList220531_Ct1,'31-05-2022 Ctrl1',Scale220531,'LPR',\n",
    "#                    ldmkplots=True, FirstSlice = False, AutoLdmks = False, Overwrite = False)\n",
    "\n",
    "ParametriseContour('220531_Ct2',P220531_Ct2,ExcludeList220531_Ct2,'31-05-2022 Ctrl2',Scale220531,'LPR',\n",
    "                   ldmkplots=True, FirstSlice = False, AutoLdmks = False, Overwrite = False)\n",
    "\n",
    "\n",
    "ParametriseContour('220531_Ct1_Osmo',P220531_Ct1_Osmo,ExcludeList220531_Ct1_Osmo,'31-05-2022 Ctrl1 OC',Scale220531_Osmo,'LPR',\n",
    "                   ldmkplots=True, FirstSlice = False, AutoLdmks = False, Overwrite = False)\n",
    "\n",
    "ParametriseContour('220531_Ct2_Osmo',P220531_Ct2_Osmo,ExcludeList220531_Ct2_Osmo,'31-05-2022 Ctrl2 OC',Scale220531_Osmo,'LPR',\n",
    "                   ldmkplots=True, FirstSlice = False, AutoLdmks = False, Overwrite = False)"
   ]
  },
  {
   "cell_type": "markdown",
   "metadata": {},
   "source": [
    "#### 27-07-2022 : DV7 Ctrl growth DONE."
   ]
  },
  {
   "cell_type": "code",
   "execution_count": null,
   "metadata": {
    "scrolled": false
   },
   "outputs": [],
   "source": [
    "# ParametriseContour('220727_Hyper',P220727_Hyper,ExcludeList220727_Hyper,'27-07-2022_Hyper',Scale220727,'LPR',\n",
    "#                    ldmkplots=False, FirstSlice = False, AutoLdmks = False, Overwrite = False)\n",
    "\n",
    "# ParametriseContour('220727_Hypo',P220727_Hypo,ExcludeList220727_Hypo,'27-07-2022_Hypo',Scale220727,'LPR',\n",
    "#                    ldmkplots=True, FirstSlice = False, AutoLdmks = False, Overwrite = False)"
   ]
  },
  {
   "cell_type": "markdown",
   "metadata": {},
   "source": [
    "## Test Zone"
   ]
  },
  {
   "cell_type": "code",
   "execution_count": null,
   "metadata": {},
   "outputs": [],
   "source": []
  },
  {
   "cell_type": "code",
   "execution_count": null,
   "metadata": {},
   "outputs": [],
   "source": []
  },
  {
   "cell_type": "code",
   "execution_count": null,
   "metadata": {
    "scrolled": false
   },
   "outputs": [],
   "source": []
  }
 ],
 "metadata": {
  "celltoolbar": "Initialization Cell",
  "kernelspec": {
   "display_name": "Python 3",
   "language": "python",
   "name": "python3"
  },
  "language_info": {
   "codemirror_mode": {
    "name": "ipython",
    "version": 3
   },
   "file_extension": ".py",
   "mimetype": "text/x-python",
   "name": "python",
   "nbconvert_exporter": "python",
   "pygments_lexer": "ipython3",
   "version": "3.8.5"
  },
  "toc": {
   "base_numbering": 1,
   "nav_menu": {},
   "number_sections": true,
   "sideBar": true,
   "skip_h1_title": true,
   "title_cell": "Table of Contents",
   "title_sidebar": "Contents",
   "toc_cell": false,
   "toc_position": {
    "height": "858.5px",
    "left": "335px",
    "top": "200px",
    "width": "275px"
   },
   "toc_section_display": true,
   "toc_window_display": true
  }
 },
 "nbformat": 4,
 "nbformat_minor": 4
}
