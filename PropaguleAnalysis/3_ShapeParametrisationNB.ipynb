{
 "cells": [
  {
   "cell_type": "markdown",
   "metadata": {},
   "source": [
    "# Parametrisation of gemmae contours\n"
   ]
  },
  {
   "cell_type": "markdown",
   "metadata": {},
   "source": [
    "## Documentation and Imports\n",
    "\n",
    "\n",
    "Created on 27-05-2021\n",
    "\n",
    "Author: Valentin Laplaud\n",
    "\n",
    "This code loads gemmae contours from ShapeComputation.ipynb and express them as a function of a curvilinar abcisse. Adding landmark points (notches and attach points) then allows a deformation of the contour to match the position of landmark points."
   ]
  },
  {
   "cell_type": "code",
   "execution_count": 1,
   "metadata": {
    "code_folding": [],
    "init_cell": true
   },
   "outputs": [],
   "source": [
    "## Clean up before script start \n",
    "\n",
    "for element in dir():\n",
    "\n",
    "    if element[0:1] != \"_\":\n",
    "\n",
    "        del globals()[element]\n",
    "\n",
    "import gc\n",
    "gc.collect()\n",
    "\n",
    "# plotting stuff in jupyter\n",
    "import matplotlib as mpl\n",
    "mpl.use('TkAgg')\n",
    "%matplotlib inline\n",
    "\n",
    "COLOR = 'white'\n",
    "COLOR2 = 'black'\n",
    "\n",
    "mpl.rcParams['text.color'] = COLOR\n",
    "mpl.rcParams['axes.labelcolor'] = COLOR\n",
    "mpl.rcParams['xtick.color'] = COLOR\n",
    "mpl.rcParams['ytick.color'] = COLOR\n",
    "mpl.rcParams['axes.edgecolor'] = COLOR\n",
    "\n",
    "mpl.rcParams[\"figure.facecolor\"] = COLOR2\n",
    "mpl.rcParams[\"axes.facecolor\"] = COLOR2\n",
    "mpl.rcParams[\"savefig.facecolor\"] = COLOR2\n",
    "mpl.rcParams['axes.facecolor'] = COLOR2\n",
    "\n",
    "\n",
    "# to hide known warnings\n",
    "import warnings\n",
    "warnings.filterwarnings(\"ignore\")\n",
    "\n",
    "# my functions\n",
    "import sys\n",
    "sys.path.append(r'd:\\Users\\laplaud\\Desktop\\PostDoc\\Code\\PythonFunctions/')\n",
    "import VallapFunc as vf\n",
    "from Main import ParametriseContour\n"
   ]
  },
  {
   "cell_type": "markdown",
   "metadata": {},
   "source": [
    "##  Enter data and run"
   ]
  },
  {
   "cell_type": "markdown",
   "metadata": {},
   "source": [
    "### Data details"
   ]
  },
  {
   "cell_type": "code",
   "execution_count": 2,
   "metadata": {
    "init_cell": true
   },
   "outputs": [
    {
     "ename": "SyntaxError",
     "evalue": "invalid syntax (ExperimentList_Contours.py, line 1)",
     "output_type": "error",
     "traceback": [
      "\u001b[1;36m  File \u001b[1;32m\"d:\\Users\\laplaud\\Desktop\\PostDoc\\Code\\PythonFunctions\\ExperimentList_Contours.py\"\u001b[1;36m, line \u001b[1;32m1\u001b[0m\n\u001b[1;33m    WRONG BRANCH §§§§§§\u001b[0m\n\u001b[1;37m          ^\u001b[0m\n\u001b[1;31mSyntaxError\u001b[0m\u001b[1;31m:\u001b[0m invalid syntax\n"
     ]
    }
   ],
   "source": [
    "%run d:\\Users\\laplaud\\Desktop\\PostDoc\\Code\\PythonFunctions\\ExperimentList_Contours.py"
   ]
  },
  {
   "cell_type": "markdown",
   "metadata": {
    "heading_collapsed": true
   },
   "source": [
    "#### 01-03-2022 : 100mM growth DONE."
   ]
  },
  {
   "cell_type": "code",
   "execution_count": 5,
   "metadata": {
    "hidden": true,
    "scrolled": false
   },
   "outputs": [],
   "source": [
    "# ParametriseContour('220301_Ct',P220301_Ct,ExcludeList220301_Ct,'01-03-2022 Ctrl',Scale220301,'LPR',\n",
    "#                    ldmkplots=True, FirstSlice = False, AutoLdmks = False, Overwrite = False)\n",
    "\n",
    "# ParametriseContour('220301_M100',P220301_M100,ExcludeList220301_M100,'01-03-2022 100mM',Scale220301,'LPR',\n",
    "#                    ldmkplots=True, FirstSlice = False, AutoLdmks = False, Overwrite = False)\n"
   ]
  },
  {
   "cell_type": "markdown",
   "metadata": {},
   "source": [
    "#### 31-05-2022 : Ctrls + OC   DONE."
   ]
  },
  {
   "cell_type": "code",
   "execution_count": 6,
   "metadata": {
    "scrolled": false
   },
   "outputs": [],
   "source": [
    "\n",
    "# ParametriseContour('220531_Ct1',P220531_Ct1,ExcludeList220531_Ct1,'31-05-2022 Ctrl1',Scale220531,'LPR',\n",
    "#                    ldmkplots=True, FirstSlice = False, AutoLdmks = False, Overwrite = False)\n",
    "\n",
    "# ParametriseContour('220531_Ct2',P220531_Ct2,ExcludeList220531_Ct2,'31-05-2022 Ctrl2',Scale220531,'LPR',\n",
    "#                    ldmkplots=True, FirstSlice = False, AutoLdmks = False, Overwrite = False)\n",
    "\n",
    "\n",
    "# ParametriseContour('220531_Ct1_Osmo',P220531_Ct1_Osmo,ExcludeList220531_Ct1_Osmo,'31-05-2022 Ctrl1 OC',Scale220531_Osmo,'LPR',\n",
    "#                    ldmkplots=True, FirstSlice = False, AutoLdmks = False, Overwrite = False)\n",
    "\n",
    "# ParametriseContour('220531_Ct2_Osmo',P220531_Ct2_Osmo,ExcludeList220531_Ct2_Osmo,'31-05-2022 Ctrl2 OC',Scale220531_Osmo,'LPR',\n",
    "#                    ldmkplots=True, FirstSlice = False, AutoLdmks = False, Overwrite = False)"
   ]
  },
  {
   "cell_type": "markdown",
   "metadata": {},
   "source": [
    "#### 22-07-22 : ABA 3.5µM growth [ONGOING]"
   ]
  },
  {
   "cell_type": "code",
   "execution_count": 7,
   "metadata": {
    "scrolled": false
   },
   "outputs": [
    {
     "name": "stdout",
     "output_type": "stream",
     "text": [
      "\u001b[1m\u001b[4m\n",
      "Analyzing 22-07-22_ABA:\n",
      "\u001b[0m\n",
      "\n",
      " Loaded AreaFit file.\n",
      "\n",
      "\n",
      "\n",
      "Getting landmarks for : 22-07-22_ABA\n",
      "\n",
      "\n",
      "First image landmarks for : PPG8      \n",
      "\n",
      "Processing PPG11 image 111/111       \n",
      "\n",
      "Processing PPG14 image 111/111       \n",
      "\n",
      "Processing PPG15 image 111/111       \n",
      "\n",
      "Processing PPG18 image 111/111       \n",
      "\n",
      "Processing PPG19 image 111/111       \n",
      "\n",
      "Processing PPG20 image 111/111       \n",
      "\n",
      "Processing PPG21 image 111/111       \n",
      "\n",
      "Processing PPG22 image 92/92        \n",
      "\n",
      "Processing PPG23 image 92/92        \n",
      "\n",
      "Processing PPG24 image 111/111       \n",
      "\n",
      "Processing PPG26 image 111/111       \n",
      "\n",
      "Processing PPG29 image 111/111       \n",
      "\n",
      "Processing PPG3 image 111/111       \n",
      "\n",
      "Processing PPG30 image 111/111       \n",
      "\n",
      "Processing PPG32 image 111/111       \n",
      "\n",
      "Processing PPG33 image 111/111       \n",
      "\n",
      "Processing PPG34 image 111/111       \n",
      "\n",
      "Processing PPG35 image 111/111       \n",
      "\n",
      "Processing PPG36 image 65/65        \n",
      "\n",
      "Processing PPG38 image 111/111       \n",
      "\n",
      "Processing PPG39 image 111/111       \n",
      "\n",
      "Processing PPG4 image 111/111       \n",
      "\n",
      "Processing PPG40 image 111/111       \n",
      "\n",
      "Processing PPG41 image 111/111       \n",
      "\n",
      "Processing PPG42 image 111/111       \n",
      "\n",
      "Processing PPG43 image 111/111       \n",
      "\n",
      "Processing PPG44 image 111/111       \n",
      "\n",
      "Processing PPG46 image 111/111       \n",
      "\n",
      "Processing PPG47 image 111/111       \n",
      "\n",
      "Processing PPG48 image 111/111       \n",
      "\n",
      "Processing PPG49 image 111/111       \n",
      "\n",
      "Processing PPG5 image 71/71        \n",
      "\n",
      "Processing PPG50 image 72/72        \n",
      "\n",
      "Processing PPG51 image 70/70        \n",
      "\n",
      "Processing PPG52 image 111/111       \n",
      "\n",
      "Processing PPG6 image 52/111       \r"
     ]
    },
    {
     "ename": "IndexError",
     "evalue": "index 0 is out of bounds for axis 0 with size 0",
     "output_type": "error",
     "traceback": [
      "\u001b[1;31m---------------------------------------------------------------------------\u001b[0m",
      "\u001b[1;31mIndexError\u001b[0m                                Traceback (most recent call last)",
      "\u001b[1;32m<ipython-input-7-9bbe01156091>\u001b[0m in \u001b[0;36m<module>\u001b[1;34m\u001b[0m\n\u001b[0;32m      2\u001b[0m \u001b[1;31m#                    ldmkplots=True, FirstSlice = False, AutoLdmks = False, Overwrite = False)\u001b[0m\u001b[1;33m\u001b[0m\u001b[1;33m\u001b[0m\u001b[1;33m\u001b[0m\u001b[0m\n\u001b[0;32m      3\u001b[0m \u001b[1;33m\u001b[0m\u001b[0m\n\u001b[1;32m----> 4\u001b[1;33m ParametriseContour('220722_ABA',P220722_ABA,ExcludeList220722_ABA,'22-07-22_ABA',Scale220722,'LPR',\n\u001b[0m\u001b[0;32m      5\u001b[0m                    ldmkplots=True, FirstSlice = False, AutoLdmks = False, Overwrite = False)\n",
      "\u001b[1;32m~\\Desktop\\PostDoc\\Code\\PythonFunctions\\Main.py\u001b[0m in \u001b[0;36mParametriseContour\u001b[1;34m(stringName, Path, ExcludeList, dateCond, Scale, Todo, **kwargs)\u001b[0m\n\u001b[0;32m    357\u001b[0m \u001b[1;33m\u001b[0m\u001b[0m\n\u001b[0;32m    358\u001b[0m         \u001b[0mprint\u001b[0m\u001b[1;33m(\u001b[0m\u001b[1;34m'\\n\\n\\nGetting landmarks for : '\u001b[0m \u001b[1;33m+\u001b[0m \u001b[0mdateCond\u001b[0m \u001b[1;33m+\u001b[0m \u001b[1;34m'\\n\\n'\u001b[0m\u001b[1;33m)\u001b[0m\u001b[1;33m\u001b[0m\u001b[1;33m\u001b[0m\u001b[0m\n\u001b[1;32m--> 359\u001b[1;33m         ContourData_LM, GlobalData_LM = getLandmarks(ContourData,GlobalData,StackList,Scale,Path,stringName, \n\u001b[0m\u001b[0;32m    360\u001b[0m                                                      \u001b[0mdebug\u001b[0m \u001b[1;33m=\u001b[0m \u001b[0mDebugPlots\u001b[0m\u001b[1;33m,\u001b[0m \u001b[0msaveplots\u001b[0m \u001b[1;33m=\u001b[0m \u001b[0mLdmkPlots\u001b[0m\u001b[1;33m,\u001b[0m\u001b[1;33m\u001b[0m\u001b[1;33m\u001b[0m\u001b[0m\n\u001b[0;32m    361\u001b[0m                                                      \u001b[0mDmax\u001b[0m \u001b[1;33m=\u001b[0m \u001b[0mDmax\u001b[0m\u001b[1;33m,\u001b[0m \u001b[0mDmax2\u001b[0m \u001b[1;33m=\u001b[0m \u001b[0mDmax2\u001b[0m\u001b[1;33m,\u001b[0m \u001b[0mAuto\u001b[0m \u001b[1;33m=\u001b[0m \u001b[0mAUTO\u001b[0m\u001b[1;33m,\u001b[0m \u001b[0mOverwrite\u001b[0m \u001b[1;33m=\u001b[0m \u001b[0mOverwriteData\u001b[0m\u001b[1;33m,\u001b[0m\u001b[1;33m\u001b[0m\u001b[1;33m\u001b[0m\u001b[0m\n",
      "\u001b[1;32m~\\Desktop\\PostDoc\\Code\\PythonFunctions\\ContourAnalysis.py\u001b[0m in \u001b[0;36mgetLandmarks\u001b[1;34m(CD, GD, StackList, Scale, P, stringName, **kwargs)\u001b[0m\n\u001b[0;32m    999\u001b[0m                                              [xN2OldAl,yN2OldAl]]\n\u001b[0;32m   1000\u001b[0m                             \u001b[1;32melse\u001b[0m\u001b[1;33m:\u001b[0m\u001b[1;33m\u001b[0m\u001b[1;33m\u001b[0m\u001b[0m\n\u001b[1;32m-> 1001\u001b[1;33m                                 NotchesRef = getContourPointsCoordinates(P,s,2,i,Xsmooth,Ysmooth,Xsmooth[loc],\n\u001b[0m\u001b[0;32m   1002\u001b[0m                                                                          Ysmooth[loc],XalOld,YalOld,[xN1OldAl,xN2OldAl],[yN1OldAl,yN2OldAl], 'Select the two notches')\n\u001b[0;32m   1003\u001b[0m \u001b[1;33m\u001b[0m\u001b[0m\n",
      "\u001b[1;32m~\\Desktop\\PostDoc\\Code\\PythonFunctions\\ContourAnalysis.py\u001b[0m in \u001b[0;36mgetContourPointsCoordinates\u001b[1;34m(P, s, npts, nimg, X, Y, Xc, Yc, Xold, Yold, Xcold, Ycold, Title)\u001b[0m\n\u001b[0;32m   1218\u001b[0m \u001b[1;33m\u001b[0m\u001b[0m\n\u001b[0;32m   1219\u001b[0m     \u001b[1;32mfor\u001b[0m \u001b[0mi\u001b[0m \u001b[1;32min\u001b[0m \u001b[0mrange\u001b[0m\u001b[1;33m(\u001b[0m\u001b[0mnpts\u001b[0m\u001b[1;33m)\u001b[0m\u001b[1;33m:\u001b[0m\u001b[1;33m\u001b[0m\u001b[1;33m\u001b[0m\u001b[0m\n\u001b[1;32m-> 1220\u001b[1;33m         \u001b[0mx\u001b[0m \u001b[1;33m=\u001b[0m \u001b[0mpts\u001b[0m\u001b[1;33m[\u001b[0m\u001b[0mi\u001b[0m\u001b[1;33m]\u001b[0m\u001b[1;33m[\u001b[0m\u001b[1;36m0\u001b[0m\u001b[1;33m]\u001b[0m\u001b[1;33m\u001b[0m\u001b[1;33m\u001b[0m\u001b[0m\n\u001b[0m\u001b[0;32m   1221\u001b[0m         \u001b[0my\u001b[0m \u001b[1;33m=\u001b[0m \u001b[0mpts\u001b[0m\u001b[1;33m[\u001b[0m\u001b[0mi\u001b[0m\u001b[1;33m]\u001b[0m\u001b[1;33m[\u001b[0m\u001b[1;36m1\u001b[0m\u001b[1;33m]\u001b[0m\u001b[1;33m\u001b[0m\u001b[1;33m\u001b[0m\u001b[0m\n\u001b[0;32m   1222\u001b[0m \u001b[1;33m\u001b[0m\u001b[0m\n",
      "\u001b[1;31mIndexError\u001b[0m: index 0 is out of bounds for axis 0 with size 0"
     ]
    }
   ],
   "source": [
    "\n",
    "# ParametriseContour('220722_Ct',P220722_Ct,ExcludeList220722_Ct,'22-07-22_Ct',Scale220722,'PR',\n",
    "#                    ldmkplots=True, FirstSlice = False, AutoLdmks = False, Overwrite = False)\n",
    "\n",
    "ParametriseContour('220722_ABA',P220722_ABA,ExcludeList220722_ABA,'22-07-22_ABA',Scale220722,'LPR',\n",
    "                   ldmkplots=True, FirstSlice = False, AutoLdmks = False, Overwrite = False)"
   ]
  },
  {
   "cell_type": "markdown",
   "metadata": {},
   "source": [
    "#### 27-07-2022 : DV7 Ctrl growth DONE."
   ]
  },
  {
   "cell_type": "code",
   "execution_count": null,
   "metadata": {
    "scrolled": false
   },
   "outputs": [],
   "source": [
    "# ParametriseContour('220727_Hyper',P220727_Hyper,ExcludeList220727_Hyper,'27-07-2022_Hyper',Scale220727,'LPR',\n",
    "#                    ldmkplots=False, FirstSlice = False, AutoLdmks = False, Overwrite = False)\n",
    "\n",
    "# ParametriseContour('220727_Hypo',P220727_Hypo,ExcludeList220727_Hypo,'27-07-2022_Hypo',Scale220727,'LPR',\n",
    "#                    ldmkplots=False, FirstSlice = False, AutoLdmks = False, Overwrite = False)"
   ]
  },
  {
   "cell_type": "markdown",
   "metadata": {},
   "source": [
    "## Test Zone"
   ]
  },
  {
   "cell_type": "code",
   "execution_count": null,
   "metadata": {},
   "outputs": [],
   "source": []
  },
  {
   "cell_type": "code",
   "execution_count": null,
   "metadata": {},
   "outputs": [],
   "source": []
  }
 ],
 "metadata": {
  "celltoolbar": "Initialization Cell",
  "kernelspec": {
   "display_name": "Python 3",
   "language": "python",
   "name": "python3"
  },
  "language_info": {
   "codemirror_mode": {
    "name": "ipython",
    "version": 3
   },
   "file_extension": ".py",
   "mimetype": "text/x-python",
   "name": "python",
   "nbconvert_exporter": "python",
   "pygments_lexer": "ipython3",
   "version": "3.8.5"
  },
  "toc": {
   "base_numbering": 1,
   "nav_menu": {},
   "number_sections": true,
   "sideBar": true,
   "skip_h1_title": true,
   "title_cell": "Table of Contents",
   "title_sidebar": "Contents",
   "toc_cell": false,
   "toc_position": {
    "height": "858.5px",
    "left": "335px",
    "top": "200px",
    "width": "275px"
   },
   "toc_section_display": true,
   "toc_window_display": true
  }
 },
 "nbformat": 4,
 "nbformat_minor": 4
}
