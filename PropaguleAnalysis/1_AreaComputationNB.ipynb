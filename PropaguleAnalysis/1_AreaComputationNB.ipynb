{
 "cells": [
  {
   "cell_type": "markdown",
   "metadata": {},
   "source": [
    "# Computation of shape contour and area during growth of propagules.\n"
   ]
  },
  {
   "cell_type": "markdown",
   "metadata": {},
   "source": [
    "##  Documentation and Imports\n",
    "\n",
    "\n",
    "Created on 27-05-2021\n",
    "\n",
    "Author: Valentin Laplaud\n",
    "\n",
    "This code aims to compute the shape of propagules growing in microfluidic chips. It detects gemmae contours using binarization, and saves the data of the contour position on the image, as well as the area and geometrical center position of each gemmae. \n",
    "\n",
    "A second part fits the evolution of gemmae in time with a delayed exponential."
   ]
  },
  {
   "cell_type": "code",
   "execution_count": 3,
   "metadata": {
    "init_cell": true
   },
   "outputs": [],
   "source": [
    "## Clean up before script start \n",
    "\n",
    "for element in dir():\n",
    "\n",
    "    if element[0:1] != \"_\":\n",
    "\n",
    "        del globals()[element]\n",
    "\n",
    "import gc\n",
    "gc.collect()\n",
    "\n",
    "# plotting stuff in jupyter\n",
    "import matplotlib as mpl\n",
    "mpl.use('TkAgg')\n",
    "%matplotlib inline\n",
    "\n",
    "COLOR = 'black'\n",
    "COLOR2 = 'white'\n",
    "\n",
    "mpl.rcParams['text.color'] = COLOR\n",
    "mpl.rcParams['axes.labelcolor'] = COLOR\n",
    "mpl.rcParams['xtick.color'] = COLOR\n",
    "mpl.rcParams['ytick.color'] = COLOR\n",
    "mpl.rcParams['axes.edgecolor'] = COLOR\n",
    "\n",
    "mpl.rcParams[\"figure.facecolor\"] = COLOR2\n",
    "mpl.rcParams[\"axes.facecolor\"] = COLOR2\n",
    "mpl.rcParams[\"savefig.facecolor\"] = COLOR2\n",
    "mpl.rcParams['axes.facecolor'] = COLOR2\n",
    "\n",
    "\n",
    "# to hide known warnings\n",
    "import warnings\n",
    "warnings.filterwarnings(\"ignore\")\n",
    "\n",
    "# my functions\n",
    "import sys\n",
    "sys.path.append(r'd:\\Users\\laplaud\\Desktop\\PostDoc\\Code\\PythonFunctions/')\n",
    "import VallapFunc as vf\n",
    "from Main import BinarizeAndFitArea, BinarizeAndFitOsChoc\n",
    "from GemmaeDetection import FindChipPos\n",
    "import numpy as np\n",
    "import pandas as pd"
   ]
  },
  {
   "cell_type": "markdown",
   "metadata": {},
   "source": [
    "## Fetch data details"
   ]
  },
  {
   "cell_type": "code",
   "execution_count": 4,
   "metadata": {
    "init_cell": true
   },
   "outputs": [
    {
     "name": "stdout",
     "output_type": "stream",
     "text": [
      "Data choice made.\n"
     ]
    }
   ],
   "source": [
    "%run d:\\Users\\laplaud\\Desktop\\PostDoc\\Code\\PythonFunctions/ExperimentList.py"
   ]
  },
  {
   "cell_type": "markdown",
   "metadata": {},
   "source": [
    "## Run analysis"
   ]
  },
  {
   "cell_type": "markdown",
   "metadata": {
    "heading_collapsed": true
   },
   "source": [
    "### 03/27-09-2021 : Flux controls V5 "
   ]
  },
  {
   "cell_type": "code",
   "execution_count": 5,
   "metadata": {
    "hidden": true,
    "scrolled": false
   },
   "outputs": [],
   "source": [
    "# BinarizeAndFitArea('210903_1mlh',StackList210903_1,P210903_1,Scale210903,FPH210903,Delay210903,0.98,'V^','F',\n",
    "#                    debug = False, debugAll = False, HSVrange =[(30, 30, 70),(60, 120,220)])\n",
    "\n",
    "# BinarizeAndFitArea('210903_500ulh',StackList210903_5,P210903_5,Scale210903,FPH210903,Delay210903,0.98,'Vv','F',\n",
    "#                    debug = False, debugAll = False, HSVrange =[(30, 30, 70),(60, 120,220)])\n",
    "\n",
    "\n",
    "# BinarizeAndFitArea('210927_1mlh',StackList210927_1,P210927_1,Scale210927,FPH210927,Delay210927,0.98,'H>','F',\n",
    "#                    debug = False, debugAll = False, HSVrange =[(30, 30, 70),(60, 120,220)])\n",
    "\n",
    "# BinarizeAndFitArea('210927_500ulh',StackList210927_5,P210927_5,Scale210927,FPH210927,Delay210927,0.98,'H>','F',\n",
    "#                    debug = False, debugAll = False, HSVrange =[(30, 30, 70),(60, 120,220)])"
   ]
  },
  {
   "cell_type": "markdown",
   "metadata": {
    "heading_collapsed": true
   },
   "source": [
    "### System control DV6 (22-10-2021)"
   ]
  },
  {
   "cell_type": "code",
   "execution_count": 6,
   "metadata": {
    "hidden": true,
    "scrolled": true
   },
   "outputs": [],
   "source": [
    "# BinarizeAndFitArea('211022_Ct1',StackList211022_Ct1,P211022_Ct1,Scale211022,FPH211022,Delay211022,0.98,'H>','F',\n",
    "#                    debug = False, debugAll = False, HSVrange =[(30, 30, 70),(60, 120,220)])\n",
    "\n",
    "# BinarizeAndFitArea('211022_Ct2',StackList211022_Ct2,P211022_Ct2,Scale211022,FPH211022,Delay211022,0.98,'H>','F',\n",
    "#                    debug = False, debugAll = False, HSVrange =[(30, 30, 70),(60, 120,220)])"
   ]
  },
  {
   "cell_type": "markdown",
   "metadata": {
    "heading_collapsed": true
   },
   "source": [
    "### Degas & BSA controls DV6 (05-11-2021, 22-12-2021)"
   ]
  },
  {
   "cell_type": "code",
   "execution_count": 7,
   "metadata": {
    "hidden": true,
    "scrolled": false
   },
   "outputs": [],
   "source": [
    "# BinarizeAndFitArea('211105_Deg_Bsa',StackList211105_Deg_Bsa,P211105_Deg_Bsa,Scale211105,FPH211105,Delay211105,0.98,'H>','F',\n",
    "#                    debug = False, debugAll = False, HSVrange =[(30, 20, 70),(60, 120,220)])\n",
    "\n",
    "# BinarizeAndFitArea('211105_Degas',StackList211105_Degas,P211105_Degas,Scale211105,FPH211105,Delay211105,0.98,'H>','F',\n",
    "#                    debug = False, debugAll = False, HSVrange =[(30, 20, 70),(60, 120,220)])\n",
    "\n",
    "\n",
    "\n",
    "# BinarizeAndFitArea('211222_Deg_Bsa',StackList211222_Deg_Bsa,P211222_Deg_Bsa,Scale211222,FPH211222,Delay211222,0.98,'H<','F',\n",
    "#                    debug = False, debugAll = False, HSVrange =[(30, 30, 70),(60, 120,220)])\n",
    "\n",
    "# BinarizeAndFitArea('211222_Degas',StackList211222_Degas,P211222_Degas,Scale211222,FPH211222,Delay211222,0.98,'H>','F',\n",
    "#                    debug = False, debugAll = False, HSVrange =[(30, 30, 70),(60, 120,220)])\n"
   ]
  },
  {
   "cell_type": "markdown",
   "metadata": {
    "heading_collapsed": true
   },
   "source": [
    "### Stade comparison DV6 (07/12/14-01-2022)"
   ]
  },
  {
   "cell_type": "code",
   "execution_count": 8,
   "metadata": {
    "hidden": true,
    "scrolled": true
   },
   "outputs": [],
   "source": [
    "# BinarizeAndFitArea('220107_S1',StackList220107_S1,P220107_S1,Scale220107,FPH220107,Delay220107,0.98,'H>','F',\n",
    "#                    debug = False, debugAll = False, HSVrange =[(25, 30, 70),(60, 120,220)])\n",
    "\n",
    "# BinarizeAndFitArea('220107_S3',StackList220107_S3,P220107_S3,Scale220107,FPH220107,Delay220107,0.98,'H<','F',\n",
    "#                    debug = False, debugAll = False, HSVrange =[(25, 30, 70),(60, 120,220)])\n",
    "\n",
    "\n",
    "# BinarizeAndFitArea('220112_S1',StackList220112_S1,P220112_S1,Scale220112,FPH220112,Delay220112,0.98,'H>','F',\n",
    "#                    debug = False, debugAll = False, HSVrange =[(20, 30, 70),(60, 120,220)])\n",
    "\n",
    "# BinarizeAndFitArea('220112_S3',StackList220112_S3,P220112_S3,Scale220112,FPH220112,Delay220112,0.98,'H<','F',\n",
    "#                    debug = False, debugAll = False, HSVrange =[(20, 30, 70),(60, 120,220)])\n",
    "\n",
    "# BinarizeAndFitArea('220114_S1',StackList220114_S1,P220114_S1,Scale220114,FPH220114,Delay220114,0.98,'H>','F',\n",
    "#                    debug = False, debugAll = False, HSVrange =[(25, 25, 70),(60, 120,220)])\n",
    "\n",
    "# BinarizeAndFitArea('220114_S3',StackList220114_S3,P220114_S3,Scale220114,FPH220114,Delay220114,0.98,'H<','F',\n",
    "#                    debug = False, debugAll = False, HSVrange =[(25, 25, 70),(60, 120,220)])\n"
   ]
  },
  {
   "cell_type": "markdown",
   "metadata": {
    "heading_collapsed": true
   },
   "source": [
    "### System controls with Stade1 & degas DV6 (24-01-2022,14-02-2022)"
   ]
  },
  {
   "cell_type": "code",
   "execution_count": 9,
   "metadata": {
    "hidden": true,
    "scrolled": false
   },
   "outputs": [],
   "source": [
    "# BinarizeAndFitArea('220124_Ct1',StackList220124_Ct1,P220124_Ct1,Scale220124,FPH220124,Delay220124,0.98,'H>','F',\n",
    "#                    debug = False, debugAll = False, HSVrange =[(15, 17, 60),(70, 140,220)])\n",
    "\n",
    "# BinarizeAndFitArea('220124_Ct2',StackList220124_Ct2,P220124_Ct2,Scale220124,FPH220124,Delay220124,0.98,'H<','F',\n",
    "#                    debug = False, debugAll = False, HSVrange =[(15, 17, 60),(70, 140,220)])\n",
    "\n",
    "# BinarizeAndFitArea('220214_Ct1',StackList220214_Ct1,P220214_Ct1,Scale220214,FPH220214,Delay220214,0.98,'H<','F',\n",
    "#                    debug = False, debugAll = False, debuglist = [0],HSVrange =[(15, 17, 60),(70, 140,220)])\n",
    "\n",
    "# BinarizeAndFitArea('220214_Ct2',StackList220214_Ct2,P220214_Ct2,Scale220214,FPH220214,Delay220214,0.98,'H>','F',\n",
    "#                    debug = False, debugAll = False, HSVrange =[(15, 17, 60),(70, 140,220)])\n"
   ]
  },
  {
   "cell_type": "markdown",
   "metadata": {
    "heading_collapsed": true
   },
   "source": [
    "### Osmotic choc after 14-02-2022 "
   ]
  },
  {
   "cell_type": "code",
   "execution_count": 10,
   "metadata": {
    "hidden": true,
    "scrolled": false
   },
   "outputs": [],
   "source": [
    "# BinarizeAndFitOsChoc('220214_Ct1_Osmo',StackList220214_Ct1_Osmo,P220214_Ct1_Osmo,Scale220214_Osmo,FPH220214_Osmo,0.95,'H<','F',\n",
    "#                    showHist = True, debug = False, HSVrange =[(15, 30, 60),(70, 140,220)],FitIntervalComp = [0,25],\n",
    "#                      FitIntervalRel = [23,60])\n",
    "\n",
    "# BinarizeAndFitOsChoc('220214_Ct2_Osmo',StackList220214_Ct2_Osmo,P220214_Ct2_Osmo,Scale220214_Osmo,FPH220214_Osmo,0.95,'H>','F',\n",
    "#                    showHist = True, debug = False, HSVrange =[(15, 30, 60),(70, 140,220)],FitIntervalComp = [0,25],\n",
    "#                      FitIntervalRel = [23,60])\n",
    "  "
   ]
  },
  {
   "cell_type": "markdown",
   "metadata": {
    "heading_collapsed": true
   },
   "source": [
    "### Manitol 100mM (01-03-2022) + OC"
   ]
  },
  {
   "cell_type": "code",
   "execution_count": 11,
   "metadata": {
    "hidden": true,
    "scrolled": false
   },
   "outputs": [],
   "source": [
    "# BinarizeAndFitArea('220301_Ct',StackList220301_Ct,P220301_Ct,Scale220301,FPH220301,Delay220301,0.98,'H<','F',\n",
    "#                    debug = False, debugAll = False, debuglist = [0], HSVrange =[(15, 17, 60),(70, 140,220)],fitwindow = 15)\n",
    "# BinarizeAndFitOsChoc('220301_Ct_Osmo',StackList220301_Ct_Osmo,P220301_Ct_Osmo,Scale220301_Osmo,FPH220301_Osmo,0.95,'H<','F',\n",
    "#                    showHist = True, debug = False, debuglist = [0], HSVrange =[(15, 17, 60),(70, 140,220)],\n",
    "#                      FitIntervalComp = [0,25],FitIntervalRel = [23,60])\n",
    "\n",
    "# # BinarizeAndFitArea('220301_M100',StackList220301_M100,P220301_M100,Scale220301,FPH220301,Delay220301,0.98,'H>','CF',\n",
    "# #                    debug = False, debugAll = False, debuglist = [0], HSVrange =[(15, 17, 60),(70, 140,220)],fitwindow = 15)\n",
    "# BinarizeAndFitOsChoc('220301_M100_Osmo',StackList220301_M100_Osmo,P220301_M100_Osmo,Scale220301_Osmo,FPH220301_Osmo,0.95,'H>','F',\n",
    "#                    showHist = True, debug = False, debuglist = [0], HSVrange =[(15, 17, 60),(70, 140,220)],\n",
    "#                      FitIntervalComp = [0,22],FitIntervalRel = [27,60],TstartComp = 3,TstartRel = 6, saveWB = False)\n"
   ]
  },
  {
   "cell_type": "markdown",
   "metadata": {
    "heading_collapsed": true
   },
   "source": [
    "### 31-05-2022 : DV7 ctrls + OC  "
   ]
  },
  {
   "cell_type": "code",
   "execution_count": 12,
   "metadata": {
    "hidden": true,
    "scrolled": false
   },
   "outputs": [],
   "source": [
    "# BinarizeAndFitArea('220531_Ct1',StackList220531_Ct1,P220531_Ct1,Scale220531,FPH220531,Delay220531,0.98,'H>','F',\n",
    "#                    debug = False, debugAll = True, debuglist = [0,30], HSVrange =[(20, 20, 60),(75, 160,240)],fitwindow=15)\n",
    "\n",
    "# BinarizeAndFitArea('220531_Ct2',StackList220531_Ct2,P220531_Ct2,Scale220531,FPH220531,Delay220531,0.98,'H<','F',\n",
    "#                    debug = False, debugAll = True, debuglist = [0,10,40], HSVrange =[(20, 20, 60),(75, 160,240)],fitwindow=15)\n",
    "\n",
    "\n",
    "# BinarizeAndFitOsChoc('220531_Ct1_Osmo',StackList220531_Ct1_Osmo,P220531_Ct1_Osmo,Scale220531_Osmo,FPH220531_Osmo,0.95,'H>','F',\n",
    "#                    showHist = True, debug = False, debuglist = [0], HSVrange = [(20, 20, 60),(75, 160,240)] ,FitIntervalComp = [0,33],\n",
    "#                      FitIntervalRel = [23,60])  \n",
    "\n",
    "# BinarizeAndFitOsChoc('220531_Ct2_Osmo',StackList220531_Ct2_Osmo,P220531_Ct2_Osmo,Scale220531_Osmo,FPH220531_Osmo,0.95,'H<','F',\n",
    "#                    showHist = True, debug = False, debuglist = [0,10,40], HSVrange = [(20, 20, 60),(75, 160,240)] ,FitIntervalComp = [0,33],\n",
    "#                      FitIntervalRel = [23,60])  \n",
    "\n"
   ]
  },
  {
   "cell_type": "markdown",
   "metadata": {
    "heading_collapsed": true
   },
   "source": [
    "### 27-07-2022 : DV7 Controls "
   ]
  },
  {
   "cell_type": "code",
   "execution_count": 13,
   "metadata": {
    "hidden": true,
    "scrolled": false
   },
   "outputs": [],
   "source": [
    "# BinarizeAndFitArea('220727_Hyper',StackList220727_Hyper,P220727_Hyper,Scale220727,FPH220727,Delay220722,0.98,'H>','F',\n",
    "#                    debug = False, debugAll = True, debuglist = [22], HSVrange =[(15, 25, 40),(70, 150,160)])\n",
    "\n",
    "\n",
    "# BinarizeAndFitArea('220727_Hypo',StackList220727_Hypo,P220727_Hypo,Scale220727,FPH220727,Delay220722,0.98,'H<','BCF',\n",
    "#                    debug = False, debugAll = False, debuglist = [36,50,55], HSVrange =[(20, 25, 40),(70, 150,190)])\n"
   ]
  },
  {
   "cell_type": "markdown",
   "metadata": {
    "heading_collapsed": true
   },
   "source": [
    "### 01-08-2022 :DV7 Ctrls + OC "
   ]
  },
  {
   "cell_type": "code",
   "execution_count": 14,
   "metadata": {
    "code_folding": [],
    "hidden": true,
    "scrolled": false
   },
   "outputs": [],
   "source": [
    "# BinarizeAndFitArea('220801_Ct1',StackList220801_Ct1,P220801_Ct1,Scale220801,FPH220801,Delay220722,0.98,'H<','F',\n",
    "#                    debug = False, debugAll = False, debuglist = [50], HSVrange =[(15, 25, 40),(70, 150,160)],fitwindow=15)\n",
    "\n",
    "# BinarizeAndFitArea('220801_Ct2',StackList220801_Ct2,P220801_Ct2,Scale220801,FPH220801,Delay220722,0.98,'H>','F',\n",
    "#                    debug = False, debugAll =False, debuglist = [0], HSVrange =[(20, 25, 40),(70, 150,190)],fitwindow=15)\n",
    "\n",
    "\n",
    "# BinarizeAndFitOsChoc('220801_Ct1_Osmo',StackList220801_Ct1_Osmo,P220801_Ct1_Osmo,Scale220801_Osmo,FPH220801_Osmo,0.95,'H<','F',\n",
    "#                    debug = False, showHist = True, debuglist = [0], HSVrange =[(20, 25, 40),(70, 150,160)],FitIntervalComp = [0,12],\n",
    "#                      FitIntervalRel = [23,60],TstartComp = 5,TstartRel = 9)\n",
    "\n",
    "\n",
    "# BinarizeAndFitOsChoc('220801_Ct2_Osmo',StackList220801_Ct2_Osmo,P220801_Ct2_Osmo,Scale220801_Osmo,FPH220801_Osmo,0.95,'H>','F',\n",
    "#                    debug = False, showHist = True, debuglist = [0], HSVrange =[(20, 20, 40),(70, 160,180)],FitIntervalComp = [0,13],\n",
    "#                      RelValidation = False,TstartComp = 3, FitIntervalRel = [10,13],TstartRel = 1)"
   ]
  },
  {
   "cell_type": "markdown",
   "metadata": {
    "heading_collapsed": true
   },
   "source": [
    "### 08-08-2022 : DV7 Manitol 100mM + OC"
   ]
  },
  {
   "cell_type": "code",
   "execution_count": 15,
   "metadata": {
    "code_folding": [],
    "hidden": true,
    "scrolled": false
   },
   "outputs": [],
   "source": [
    "# BinarizeAndFitArea('220808_Ct',StackList220808_Ct,P220808_Ct,Scale220808,FPH220808,Delay220808,0.98,'H<','F',\n",
    "#                    debug = False, debugAll = False, debuglist = [50], HSVrange =[(15, 25, 40),(70, 150,160)])\n",
    "\n",
    "# BinarizeAndFitArea('220808_100mM',StackList220808_100mM ,P220808_100mM ,Scale220808,FPH220808,Delay220808,0.98,'H>','F',\n",
    "#                    debug = False, debugAll =False, debuglist = [0], HSVrange =[(20, 25, 40),(70, 150,190)],fitwindow=15)\n",
    "\n",
    "\n",
    "# BinarizeAndFitOsChoc('220808_Ct_Osmo',StackList220808_Ct_Osmo ,P220808_Ct_Osmo ,Scale220808_Osmo,FPH220808_Osmo,0.95,'H<','F',\n",
    "#                    debug = False, showHist = True, debuglist = [0], HSVrange =[(0, 20, 0),(50, 250,170)],FitIntervalComp = [0,25],\n",
    "#                      FitIntervalRel = [30,65],TstartComp = 4,TstartRel = 5)\n",
    "\n",
    "# BinarizeAndFitOsChoc('220808_100mM_Osmo',StackList220808_100mM_Osmo ,P220808_100mM_Osmo ,Scale220808_Osmo,FPH220808_Osmo,0.95,'H>','F',\n",
    "#                    debug = False, showHist = True, debuglist = [0,10,20,40], HSVrange =[(0, 20, 0),(50, 250,170)],FitIntervalComp = [0,25],\n",
    "#                      RelValidation = True,TstartComp = 4, FitIntervalRel = [30,65],TstartRel = 5)\n"
   ]
  },
  {
   "cell_type": "markdown",
   "metadata": {
    "heading_collapsed": true
   },
   "source": [
    "### 28-09-2022 :DV7 Manitol 100mM + OC "
   ]
  },
  {
   "cell_type": "code",
   "execution_count": 16,
   "metadata": {
    "hidden": true,
    "scrolled": false
   },
   "outputs": [],
   "source": [
    "# BinarizeAndFitArea('220928_Ct',StackList220928_Ct,P220928_Ct,Scale220928,FPH220928,Delay220928,0.98,'H<','F',\n",
    "#                    debug = False, debugAll = False, debuglist = [0], HSVrange =[(15, 20, 40),(70, 170,190)],fitwindow = 15)\n",
    "\n",
    "# BinarizeAndFitOsChoc('220928_Ct_Osmo',StackList220928_Ct_Osmo ,P220928_Ct_Osmo ,Scale220928_Osmo,FPH220928_Osmo,0.95,'H<','F',\n",
    "#                    debug = False, showHist = True, debuglist = [0], HSVrange =[(15, 20, 40),(70, 170,190)],FitIntervalComp = [0,28],\n",
    "#                      FitIntervalRel = [23,60],TstartComp = 2,TstartRel = 9)\n",
    "\n",
    "# BinarizeAndFitArea('220928_100mM',StackList220928_100mM,P220928_100mM,Scale220928,FPH220928,Delay220928,0.98,'H<','F',\n",
    "#                    debug = False, debugAll = False, debuglist = [0], HSVrange =[(15, 20, 40),(70, 170,190)],fitwindow = 15)\n",
    "\n",
    "# BinarizeAndFitOsChoc('220928_100mM_Osmo',StackList220928_100mM_Osmo ,P220928_100mM_Osmo ,Scale220928_Osmo,FPH220928_Osmo,0.95,'H<','F',\n",
    "#                    debug = False, showHist = True, debuglist = [0], HSVrange =[(15, 20, 40),(70, 170,190)],FitIntervalComp = [0,28],\n",
    "#                      FitIntervalRel = [23,60],TstartComp = 2,TstartRel = 9)\n"
   ]
  },
  {
   "cell_type": "markdown",
   "metadata": {
    "heading_collapsed": true
   },
   "source": [
    "### DV7 DV7 OC after pectinase (10U, 2h, 10-04-2022)"
   ]
  },
  {
   "cell_type": "code",
   "execution_count": 17,
   "metadata": {
    "hidden": true,
    "scrolled": true
   },
   "outputs": [],
   "source": [
    "# BinarizeAndFitOsChoc('221004_Ct_Osmo',StackList221004_Ct_Osmo ,P221004_Ct_Osmo ,Scale221004_Osmo,FPH221004_Osmo,0.95,'H<','F',\n",
    "#                    debug = False, showHist = True, debuglist = [0], HSVrange =[(15, 25, 40),(70, 150,190)],FitIntervalComp = [0,28],\n",
    "#                      FitIntervalRel = [23,55],TstartComp = 2,TstartRel = 9)\n",
    "\n",
    "# BinarizeAndFitOsChoc('221004_Pase10U_Osmo',StackList221004_Pase10U_Osmo ,P221004_Pase10U_Osmo ,Scale221004_Osmo,FPH221004_Osmo,\n",
    "#                      0.98,'H>','F',debug = False, showHist = True, debuglist = [0],HSVrange =[(15, 25, 40),(70, 150,190)],\n",
    "#                      FitIntervalComp = [0,28],FitIntervalRel = [23,55],TstartComp = 2,TstartRel = 9)"
   ]
  },
  {
   "cell_type": "markdown",
   "metadata": {
    "heading_collapsed": true
   },
   "source": [
    "### 25-10-2022 : DV7 Growth 100mM + OC "
   ]
  },
  {
   "cell_type": "code",
   "execution_count": 18,
   "metadata": {
    "hidden": true,
    "scrolled": false
   },
   "outputs": [],
   "source": [
    "\n",
    "# BinarizeAndFitArea('221025_Ct',StackList221025_Ct,P221025_Ct,Scale221025,FPH221025,Delay221025,0.98,'H<','F',\n",
    "#                    debug = False, debugAll = True, debuglist = [0,20], HSVrange =[(15, 20, 40),(70, 170,190)],fitwindow = 15)\n",
    "\n",
    "# BinarizeAndFitOsChoc('221025_Ct_Osmo',StackList221025_Ct_Osmo ,P221025_Ct_Osmo ,Scale221025_Osmo,FPH221025_Osmo,0.95,'H<','F',\n",
    "#                    debug = False, showHist = True, debuglist = [0,20], HSVrange =[(15, 20, 40),(70, 170,190)],FitIntervalComp = [0,28],\n",
    "#                      FitIntervalRel = [23,60],TstartComp = 4,TstartRel = 11)\n",
    "\n",
    "# BinarizeAndFitOsChoc('221025_Ct_Osmo2',StackList221025_Ct_Osmo2 ,P221025_Ct_Osmo2 ,Scale221025_Osmo,FPH221025_Osmo,0.95,'H<','F',\n",
    "#                    debug = False, showHist = True, debuglist = [0,20], HSVrange =[(15, 20, 40),(70, 170,190)],FitIntervalComp = [0,28],\n",
    "#                      FitIntervalRel = [23,60],TstartComp = 4,TstartRel = 11)\n",
    "\n",
    "\n",
    "# BinarizeAndFitArea('221025_100mM',StackList221025_100mM,P221025_100mM,Scale221025,FPH221025,Delay221025,0.98,'H<','F',\n",
    "#                    debug = False, debugAll = False, debuglist = [0,20], \n",
    "#                    HSVrange =[(15, 20, 40),(70, 170,190)], fitwindow = 15)\n",
    "\n",
    "\n",
    "# BinarizeAndFitOsChoc('221025_100mM_Osmo',StackList221025_100mM_Osmo ,P221025_100mM_Osmo ,Scale221025_Osmo,FPH221025_Osmo,0.95,'H<','F',\n",
    "#                    debug = False, showHist = True, debuglist = [40,41,42,43,44,45,46,47,48,49], HSVrange =[(12, 3, 40),(80, 170,190)],FitIntervalComp = [0,24],\n",
    "#                      FitIntervalRel = [25,55],TstartComp = 5,TstartRel = 6, saveWB = False)\n",
    "\n",
    "# BinarizeAndFitOsChoc('221025_100mM_Osmo2',StackList221025_100mM_Osmo2 ,P221025_100mM_Osmo2 ,Scale221025_Osmo,FPH221025_Osmo,0.95,'H<','F',\n",
    "#                    debug = False, showHist = True, debuglist = [0,20], HSVrange =[(15, 20, 40),(70, 170,190)],FitIntervalComp = [0,28],\n",
    "#                      FitIntervalRel = [23,60],TstartComp = 4,TstartRel = 8)"
   ]
  },
  {
   "cell_type": "markdown",
   "metadata": {
    "heading_collapsed": true
   },
   "source": [
    "### 01-12-2022 : DV7 OC after calcium treatment"
   ]
  },
  {
   "cell_type": "code",
   "execution_count": 19,
   "metadata": {
    "hidden": true,
    "scrolled": false
   },
   "outputs": [],
   "source": [
    "\n",
    "# BinarizeAndFitOsChoc('221201_Ct_Osmo',StackList221201_Ct_Osmo ,P221201_Ct_Osmo ,Scale221201_Osmo,FPH221201_Osmo,0.95,'H>','F',\n",
    "#                    debug = False, showHist = True, debuglist = [0], HSVrange =[(15, 20, 40),(70, 170,190)],FitIntervalComp = [7,35],\n",
    "#                      FitIntervalRel = [35,60],TstartComp = 4,TstartRel = 6)\n",
    "\n",
    "# BinarizeAndFitOsChoc('221201_Ct_Osmo2',StackList221201_Ct_Osmo2 ,P221201_Ct_Osmo2 ,Scale221201_Osmo2,FPH221201_Osmo2,0.95,'H>','F',\n",
    "#                    debug = False, showHist = True, debuglist = [0], HSVrange =[(15, 20, 40),(70, 170,190)],FitIntervalComp = [4,30],\n",
    "#                      FitIntervalRel = [32,60],TstartComp = 4,TstartRel = 5)\n",
    "\n",
    "# BinarizeAndFitOsChoc('221201_Calcium_100mM_Osmo',StackList221201_Calcium_100mM_Osmo ,P221201_Calcium_100mM_Osmo ,Scale221201_Osmo,FPH221201_Osmo,0.95,'H<','F',\n",
    "#                    debug = True, showHist = True, debuglist = [0], HSVrange =[(15, 20, 40),(70, 170,190)],FitIntervalComp = [5,38],\n",
    "#                      FitIntervalRel = [35,70],TstartComp = 14,TstartRel = 6, ignoreCompTimePoints = [6,7,8])\n",
    "\n",
    "# BinarizeAndFitOsChoc('221201_Calcium_100mM_Osmo2',StackList221201_Calcium_100mM_Osmo2 ,P221201_Calcium_100mM_Osmo2 ,Scale221201_Osmo2,FPH221201_Osmo2,0.95,'H<','F',\n",
    "#                    debug = True, showHist = True, debuglist = [0], HSVrange =[(15, 20, 40),(70, 170,190)],FitIntervalComp = [3,32],\n",
    "#                      FitIntervalRel = [34,70],TstartComp = 3,TstartRel = 4)\n"
   ]
  },
  {
   "cell_type": "markdown",
   "metadata": {
    "heading_collapsed": true
   },
   "source": [
    "### 06-12-2022 : OC after Pectinase 10U, 2h "
   ]
  },
  {
   "cell_type": "code",
   "execution_count": 20,
   "metadata": {
    "hidden": true,
    "scrolled": false
   },
   "outputs": [],
   "source": [
    "### 4h follow before chocs\n",
    "\n",
    "# BinarizeAndFitArea('221206_Ct',StackList221206_Ct ,P221206_Ct ,Scale221206,FPH221206,Delay221206,0.95,'H<','F',\n",
    "#                    debug = True, debugAll = True, debuglist = [0], HSVrange =[(15, 20, 40),(70, 170,190)],fitwindow = 15)\n",
    "\n",
    "# BinarizeAndFitArea('221206_Pase10U',StackList221206_Pase10U ,P221206_Pase10U ,Scale221206,FPH221206,Delay221206,0.95,'H<','F',\n",
    "#                    debug = True, debugAll = True, debuglist = [0], HSVrange =[(15, 20, 40),(70, 170,190)],fitwindow = 15)\n",
    "\n",
    "\n",
    "\n",
    "\n",
    "### chocs\n",
    "# BinarizeAndFitOsChoc('221206_Ct_Osmo',StackList221206_Ct_Osmo ,P221206_Ct_Osmo ,Scale221206_Osmo,FPH221206_Osmo,0.95,'H<','F',\n",
    "#                    debug = True, showHist = True, debuglist = [0, 40], HSVrange =[(15, 20, 40),(70, 170,190)],FitIntervalComp = [0,35],\n",
    "#                      FitIntervalRel = [23,64],TstartComp = 10,TstartRel = 14)\n",
    "\n",
    "# BinarizeAndFitOsChoc('221206_Pase10U_Osmo',StackList221206_Pase10U_Osmo ,P221206_Pase10U_Osmo ,Scale221206_Osmo,FPH221206_Osmo,\n",
    "#                      0.98,'H>','F',debug = False, showHist = True, debuglist = [0],HSVrange =[(15, 20, 40),(70, 170,190)],\n",
    "#                      FitIntervalComp = [0,35],FitIntervalRel = [23,64],TstartComp = 10,TstartRel = 15)"
   ]
  },
  {
   "cell_type": "markdown",
   "metadata": {
    "heading_collapsed": true
   },
   "source": [
    "### Natalia's ABA experiments "
   ]
  },
  {
   "cell_type": "markdown",
   "metadata": {
    "heading_collapsed": true,
    "hidden": true
   },
   "source": [
    "#### 22-06-14"
   ]
  },
  {
   "cell_type": "code",
   "execution_count": 21,
   "metadata": {
    "hidden": true,
    "scrolled": true
   },
   "outputs": [],
   "source": [
    "# BinarizeAndFitArea('220614_Ct',StackList220614_Ct,P220614_Ct,Scale220614,FPH220614,Delay220614,0.98,'H>','F',\n",
    "#                    debug = False, debugAll = True, debuglist = [1, 20, 50], HSVrange =[(20, 25, 40),(70, 150,160)],fitwindow=15)\n",
    "\n",
    "# BinarizeAndFitArea('220614_ABA',StackList220614_ABA,P220614_ABA,Scale220614,FPH220614,Delay220614,0.98,'H>','F',\n",
    "#                    debug = False, debugAll = True, debuglist = [0], HSVrange =[(20, 25, 40),(70, 150,160)],fitwindow=15)\n"
   ]
  },
  {
   "cell_type": "markdown",
   "metadata": {
    "heading_collapsed": true,
    "hidden": true
   },
   "source": [
    "#### 22-07-01"
   ]
  },
  {
   "cell_type": "code",
   "execution_count": 22,
   "metadata": {
    "hidden": true
   },
   "outputs": [],
   "source": [
    "# BinarizeAndFitArea('220701_Ct',StackList220701_Ct,P220701_Ct,Scale220701,FPH220701,Delay220701,0.98,'H>','F',\n",
    "#                    debug = False, debugAll = True, debuglist = [1, 20, 50], HSVrange =[(20, 25, 40),(70, 150,160)],fitwindow=15)\n",
    "\n",
    "# BinarizeAndFitArea('220701_ABA',StackList220701_ABA,P220701_ABA,Scale220701,FPH220701,Delay220701,0.98,'H>','F',\n",
    "#                    debug = False, debugAll = True, debuglist = [0], HSVrange =[(20, 25, 40),(70, 150,160)],fitwindow=15)"
   ]
  },
  {
   "cell_type": "markdown",
   "metadata": {
    "heading_collapsed": true,
    "hidden": true
   },
   "source": [
    "#### 22-07-22"
   ]
  },
  {
   "cell_type": "code",
   "execution_count": 23,
   "metadata": {
    "hidden": true,
    "scrolled": false
   },
   "outputs": [],
   "source": [
    "\n",
    "# BinarizeAndFitArea('220722_Ct',StackList220722_Ct,P220722_Ct,Scale220722,FPH220722,Delay220722,0.98,'H>','F',\n",
    "#                    debug = False, debugAll = True, debuglist = [1, 20, 50], HSVrange =[(20, 25, 40),(70, 150,160)],fitwindow=15)\n",
    "\n",
    "# BinarizeAndFitArea('220722_ABA',StackList220722_ABA,P220722_ABA,Scale220722,FPH220722,Delay220722,0.98,'H>','F',\n",
    "#                    debug = False, debugAll = True, debuglist = [0], HSVrange =[(20, 25, 40),(70, 150,160)],fitwindow=15)\n",
    "\n"
   ]
  },
  {
   "cell_type": "markdown",
   "metadata": {},
   "source": [
    "## Test Zone"
   ]
  },
  {
   "cell_type": "code",
   "execution_count": 24,
   "metadata": {
    "scrolled": false
   },
   "outputs": [],
   "source": [
    "# %run D:/Users/laplaud/Desktop/PostDoc/Code/JupyterNB/PropaguleAnalysis/2_AreaAnalysis.ipynb"
   ]
  },
  {
   "cell_type": "markdown",
   "metadata": {},
   "source": [
    "## Rhizoides analysis test"
   ]
  },
  {
   "cell_type": "code",
   "execution_count": 25,
   "metadata": {},
   "outputs": [],
   "source": [
    "\n",
    "import matplotlib.pyplot as plt\n",
    "import matplotlib as mpl\n",
    "from matplotlib.patches import Rectangle\n",
    "import VallapFunc as vf\n",
    "from skimage import io, filters, exposure, segmentation, measure\n",
    "from scipy.spatial import ConvexHull\n",
    "from scipy.ndimage import binary_dilation\n",
    "from cv2 import Canny\n",
    "import time\n",
    "from tqdm import tqdm\n"
   ]
  },
  {
   "cell_type": "markdown",
   "metadata": {},
   "source": [
    "### Defining functions"
   ]
  },
  {
   "cell_type": "code",
   "execution_count": 26,
   "metadata": {},
   "outputs": [],
   "source": [
    "def cropImgContour(img,X,Y):\n",
    "    \n",
    "    lx,ly = np.shape(img)\n",
    "    \n",
    "    rX1 = int(np.max([0, np.round(np.min(X)-25)]))\n",
    "    rY1 = int(np.max([0, np.round(np.min(Y)-25)]))\n",
    "    rX2 = int(np.min([ly-1, np.round(np.max(X)+25)]))\n",
    "    rY2 = int(np.min([lx-1, np.round(np.max(Y)+25)]))  \n",
    "    \n",
    "    newimg = img[rY1:rY2,rX1:rX2]\n",
    "    newX = X - rX1\n",
    "    newY = Y - rY1\n",
    "    \n",
    "    return(newimg,newX,newY)\n",
    "    \n",
    "\n",
    "def getHull(X,Y):\n",
    "    \n",
    "    pts = [(x,y) for x,y in zip(X,Y)]\n",
    "    CH = ConvexHull(pts)\n",
    "    hullpts = [pts[i] for i in CH.vertices]\n",
    "    hullX = [pts[i][0] for i in CH.vertices]\n",
    "    hullY = [pts[i][1] for i in CH.vertices]\n",
    "    \n",
    "    hullpath = mpl.path.Path(hullpts)\n",
    "    \n",
    "    return(hullX,hullY,hullpath)"
   ]
  },
  {
   "cell_type": "code",
   "execution_count": 27,
   "metadata": {},
   "outputs": [],
   "source": [
    "def plotRhizoides(Ps,colors,labels):\n",
    "    \n",
    "    f, ax = plt.subplots(dpi=200)\n",
    "    f0, ax0 = plt.subplots(dpi=200)\n",
    "    f1, ax1 = plt.subplots(dpi=200)\n",
    "    f2, ax2 = plt.subplots(dpi=200)\n",
    "    \n",
    "    for P,col,lab in zip(Ps,colors,labels):\n",
    "        \n",
    "        RD = pd.read_csv(P + '\\\\RhizoideData' + lab + '.csv',index_col = 'Ind')\n",
    "        \n",
    "        RhizExit = RD.loc[GD['Img'] == 0,'RhizExit'].to_numpy()        \n",
    "        RhizExit = RhizExit[np.invert(np.isnan(RhizExit))]\n",
    "        \n",
    "        RhizExitAl = RD.loc[GD['Img'] == 0,'RhizExitAl'].to_numpy()        \n",
    "        RhizExitAl = RhizExitAl[np.invert(np.isnan(RhizExitAl))]\n",
    "        \n",
    "        \n",
    "        ax0.hist(RhizExit/2, alpha=0.7,color=col, lw=0.1, bins=np.arange(0,nimg+1,2)/2)\n",
    "        \n",
    "        plotprops = {'color':'black'}\n",
    "        boxprops = {'color':'black','facecolor':col}\n",
    "        ax.boxplot(RhizExit/2, positions = [ci], labels = [lab],patch_artist = True, \n",
    "                   boxprops=boxprops, capprops =plotprops,showfliers = False,whiskerprops=plotprops,medianprops =plotprops) \n",
    "        ax.set_ylabel('Time of first rhizoides (hours)')\n",
    "        \n",
    "        RhizFrac = np.empty(nimgmax)\n",
    "        RhizFracAl = np.empty(nimgmax)\n",
    "        for ii in range(nimgmax):\n",
    "            RhizFrac[ii] = np.sum(RhizExit<ii+1)/len(List)*100\n",
    "            RhizFracAl[ii] = np.sum(RhizExitAl<ii+1)/len(List)*100\n",
    "            \n",
    "        ax1.plot(time,RhizFrac,'-o',color = col)\n",
    "        ax2.plot(time,RhizFracAl,'-o',color = col)\n",
    "        \n",
    "    handles = [Rectangle((0, 0), 1, 1, color=c, ec=\"k\") for c in colors]\n",
    "    \n",
    "    ax0.set_xlabel('Time of first rhizoides (hours)')\n",
    "    ax0.set_ylabel('Count')\n",
    "    ax0.legend(handles, labels)\n",
    "    \n",
    "    ax1.set_xlabel('Time (hours)')\n",
    "    ax1.set_ylabel('% of gemmae with visible rhizoides')\n",
    "    ax1.legend(handles, labels)\n",
    "    \n",
    "    ax2.set_xlabel('Time after growth start (hours)')\n",
    "    ax2.set_ylabel('% of gemmae with visible rhizoides')\n",
    "    ax2.legend(handles, labels)"
   ]
  },
  {
   "cell_type": "code",
   "execution_count": 28,
   "metadata": {
    "scrolled": false
   },
   "outputs": [],
   "source": [
    " def findRhizoides(CDs,GDs,Ps,labels):\n",
    "        \n",
    "    for CD,GD,P,lab,ci in zip(CDs,GDs,Ps,labels,range(len(CDs))):\n",
    "                \n",
    "        List = np.unique(CD.index)  \n",
    "        \n",
    "        ExpName = np.unique(GD.loc[List[0],'Expe'])[0]\n",
    "        \n",
    "        print('Analyzing : ' + ExpName + '\\n')        \n",
    "        \n",
    "        nimgmax = int(np.max((CD['Img'])))\n",
    "        time = np.arange(nimgmax)/2\n",
    "\n",
    "        nregions = np.empty([len(List),nimgmax])\n",
    "        nregions_al = np.empty([len(List),nimgmax])\n",
    "        nregions_al[:] = np.nan\n",
    "        \n",
    "        shiftList = GD.loc[GD['Img']==0,'tdebShift_flat']\n",
    "\n",
    "        for s,shift,si in zip(List,shiftList,range(len(List))):\n",
    "        \n",
    "            nimg = int(np.max(CD.loc[s,'Img']))\n",
    "            \n",
    "            nregion = np.empty(nimg)\n",
    "            nregion[:] = np.nan\n",
    "\n",
    "            print('Working on ' + s + '... ', end='')\n",
    "            Stack = io.imread(P + '\\\\' + s + '.tif',as_gray = True, plugin='pil') # get the tiff stack\n",
    "\n",
    "\n",
    "            for i in range(nimg):\n",
    "            \n",
    "                img = Stack[i,:,:]\n",
    "\n",
    "                X = CD[CD['Img'] == i].loc[s,'Ximg'].to_numpy()\n",
    "                Y = CD[CD['Img'] == i].loc[s,'Yimg'].to_numpy()\n",
    "                \n",
    "                img,X,Y = cropImgContour(img,X,Y)                \n",
    "\n",
    "                hX,hY,hP = getHull(X,Y)\n",
    "\n",
    "                contourVectors = [[x2-x1,y2-y1] for (x1,y1,x2,y2) in zip(np.roll(X,+1),np.roll(Y,+1),np.roll(X,-1),np.roll(Y,-1))]\n",
    "\n",
    "                normalVectors = [vf.getNormal(0,0,x,y,rotation='CCW') for (x,y) in contourVectors]\n",
    "\n",
    "                Xt = [x+20*t[0] for x,t in zip(X,normalVectors)]\n",
    "                Yt = [x+20*t[1] for x,t in zip(Y,normalVectors)]\n",
    "\n",
    "                hXt,hYt,hPt = getHull(Xt,Yt)\n",
    "\n",
    "                xx,yy = np.meshgrid(np.linspace(0,np.shape(img)[1],num=np.shape(img)[1],endpoint=False),\n",
    "                                    np.linspace(0,np.shape(img)[0],num=np.shape(img)[0],endpoint=False))\n",
    "\n",
    "                maskIn = np.reshape(hP.contains_points(np.hstack((xx.flatten()[:,np.newaxis],yy.flatten()[:,np.newaxis]))),\n",
    "                                  np.shape(img)[0:2])\n",
    "\n",
    "                maskOut = np.reshape(hPt.contains_points(np.hstack((xx.flatten()[:,np.newaxis],yy.flatten()[:,np.newaxis]))),\n",
    "                                  np.shape(img)[0:2])\n",
    "\n",
    "                maskedImg = np.multiply(img*255,maskOut != maskIn).astype('uint8')\n",
    "                \n",
    "                edgeImg = Canny(maskedImg,0,255)\n",
    "\n",
    "                edgeImg = binary_dilation(edgeImg)\n",
    "                    \n",
    "                edgeImg = np.invert(edgeImg)\n",
    "                    \n",
    "                label_img = measure.label(edgeImg)\n",
    "\n",
    "                table = measure.regionprops_table(label_img,properties=('label','area'))\n",
    "\n",
    "                nregion[i] = sum(table['area']>1000)-3\n",
    "                nregions[si,i] = sum(table['area']>1000)-3\n",
    "                \n",
    "                shift = int(shiftList[s])\n",
    "            \n",
    "            print('Done')            \n",
    "                \n",
    "            ZerosList = [index for index, item in enumerate(nregion) if item == 0]\n",
    "            \n",
    "            if len(ZerosList)==0:\n",
    "                LastZero = 0\n",
    "            else: \n",
    "                LastZero = ZerosList[-1]\n",
    "                \n",
    "            if LastZero>(nimg-2):\n",
    "                LastZero = np.nan\n",
    "  \n",
    "            GD.loc[s,'RhizExit'] = LastZero\n",
    "            GD.loc[s,'RhizExitAl'] = LastZero-shift\n",
    "        \n",
    "        print('\\n')\n",
    "\n",
    "        RhizData = GD.loc[GD['Img'] == 0,['RhizExit','RhizExitAl','tdebShift_flat']]\n",
    "        RhizData.to_csv(P + '\\\\RhizoideData' + lab + '.csv',index_label = 'Ind')\n",
    "        RhizData.to_excel(P + '\\\\RhizoideData' + lab + '.xlsx')\n",
    "            \n",
    "    \n",
    "    \n",
    "    "
   ]
  },
  {
   "cell_type": "markdown",
   "metadata": {},
   "source": [
    "### Loading data"
   ]
  },
  {
   "cell_type": "code",
   "execution_count": 29,
   "metadata": {
    "scrolled": false
   },
   "outputs": [],
   "source": [
    "## Expe 221025 100mM growth\n",
    "CD221025_Ct = pd.read_csv(P221025_Ct + '\\\\ContourData221025_Ct_AreaFit.csv', index_col = 'Ind') \n",
    "CD221025_100mM = pd.read_csv(P221025_100mM + '\\\\ContourData221025_100mM_AreaFit.csv', index_col = 'Ind')  \n",
    "\n",
    "GD221025_Ct = pd.read_csv(P221025_Ct + '\\\\GlobalData221025_Ct_AreaFit.csv', index_col = 'Ind') \n",
    "GD221025_100mM = pd.read_csv(P221025_100mM + '\\\\GlobalData221025_100mM_AreaFit.csv', index_col = 'Ind') \n",
    "\n",
    "## Expe 220614 ABA growth\n",
    "CD220614_Ct = pd.read_csv(P220614_Ct + '\\\\ContourData220614_Ct_AreaFit.csv', index_col = 'Ind') \n",
    "CD220614_ABA = pd.read_csv(P220614_ABA + '\\\\ContourData220614_ABA_AreaFit.csv', index_col = 'Ind')  \n",
    "\n",
    "GD220614_Ct = pd.read_csv(P220614_Ct + '\\\\GlobalData220614_Ct_AreaFit.csv', index_col = 'Ind') \n",
    "GD220614_ABA = pd.read_csv(P220614_ABA + '\\\\GlobalData220614_ABA_AreaFit.csv', index_col = 'Ind')  \n",
    "\n",
    "## Expe 220614 ABA growth\n",
    "CD220722_Ct = pd.read_csv(P220722_Ct + '\\\\ContourData220722_Ct_AreaFit.csv', index_col = 'Ind') \n",
    "CD220722_ABA = pd.read_csv(P220722_ABA + '\\\\ContourData220722_ABA_AreaFit.csv', index_col = 'Ind')  \n",
    "\n",
    "GD220722_Ct = pd.read_csv(P220722_Ct + '\\\\GlobalData220722_Ct_AreaFit.csv', index_col = 'Ind') \n",
    "GD220722_ABA = pd.read_csv(P220722_ABA + '\\\\GlobalData220722_ABA_AreaFit.csv', index_col = 'Ind')  \n",
    "\n",
    "\n"
   ]
  },
  {
   "cell_type": "markdown",
   "metadata": {},
   "source": [
    "### Running"
   ]
  },
  {
   "cell_type": "code",
   "execution_count": null,
   "metadata": {
    "scrolled": false
   },
   "outputs": [
    {
     "name": "stdout",
     "output_type": "stream",
     "text": [
      "Analyzing : 220614_ABA\n",
      "\n",
      "Working on PPG1... Done\n",
      "Working on PPG10... Done\n",
      "Working on PPG14... Done\n",
      "Working on PPG15... Done\n",
      "Working on PPG16... Done\n",
      "Working on PPG17... Done\n",
      "Working on PPG18... Done\n",
      "Working on PPG19... Done\n",
      "Working on PPG2... Done\n",
      "Working on PPG20... Done\n",
      "Working on PPG23... Done\n",
      "Working on PPG24... Done\n",
      "Working on PPG25... Done\n",
      "Working on PPG26... Done\n",
      "Working on PPG27... Done\n",
      "Working on PPG28... Done\n",
      "Working on PPG30... Done\n",
      "Working on PPG31... Done\n",
      "Working on PPG32... "
     ]
    }
   ],
   "source": [
    "findRhizoides([CD220614_ABA,CD220722_ABA],\n",
    "          [GD220614_ABA,GD220722_ABA],\n",
    "          [P220614_ABA,P220722_ABA],\n",
    "         ['220614_ABA','220722_ABA'])\n"
   ]
  },
  {
   "cell_type": "code",
   "execution_count": null,
   "metadata": {
    "scrolled": false
   },
   "outputs": [],
   "source": [
    "# rhizoides([CD221025_Ct,CD221025_100mM],[GD221025_Ct,GD221025_100mM],\n",
    "#           [P221025_Ct,P221025_100mM],['b','r'],['CD221025_Ct','CD221025_100mM'])"
   ]
  },
  {
   "cell_type": "code",
   "execution_count": null,
   "metadata": {},
   "outputs": [],
   "source": [
    "plotRhizoides([P220614_Ct,P220722_Ct,P220614_ABA,P220722_ABA],['b','c','r','m'],\n",
    "         ['220614_Ct','220722_Ct','220614_ABA','220722_ABA'])"
   ]
  }
 ],
 "metadata": {
  "celltoolbar": "Initialization Cell",
  "kernelspec": {
   "display_name": "Python 3",
   "language": "python",
   "name": "python3"
  },
  "language_info": {
   "codemirror_mode": {
    "name": "ipython",
    "version": 3
   },
   "file_extension": ".py",
   "mimetype": "text/x-python",
   "name": "python",
   "nbconvert_exporter": "python",
   "pygments_lexer": "ipython3",
   "version": "3.8.5"
  },
  "toc": {
   "base_numbering": 1,
   "nav_menu": {},
   "number_sections": true,
   "sideBar": true,
   "skip_h1_title": true,
   "title_cell": "Table of Contents",
   "title_sidebar": "Contents",
   "toc_cell": false,
   "toc_position": {
    "height": "750px",
    "left": "83px",
    "top": "90px",
    "width": "299px"
   },
   "toc_section_display": true,
   "toc_window_display": true
  }
 },
 "nbformat": 4,
 "nbformat_minor": 4
}
