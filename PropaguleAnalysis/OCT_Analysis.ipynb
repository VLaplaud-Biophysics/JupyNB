{
 "cells": [
  {
   "cell_type": "markdown",
   "metadata": {},
   "source": [
    "# Computation of shape of gemmae from OCT imaging"
   ]
  },
  {
   "cell_type": "markdown",
   "metadata": {},
   "source": [
    "##  Documentation and Imports\n",
    "\n",
    "\n",
    "Created on 20-10-2022\n",
    "\n",
    "Author: Valentin Laplaud"
   ]
  },
  {
   "cell_type": "code",
   "execution_count": null,
   "metadata": {
    "init_cell": true
   },
   "outputs": [],
   "source": [
    "## Clean up before script start \n",
    "\n",
    "for element in dir():\n",
    "\n",
    "    if element[0:1] != \"_\":\n",
    "\n",
    "        del globals()[element]\n",
    "\n",
    "import gc\n",
    "gc.collect()\n",
    "\n",
    "# plotting stuff in jupyter\n",
    "import matplotlib as mpl\n",
    "mpl.use('TkAgg')\n",
    "%matplotlib inline\n",
    "\n",
    "COLOR = 'white'\n",
    "COLOR2 = 'black'\n",
    "\n",
    "mpl.rcParams['text.color'] = COLOR\n",
    "mpl.rcParams['axes.labelcolor'] = COLOR\n",
    "mpl.rcParams['xtick.color'] = COLOR\n",
    "mpl.rcParams['ytick.color'] = COLOR\n",
    "mpl.rcParams['axes.edgecolor'] = COLOR\n",
    "\n",
    "mpl.rcParams[\"figure.facecolor\"] = COLOR2\n",
    "mpl.rcParams[\"axes.facecolor\"] = COLOR2\n",
    "mpl.rcParams[\"savefig.facecolor\"] = COLOR2\n",
    "mpl.rcParams['axes.facecolor'] = COLOR2\n",
    "\n",
    "\n",
    "# to hide known warnings\n",
    "import warnings\n",
    "warnings.filterwarnings(\"ignore\")\n",
    "\n",
    "# my functions\n",
    "import sys\n",
    "sys.path.append(r'd:\\Users\\laplaud\\Desktop\\PostDoc\\Code\\PythonFunctions/')\n",
    "import VallapFunc as vf\n",
    "\n",
    "import numpy as np\n",
    "\n",
    "import matplotlib.pyplot as plt\n",
    "\n",
    "import cv2 as cv\n",
    "\n",
    "import imagej, scyjava"
   ]
  },
  {
   "cell_type": "code",
   "execution_count": null,
   "metadata": {},
   "outputs": [],
   "source": [
    "# scyjava.config.add_option('-Xmx10g')\n",
    "# ij = imagej.init(r'd:\\Users\\laplaud\\Desktop\\PostDoc\\Code\\Fiji')"
   ]
  },
  {
   "cell_type": "markdown",
   "metadata": {},
   "source": [
    "## Import files"
   ]
  },
  {
   "cell_type": "code",
   "execution_count": null,
   "metadata": {},
   "outputs": [],
   "source": [
    "# Stack = ij.io().open(r'd:\\Users\\laplaud\\Desktop\\PostDoc\\Data\\OCT\\Jordan\\wtD2\\wtD2_l4.tif')"
   ]
  },
  {
   "cell_type": "code",
   "execution_count": null,
   "metadata": {},
   "outputs": [],
   "source": [
    "# ij.py.show(vf.plane(Stack, {'Channel': 1, 'Z': 10}))"
   ]
  },
  {
   "cell_type": "code",
   "execution_count": null,
   "metadata": {
    "scrolled": true
   },
   "outputs": [],
   "source": [
    "Stack = cv.imreadmulti(r'd:\\Users\\laplaud\\Desktop\\PostDoc\\Data\\OCT\\Jordan\\wtD2\\wtD2_l4.tif')[1]\n"
   ]
  },
  {
   "cell_type": "code",
   "execution_count": null,
   "metadata": {
    "scrolled": false
   },
   "outputs": [],
   "source": [
    "\n",
    "for i in range(20):\n",
    "    colo = Stack[i]\n",
    "    gray = cv.cvtColor(colo,cv.COLOR_BGR2GRAY)\n",
    "    h,gray_Th = cv.threshold(gray,0,255,cv.THRESH_BINARY+cv.THRESH_OTSU)\n",
    "\n",
    "    lines = cv.HoughLinesP(gray_Th,1,np.pi/360,10,400,200)\n",
    "\n",
    "    \n",
    "    for x1,y1,x2,y2 in lines[0]:\n",
    "\n",
    "        cv.line(colo,(x1,y1),(x2,y2),(255,0,0),2)\n",
    "\n",
    "\n",
    "    plt.figure(dpi=200)\n",
    "    plt.title('Img : ' + str(i))\n",
    "    plt.imshow(colo,'gray')\n",
    "    plt.show()"
   ]
  },
  {
   "cell_type": "code",
   "execution_count": null,
   "metadata": {
    "scrolled": false
   },
   "outputs": [],
   "source": [
    "Stack = cv.imreadmulti(r'd:\\Users\\laplaud\\Desktop\\PostDoc\\Data\\OCT\\Jordan\\wtD2\\wtD2_l4.tif')[1]\n",
    "\n",
    "for i in range(len(Stack)):\n",
    "    colo = Stack[i]\n",
    "    gray = cv.cvtColor(colo,cv.COLOR_BGR2GRAY)\n",
    "    \n",
    "    maxes = np.argmax(gray,axis=0)\n",
    "    \n",
    "    fig,ax = plt.subplots(dpi=200)\n",
    "    ax.set_title('Img : ' + str(i))\n",
    "    ax.imshow(gray)\n",
    "    ax.plot(maxes,'*r',ms=0.5)\n",
    "    plt.show()"
   ]
  },
  {
   "cell_type": "code",
   "execution_count": null,
   "metadata": {},
   "outputs": [],
   "source": []
  },
  {
   "cell_type": "code",
   "execution_count": null,
   "metadata": {},
   "outputs": [],
   "source": []
  }
 ],
 "metadata": {
  "celltoolbar": "Initialization Cell",
  "kernelspec": {
   "display_name": "Python 3",
   "language": "python",
   "name": "python3"
  },
  "language_info": {
   "codemirror_mode": {
    "name": "ipython",
    "version": 3
   },
   "file_extension": ".py",
   "mimetype": "text/x-python",
   "name": "python",
   "nbconvert_exporter": "python",
   "pygments_lexer": "ipython3",
   "version": "3.8.5"
  },
  "toc": {
   "base_numbering": 1,
   "nav_menu": {},
   "number_sections": true,
   "sideBar": true,
   "skip_h1_title": true,
   "title_cell": "Table of Contents",
   "title_sidebar": "Contents",
   "toc_cell": false,
   "toc_position": {
    "height": "750px",
    "left": "83px",
    "top": "90px",
    "width": "299px"
   },
   "toc_section_display": true,
   "toc_window_display": true
  }
 },
 "nbformat": 4,
 "nbformat_minor": 4
}
