{
 "cells": [
  {
   "cell_type": "code",
   "execution_count": null,
   "id": "sticky-fellow",
   "metadata": {},
   "outputs": [],
   "source": [
    "import numpy as np\n",
    "from numpy import random as npr\n",
    "\n",
    "import matplotlib.pyplot as plt\n",
    "\n",
    "from scipy import stats as sts\n",
    "\n",
    "import matplotlib as mpl\n",
    "\n",
    "\n",
    "mpl.rcParams[\"figure.facecolor\"] = 'w'\n",
    "mpl.rcParams[\"axes.facecolor\"] = 'w'\n",
    "mpl.rcParams[\"savefig.facecolor\"] = 'w'\n",
    "mpl.rcParams['axes.facecolor'] = 'w'"
   ]
  },
  {
   "cell_type": "markdown",
   "id": "proved-collective",
   "metadata": {},
   "source": [
    "## Correlation coefficients"
   ]
  },
  {
   "cell_type": "code",
   "execution_count": null,
   "id": "characteristic-replacement",
   "metadata": {},
   "outputs": [],
   "source": [
    "### Generating data\n",
    "\n",
    "x1 = npr.rand(50)*3-1.5\n",
    "x2 = npr.rand(50)*3-1.5\n",
    "x3 = npr.rand(50)*3-1.5\n",
    "\n",
    "n1 = (npr.rand(50)-0.5)*2\n",
    "\n",
    "y1 = np.sin(x1) + np.tan(-x2)/7 + x3\n",
    "\n"
   ]
  },
  {
   "cell_type": "code",
   "execution_count": null,
   "id": "supposed-desert",
   "metadata": {
    "scrolled": false
   },
   "outputs": [],
   "source": [
    "def plotCorr(x,y):\n",
    "\n",
    "    ### Correlation tests\n",
    "    R = np.round(sts.pearsonr(x,y)[0]*1000)/1000\n",
    "    Rho = np.round(sts.spearmanr(x,y)[0]*1000)/1000\n",
    "    Tau = np.round(sts.kendalltau(x,y)[0]*1000)/1000\n",
    "    \n",
    "    pR = np.round(sts.pearsonr(x,y)[1]*1000)/1000\n",
    "    pRho = np.round(sts.spearmanr(x,y)[1]*1000)/1000\n",
    "    pTau = np.round(sts.kendalltau(x,y)[1]*1000)/1000\n",
    "    \n",
    "    ## Plots \n",
    "    plt.figure(dpi=200)\n",
    "    plt.plot(x,y,'o',ms=3)\n",
    "    plt.title('Coeff :  R = ' + str(R) + '     Rho = ' + str(Rho) + '     Tau = ' + str(Tau) +\n",
    "              '\\n p-value :  R = ' + str(pR) + '     Rho = ' + str(pRho) + '     Tau = ' + str(pTau)  )\n",
    "    plt.show()\n",
    "\n",
    "plotCorr(x1,y1)\n",
    "\n",
    "plotCorr(x2,y1)\n",
    "\n",
    "plotCorr(x3,y1)\n",
    "\n",
    "plotCorr(n1,y1)\n"
   ]
  },
  {
   "cell_type": "markdown",
   "id": "metropolitan-cinema",
   "metadata": {},
   "source": [
    "## Linear regressions"
   ]
  },
  {
   "cell_type": "code",
   "execution_count": null,
   "id": "bacterial-hamburg",
   "metadata": {},
   "outputs": [],
   "source": []
  },
  {
   "cell_type": "markdown",
   "id": "anticipated-revision",
   "metadata": {},
   "source": [
    "## Statistical tests"
   ]
  }
 ],
 "metadata": {
  "kernelspec": {
   "display_name": "Python 3",
   "language": "python",
   "name": "python3"
  },
  "language_info": {
   "codemirror_mode": {
    "name": "ipython",
    "version": 3
   },
   "file_extension": ".py",
   "mimetype": "text/x-python",
   "name": "python",
   "nbconvert_exporter": "python",
   "pygments_lexer": "ipython3",
   "version": "3.8.5"
  },
  "toc": {
   "base_numbering": 1,
   "nav_menu": {},
   "number_sections": true,
   "sideBar": true,
   "skip_h1_title": true,
   "title_cell": "Table of Contents",
   "title_sidebar": "Contents",
   "toc_cell": true,
   "toc_position": {
    "height": "719px",
    "left": "196px",
    "top": "0px",
    "width": "384px"
   },
   "toc_section_display": true,
   "toc_window_display": true
  }
 },
 "nbformat": 4,
 "nbformat_minor": 5
}
